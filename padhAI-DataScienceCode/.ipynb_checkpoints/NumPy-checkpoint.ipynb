{
 "cells": [
  {
   "cell_type": "markdown",
   "metadata": {
    "id": "alrzx-RR2YXB"
   },
   "source": [
    "# Why NumPy?\n",
    "In Data science, ML, many a times, large arrays need to be operated on. However, normal lists in python are pretty slow, as they come with facilities like ability to store multiple types of data, being able to operate on it, etc.\n",
    "Numpy is specifically designed for this task. Numpy arrays are written in C/C++, which contributes to their speed.<br>\n",
    "Computers have GHz rating, the frequency at which the internal clock ticks. 10^6 is normal nowadays, however, lists' operations in python are 10-100 times slower.\n"
   ]
  },
  {
   "cell_type": "markdown",
   "metadata": {
    "id": "9m3C20YPBeoO"
   },
   "source": [
    "# Lists operations in python\n",
    "Before starting with python, summarising different ways of dealing with lists."
   ]
  },
  {
   "cell_type": "code",
   "execution_count": 1,
   "metadata": {
    "executionInfo": {
     "elapsed": 379,
     "status": "ok",
     "timestamp": 1641670006166,
     "user": {
      "displayName": "Rohan",
      "photoUrl": "https://lh3.googleusercontent.com/a/default-user=s64",
      "userId": "00954367962916090040"
     },
     "user_tz": -330
    },
    "id": "R96H9GRzU5np"
   },
   "outputs": [],
   "source": [
    "N = 100000000;\n"
   ]
  },
  {
   "cell_type": "code",
   "execution_count": 2,
   "metadata": {
    "colab": {
     "base_uri": "https://localhost:8080/"
    },
    "executionInfo": {
     "elapsed": 413,
     "status": "ok",
     "timestamp": 1641670011517,
     "user": {
      "displayName": "Rohan",
      "photoUrl": "https://lh3.googleusercontent.com/a/default-user=s64",
      "userId": "00954367962916090040"
     },
     "user_tz": -330
    },
    "id": "mnjmpRwaDC-s",
    "outputId": "68002825-a0e6-40ce-c511-9ee7008d0754"
   },
   "outputs": [
    {
     "name": "stdout",
     "output_type": "stream",
     "text": [
      "CPU times: user 1.41 s, sys: 1.77 s, total: 3.19 s\n",
      "Wall time: 3.17 s\n"
     ]
    }
   ],
   "source": [
    "%%time\n",
    "list1 = list(range(N));"
   ]
  },
  {
   "cell_type": "code",
   "execution_count": 4,
   "metadata": {
    "colab": {
     "base_uri": "https://localhost:8080/"
    },
    "executionInfo": {
     "elapsed": 39579,
     "status": "ok",
     "timestamp": 1641669796869,
     "user": {
      "displayName": "Rohan",
      "photoUrl": "https://lh3.googleusercontent.com/a/default-user=s64",
      "userId": "00954367962916090040"
     },
     "user_tz": -330
    },
    "id": "D_zoj4hNDt7-",
    "outputId": "b31f6f61-5f60-49be-9be2-dd650e824e56"
   },
   "outputs": [
    {
     "name": "stdout",
     "output_type": "stream",
     "text": [
      "CPU times: user 39 s, sys: 61.8 ms, total: 39 s\n",
      "Wall time: 39.1 s\n"
     ]
    }
   ],
   "source": [
    "%%time\n",
    "for i in range(N):\n",
    "    list1[i] = list1[i] ** 2;\n",
    "\n",
    "# This is pretty slow - For 10^8 operations with 10^9 clock, ideally, it should've taken ~ 0.1s(order), but it took time of the order 10s, so almost 100 times slower."
   ]
  },
  {
   "cell_type": "code",
   "execution_count": 5,
   "metadata": {
    "colab": {
     "base_uri": "https://localhost:8080/"
    },
    "executionInfo": {
     "elapsed": 13351,
     "status": "ok",
     "timestamp": 1641669870205,
     "user": {
      "displayName": "Rohan",
      "photoUrl": "https://lh3.googleusercontent.com/a/default-user=s64",
      "userId": "00954367962916090040"
     },
     "user_tz": -330
    },
    "id": "lWC8LGyjJIbU",
    "outputId": "650b9880-d511-4c66-91f8-3262a19a98ca"
   },
   "outputs": [
    {
     "name": "stdout",
     "output_type": "stream",
     "text": [
      "CPU times: user 9.37 s, sys: 3.55 s, total: 12.9 s\n",
      "Wall time: 13 s\n"
     ]
    }
   ],
   "source": [
    "%%time\n",
    "list2 = [x*x for x in list1];\n",
    "# A little better than the above. (Takes around 1/3 of the time, but still slow, as order still 10)"
   ]
  },
  {
   "cell_type": "code",
   "execution_count": 6,
   "metadata": {
    "colab": {
     "base_uri": "https://localhost:8080/"
    },
    "executionInfo": {
     "elapsed": 387,
     "status": "ok",
     "timestamp": 1641669975281,
     "user": {
      "displayName": "Rohan",
      "photoUrl": "https://lh3.googleusercontent.com/a/default-user=s64",
      "userId": "00954367962916090040"
     },
     "user_tz": -330
    },
    "id": "901fo2y4Jge6",
    "outputId": "3d0a68b9-f5ad-4609-b5fa-75bb6ea4e190"
   },
   "outputs": [
    {
     "name": "stdout",
     "output_type": "stream",
     "text": [
      "CPU times: user 6 µs, sys: 1 µs, total: 7 µs\n",
      "Wall time: 10.7 µs\n"
     ]
    }
   ],
   "source": [
    "%%time\n",
    "list1 = map(lambda x: x * x, list1);\n",
    "# This is much much faster\n",
    "# So basically, using inbuilt functions which are designed for better performance, give better results"
   ]
  },
  {
   "cell_type": "code",
   "execution_count": 4,
   "metadata": {
    "executionInfo": {
     "elapsed": 459,
     "status": "ok",
     "timestamp": 1641670078552,
     "user": {
      "displayName": "Rohan",
      "photoUrl": "https://lh3.googleusercontent.com/a/default-user=s64",
      "userId": "00954367962916090040"
     },
     "user_tz": -330
    },
    "id": "Um5GeMKzJ9jm"
   },
   "outputs": [],
   "source": [
    "map?"
   ]
  },
  {
   "cell_type": "markdown",
   "metadata": {
    "id": "6Fuz-QjUKmWR"
   },
   "source": [
    "#Numpy"
   ]
  },
  {
   "cell_type": "code",
   "execution_count": 2,
   "metadata": {
    "executionInfo": {
     "elapsed": 618,
     "status": "ok",
     "timestamp": 1641733958701,
     "user": {
      "displayName": "Rohan",
      "photoUrl": "https://lh3.googleusercontent.com/a/default-user=s64",
      "userId": "00954367962916090040"
     },
     "user_tz": -330
    },
    "id": "NnI-EkxVKWwE"
   },
   "outputs": [],
   "source": [
    "import numpy as np"
   ]
  },
  {
   "cell_type": "code",
   "execution_count": 7,
   "metadata": {
    "colab": {
     "base_uri": "https://localhost:8080/"
    },
    "executionInfo": {
     "elapsed": 418,
     "status": "ok",
     "timestamp": 1641670777663,
     "user": {
      "displayName": "Rohan",
      "photoUrl": "https://lh3.googleusercontent.com/a/default-user=s64",
      "userId": "00954367962916090040"
     },
     "user_tz": -330
    },
    "id": "KNN6-siIKqfM",
    "outputId": "85890474-4cef-4971-c4ca-b2d83493db82"
   },
   "outputs": [
    {
     "name": "stdout",
     "output_type": "stream",
     "text": [
      "CPU times: user 78.7 ms, sys: 243 ms, total: 321 ms\n",
      "Wall time: 322 ms\n"
     ]
    }
   ],
   "source": [
    "%%time\n",
    "arr = np.arange(N); # Similar to list(range(N))\n",
    "# Normal one took ~ 3s., this is 10 times faster"
   ]
  },
  {
   "cell_type": "code",
   "execution_count": 8,
   "metadata": {
    "colab": {
     "base_uri": "https://localhost:8080/"
    },
    "executionInfo": {
     "elapsed": 385,
     "status": "ok",
     "timestamp": 1641670851350,
     "user": {
      "displayName": "Rohan",
      "photoUrl": "https://lh3.googleusercontent.com/a/default-user=s64",
      "userId": "00954367962916090040"
     },
     "user_tz": -330
    },
    "id": "yDYjLCjmM_LC",
    "outputId": "d95a4ff0-7384-4d12-e9bd-8698f143d46e"
   },
   "outputs": [
    {
     "name": "stdout",
     "output_type": "stream",
     "text": [
      "CPU times: user 123 ms, sys: 150 ms, total: 273 ms\n",
      "Wall time: 278 ms\n"
     ]
    }
   ],
   "source": [
    "%%time\n",
    "arr = arr * arr;\n",
    "# This is also much faster than most methods above, combining with array creating time, it is the fastest"
   ]
  },
  {
   "cell_type": "code",
   "execution_count": 9,
   "metadata": {
    "executionInfo": {
     "elapsed": 465,
     "status": "ok",
     "timestamp": 1641670934873,
     "user": {
      "displayName": "Rohan",
      "photoUrl": "https://lh3.googleusercontent.com/a/default-user=s64",
      "userId": "00954367962916090040"
     },
     "user_tz": -330
    },
    "id": "XHhU3pA_NTXJ"
   },
   "outputs": [],
   "source": [
    "arr = np.sum(arr);"
   ]
  },
  {
   "cell_type": "markdown",
   "metadata": {
    "id": "cOOqt4YWHjzh"
   },
   "source": [
    "# High Dimensional Arrays"
   ]
  },
  {
   "cell_type": "code",
   "execution_count": 4,
   "metadata": {
    "executionInfo": {
     "elapsed": 451,
     "status": "ok",
     "timestamp": 1641719759266,
     "user": {
      "displayName": "Rohan",
      "photoUrl": "https://lh3.googleusercontent.com/a/default-user=s64",
      "userId": "00954367962916090040"
     },
     "user_tz": -330
    },
    "id": "ox4tatDxNn0G"
   },
   "outputs": [],
   "source": [
    "arr = np.arange(5);"
   ]
  },
  {
   "cell_type": "code",
   "execution_count": 5,
   "metadata": {
    "colab": {
     "base_uri": "https://localhost:8080/"
    },
    "executionInfo": {
     "elapsed": 394,
     "status": "ok",
     "timestamp": 1641719761765,
     "user": {
      "displayName": "Rohan",
      "photoUrl": "https://lh3.googleusercontent.com/a/default-user=s64",
      "userId": "00954367962916090040"
     },
     "user_tz": -330
    },
    "id": "NI0soqNSHucX",
    "outputId": "6e2dc741-cd69-4690-97cf-9f1887e89a01"
   },
   "outputs": [
    {
     "name": "stdout",
     "output_type": "stream",
     "text": [
      "[0 1 2 3 4] <class 'numpy.ndarray'>\n"
     ]
    }
   ],
   "source": [
    "print(arr, type(arr))"
   ]
  },
  {
   "cell_type": "code",
   "execution_count": 6,
   "metadata": {
    "executionInfo": {
     "elapsed": 400,
     "status": "ok",
     "timestamp": 1641721342048,
     "user": {
      "displayName": "Rohan",
      "photoUrl": "https://lh3.googleusercontent.com/a/default-user=s64",
      "userId": "00954367962916090040"
     },
     "user_tz": -330
    },
    "id": "bYMFeY__HwNY"
   },
   "outputs": [],
   "source": [
    "# Typecasting a normal python list into a numpy array\n",
    "arr = np.array([0, 1, 'a']);"
   ]
  },
  {
   "cell_type": "code",
   "execution_count": 8,
   "metadata": {
    "colab": {
     "base_uri": "https://localhost:8080/"
    },
    "executionInfo": {
     "elapsed": 396,
     "status": "ok",
     "timestamp": 1641721437707,
     "user": {
      "displayName": "Rohan",
      "photoUrl": "https://lh3.googleusercontent.com/a/default-user=s64",
      "userId": "00954367962916090040"
     },
     "user_tz": -330
    },
    "id": "dplNOIPiN6RC",
    "outputId": "a8833d89-a2e6-43b8-e23b-9ed09570c6a9"
   },
   "outputs": [
    {
     "name": "stdout",
     "output_type": "stream",
     "text": [
      "['0' '1' 'a']\n"
     ]
    }
   ],
   "source": [
    "print(arr) # Can see that 0, 1 got auto. converted to strings => numpy arrays can actually not store different data types"
   ]
  },
  {
   "cell_type": "code",
   "execution_count": 3,
   "metadata": {
    "executionInfo": {
     "elapsed": 2,
     "status": "ok",
     "timestamp": 1641733961323,
     "user": {
      "displayName": "Rohan",
      "photoUrl": "https://lh3.googleusercontent.com/a/default-user=s64",
      "userId": "00954367962916090040"
     },
     "user_tz": -330
    },
    "id": "vh2X1Ao1N7j_"
   },
   "outputs": [],
   "source": [
    "arr3d = np.array([\n",
    "                  [\n",
    "                   [1, 2, 3],\n",
    "                   [4, 5, 6]\n",
    "                  ],\n",
    "                  [\n",
    "                   [7, 8, 9],\n",
    "                   [10, 11, 12]\n",
    "                  ]\n",
    "])"
   ]
  },
  {
   "cell_type": "code",
   "execution_count": 4,
   "metadata": {
    "colab": {
     "base_uri": "https://localhost:8080/"
    },
    "executionInfo": {
     "elapsed": 402,
     "status": "ok",
     "timestamp": 1641733973681,
     "user": {
      "displayName": "Rohan",
      "photoUrl": "https://lh3.googleusercontent.com/a/default-user=s64",
      "userId": "00954367962916090040"
     },
     "user_tz": -330
    },
    "id": "Gt4HmDJe9-xo",
    "outputId": "456f29b1-8291-4d04-b156-e5b2a1428dfe"
   },
   "outputs": [
    {
     "data": {
      "text/plain": [
       "array([[[ 1,  2,  3],\n",
       "        [ 4,  5,  6]],\n",
       "\n",
       "       [[ 7,  8,  9],\n",
       "        [10, 11, 12]]])"
      ]
     },
     "execution_count": 4,
     "metadata": {},
     "output_type": "execute_result"
    }
   ],
   "source": [
    "arr3d"
   ]
  },
  {
   "cell_type": "code",
   "execution_count": 5,
   "metadata": {
    "colab": {
     "base_uri": "https://localhost:8080/"
    },
    "executionInfo": {
     "elapsed": 355,
     "status": "ok",
     "timestamp": 1641733994615,
     "user": {
      "displayName": "Rohan",
      "photoUrl": "https://lh3.googleusercontent.com/a/default-user=s64",
      "userId": "00954367962916090040"
     },
     "user_tz": -330
    },
    "id": "zDmCPW24-GAL",
    "outputId": "d2e32d45-189b-41de-bf77-3b2eeee616f7"
   },
   "outputs": [
    {
     "data": {
      "text/plain": [
       "(2, 2, 3)"
      ]
     },
     "execution_count": 5,
     "metadata": {},
     "output_type": "execute_result"
    }
   ],
   "source": [
    "arr3d.shape # No. of elements in each dimension"
   ]
  },
  {
   "cell_type": "code",
   "execution_count": 6,
   "metadata": {
    "colab": {
     "base_uri": "https://localhost:8080/"
    },
    "executionInfo": {
     "elapsed": 445,
     "status": "ok",
     "timestamp": 1641734008863,
     "user": {
      "displayName": "Rohan",
      "photoUrl": "https://lh3.googleusercontent.com/a/default-user=s64",
      "userId": "00954367962916090040"
     },
     "user_tz": -330
    },
    "id": "yamo0eCT-LOd",
    "outputId": "b5d3988e-3e18-4f87-fe98-077bb61b15d9"
   },
   "outputs": [
    {
     "data": {
      "text/plain": [
       "3"
      ]
     },
     "execution_count": 6,
     "metadata": {},
     "output_type": "execute_result"
    }
   ],
   "source": [
    "arr3d.ndim # Total no. of dimensions"
   ]
  },
  {
   "cell_type": "code",
   "execution_count": 7,
   "metadata": {
    "colab": {
     "base_uri": "https://localhost:8080/"
    },
    "executionInfo": {
     "elapsed": 368,
     "status": "ok",
     "timestamp": 1641734048274,
     "user": {
      "displayName": "Rohan",
      "photoUrl": "https://lh3.googleusercontent.com/a/default-user=s64",
      "userId": "00954367962916090040"
     },
     "user_tz": -330
    },
    "id": "szOsQoje-OlP",
    "outputId": "98009dd0-ac4d-47b4-cd39-5f95e5bfff78"
   },
   "outputs": [
    {
     "data": {
      "text/plain": [
       "12"
      ]
     },
     "execution_count": 7,
     "metadata": {},
     "output_type": "execute_result"
    }
   ],
   "source": [
    "arr3d.size # Total no. of elements, or, 2 * 2 * 3 (= product of all values from arr3d.shape)"
   ]
  },
  {
   "cell_type": "code",
   "execution_count": 14,
   "metadata": {
    "executionInfo": {
     "elapsed": 350,
     "status": "ok",
     "timestamp": 1641734217086,
     "user": {
      "displayName": "Rohan",
      "photoUrl": "https://lh3.googleusercontent.com/a/default-user=s64",
      "userId": "00954367962916090040"
     },
     "user_tz": -330
    },
    "id": "kVHJdEDn-YPU"
   },
   "outputs": [],
   "source": [
    "# Arrays returned by this method have data type of float.\n",
    "onesArray = np.ones((2,3)) # Shape should be in the form of a tuple"
   ]
  },
  {
   "cell_type": "code",
   "execution_count": 15,
   "metadata": {
    "colab": {
     "base_uri": "https://localhost:8080/"
    },
    "executionInfo": {
     "elapsed": 2,
     "status": "ok",
     "timestamp": 1641734258359,
     "user": {
      "displayName": "Rohan",
      "photoUrl": "https://lh3.googleusercontent.com/a/default-user=s64",
      "userId": "00954367962916090040"
     },
     "user_tz": -330
    },
    "id": "lWxJJrcF-twt",
    "outputId": "56fa6273-0faf-4705-8945-1f18161cc3f0"
   },
   "outputs": [
    {
     "name": "stdout",
     "output_type": "stream",
     "text": [
      "[[1. 1. 1.]\n",
      " [1. 1. 1.]] float64\n"
     ]
    }
   ],
   "source": [
    "print(onesArray, onesArray.dtype)"
   ]
  },
  {
   "cell_type": "code",
   "execution_count": 19,
   "metadata": {
    "colab": {
     "base_uri": "https://localhost:8080/"
    },
    "executionInfo": {
     "elapsed": 343,
     "status": "ok",
     "timestamp": 1641734321392,
     "user": {
      "displayName": "Rohan",
      "photoUrl": "https://lh3.googleusercontent.com/a/default-user=s64",
      "userId": "00954367962916090040"
     },
     "user_tz": -330
    },
    "id": "eu9ogb-X-5Yx",
    "outputId": "53408df8-7708-49f9-d43c-23170b9e59b6"
   },
   "outputs": [
    {
     "name": "stdout",
     "output_type": "stream",
     "text": [
      "[[1769. 1769. 1769.]\n",
      " [1769. 1769. 1769.]] [[3. 3. 3.]\n",
      " [3. 3. 3.]]\n"
     ]
    }
   ],
   "source": [
    "print(1769 * onesArray, 2 + onesArray) # like in matlab, called broadcasting here"
   ]
  },
  {
   "cell_type": "code",
   "execution_count": 20,
   "metadata": {
    "executionInfo": {
     "elapsed": 334,
     "status": "ok",
     "timestamp": 1641734353492,
     "user": {
      "displayName": "Rohan",
      "photoUrl": "https://lh3.googleusercontent.com/a/default-user=s64",
      "userId": "00954367962916090040"
     },
     "user_tz": -330
    },
    "id": "0dscA0ef_R2L"
   },
   "outputs": [],
   "source": [
    "zerosArray = np.zeros((2, 3, 4))"
   ]
  },
  {
   "cell_type": "code",
   "execution_count": 21,
   "metadata": {
    "colab": {
     "base_uri": "https://localhost:8080/"
    },
    "executionInfo": {
     "elapsed": 2,
     "status": "ok",
     "timestamp": 1641734358892,
     "user": {
      "displayName": "Rohan",
      "photoUrl": "https://lh3.googleusercontent.com/a/default-user=s64",
      "userId": "00954367962916090040"
     },
     "user_tz": -330
    },
    "id": "6j1ufbNy_i6s",
    "outputId": "dcc69319-ef0e-4a51-f06d-e81e0da3bcf6"
   },
   "outputs": [
    {
     "name": "stdout",
     "output_type": "stream",
     "text": [
      "[[[0. 0. 0. 0.]\n",
      "  [0. 0. 0. 0.]\n",
      "  [0. 0. 0. 0.]]\n",
      "\n",
      " [[0. 0. 0. 0.]\n",
      "  [0. 0. 0. 0.]\n",
      "  [0. 0. 0. 0.]]]\n"
     ]
    }
   ],
   "source": [
    "print(zerosArray)"
   ]
  },
  {
   "cell_type": "code",
   "execution_count": 22,
   "metadata": {
    "colab": {
     "base_uri": "https://localhost:8080/"
    },
    "executionInfo": {
     "elapsed": 343,
     "status": "ok",
     "timestamp": 1641734382254,
     "user": {
      "displayName": "Rohan",
      "photoUrl": "https://lh3.googleusercontent.com/a/default-user=s64",
      "userId": "00954367962916090040"
     },
     "user_tz": -330
    },
    "id": "PwIw1Zun_kDD",
    "outputId": "d2678b4c-10b1-4d5a-848d-d1ebda257893"
   },
   "outputs": [
    {
     "name": "stdout",
     "output_type": "stream",
     "text": [
      "[[[12. 12. 12. 12.]\n",
      "  [12. 12. 12. 12.]\n",
      "  [12. 12. 12. 12.]]\n",
      "\n",
      " [[12. 12. 12. 12.]\n",
      "  [12. 12. 12. 12.]\n",
      "  [12. 12. 12. 12.]]]\n"
     ]
    }
   ],
   "source": [
    "print((zerosArray + 4) * 3)"
   ]
  },
  {
   "cell_type": "code",
   "execution_count": 24,
   "metadata": {
    "colab": {
     "base_uri": "https://localhost:8080/"
    },
    "executionInfo": {
     "elapsed": 630,
     "status": "ok",
     "timestamp": 1641734463896,
     "user": {
      "displayName": "Rohan",
      "photoUrl": "https://lh3.googleusercontent.com/a/default-user=s64",
      "userId": "00954367962916090040"
     },
     "user_tz": -330
    },
    "id": "_KfZ_wY4_p8I",
    "outputId": "54703792-25f4-4b61-84e7-78cc62cffeb9"
   },
   "outputs": [
    {
     "data": {
      "text/plain": [
       "array([[-0.74318517,  0.05331505,  0.6257689 ],\n",
       "       [ 1.36346866, -1.252186  , -0.52303754]])"
      ]
     },
     "execution_count": 24,
     "metadata": {},
     "output_type": "execute_result"
    }
   ],
   "source": [
    "np.random.randn(2, 3) # From a normal dist. of mean 0 & variance 1, selects random values and creates matrix shape given as input"
   ]
  },
  {
   "cell_type": "code",
   "execution_count": 25,
   "metadata": {
    "colab": {
     "base_uri": "https://localhost:8080/"
    },
    "executionInfo": {
     "elapsed": 377,
     "status": "ok",
     "timestamp": 1641734517598,
     "user": {
      "displayName": "Rohan",
      "photoUrl": "https://lh3.googleusercontent.com/a/default-user=s64",
      "userId": "00954367962916090040"
     },
     "user_tz": -330
    },
    "id": "LCjVW5dd_zqt",
    "outputId": "e9f2f0e3-352c-475d-d6b1-00a93cb05e13"
   },
   "outputs": [
    {
     "data": {
      "text/plain": [
       "array([[0.38877393, 0.29499114, 0.61545922],\n",
       "       [0.49292666, 0.58084515, 0.823579  ]])"
      ]
     },
     "execution_count": 25,
     "metadata": {},
     "output_type": "execute_result"
    }
   ],
   "source": [
    "np.random.rand(2, 3) # Gives 2 x 3, elements from uniform distribution between 0 and 1."
   ]
  },
  {
   "cell_type": "code",
   "execution_count": 26,
   "metadata": {
    "colab": {
     "base_uri": "https://localhost:8080/"
    },
    "executionInfo": {
     "elapsed": 368,
     "status": "ok",
     "timestamp": 1641734614012,
     "user": {
      "displayName": "Rohan",
      "photoUrl": "https://lh3.googleusercontent.com/a/default-user=s64",
      "userId": "00954367962916090040"
     },
     "user_tz": -330
    },
    "id": "s_fZ_mjmAKuF",
    "outputId": "0ce9a4ef-9644-428f-c3f3-a31cd0151e5a"
   },
   "outputs": [
    {
     "data": {
      "text/plain": [
       "array([[91, 22, 43],\n",
       "       [81, 29, 21]])"
      ]
     },
     "execution_count": 26,
     "metadata": {},
     "output_type": "execute_result"
    }
   ],
   "source": [
    "np.random.randint(0, 100, (2, 3)) # random ints in shape 2x3, from 0 to 100."
   ]
  },
  {
   "cell_type": "code",
   "execution_count": 30,
   "metadata": {
    "colab": {
     "base_uri": "https://localhost:8080/"
    },
    "executionInfo": {
     "elapsed": 349,
     "status": "ok",
     "timestamp": 1641734748015,
     "user": {
      "displayName": "Rohan",
      "photoUrl": "https://lh3.googleusercontent.com/a/default-user=s64",
      "userId": "00954367962916090040"
     },
     "user_tz": -330
    },
    "id": "h2TQR5JyAigR",
    "outputId": "f83e771b-e85c-43b1-b98a-9a55f563e1b5"
   },
   "outputs": [
    {
     "data": {
      "text/plain": [
       "array([ 7, 12, 17, 22, 27, 32, 37, 42, 47, 52, 57, 62, 67])"
      ]
     },
     "execution_count": 30,
     "metadata": {},
     "output_type": "execute_result"
    }
   ],
   "source": [
    "np.arange(7, 71, 5) # From 7 to 71(excluded), array of numbers at intervals of 5(stepsize)"
   ]
  },
  {
   "cell_type": "code",
   "execution_count": 33,
   "metadata": {
    "colab": {
     "base_uri": "https://localhost:8080/"
    },
    "executionInfo": {
     "elapsed": 381,
     "status": "ok",
     "timestamp": 1641734792691,
     "user": {
      "displayName": "Rohan",
      "photoUrl": "https://lh3.googleusercontent.com/a/default-user=s64",
      "userId": "00954367962916090040"
     },
     "user_tz": -330
    },
    "id": "dnEGsqUXAv8n",
    "outputId": "6a7e2acb-b025-414c-ec30-b1282ff63240"
   },
   "outputs": [
    {
     "data": {
      "text/plain": [
       "array([  1. ,  10.9,  20.8,  30.7,  40.6,  50.5,  60.4,  70.3,  80.2,\n",
       "        90.1, 100. ])"
      ]
     },
     "execution_count": 33,
     "metadata": {},
     "output_type": "execute_result"
    }
   ],
   "source": [
    "np.linspace(1, 100, 11) # Between 1 and 100(included), array of 11 linearly spaced numbers"
   ]
  },
  {
   "cell_type": "code",
   "execution_count": 34,
   "metadata": {
    "executionInfo": {
     "elapsed": 345,
     "status": "ok",
     "timestamp": 1641734857690,
     "user": {
      "displayName": "Rohan",
      "photoUrl": "https://lh3.googleusercontent.com/a/default-user=s64",
      "userId": "00954367962916090040"
     },
     "user_tz": -330
    },
    "id": "VUQlWIMwBFsh"
   },
   "outputs": [],
   "source": [
    "# Numpy arrays can be of any type\n",
    "np.array([True, False]);\n",
    "np.array(['Hi', 'ray', 'hi']);"
   ]
  },
  {
   "cell_type": "code",
   "execution_count": 35,
   "metadata": {
    "executionInfo": {
     "elapsed": 361,
     "status": "ok",
     "timestamp": 1641734889215,
     "user": {
      "displayName": "Rohan",
      "photoUrl": "https://lh3.googleusercontent.com/a/default-user=s64",
      "userId": "00954367962916090040"
     },
     "user_tz": -330
    },
    "id": "84UeBI6TBeAd"
   },
   "outputs": [],
   "source": [
    "arr = np.array(['1.1', '2.3', '3.4']);"
   ]
  },
  {
   "cell_type": "code",
   "execution_count": 40,
   "metadata": {
    "colab": {
     "base_uri": "https://localhost:8080/"
    },
    "executionInfo": {
     "elapsed": 340,
     "status": "ok",
     "timestamp": 1641734978053,
     "user": {
      "displayName": "Rohan",
      "photoUrl": "https://lh3.googleusercontent.com/a/default-user=s64",
      "userId": "00954367962916090040"
     },
     "user_tz": -330
    },
    "id": "mlQIyx-oBlsg",
    "outputId": "da1849c3-9033-40b1-e050-2029668e980e"
   },
   "outputs": [
    {
     "data": {
      "text/plain": [
       "array([1.1, 2.3, 3.4])"
      ]
     },
     "execution_count": 40,
     "metadata": {},
     "output_type": "execute_result"
    }
   ],
   "source": [
    "np.array(arr, dtype = 'float') # As np arrays have one data, this is how to kind of type cast np arrays."
   ]
  },
  {
   "cell_type": "markdown",
   "metadata": {
    "id": "S2jSRpwHCCRK"
   },
   "source": [
    "# Indexing"
   ]
  },
  {
   "cell_type": "code",
   "execution_count": null,
   "metadata": {
    "id": "eKNatlIBBtHh"
   },
   "outputs": [],
   "source": []
  }
 ],
 "metadata": {
  "colab": {
   "authorship_tag": "ABX9TyODlTCTBD+gdO/vMHrvrW56",
   "name": "NumPy.ipynb",
   "provenance": []
  },
  "kernelspec": {
   "display_name": "Python 3 (ipykernel)",
   "language": "python",
   "name": "python3"
  },
  "language_info": {
   "codemirror_mode": {
    "name": "ipython",
    "version": 3
   },
   "file_extension": ".py",
   "mimetype": "text/x-python",
   "name": "python",
   "nbconvert_exporter": "python",
   "pygments_lexer": "ipython3",
   "version": "3.11.1"
  }
 },
 "nbformat": 4,
 "nbformat_minor": 1
}

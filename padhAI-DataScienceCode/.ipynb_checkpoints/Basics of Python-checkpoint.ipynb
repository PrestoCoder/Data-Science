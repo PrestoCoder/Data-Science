{
 "cells": [
  {
   "cell_type": "markdown",
   "metadata": {
    "id": "9xUGhzyy8qNY"
   },
   "source": [
    "# Printing basics"
   ]
  },
  {
   "cell_type": "code",
   "execution_count": 1,
   "metadata": {
    "colab": {
     "base_uri": "https://localhost:8080/"
    },
    "executionInfo": {
     "elapsed": 46,
     "status": "ok",
     "timestamp": 1671291267506,
     "user": {
      "displayName": "Rohan",
      "userId": "00954367962916090040"
     },
     "user_tz": -330
    },
    "id": "X_8BAAX41Fvf",
    "outputId": "3a717dd7-96fe-4b4a-b61c-32fb3bb9250e"
   },
   "outputs": [
    {
     "name": "stdout",
     "output_type": "stream",
     "text": [
      "Hello world!\n"
     ]
    }
   ],
   "source": [
    "print(\"Hello world!\")"
   ]
  },
  {
   "cell_type": "code",
   "execution_count": null,
   "metadata": {
    "colab": {
     "base_uri": "https://localhost:8080/"
    },
    "executionInfo": {
     "elapsed": 387,
     "status": "ok",
     "timestamp": 1636028384030,
     "user": {
      "displayName": "Rohan",
      "photoUrl": "https://lh3.googleusercontent.com/a/default-user=s64",
      "userId": "00954367962916090040"
     },
     "user_tz": -330
    },
    "id": "uXiZ99tY4mzr",
    "outputId": "0c5914a6-e99f-4c8e-8512-abe59e1374ec"
   },
   "outputs": [
    {
     "name": "stdout",
     "output_type": "stream",
     "text": [
      "Kya haal hai bidu?\n",
      "Mast hai boss, tera kya chal rela hai?\n"
     ]
    }
   ],
   "source": [
    "print(\"Kya haal hai bidu?\")\n",
    "print(\"Mast hai boss, tera kya chal rela hai?\")"
   ]
  },
  {
   "cell_type": "code",
   "execution_count": null,
   "metadata": {
    "colab": {
     "base_uri": "https://localhost:8080/"
    },
    "executionInfo": {
     "elapsed": 4,
     "status": "ok",
     "timestamp": 1636097332646,
     "user": {
      "displayName": "Rohan",
      "photoUrl": "https://lh3.googleusercontent.com/a/default-user=s64",
      "userId": "00954367962916090040"
     },
     "user_tz": -330
    },
    "id": "9aOw-0tN4_8a",
    "outputId": "a174f1ed-fa3f-4b6e-a645-8ff5ee820ee3"
   },
   "outputs": [
    {
     "data": {
      "text/plain": [
       "bool"
      ]
     },
     "execution_count": 2,
     "metadata": {},
     "output_type": "execute_result"
    }
   ],
   "source": [
    "type(1 and True)"
   ]
  },
  {
   "cell_type": "markdown",
   "metadata": {
    "id": "bmu1ympUCNVP"
   },
   "source": [
    "# Variables and Inputs\n"
   ]
  },
  {
   "cell_type": "code",
   "execution_count": null,
   "metadata": {
    "colab": {
     "base_uri": "https://localhost:8080/"
    },
    "executionInfo": {
     "elapsed": 6390,
     "status": "ok",
     "timestamp": 1636099387641,
     "user": {
      "displayName": "Rohan",
      "photoUrl": "https://lh3.googleusercontent.com/a/default-user=s64",
      "userId": "00954367962916090040"
     },
     "user_tz": -330
    },
    "id": "u1Q3Le9FCUIY",
    "outputId": "6baac3b5-dd79-492e-80df-6d31e6b881e7"
   },
   "outputs": [
    {
     "name": "stdout",
     "output_type": "stream",
     "text": [
      "What is your name?Rohan\n"
     ]
    }
   ],
   "source": [
    "myName = input(\"What is your name?\")"
   ]
  },
  {
   "cell_type": "code",
   "execution_count": 1,
   "metadata": {
    "colab": {
     "base_uri": "https://localhost:8080/"
    },
    "executionInfo": {
     "elapsed": 4662,
     "status": "ok",
     "timestamp": 1671386711171,
     "user": {
      "displayName": "Rohan",
      "userId": "00954367962916090040"
     },
     "user_tz": -330
    },
    "id": "M5pi5PcwH1Vh",
    "outputId": "a6d92032-661e-4d32-cc46-92eb01c4853d"
   },
   "outputs": [
    {
     "name": "stdout",
     "output_type": "stream",
     "text": [
      "Input a random number - 34523\n"
     ]
    }
   ],
   "source": [
    "num = input('Input a random number - ')"
   ]
  },
  {
   "cell_type": "code",
   "execution_count": null,
   "metadata": {
    "colab": {
     "base_uri": "https://localhost:8080/"
    },
    "executionInfo": {
     "elapsed": 573,
     "status": "ok",
     "timestamp": 1636271017397,
     "user": {
      "displayName": "Rohan",
      "photoUrl": "https://lh3.googleusercontent.com/a/default-user=s64",
      "userId": "00954367962916090040"
     },
     "user_tz": -330
    },
    "id": "oT4iK4cgJzw5",
    "outputId": "5a90fd3f-2fbc-49cf-e3ed-e9d26df972cd"
   },
   "outputs": [
    {
     "name": "stdout",
     "output_type": "stream",
     "text": [
      "<class 'range'>\n"
     ]
    }
   ],
   "source": [
    "print(type(range(5)))"
   ]
  },
  {
   "cell_type": "code",
   "execution_count": 3,
   "metadata": {
    "colab": {
     "base_uri": "https://localhost:8080/"
    },
    "executionInfo": {
     "elapsed": 436,
     "status": "ok",
     "timestamp": 1671393429725,
     "user": {
      "displayName": "Rohan",
      "userId": "00954367962916090040"
     },
     "user_tz": -330
    },
    "id": "acB7pKJfz1KT",
    "outputId": "13d297df-7506-406c-e17a-c4ea0e18184c"
   },
   "outputs": [
    {
     "name": "stdout",
     "output_type": "stream",
     "text": [
      "range(0, 5)\n"
     ]
    }
   ],
   "source": [
    "print(range(0, 5))"
   ]
  },
  {
   "cell_type": "markdown",
   "metadata": {
    "id": "b4fFmb0tYQ9g"
   },
   "source": [
    "# Fibonacci"
   ]
  },
  {
   "cell_type": "code",
   "execution_count": 4,
   "metadata": {
    "colab": {
     "base_uri": "https://localhost:8080/"
    },
    "executionInfo": {
     "elapsed": 700,
     "status": "ok",
     "timestamp": 1671398996265,
     "user": {
      "displayName": "Rohan",
      "userId": "00954367962916090040"
     },
     "user_tz": -330
    },
    "id": "rf8NavKgYUYw",
    "outputId": "a50a4308-9bba-4493-f33f-94d1b31b2e32"
   },
   "outputs": [
    {
     "name": "stdout",
     "output_type": "stream",
     "text": [
      "0\n",
      "1\n",
      "1\n",
      "2\n",
      "3\n",
      "5\n",
      "8\n",
      "13\n",
      "21\n",
      "34\n"
     ]
    }
   ],
   "source": [
    "def fibo(n, a = 0, b = 1):\n",
    "    \"\"\"\n",
    "    This function returns the nth no. in the Fibonacci sequence.\n",
    "    a and b are initialized as 0 and 1 respectively.\n",
    "    \"\"\"\n",
    "    if(n == 0):\n",
    "        return\n",
    "    print(a)\n",
    "    return fibo(n - 1, b, a + b)\n",
    "\n",
    "fibo(10)\n"
   ]
  },
  {
   "cell_type": "markdown",
   "metadata": {
    "id": "bMdpbQMNFl6V"
   },
   "source": [
    "# W03 ASSIGN_01"
   ]
  },
  {
   "cell_type": "code",
   "execution_count": null,
   "metadata": {
    "colab": {
     "base_uri": "https://localhost:8080/",
     "height": 283
    },
    "executionInfo": {
     "elapsed": 140539,
     "status": "error",
     "timestamp": 1636725646636,
     "user": {
      "displayName": "Rohan",
      "photoUrl": "https://lh3.googleusercontent.com/a/default-user=s64",
      "userId": "00954367962916090040"
     },
     "user_tz": -330
    },
    "id": "KnGdryBhFek1",
    "outputId": "93e44fab-aaa1-4c00-9e4f-3636628106ca"
   },
   "outputs": [
    {
     "name": "stdout",
     "output_type": "stream",
     "text": [
      "Enter your weight (in kgs) c\n",
      "What is your preferred unit of height? Type \"F\" for feet and \"M\" for meters c\n",
      "What is your height in meters c\n"
     ]
    },
    {
     "ename": "ValueError",
     "evalue": "ignored",
     "output_type": "error",
     "traceback": [
      "\u001b[0;31m---------------------------------------------------------------------------\u001b[0m",
      "\u001b[0;31mValueError\u001b[0m                                Traceback (most recent call last)",
      "\u001b[0;32m<ipython-input-6-9c50e904dc58>\u001b[0m in \u001b[0;36m<module>\u001b[0;34m()\u001b[0m\n\u001b[1;32m      8\u001b[0m \u001b[0;32melse\u001b[0m\u001b[0;34m:\u001b[0m\u001b[0;34m\u001b[0m\u001b[0;34m\u001b[0m\u001b[0m\n\u001b[1;32m      9\u001b[0m     \u001b[0mheight\u001b[0m \u001b[0;34m=\u001b[0m \u001b[0minput\u001b[0m\u001b[0;34m(\u001b[0m\u001b[0;34m\"What is your height in meters \"\u001b[0m\u001b[0;34m)\u001b[0m\u001b[0;34m\u001b[0m\u001b[0;34m\u001b[0m\u001b[0m\n\u001b[0;32m---> 10\u001b[0;31m \u001b[0mBMI\u001b[0m \u001b[0;34m=\u001b[0m \u001b[0mfloat\u001b[0m\u001b[0;34m(\u001b[0m\u001b[0mweight\u001b[0m\u001b[0;34m)\u001b[0m\u001b[0;34m/\u001b[0m\u001b[0;34m(\u001b[0m\u001b[0mfloat\u001b[0m\u001b[0;34m(\u001b[0m\u001b[0mheight\u001b[0m\u001b[0;34m)\u001b[0m \u001b[0;34m**\u001b[0m \u001b[0;36m2\u001b[0m\u001b[0;34m)\u001b[0m\u001b[0;34m\u001b[0m\u001b[0;34m\u001b[0m\u001b[0m\n\u001b[0m\u001b[1;32m     11\u001b[0m \u001b[0;32mif\u001b[0m\u001b[0;34m(\u001b[0m\u001b[0mBMI\u001b[0m \u001b[0;34m<\u001b[0m \u001b[0;36m18.5\u001b[0m\u001b[0;34m)\u001b[0m\u001b[0;34m:\u001b[0m\u001b[0;34m\u001b[0m\u001b[0;34m\u001b[0m\u001b[0m\n\u001b[1;32m     12\u001b[0m     \u001b[0mprint\u001b[0m\u001b[0;34m(\u001b[0m\u001b[0;34m'Underweight'\u001b[0m\u001b[0;34m)\u001b[0m\u001b[0;34m\u001b[0m\u001b[0;34m\u001b[0m\u001b[0m\n",
      "\u001b[0;31mValueError\u001b[0m: could not convert string to float: 'c'"
     ]
    }
   ],
   "source": [
    "weight = input(\"Enter your weight (in kgs) \")\n",
    "heightType = input(\"What is your preferred unit of height? Type \\\"F\\\" for feet and \\\"M\\\" for meters \")\n",
    "height = 0\n",
    "if(heightType == 'F'):\n",
    "    heightFeet = input(\"You will enter your height given as feet and inches. First enter feet \")\n",
    "    heightInches = input(\"Now enter inches \")\n",
    "    height = heightFeet * 0.3048 + heightInches * 0.0254\n",
    "else:\n",
    "    height = input(\"What is your height in meters \")\n",
    "BMI = float(weight)/(float(height) ** 2)\n",
    "if(BMI < 18.5):\n",
    "    print('Underweight')\n",
    "elif(BMI < 25):\n",
    "    print('Normal')\n",
    "elif(BMI < 30):\n",
    "    print('Overweight')\n",
    "else:\n",
    "    print('Very Overweight')\n"
   ]
  },
  {
   "cell_type": "markdown",
   "metadata": {
    "id": "ToEInFYSd7FL"
   },
   "source": [
    "# W03 ASSIGN_02\n"
   ]
  },
  {
   "cell_type": "code",
   "execution_count": null,
   "metadata": {
    "id": "PhSSlepaeAcr"
   },
   "outputs": [],
   "source": [
    "def factorial(n):\n",
    "    if(n == 0):\n",
    "        return 1\n",
    "    return n * factorial(n - 1)\n"
   ]
  },
  {
   "cell_type": "code",
   "execution_count": null,
   "metadata": {
    "id": "NezFksAkeRML"
   },
   "outputs": [],
   "source": [
    "def expByFact(x, n):\n",
    "    return (x ** n)/factorial(n)\n"
   ]
  },
  {
   "cell_type": "code",
   "execution_count": null,
   "metadata": {
    "id": "ioeAGN0ueu1a"
   },
   "outputs": [],
   "source": [
    "def sumExpByFact(x, N):\n",
    "    if(N == 0):\n",
    "        return 1\n",
    "    return expByFact(x, N) + sumExpByFact(x, N - 1)\n"
   ]
  },
  {
   "cell_type": "code",
   "execution_count": null,
   "metadata": {
    "id": "mYKORaLKfncq"
   },
   "outputs": [],
   "source": [
    "def diffOfSumExpByFact(x, epsilon, N = 1):\n",
    "    if(sumExpByFact(x, N) - sumExpByFact(x, N - 1) < epsilon):\n",
    "        return N\n",
    "    return diffOfSumExpByFact(x, epsilon, N + 1)\n"
   ]
  },
  {
   "cell_type": "code",
   "execution_count": null,
   "metadata": {
    "colab": {
     "base_uri": "https://localhost:8080/"
    },
    "executionInfo": {
     "elapsed": 6,
     "status": "ok",
     "timestamp": 1639038694760,
     "user": {
      "displayName": "Rohan",
      "photoUrl": "https://lh3.googleusercontent.com/a/default-user=s64",
      "userId": "00954367962916090040"
     },
     "user_tz": -330
    },
    "id": "OkytkwXIDf0l",
    "outputId": "a0c91dfd-ca20-454b-8ef9-afeac728c198"
   },
   "outputs": [
    {
     "name": "stdout",
     "output_type": "stream",
     "text": [
      "59874.1417151978\n",
      "59874.14171519782\n"
     ]
    }
   ],
   "source": [
    "import math\n",
    "print(sumExpByFact(5, 100) * sumExpByFact(6, 100))\n",
    "print(sumExpByFact(11, 100))"
   ]
  },
  {
   "cell_type": "markdown",
   "metadata": {
    "id": "_gcJz7Jt_3lo"
   },
   "source": [
    "# Error handling"
   ]
  },
  {
   "cell_type": "code",
   "execution_count": 6,
   "metadata": {
    "colab": {
     "base_uri": "https://localhost:8080/"
    },
    "executionInfo": {
     "elapsed": 395,
     "status": "ok",
     "timestamp": 1671399498477,
     "user": {
      "displayName": "Rohan",
      "userId": "00954367962916090040"
     },
     "user_tz": -330
    },
    "id": "RqhDK2QeAAWZ",
    "outputId": "a50ded9e-f569-4cdc-f0c5-17865ad5ec7b"
   },
   "outputs": [
    {
     "name": "stdout",
     "output_type": "stream",
     "text": [
      "Division by 0 is undefined\n",
      "None\n"
     ]
    }
   ],
   "source": [
    "def divideByNumber(n):\n",
    "    try:\n",
    "        output = 1/n\n",
    "    except ZeroDivisionError:\n",
    "        print('Division by 0 is undefined')\n",
    "        output = None;\n",
    "        \n",
    "    return output;\n",
    "\n",
    "print(divideByNumber(0));\n",
    "divideByNumber?"
   ]
  },
  {
   "cell_type": "markdown",
   "metadata": {
    "id": "LAgTZ3kVAFrw"
   },
   "source": [
    "# Lists"
   ]
  },
  {
   "cell_type": "code",
   "execution_count": null,
   "metadata": {
    "colab": {
     "base_uri": "https://localhost:8080/"
    },
    "executionInfo": {
     "elapsed": 466,
     "status": "ok",
     "timestamp": 1639117927265,
     "user": {
      "displayName": "Rohan",
      "photoUrl": "https://lh3.googleusercontent.com/a/default-user=s64",
      "userId": "00954367962916090040"
     },
     "user_tz": -330
    },
    "id": "-2_wiX0DAIqQ",
    "outputId": "1d52ef3c-2712-4e8e-fb81-6d31fc4adbe8"
   },
   "outputs": [
    {
     "name": "stdout",
     "output_type": "stream",
     "text": [
      "[0, 1, 'yoyo', 3, 4]\n",
      "True\n",
      "2\n"
     ]
    }
   ],
   "source": [
    "a = [0, 1, 'yoyo', 3, 4];\n",
    "print((a))\n",
    "print(\"yoyo\" in a); # True if element present in list.\n",
    "print(a.index('yoyo')); # Returns index at which element is present."
   ]
  },
  {
   "cell_type": "code",
   "execution_count": null,
   "metadata": {
    "colab": {
     "base_uri": "https://localhost:8080/"
    },
    "executionInfo": {
     "elapsed": 402,
     "status": "ok",
     "timestamp": 1639046145410,
     "user": {
      "displayName": "Rohan",
      "photoUrl": "https://lh3.googleusercontent.com/a/default-user=s64",
      "userId": "00954367962916090040"
     },
     "user_tz": -330
    },
    "id": "9aRKy5HyrxrU",
    "outputId": "09ba5a12-86ad-4a44-b251-aad2415fab31"
   },
   "outputs": [
    {
     "name": "stdout",
     "output_type": "stream",
     "text": [
      "['My', 'name', 'is', 'Rohan']\n",
      "<class 'list'>\n",
      "My\n",
      "['My', 'name', 'is']\n",
      "['My', 'name', 'is', 'Rohan']\n",
      "['My', 'name']\n",
      "words[-1] = Rohan\n",
      "<class 'str'>\n",
      "M\n",
      "My name is R\n",
      "My name is Roh\n",
      "ame is Rohan\n",
      "sentence[-1] =  n\n"
     ]
    }
   ],
   "source": [
    "sentence = \"My name is Rohan\";\n",
    "words = sentence.split();\n",
    "print(words);\n",
    "print(type(words));\n",
    "print(words[0]);\n",
    "print(words[0:3]);\n",
    "print(words[0:]);\n",
    "print(words[:2]);\n",
    "print(\"words[-1] =\", words[-1]);\n",
    "print(type(words[0]));\n",
    "print(sentence[0]);\n",
    "print(sentence[0:12]);\n",
    "print(sentence[:14]);\n",
    "print(sentence[4:]);\n",
    "print(\"sentence[-1] = \", sentence[-1]);"
   ]
  },
  {
   "cell_type": "code",
   "execution_count": null,
   "metadata": {
    "colab": {
     "base_uri": "https://localhost:8080/"
    },
    "executionInfo": {
     "elapsed": 2,
     "status": "ok",
     "timestamp": 1639046437448,
     "user": {
      "displayName": "Rohan",
      "photoUrl": "https://lh3.googleusercontent.com/a/default-user=s64",
      "userId": "00954367962916090040"
     },
     "user_tz": -330
    },
    "id": "lZ5q99W4w2Fq",
    "outputId": "fd49b5b3-b89b-4923-aab1-7b26704fe455"
   },
   "outputs": [
    {
     "name": "stdout",
     "output_type": "stream",
     "text": [
      "1\n",
      "2\n",
      "3\n",
      "4\n",
      "five\n"
     ]
    }
   ],
   "source": [
    "nums = [1, 2, 3, 4, 'five'];\n",
    "for num in nums:\n",
    "    print(num);\n"
   ]
  },
  {
   "cell_type": "code",
   "execution_count": null,
   "metadata": {
    "colab": {
     "base_uri": "https://localhost:8080/"
    },
    "executionInfo": {
     "elapsed": 383,
     "status": "ok",
     "timestamp": 1639046822588,
     "user": {
      "displayName": "Rohan",
      "photoUrl": "https://lh3.googleusercontent.com/a/default-user=s64",
      "userId": "00954367962916090040"
     },
     "user_tz": -330
    },
    "id": "x9AMicFox9d7",
    "outputId": "1c2f6b6e-700e-4892-c979-37475161e390"
   },
   "outputs": [
    {
     "name": "stdout",
     "output_type": "stream",
     "text": [
      "range(2, 6)\n",
      "3\n",
      "4\n",
      "5\n",
      "[0, 'yoyo', range(2, 6), 3, 4, 5, 'kuchh bhi']\n"
     ]
    }
   ],
   "source": [
    "elements = [0, 'yoyo', range(2, 6), 3, 4, 5];\n",
    "for i in range(2, len(elements)):\n",
    "    print(elements[i]);\n",
    "\n",
    "elements.append(\"kuchh bhi\");\n",
    "print(elements)"
   ]
  },
  {
   "cell_type": "markdown",
   "metadata": {
    "id": "-HSjlm2m2YWJ"
   },
   "source": [
    "# Lists Continued"
   ]
  },
  {
   "cell_type": "code",
   "execution_count": null,
   "metadata": {
    "colab": {
     "base_uri": "https://localhost:8080/"
    },
    "executionInfo": {
     "elapsed": 478,
     "status": "ok",
     "timestamp": 1639124384345,
     "user": {
      "displayName": "Rohan",
      "photoUrl": "https://lh3.googleusercontent.com/a/default-user=s64",
      "userId": "00954367962916090040"
     },
     "user_tz": -330
    },
    "id": "zRkdSkh-2dY4",
    "outputId": "794aed3e-3c8b-46b5-d9db-d25af53f5e33"
   },
   "outputs": [
    {
     "name": "stdout",
     "output_type": "stream",
     "text": [
      "[[1, 0, 0], [0, 1, 0], [0, 0, 1]]\n",
      "[1, 0, 0]\n",
      "0\n",
      "[['y'], ['y', 2]]\n",
      "[[[[[[[[[[[[[0]]]]]]]]]]]]]\n",
      "[0, 1, 2, 3, 4, 5, 6, 7, 8, 9, 10, 11, 12, 13, 14]\n"
     ]
    }
   ],
   "source": [
    "identityMatrix = [[1, 0, 0],\n",
    "                  [0, 1, 0], \n",
    "                  [0, 0, 1]];\n",
    "print(identityMatrix)\n",
    "print(identityMatrix[0]);\n",
    "print(identityMatrix[0][1]);\n",
    "\n",
    "rand_array = [['y'], ['y', 2]];\n",
    "print(rand_array);\n",
    "\n",
    "print([[[[[[[[[[[[[0]]]]]]]]]]]]])\n",
    "print(list(range(15))); # Creates a list of 0 to 14. Can be used in tuples and sets as well."
   ]
  },
  {
   "cell_type": "markdown",
   "metadata": {
    "id": "cWY4ypmY01TP"
   },
   "source": [
    "Matrix Multiplication Assignment\n"
   ]
  },
  {
   "cell_type": "code",
   "execution_count": null,
   "metadata": {
    "colab": {
     "base_uri": "https://localhost:8080/"
    },
    "executionInfo": {
     "elapsed": 421,
     "status": "ok",
     "timestamp": 1639077653332,
     "user": {
      "displayName": "Rohan",
      "photoUrl": "https://lh3.googleusercontent.com/a/default-user=s64",
      "userId": "00954367962916090040"
     },
     "user_tz": -330
    },
    "id": "JkKqzJgu04y_",
    "outputId": "952a9404-c541-4f34-a780-fc9a23999676"
   },
   "outputs": [
    {
     "name": "stdout",
     "output_type": "stream",
     "text": [
      "[283667, 159294]\n",
      "[79647, 44726]\n"
     ]
    }
   ],
   "source": [
    "def mulRowsAndCols(mat1, mat2, rowNum, colNum):\n",
    "    result = 0;\n",
    "    for k  in range(2):\n",
    "        result += mat1[rowNum][k] * mat2[k][colNum];\n",
    "    return result;\n",
    "\n",
    "def multiply2dSquareMatrices(mat1, mat2):\n",
    "    result = [[0, 0], [0, 0]];\n",
    "    for i in range(2):\n",
    "        for j in range(2):\n",
    "            result[i][j] += mulRowsAndCols(mat1, mat2, i, j);\n",
    "    return result;\n",
    "\n",
    "def squareMatPowerN(mat, n):\n",
    "    result = [[1, 0], [0, 1]];\n",
    "    for i in range(n):\n",
    "        result = multiply2dSquareMatrices(result, mat);\n",
    "    return result;\n",
    "\n",
    "mat = [[3, 2], [1, 0]];\n",
    "res = squareMatPowerN(mat,10);\n",
    "print(res[0]);\n",
    "print(res[1]);\n",
    "#print(squareMatPowerN(mat,6));\n"
   ]
  },
  {
   "cell_type": "markdown",
   "metadata": {
    "id": "q8Rr0xX8663F"
   },
   "source": [
    "# Tuples"
   ]
  },
  {
   "cell_type": "code",
   "execution_count": null,
   "metadata": {
    "id": "xiXwaP9I68Wd"
   },
   "outputs": [],
   "source": [
    "batsmenRanks = (\"Sachin\", \"Sehwag\", \"Haydn\", \"Yuvraj\", \"Shaw\"); # A tuple with ( )."
   ]
  },
  {
   "cell_type": "code",
   "execution_count": null,
   "metadata": {
    "colab": {
     "base_uri": "https://localhost:8080/"
    },
    "executionInfo": {
     "elapsed": 474,
     "status": "ok",
     "timestamp": 1639117479071,
     "user": {
      "displayName": "Rohan",
      "photoUrl": "https://lh3.googleusercontent.com/a/default-user=s64",
      "userId": "00954367962916090040"
     },
     "user_tz": -330
    },
    "id": "DSYaCGM3A6u8",
    "outputId": "4181d2b7-e471-415a-deb1-bff4b5d55e06"
   },
   "outputs": [
    {
     "name": "stdout",
     "output_type": "stream",
     "text": [
      "<class 'tuple'>\n"
     ]
    }
   ],
   "source": [
    "print(type(batsmenRanks));"
   ]
  },
  {
   "cell_type": "code",
   "execution_count": null,
   "metadata": {
    "colab": {
     "base_uri": "https://localhost:8080/"
    },
    "executionInfo": {
     "elapsed": 459,
     "status": "ok",
     "timestamp": 1639116468926,
     "user": {
      "displayName": "Rohan",
      "photoUrl": "https://lh3.googleusercontent.com/a/default-user=s64",
      "userId": "00954367962916090040"
     },
     "user_tz": -330
    },
    "id": "IG-GS3Tq8aVf",
    "outputId": "4a77ef93-70d6-49dc-9b3a-995826694415"
   },
   "outputs": [
    {
     "name": "stdout",
     "output_type": "stream",
     "text": [
      "3\n"
     ]
    }
   ],
   "source": [
    "yuvrajIndex = batsmenRanks.index(\"Yuvraj\");\n",
    "print(yuvrajIndex);\n",
    "# print(batsmenRanks.index(\"Ponting\")); # Throws ValueError"
   ]
  },
  {
   "cell_type": "code",
   "execution_count": null,
   "metadata": {
    "colab": {
     "base_uri": "https://localhost:8080/"
    },
    "executionInfo": {
     "elapsed": 479,
     "status": "ok",
     "timestamp": 1639116494390,
     "user": {
      "displayName": "Rohan",
      "photoUrl": "https://lh3.googleusercontent.com/a/default-user=s64",
      "userId": "00954367962916090040"
     },
     "user_tz": -330
    },
    "id": "dmHUlTWC85Kw",
    "outputId": "2d25f328-57fa-472f-8650-466871f3b1cd"
   },
   "outputs": [
    {
     "name": "stdout",
     "output_type": "stream",
     "text": [
      "Sachin\n",
      "Shaw\n"
     ]
    }
   ],
   "source": [
    "print(batsmenRanks[0]);\n",
    "print(batsmenRanks[-1]);"
   ]
  },
  {
   "cell_type": "code",
   "execution_count": null,
   "metadata": {
    "colab": {
     "base_uri": "https://localhost:8080/"
    },
    "executionInfo": {
     "elapsed": 451,
     "status": "ok",
     "timestamp": 1639117548743,
     "user": {
      "displayName": "Rohan",
      "photoUrl": "https://lh3.googleusercontent.com/a/default-user=s64",
      "userId": "00954367962916090040"
     },
     "user_tz": -330
    },
    "id": "hdTvA6Wt9NGQ",
    "outputId": "9640f391-d816-4567-ff88-e8b5baa61f5c"
   },
   "outputs": [
    {
     "name": "stdout",
     "output_type": "stream",
     "text": [
      "('Sachin', 'Sehwag', 'Haydn')\n"
     ]
    }
   ],
   "source": [
    "print(batsmenRanks[0:3]); # 0, 1, 2"
   ]
  },
  {
   "cell_type": "code",
   "execution_count": null,
   "metadata": {
    "colab": {
     "base_uri": "https://localhost:8080/"
    },
    "executionInfo": {
     "elapsed": 482,
     "status": "ok",
     "timestamp": 1639117836883,
     "user": {
      "displayName": "Rohan",
      "photoUrl": "https://lh3.googleusercontent.com/a/default-user=s64",
      "userId": "00954367962916090040"
     },
     "user_tz": -330
    },
    "id": "pRg_CIvABOga",
    "outputId": "4916b01d-3749-4767-967f-fc1c61a1f589"
   },
   "outputs": [
    {
     "name": "stdout",
     "output_type": "stream",
     "text": [
      "True\n",
      "False\n"
     ]
    }
   ],
   "source": [
    "print(\"Sachin\" in batsmenRanks); # Returns bool, true - present in tuple, otherwise false.\n",
    "print(\"Ponting\" in batsmenRanks);"
   ]
  },
  {
   "cell_type": "markdown",
   "metadata": {
    "id": "NRTUI5mYDq_K"
   },
   "source": [
    "This is the main difference between lists and tuples. Lists are mutable(writable) whereas tuples are not."
   ]
  },
  {
   "cell_type": "code",
   "execution_count": null,
   "metadata": {
    "colab": {
     "base_uri": "https://localhost:8080/",
     "height": 168
    },
    "executionInfo": {
     "elapsed": 480,
     "status": "error",
     "timestamp": 1639118110632,
     "user": {
      "displayName": "Rohan",
      "photoUrl": "https://lh3.googleusercontent.com/a/default-user=s64",
      "userId": "00954367962916090040"
     },
     "user_tz": -330
    },
    "id": "I3Wzbmo5CQzb",
    "outputId": "33ed6303-9f70-4aea-82a3-f5c721b82105"
   },
   "outputs": [
    {
     "ename": "TypeError",
     "evalue": "ignored",
     "output_type": "error",
     "traceback": [
      "\u001b[0;31m---------------------------------------------------------------------------\u001b[0m",
      "\u001b[0;31mTypeError\u001b[0m                                 Traceback (most recent call last)",
      "\u001b[0;32m<ipython-input-19-2ef5f47fe4cb>\u001b[0m in \u001b[0;36m<module>\u001b[0;34m()\u001b[0m\n\u001b[0;32m----> 1\u001b[0;31m \u001b[0mbatsmenRanks\u001b[0m\u001b[0;34m[\u001b[0m\u001b[0;36m0\u001b[0m\u001b[0;34m]\u001b[0m \u001b[0;34m=\u001b[0m \u001b[0;34m'Don Bradman'\u001b[0m\u001b[0;34m;\u001b[0m\u001b[0;34m\u001b[0m\u001b[0;34m\u001b[0m\u001b[0m\n\u001b[0m",
      "\u001b[0;31mTypeError\u001b[0m: 'tuple' object does not support item assignment"
     ]
    }
   ],
   "source": [
    "batsmenRanks[0] = 'Don Bradman'; # Gives TypeError, as Tuples are immutable, i.e., they're read only. (append is not defined for tuples)"
   ]
  },
  {
   "cell_type": "code",
   "execution_count": null,
   "metadata": {
    "colab": {
     "base_uri": "https://localhost:8080/"
    },
    "executionInfo": {
     "elapsed": 1213,
     "status": "ok",
     "timestamp": 1639119035367,
     "user": {
      "displayName": "Rohan",
      "photoUrl": "https://lh3.googleusercontent.com/a/default-user=s64",
      "userId": "00954367962916090040"
     },
     "user_tz": -330
    },
    "id": "ex36Gq4GFl87",
    "outputId": "29e3a10f-fff6-41c1-89c0-b1d46b2480ab"
   },
   "outputs": [
    {
     "name": "stdout",
     "output_type": "stream",
     "text": [
      "1 loop, best of 10: 79.5 ms per loop\n"
     ]
    }
   ],
   "source": [
    "%%timeit -n1 -r10\n",
    "# Cell runs once (n1), 10 different instances of such runs occur(r10), and the min. time amongst the 10 runs is returned.\n",
    "for i in range(1000000):\n",
    "    myList = ['my', 'name', 'is', 'Rohan'];"
   ]
  },
  {
   "cell_type": "code",
   "execution_count": null,
   "metadata": {
    "colab": {
     "base_uri": "https://localhost:8080/"
    },
    "executionInfo": {
     "elapsed": 465,
     "status": "ok",
     "timestamp": 1639119049535,
     "user": {
      "displayName": "Rohan",
      "photoUrl": "https://lh3.googleusercontent.com/a/default-user=s64",
      "userId": "00954367962916090040"
     },
     "user_tz": -330
    },
    "id": "dTIOXHLbGtlh",
    "outputId": "f8141ff1-e68a-4681-da47-90f04267193d"
   },
   "outputs": [
    {
     "name": "stdout",
     "output_type": "stream",
     "text": [
      "1 loop, best of 10: 32.4 ms per loop\n"
     ]
    }
   ],
   "source": [
    "%%timeit -n1 -r10\n",
    "# Cell runs once (n1), 10 different instances of such runs occur(r10), and the min. time amongst the 10 runs is returned.\n",
    "for i in range(1000000):\n",
    "    myTuple = ('my', 'name', 'is', 'Rohan');"
   ]
  },
  {
   "cell_type": "code",
   "execution_count": null,
   "metadata": {
    "colab": {
     "base_uri": "https://localhost:8080/"
    },
    "executionInfo": {
     "elapsed": 456,
     "status": "ok",
     "timestamp": 1639124434759,
     "user": {
      "displayName": "Rohan",
      "photoUrl": "https://lh3.googleusercontent.com/a/default-user=s64",
      "userId": "00954367962916090040"
     },
     "user_tz": -330
    },
    "id": "OA_oNtYdbdpF",
    "outputId": "c4064873-c470-4d6a-9bfd-3d6ecf1c1713"
   },
   "outputs": [
    {
     "name": "stdout",
     "output_type": "stream",
     "text": [
      "(0, 1, 2, 3, 4, 5, 6, 7, 8, 9, 10, 11, 12, 13, 14)\n"
     ]
    }
   ],
   "source": [
    "print(tuple(range(15)));"
   ]
  },
  {
   "cell_type": "markdown",
   "metadata": {
    "id": "RvDFBJOwG-31"
   },
   "source": [
    "This shows that tuples are faster than arrays. 1st cell took min. 79.5ms, second took min. 32.4ms Tuples are faster because as they're immutable, their space is allocated and that's it. However, for lists, extra space also needs to be allocated as list can grow and can be edited. So there is a lot more to be handled while creating lists, which takes more time."
   ]
  },
  {
   "cell_type": "markdown",
   "metadata": {
    "id": "KuJk5YfPIg_o"
   },
   "source": [
    "Thus, if constant list like items are required, tuples would be the go to data type"
   ]
  },
  {
   "cell_type": "markdown",
   "metadata": {
    "id": "_rh9OlQiIptu"
   },
   "source": [
    "# Sets"
   ]
  },
  {
   "cell_type": "markdown",
   "metadata": {
    "id": "18knhvBHNq3N"
   },
   "source": [
    "Sets - Same as in mathematics\n",
    "\n",
    "<ul>\n",
    "<li> Have only unique element. </li>\n",
    "<li> Are unordered. Hence, indexing wouldn't work for sets. </li>\n",
    "<li> Can perform actions like union, intersection. </li>\n",
    "</ul>\n"
   ]
  },
  {
   "cell_type": "code",
   "execution_count": 1,
   "metadata": {
    "executionInfo": {
     "elapsed": 1751,
     "status": "ok",
     "timestamp": 1671438935583,
     "user": {
      "displayName": "Rohan",
      "userId": "00954367962916090040"
     },
     "user_tz": -330
    },
    "id": "zc2nb5o1G86M"
   },
   "outputs": [],
   "source": [
    "pianoComposers = {'Chopin', 'Liszt', 'Debussy', 'Mozart', 'Satie', 'Beethoven', 'Joplin'};"
   ]
  },
  {
   "cell_type": "code",
   "execution_count": null,
   "metadata": {
    "id": "N7rcsgbfRwag"
   },
   "outputs": [],
   "source": [
    "orchestralComposers = {'Liszt', 'Debussy', 'Mozart', 'Beethoven', 'Sibelius', 'Wagner'};"
   ]
  },
  {
   "cell_type": "code",
   "execution_count": null,
   "metadata": {
    "colab": {
     "base_uri": "https://localhost:8080/"
    },
    "executionInfo": {
     "elapsed": 460,
     "status": "ok",
     "timestamp": 1639122334022,
     "user": {
      "displayName": "Rohan",
      "photoUrl": "https://lh3.googleusercontent.com/a/default-user=s64",
      "userId": "00954367962916090040"
     },
     "user_tz": -330
    },
    "id": "N_WRw3ACSbYQ",
    "outputId": "85e56e8e-a821-4e30-f70e-676813a0cc57"
   },
   "outputs": [
    {
     "name": "stdout",
     "output_type": "stream",
     "text": [
      "<class 'set'>\n"
     ]
    }
   ],
   "source": [
    "print(type(pianoComposers));"
   ]
  },
  {
   "cell_type": "code",
   "execution_count": null,
   "metadata": {
    "colab": {
     "base_uri": "https://localhost:8080/",
     "height": 186
    },
    "executionInfo": {
     "elapsed": 518,
     "status": "error",
     "timestamp": 1639123627321,
     "user": {
      "displayName": "Rohan",
      "photoUrl": "https://lh3.googleusercontent.com/a/default-user=s64",
      "userId": "00954367962916090040"
     },
     "user_tz": -330
    },
    "id": "JF8dznV0Tb9r",
    "outputId": "76ea09a6-f50c-432c-ae6b-534368f16236"
   },
   "outputs": [
    {
     "ename": "TypeError",
     "evalue": "ignored",
     "output_type": "error",
     "traceback": [
      "\u001b[0;31m---------------------------------------------------------------------------\u001b[0m",
      "\u001b[0;31mTypeError\u001b[0m                                 Traceback (most recent call last)",
      "\u001b[0;32m<ipython-input-43-dfcb521ad674>\u001b[0m in \u001b[0;36m<module>\u001b[0;34m()\u001b[0m\n\u001b[1;32m      1\u001b[0m \u001b[0;31m#Indexing doesn't work for sets, as the sets are unordered => no element from a set can be changed.\u001b[0m\u001b[0;34m\u001b[0m\u001b[0;34m\u001b[0m\u001b[0;34m\u001b[0m\u001b[0m\n\u001b[0;32m----> 2\u001b[0;31m \u001b[0mprint\u001b[0m\u001b[0;34m(\u001b[0m\u001b[0mpianoComposers\u001b[0m\u001b[0;34m[\u001b[0m\u001b[0;36m0\u001b[0m\u001b[0;34m]\u001b[0m\u001b[0;34m)\u001b[0m\u001b[0;34m;\u001b[0m\u001b[0;34m\u001b[0m\u001b[0;34m\u001b[0m\u001b[0m\n\u001b[0m",
      "\u001b[0;31mTypeError\u001b[0m: 'set' object is not subscriptable"
     ]
    }
   ],
   "source": [
    "#Indexing doesn't work for sets, as the sets are unordered => no element from a set can be changed.\n",
    "print(pianoComposers[0]);"
   ]
  },
  {
   "cell_type": "code",
   "execution_count": null,
   "metadata": {
    "colab": {
     "base_uri": "https://localhost:8080/",
     "height": 186
    },
    "executionInfo": {
     "elapsed": 480,
     "status": "error",
     "timestamp": 1639123642197,
     "user": {
      "displayName": "Rohan",
      "photoUrl": "https://lh3.googleusercontent.com/a/default-user=s64",
      "userId": "00954367962916090040"
     },
     "user_tz": -330
    },
    "id": "cFmED-ZKYbLS",
    "outputId": "a7ddc4d4-6b74-4e75-cd74-a42093e6cbb2"
   },
   "outputs": [
    {
     "ename": "AttributeError",
     "evalue": "ignored",
     "output_type": "error",
     "traceback": [
      "\u001b[0;31m---------------------------------------------------------------------------\u001b[0m",
      "\u001b[0;31mAttributeError\u001b[0m                            Traceback (most recent call last)",
      "\u001b[0;32m<ipython-input-44-c14eceada115>\u001b[0m in \u001b[0;36m<module>\u001b[0;34m()\u001b[0m\n\u001b[1;32m      1\u001b[0m \u001b[0;31m# This won't work either for the same reason above\u001b[0m\u001b[0;34m\u001b[0m\u001b[0;34m\u001b[0m\u001b[0;34m\u001b[0m\u001b[0m\n\u001b[0;32m----> 2\u001b[0;31m \u001b[0mprint\u001b[0m\u001b[0;34m(\u001b[0m\u001b[0mpianoComposers\u001b[0m\u001b[0;34m.\u001b[0m\u001b[0mindex\u001b[0m\u001b[0;34m(\u001b[0m\u001b[0;34m'Liszt'\u001b[0m\u001b[0;34m)\u001b[0m\u001b[0;34m)\u001b[0m\u001b[0;34m;\u001b[0m\u001b[0;34m\u001b[0m\u001b[0;34m\u001b[0m\u001b[0m\n\u001b[0m",
      "\u001b[0;31mAttributeError\u001b[0m: 'set' object has no attribute 'index'"
     ]
    }
   ],
   "source": [
    "# This won't work either for the same reason above\n",
    "print(pianoComposers.index('Liszt'));"
   ]
  },
  {
   "cell_type": "code",
   "execution_count": null,
   "metadata": {
    "colab": {
     "base_uri": "https://localhost:8080/"
    },
    "executionInfo": {
     "elapsed": 469,
     "status": "ok",
     "timestamp": 1639123396473,
     "user": {
      "displayName": "Rohan",
      "photoUrl": "https://lh3.googleusercontent.com/a/default-user=s64",
      "userId": "00954367962916090040"
     },
     "user_tz": -330
    },
    "id": "HlLyYsftXaJp",
    "outputId": "5784d99d-282a-46f7-ec01-20a4e63bed62"
   },
   "outputs": [
    {
     "name": "stdout",
     "output_type": "stream",
     "text": [
      "True\n"
     ]
    }
   ],
   "source": [
    "# However, we can check if an element is present in a set\n",
    "print('Chopin' in pianoComposers);"
   ]
  },
  {
   "cell_type": "code",
   "execution_count": null,
   "metadata": {
    "colab": {
     "base_uri": "https://localhost:8080/"
    },
    "executionInfo": {
     "elapsed": 465,
     "status": "ok",
     "timestamp": 1639123134163,
     "user": {
      "displayName": "Rohan",
      "photoUrl": "https://lh3.googleusercontent.com/a/default-user=s64",
      "userId": "00954367962916090040"
     },
     "user_tz": -330
    },
    "id": "qeSvdi5sV4Fn",
    "outputId": "d704353c-5ae8-48de-9de9-ee0e596a5d03"
   },
   "outputs": [
    {
     "name": "stdout",
     "output_type": "stream",
     "text": [
      "{'Beethoven', 'Debussy', 'Liszt', 'Chopin', 'Mozart', 'Joplin'}\n"
     ]
    }
   ],
   "source": [
    "#Although, all elements of a set are immutable themselves, the set itself is mutable.\n",
    "#Elements can be added or removed from a set\n",
    "pianoComposers.remove('Satie'); # Doesn't return anything.\n",
    "print(pianoComposers);"
   ]
  },
  {
   "cell_type": "code",
   "execution_count": null,
   "metadata": {
    "colab": {
     "base_uri": "https://localhost:8080/"
    },
    "executionInfo": {
     "elapsed": 2,
     "status": "ok",
     "timestamp": 1639123216034,
     "user": {
      "displayName": "Rohan",
      "photoUrl": "https://lh3.googleusercontent.com/a/default-user=s64",
      "userId": "00954367962916090040"
     },
     "user_tz": -330
    },
    "id": "jv3r_6afWiIX",
    "outputId": "18e25347-e0ac-4392-c712-dc0292ce1378"
   },
   "outputs": [
    {
     "name": "stdout",
     "output_type": "stream",
     "text": [
      "{'Beethoven', 'Debussy', 'Liszt', 'Chopin', 'Mozart', 'Satie', 'Joplin'}\n"
     ]
    }
   ],
   "source": [
    "pianoComposers.add('Satie'); # Again, doesn't return anything\n",
    "print(pianoComposers);"
   ]
  },
  {
   "cell_type": "code",
   "execution_count": null,
   "metadata": {
    "colab": {
     "base_uri": "https://localhost:8080/"
    },
    "executionInfo": {
     "elapsed": 488,
     "status": "ok",
     "timestamp": 1639123324156,
     "user": {
      "displayName": "Rohan",
      "photoUrl": "https://lh3.googleusercontent.com/a/default-user=s64",
      "userId": "00954367962916090040"
     },
     "user_tz": -330
    },
    "id": "N5oK7ej7W2DH",
    "outputId": "36582d06-eccc-4281-df4f-a7c58ff59faa"
   },
   "outputs": [
    {
     "name": "stdout",
     "output_type": "stream",
     "text": [
      "{'blue', 'red', 'yellow', 'green'}\n"
     ]
    }
   ],
   "source": [
    "# Because sets have only unique elements, repeated elements also get stored only once.\n",
    "colors = {'red', 'blue', 'green', 'yellow', 'red', 'blue'};\n",
    "print(colors); # {'blue', 'red', 'yellow', 'green'}"
   ]
  },
  {
   "cell_type": "code",
   "execution_count": null,
   "metadata": {
    "colab": {
     "base_uri": "https://localhost:8080/"
    },
    "executionInfo": {
     "elapsed": 465,
     "status": "ok",
     "timestamp": 1639123991260,
     "user": {
      "displayName": "Rohan",
      "photoUrl": "https://lh3.googleusercontent.com/a/default-user=s64",
      "userId": "00954367962916090040"
     },
     "user_tz": -330
    },
    "id": "U0lQI8jgXQhH",
    "outputId": "0f58fd99-919e-4822-b1af-62c1e99dd834"
   },
   "outputs": [
    {
     "name": "stdout",
     "output_type": "stream",
     "text": [
      "{'Beethoven', 'Debussy', 'Liszt', 'Mozart'}\n"
     ]
    }
   ],
   "source": [
    "print(pianoComposers.intersection(orchestralComposers));"
   ]
  },
  {
   "cell_type": "code",
   "execution_count": null,
   "metadata": {
    "colab": {
     "base_uri": "https://localhost:8080/"
    },
    "executionInfo": {
     "elapsed": 2,
     "status": "ok",
     "timestamp": 1639123993146,
     "user": {
      "displayName": "Rohan",
      "photoUrl": "https://lh3.googleusercontent.com/a/default-user=s64",
      "userId": "00954367962916090040"
     },
     "user_tz": -330
    },
    "id": "8M-tJYV2YmGp",
    "outputId": "bac3b09f-e00a-4fae-e624-128ff32ced0c"
   },
   "outputs": [
    {
     "name": "stdout",
     "output_type": "stream",
     "text": [
      "{'Beethoven', 'Debussy', 'Liszt', 'Mozart'}\n"
     ]
    }
   ],
   "source": [
    "print(orchestralComposers.intersection(pianoComposers));"
   ]
  },
  {
   "cell_type": "code",
   "execution_count": null,
   "metadata": {
    "colab": {
     "base_uri": "https://localhost:8080/"
    },
    "executionInfo": {
     "elapsed": 481,
     "status": "ok",
     "timestamp": 1639123987944,
     "user": {
      "displayName": "Rohan",
      "photoUrl": "https://lh3.googleusercontent.com/a/default-user=s64",
      "userId": "00954367962916090040"
     },
     "user_tz": -330
    },
    "id": "21qlKkeUYrf5",
    "outputId": "61f972f2-6bc0-4ca8-9e1f-5629488a7991"
   },
   "outputs": [
    {
     "name": "stdout",
     "output_type": "stream",
     "text": [
      "{'Beethoven', 'Debussy', 'Liszt', 'Wagner', 'Chopin', 'Sibelius', 'Mozart', 'Satie', 'Joplin'}\n"
     ]
    }
   ],
   "source": [
    "print(pianoComposers.union(orchestralComposers)); # All Composers"
   ]
  },
  {
   "cell_type": "code",
   "execution_count": null,
   "metadata": {
    "colab": {
     "base_uri": "https://localhost:8080/"
    },
    "executionInfo": {
     "elapsed": 625,
     "status": "ok",
     "timestamp": 1639124478070,
     "user": {
      "displayName": "Rohan",
      "photoUrl": "https://lh3.googleusercontent.com/a/default-user=s64",
      "userId": "00954367962916090040"
     },
     "user_tz": -330
    },
    "id": "cV4AgEf0ZnvL",
    "outputId": "12fdbcc2-b754-4e06-dc7c-34ea45d61db9"
   },
   "outputs": [
    {
     "name": "stdout",
     "output_type": "stream",
     "text": [
      "{0, 1, 2, 3, 4, 5, 6, 7, 8, 9, 10, 11, 12, 13, 14}\n"
     ]
    }
   ],
   "source": [
    "print(set(range(15))); # Looks like ordered, but isn't."
   ]
  },
  {
   "cell_type": "markdown",
   "metadata": {
    "id": "nb6fWv26cCb-"
   },
   "source": [
    "**Experiment to find efficiency in searching amongst different data types**"
   ]
  },
  {
   "cell_type": "code",
   "execution_count": 4,
   "metadata": {
    "colab": {
     "base_uri": "https://localhost:8080/"
    },
    "executionInfo": {
     "elapsed": 9310,
     "status": "ok",
     "timestamp": 1671439229960,
     "user": {
      "displayName": "Rohan",
      "userId": "00954367962916090040"
     },
     "user_tz": -330
    },
    "id": "Gviz3ueHblR-",
    "outputId": "2ae043a5-cd90-4e2f-cdeb-49036268c0d4"
   },
   "outputs": [
    {
     "name": "stdout",
     "output_type": "stream",
     "text": [
      "912 ms ± 190 ms per loop (mean ± std. dev. of 10 runs, 1 loop each)\n"
     ]
    }
   ],
   "source": [
    "%%timeit -n1 -r10\n",
    "myList = list(range(10000));\n",
    "# Looping 10000 times as otherwise, time is of the order of 10^-6 seconds, and accuracy is hampered.\n",
    "for i in range(10000):\n",
    "    isPresent = 5050 in myList;\n"
   ]
  },
  {
   "cell_type": "code",
   "execution_count": 5,
   "metadata": {
    "colab": {
     "base_uri": "https://localhost:8080/"
    },
    "executionInfo": {
     "elapsed": 7197,
     "status": "ok",
     "timestamp": 1671439286797,
     "user": {
      "displayName": "Rohan",
      "userId": "00954367962916090040"
     },
     "user_tz": -330
    },
    "id": "7ku6Liwucf5H",
    "outputId": "4a70834c-2c37-4bb6-f7b0-a4190ad2ca4a"
   },
   "outputs": [
    {
     "name": "stdout",
     "output_type": "stream",
     "text": [
      "673 ms ± 9.52 ms per loop (mean ± std. dev. of 10 runs, 1 loop each)\n"
     ]
    }
   ],
   "source": [
    "%%timeit -n1 -r10\n",
    "myTuple = tuple(range(10000));\n",
    "for i in range(10000):\n",
    "    isPresent = 5050 in myTuple;"
   ]
  },
  {
   "cell_type": "code",
   "execution_count": 6,
   "metadata": {
    "colab": {
     "base_uri": "https://localhost:8080/"
    },
    "executionInfo": {
     "elapsed": 403,
     "status": "ok",
     "timestamp": 1671439291101,
     "user": {
      "displayName": "Rohan",
      "userId": "00954367962916090040"
     },
     "user_tz": -330
    },
    "id": "h5vksoxzco5y",
    "outputId": "2851554d-ea31-46cf-ae99-d3c53f16a72e"
   },
   "outputs": [
    {
     "name": "stdout",
     "output_type": "stream",
     "text": [
      "1.81 ms ± 297 µs per loop (mean ± std. dev. of 10 runs, 1 loop each)\n"
     ]
    }
   ],
   "source": [
    "%%timeit -n1 -r10\n",
    "mySet= set(range(10000));\n",
    "for i in range(10000):\n",
    "    isPresent = 5050 in mySet;"
   ]
  },
  {
   "cell_type": "markdown",
   "metadata": {
    "id": "ahgb8X9ecwm2"
   },
   "source": [
    "<b> Shows that searching in sets is much faster than in lists or tuples, the latter being almost equally efficient in searching.<b><br>\n",
    "This is because in lists/tuples, elements can be repeated, which would require more time for searching, whereas in sets, elements are not repeated making searching much faster."
   ]
  },
  {
   "cell_type": "markdown",
   "metadata": {
    "id": "Lc5fu5FNh9kY"
   },
   "source": [
    "# Dictionary"
   ]
  },
  {
   "cell_type": "markdown",
   "metadata": {
    "id": "7QpPLmNXiCsL"
   },
   "source": [
    "In a dictionary, we have words and their corresponding meanings. We can think of it as a mapping between words and meanings.\n",
    "Similarly, here, dictionary data type is nothing but a mapping between keys and corresponding values."
   ]
  },
  {
   "cell_type": "code",
   "execution_count": null,
   "metadata": {
    "id": "7BcDRyr9iA4T"
   },
   "outputs": [],
   "source": [
    "ages = {                    # Keys have to be in string format\n",
    "    'rohan': 24,\n",
    "    'avitrr': 25,\n",
    "    'vedant': 24, \n",
    "    'dakshesh': 23\n",
    "};"
   ]
  },
  {
   "cell_type": "code",
   "execution_count": null,
   "metadata": {
    "colab": {
     "base_uri": "https://localhost:8080/"
    },
    "executionInfo": {
     "elapsed": 484,
     "status": "ok",
     "timestamp": 1639160288977,
     "user": {
      "displayName": "Rohan",
      "photoUrl": "https://lh3.googleusercontent.com/a/default-user=s64",
      "userId": "00954367962916090040"
     },
     "user_tz": -330
    },
    "id": "Qmt-t4--jiVg",
    "outputId": "047ac83c-e02a-44ea-e618-8898eac2910e"
   },
   "outputs": [
    {
     "name": "stdout",
     "output_type": "stream",
     "text": [
      "24\n"
     ]
    }
   ],
   "source": [
    "print(ages['rohan']);"
   ]
  },
  {
   "cell_type": "code",
   "execution_count": null,
   "metadata": {
    "id": "-eIvnujrkN0t"
   },
   "outputs": [],
   "source": [
    "ages['sharat'] = 24;"
   ]
  },
  {
   "cell_type": "code",
   "execution_count": null,
   "metadata": {
    "colab": {
     "base_uri": "https://localhost:8080/"
    },
    "executionInfo": {
     "elapsed": 527,
     "status": "ok",
     "timestamp": 1639160740643,
     "user": {
      "displayName": "Rohan",
      "photoUrl": "https://lh3.googleusercontent.com/a/default-user=s64",
      "userId": "00954367962916090040"
     },
     "user_tz": -330
    },
    "id": "yCHRqMerl9Zi",
    "outputId": "90c23de3-309f-435a-f3ec-9829e2549cd6"
   },
   "outputs": [
    {
     "name": "stdout",
     "output_type": "stream",
     "text": [
      "{'rohan': 24, 'avitrr': 25, 'vedant': 24, 'dakshesh': 23, 'sharat': 24}\n"
     ]
    }
   ],
   "source": [
    "print(ages);"
   ]
  },
  {
   "cell_type": "code",
   "execution_count": null,
   "metadata": {
    "colab": {
     "base_uri": "https://localhost:8080/"
    },
    "executionInfo": {
     "elapsed": 629,
     "status": "ok",
     "timestamp": 1639160883901,
     "user": {
      "displayName": "Rohan",
      "photoUrl": "https://lh3.googleusercontent.com/a/default-user=s64",
      "userId": "00954367962916090040"
     },
     "user_tz": -330
    },
    "id": "y0HVQnlOl_VC",
    "outputId": "ada73c47-ee57-425f-94f1-3ac14bd14582"
   },
   "outputs": [
    {
     "name": "stdout",
     "output_type": "stream",
     "text": [
      "rohan : 24\n",
      "avitrr : 25\n",
      "vedant : 24\n",
      "dakshesh : 23\n",
      "sharat : 24\n"
     ]
    }
   ],
   "source": [
    "# Traversing through dictionary\n",
    "for key in ages:\n",
    "    print(key, ':', ages[key]);\n"
   ]
  },
  {
   "cell_type": "code",
   "execution_count": null,
   "metadata": {
    "colab": {
     "base_uri": "https://localhost:8080/",
     "height": 168
    },
    "executionInfo": {
     "elapsed": 566,
     "status": "error",
     "timestamp": 1639160899665,
     "user": {
      "displayName": "Rohan",
      "photoUrl": "https://lh3.googleusercontent.com/a/default-user=s64",
      "userId": "00954367962916090040"
     },
     "user_tz": -330
    },
    "id": "r7EePKcwmiVj",
    "outputId": "88f34015-76c6-4d04-bf1d-5b16e456420a"
   },
   "outputs": [
    {
     "ename": "KeyError",
     "evalue": "ignored",
     "output_type": "error",
     "traceback": [
      "\u001b[0;31m---------------------------------------------------------------------------\u001b[0m",
      "\u001b[0;31mKeyError\u001b[0m                                  Traceback (most recent call last)",
      "\u001b[0;32m<ipython-input-8-e9d097112f98>\u001b[0m in \u001b[0;36m<module>\u001b[0;34m()\u001b[0m\n\u001b[0;32m----> 1\u001b[0;31m \u001b[0mages\u001b[0m\u001b[0;34m[\u001b[0m\u001b[0;36m0\u001b[0m\u001b[0;34m]\u001b[0m\u001b[0;34m\u001b[0m\u001b[0;34m\u001b[0m\u001b[0m\n\u001b[0m",
      "\u001b[0;31mKeyError\u001b[0m: 0"
     ]
    }
   ],
   "source": [
    "ages[0] # This type of indexing won't work. [] is not used for keys"
   ]
  },
  {
   "cell_type": "code",
   "execution_count": null,
   "metadata": {
    "colab": {
     "base_uri": "https://localhost:8080/"
    },
    "executionInfo": {
     "elapsed": 539,
     "status": "ok",
     "timestamp": 1639160988787,
     "user": {
      "displayName": "Rohan",
      "photoUrl": "https://lh3.googleusercontent.com/a/default-user=s64",
      "userId": "00954367962916090040"
     },
     "user_tz": -330
    },
    "id": "5IYmuCeWmmMV",
    "outputId": "105bf87a-3021-4e98-8063-e862ed38e1df"
   },
   "outputs": [
    {
     "name": "stdout",
     "output_type": "stream",
     "text": [
      "True\n"
     ]
    }
   ],
   "source": [
    "print('rohan' in ages) # To check if a key exists"
   ]
  },
  {
   "cell_type": "code",
   "execution_count": null,
   "metadata": {
    "colab": {
     "base_uri": "https://localhost:8080/",
     "height": 168
    },
    "executionInfo": {
     "elapsed": 510,
     "status": "error",
     "timestamp": 1639161018780,
     "user": {
      "displayName": "Rohan",
      "photoUrl": "https://lh3.googleusercontent.com/a/default-user=s64",
      "userId": "00954367962916090040"
     },
     "user_tz": -330
    },
    "id": "Z5AO1VvUm7xg",
    "outputId": "1c6d724f-f42c-4efe-a1f0-100e00c2d7e7"
   },
   "outputs": [
    {
     "ename": "AttributeError",
     "evalue": "ignored",
     "output_type": "error",
     "traceback": [
      "\u001b[0;31m---------------------------------------------------------------------------\u001b[0m",
      "\u001b[0;31mAttributeError\u001b[0m                            Traceback (most recent call last)",
      "\u001b[0;32m<ipython-input-10-0042170c2b27>\u001b[0m in \u001b[0;36m<module>\u001b[0;34m()\u001b[0m\n\u001b[0;32m----> 1\u001b[0;31m \u001b[0mprint\u001b[0m\u001b[0;34m(\u001b[0m\u001b[0mages\u001b[0m\u001b[0;34m.\u001b[0m\u001b[0mindex\u001b[0m\u001b[0;34m(\u001b[0m\u001b[0;34m'rohan'\u001b[0m\u001b[0;34m)\u001b[0m\u001b[0;34m)\u001b[0m\u001b[0;34m\u001b[0m\u001b[0;34m\u001b[0m\u001b[0m\n\u001b[0m",
      "\u001b[0;31mAttributeError\u001b[0m: 'dict' object has no attribute 'index'"
     ]
    }
   ],
   "source": [
    "print(ages.index('rohan')); # Implies that there is no sense of order in dictionary"
   ]
  },
  {
   "cell_type": "code",
   "execution_count": null,
   "metadata": {
    "colab": {
     "base_uri": "https://localhost:8080/"
    },
    "executionInfo": {
     "elapsed": 503,
     "status": "ok",
     "timestamp": 1639161150314,
     "user": {
      "displayName": "Rohan",
      "photoUrl": "https://lh3.googleusercontent.com/a/default-user=s64",
      "userId": "00954367962916090040"
     },
     "user_tz": -330
    },
    "id": "jhQVlXkCnDSy",
    "outputId": "9d95fb3e-3369-4d80-9087-7a8864b0bf6a"
   },
   "outputs": [
    {
     "name": "stdout",
     "output_type": "stream",
     "text": [
      "dict_keys(['rohan', 'avitrr', 'vedant', 'dakshesh', 'sharat'])\n"
     ]
    }
   ],
   "source": [
    "print(ages.keys()); # Returns keys of a dictionary"
   ]
  },
  {
   "cell_type": "code",
   "execution_count": null,
   "metadata": {
    "colab": {
     "base_uri": "https://localhost:8080/"
    },
    "executionInfo": {
     "elapsed": 524,
     "status": "ok",
     "timestamp": 1639161177409,
     "user": {
      "displayName": "Rohan",
      "photoUrl": "https://lh3.googleusercontent.com/a/default-user=s64",
      "userId": "00954367962916090040"
     },
     "user_tz": -330
    },
    "id": "vA5cz7CmnjZi",
    "outputId": "9fa35242-d7d3-4d0e-d7a8-b1069dfe7c96"
   },
   "outputs": [
    {
     "name": "stdout",
     "output_type": "stream",
     "text": [
      "<class 'dict_keys'>\n"
     ]
    }
   ],
   "source": [
    "print(type(ages.keys())); # Return data type of above statement is 'dict_keys', not list, tuple or set"
   ]
  },
  {
   "cell_type": "code",
   "execution_count": null,
   "metadata": {
    "colab": {
     "base_uri": "https://localhost:8080/"
    },
    "executionInfo": {
     "elapsed": 505,
     "status": "ok",
     "timestamp": 1639202192941,
     "user": {
      "displayName": "Rohan",
      "photoUrl": "https://lh3.googleusercontent.com/a/default-user=s64",
      "userId": "00954367962916090040"
     },
     "user_tz": -330
    },
    "id": "L1cVF95UD79g",
    "outputId": "c1fa7ed8-d9a8-4214-95ee-a2f24b220769"
   },
   "outputs": [
    {
     "name": "stdout",
     "output_type": "stream",
     "text": [
      "26\n"
     ]
    }
   ],
   "source": [
    "print(ages.get('rohan1', 26)); # dict.get(key, default), return the value for key if key is in the dictionary, else default."
   ]
  },
  {
   "cell_type": "code",
   "execution_count": null,
   "metadata": {
    "id": "t6etlgbrnp4F"
   },
   "outputs": [],
   "source": [
    "# To create a database consisting of many dictionaries, we can create a list, tuple or a set of dictionaries (mappings);\n",
    "# Below is a list of employee records. Each record is a dictionary or a mapping in itself.\n",
    "employeeRecords = [\n",
    "    {\n",
    "        'name': 'Rohan',\n",
    "        'role': 'Engineer1',\n",
    "        'workEx': 1\n",
    "    },\n",
    "\n",
    "    {\n",
    "        'name': 'Raman',\n",
    "        'role': 'Associate Architect',\n",
    "        'workEx': 8\n",
    "    },\n",
    "\n",
    "    {\n",
    "        'name': 'Pankaj',\n",
    "        'role': 'Senior Technical Artist',\n",
    "        'workEx': 8\n",
    "    },                    \n",
    "];"
   ]
  },
  {
   "cell_type": "code",
   "execution_count": null,
   "metadata": {
    "colab": {
     "base_uri": "https://localhost:8080/"
    },
    "executionInfo": {
     "elapsed": 529,
     "status": "ok",
     "timestamp": 1639162168151,
     "user": {
      "displayName": "Rohan",
      "photoUrl": "https://lh3.googleusercontent.com/a/default-user=s64",
      "userId": "00954367962916090040"
     },
     "user_tz": -330
    },
    "id": "p5DN1Bs-oi9J",
    "outputId": "1a822641-9e71-4fdb-c7fd-05cea4fc6739"
   },
   "outputs": [
    {
     "name": "stdout",
     "output_type": "stream",
     "text": [
      "Rohan\n"
     ]
    }
   ],
   "source": [
    "print(employeeRecords[0]['name'])"
   ]
  },
  {
   "cell_type": "code",
   "execution_count": null,
   "metadata": {
    "colab": {
     "base_uri": "https://localhost:8080/",
     "height": 168
    },
    "executionInfo": {
     "elapsed": 670,
     "status": "error",
     "timestamp": 1639162177931,
     "user": {
      "displayName": "Rohan",
      "photoUrl": "https://lh3.googleusercontent.com/a/default-user=s64",
      "userId": "00954367962916090040"
     },
     "user_tz": -330
    },
    "id": "E0rXd0W_rdu6",
    "outputId": "e52a519f-27d5-4a1b-99b8-aaf070e38cbf"
   },
   "outputs": [
    {
     "ename": "KeyError",
     "evalue": "ignored",
     "output_type": "error",
     "traceback": [
      "\u001b[0;31m---------------------------------------------------------------------------\u001b[0m",
      "\u001b[0;31mKeyError\u001b[0m                                  Traceback (most recent call last)",
      "\u001b[0;32m<ipython-input-21-40a1496c5e55>\u001b[0m in \u001b[0;36m<module>\u001b[0;34m()\u001b[0m\n\u001b[0;32m----> 1\u001b[0;31m \u001b[0mprint\u001b[0m\u001b[0;34m(\u001b[0m\u001b[0memployeeRecords\u001b[0m\u001b[0;34m[\u001b[0m\u001b[0;36m0\u001b[0m\u001b[0;34m]\u001b[0m\u001b[0;34m[\u001b[0m\u001b[0;34m'id'\u001b[0m\u001b[0;34m]\u001b[0m\u001b[0;34m)\u001b[0m\u001b[0;34m\u001b[0m\u001b[0;34m\u001b[0m\u001b[0m\n\u001b[0m",
      "\u001b[0;31mKeyError\u001b[0m: 'id'"
     ]
    }
   ],
   "source": [
    "print(employeeRecords[0]['id'])"
   ]
  },
  {
   "cell_type": "markdown",
   "metadata": {
    "id": "Jns2DFL7qAfV"
   },
   "source": [
    "## **Dictionary Assignment**"
   ]
  },
  {
   "cell_type": "code",
   "execution_count": 7,
   "metadata": {
    "colab": {
     "base_uri": "https://localhost:8080/"
    },
    "executionInfo": {
     "elapsed": 408,
     "status": "ok",
     "timestamp": 1671447914351,
     "user": {
      "displayName": "Rohan",
      "userId": "00954367962916090040"
     },
     "user_tz": -330
    },
    "id": "0ovrWJ7-pzIn",
    "outputId": "86782dd6-9fd4-497a-acd5-4b5d17f17d08"
   },
   "outputs": [
    {
     "name": "stdout",
     "output_type": "stream",
     "text": [
      "False\n"
     ]
    }
   ],
   "source": [
    "placeCoordinateMap = {\n",
    "    'delhi': [28.704060, 77.102493],\n",
    "    'mumbai': [19.075983, 72.877655],\n",
    "    'kolkata': [22.572645, 88.363892],\n",
    "    'jaipur': [26.912434, 75.787270],\n",
    "    'Chennai': [13.082680, 80.270721],\n",
    "};\n",
    "print('london' in  placeCoordinateMap);"
   ]
  },
  {
   "cell_type": "code",
   "execution_count": 8,
   "metadata": {
    "executionInfo": {
     "elapsed": 7,
     "status": "ok",
     "timestamp": 1671447915023,
     "user": {
      "displayName": "Rohan",
      "userId": "00954367962916090040"
     },
     "user_tz": -330
    },
    "id": "ENwRsf8h82nc"
   },
   "outputs": [],
   "source": [
    "def findCoordFromPlaceName(strList):\n",
    "    for word in strList:\n",
    "        if(word.lower() in placeCoordinateMap):\n",
    "            return placeCoordinateMap[word.lower()];\n",
    "    return 0;\n"
   ]
  },
  {
   "cell_type": "code",
   "execution_count": 11,
   "metadata": {
    "executionInfo": {
     "elapsed": 405,
     "status": "ok",
     "timestamp": 1671450382431,
     "user": {
      "displayName": "Rohan",
      "userId": "00954367962916090040"
     },
     "user_tz": -330
    },
    "id": "dq91GJ6g9n_J"
   },
   "outputs": [],
   "source": [
    "def findPlaceCoordFromSentence():\n",
    "    sentence = input('Where did you go for holiday last summer?');\n",
    "    strList = sentence.split();\n",
    "    coordinates = findCoordFromPlaceName(strList);\n",
    "    if(coordinates == 0):\n",
    "        print('I don\\'t know where you went');\n",
    "        return;\n",
    "    print('You went to these coordinates last summer :-', coordinates);"
   ]
  },
  {
   "cell_type": "code",
   "execution_count": 10,
   "metadata": {
    "colab": {
     "base_uri": "https://localhost:8080/",
     "height": 311
    },
    "executionInfo": {
     "elapsed": 3653,
     "status": "error",
     "timestamp": 1671447918671,
     "user": {
      "displayName": "Rohan",
      "userId": "00954367962916090040"
     },
     "user_tz": -330
    },
    "id": "oL6xmMlL-R1-",
    "outputId": "db83b805-dec0-4e34-bcb4-a9ae2c0a1e17"
   },
   "outputs": [
    {
     "ename": "KeyboardInterrupt",
     "evalue": "ignored",
     "output_type": "error",
     "traceback": [
      "\u001b[0;31m---------------------------------------------------------------------------\u001b[0m",
      "\u001b[0;31mKeyboardInterrupt\u001b[0m                         Traceback (most recent call last)",
      "\u001b[0;32m<ipython-input-10-579294655fe9>\u001b[0m in \u001b[0;36m<module>\u001b[0;34m\u001b[0m\n\u001b[0;32m----> 1\u001b[0;31m \u001b[0mfindPlaceCoordFromSentence\u001b[0m\u001b[0;34m(\u001b[0m\u001b[0;34m)\u001b[0m\u001b[0;34m\u001b[0m\u001b[0;34m\u001b[0m\u001b[0m\n\u001b[0m",
      "\u001b[0;32m<ipython-input-9-ccb616fcd84e>\u001b[0m in \u001b[0;36mfindPlaceCoordFromSentence\u001b[0;34m()\u001b[0m\n\u001b[1;32m      1\u001b[0m \u001b[0;32mdef\u001b[0m \u001b[0mfindPlaceCoordFromSentence\u001b[0m\u001b[0;34m(\u001b[0m\u001b[0;34m)\u001b[0m\u001b[0;34m:\u001b[0m\u001b[0;34m\u001b[0m\u001b[0;34m\u001b[0m\u001b[0m\n\u001b[0;32m----> 2\u001b[0;31m     \u001b[0msentence\u001b[0m \u001b[0;34m=\u001b[0m \u001b[0minput\u001b[0m\u001b[0;34m(\u001b[0m\u001b[0;34m'Where did you go for holiday last summer?'\u001b[0m\u001b[0;34m)\u001b[0m\u001b[0;34m;\u001b[0m\u001b[0;34m\u001b[0m\u001b[0;34m\u001b[0m\u001b[0m\n\u001b[0m\u001b[1;32m      3\u001b[0m     \u001b[0mstrList\u001b[0m \u001b[0;34m=\u001b[0m \u001b[0msentence\u001b[0m\u001b[0;34m.\u001b[0m\u001b[0msplit\u001b[0m\u001b[0;34m(\u001b[0m\u001b[0;34m)\u001b[0m\u001b[0;34m;\u001b[0m\u001b[0;34m\u001b[0m\u001b[0;34m\u001b[0m\u001b[0m\n\u001b[1;32m      4\u001b[0m     \u001b[0mcoordinates\u001b[0m \u001b[0;34m=\u001b[0m \u001b[0mfindCoordFromPlaceName\u001b[0m\u001b[0;34m(\u001b[0m\u001b[0mstrList\u001b[0m\u001b[0;34m)\u001b[0m\u001b[0;34m;\u001b[0m\u001b[0;34m\u001b[0m\u001b[0;34m\u001b[0m\u001b[0m\n\u001b[1;32m      5\u001b[0m     \u001b[0;32mif\u001b[0m\u001b[0;34m(\u001b[0m\u001b[0mcoordinates\u001b[0m \u001b[0;34m==\u001b[0m \u001b[0;36m0\u001b[0m\u001b[0;34m)\u001b[0m\u001b[0;34m:\u001b[0m\u001b[0;34m\u001b[0m\u001b[0;34m\u001b[0m\u001b[0m\n",
      "\u001b[0;32m/usr/local/lib/python3.8/dist-packages/ipykernel/kernelbase.py\u001b[0m in \u001b[0;36mraw_input\u001b[0;34m(self, prompt)\u001b[0m\n\u001b[1;32m    858\u001b[0m                 \u001b[0;34m\"raw_input was called, but this frontend does not support input requests.\"\u001b[0m\u001b[0;34m\u001b[0m\u001b[0;34m\u001b[0m\u001b[0m\n\u001b[1;32m    859\u001b[0m             )\n\u001b[0;32m--> 860\u001b[0;31m         return self._input_request(str(prompt),\n\u001b[0m\u001b[1;32m    861\u001b[0m             \u001b[0mself\u001b[0m\u001b[0;34m.\u001b[0m\u001b[0m_parent_ident\u001b[0m\u001b[0;34m,\u001b[0m\u001b[0;34m\u001b[0m\u001b[0;34m\u001b[0m\u001b[0m\n\u001b[1;32m    862\u001b[0m             \u001b[0mself\u001b[0m\u001b[0;34m.\u001b[0m\u001b[0m_parent_header\u001b[0m\u001b[0;34m,\u001b[0m\u001b[0;34m\u001b[0m\u001b[0;34m\u001b[0m\u001b[0m\n",
      "\u001b[0;32m/usr/local/lib/python3.8/dist-packages/ipykernel/kernelbase.py\u001b[0m in \u001b[0;36m_input_request\u001b[0;34m(self, prompt, ident, parent, password)\u001b[0m\n\u001b[1;32m    902\u001b[0m             \u001b[0;32mexcept\u001b[0m \u001b[0mKeyboardInterrupt\u001b[0m\u001b[0;34m:\u001b[0m\u001b[0;34m\u001b[0m\u001b[0;34m\u001b[0m\u001b[0m\n\u001b[1;32m    903\u001b[0m                 \u001b[0;31m# re-raise KeyboardInterrupt, to truncate traceback\u001b[0m\u001b[0;34m\u001b[0m\u001b[0;34m\u001b[0m\u001b[0;34m\u001b[0m\u001b[0m\n\u001b[0;32m--> 904\u001b[0;31m                 \u001b[0;32mraise\u001b[0m \u001b[0mKeyboardInterrupt\u001b[0m\u001b[0;34m(\u001b[0m\u001b[0;34m\"Interrupted by user\"\u001b[0m\u001b[0;34m)\u001b[0m \u001b[0;32mfrom\u001b[0m \u001b[0;32mNone\u001b[0m\u001b[0;34m\u001b[0m\u001b[0;34m\u001b[0m\u001b[0m\n\u001b[0m\u001b[1;32m    905\u001b[0m             \u001b[0;32mexcept\u001b[0m \u001b[0mException\u001b[0m \u001b[0;32mas\u001b[0m \u001b[0me\u001b[0m\u001b[0;34m:\u001b[0m\u001b[0;34m\u001b[0m\u001b[0;34m\u001b[0m\u001b[0m\n\u001b[1;32m    906\u001b[0m                 \u001b[0mself\u001b[0m\u001b[0;34m.\u001b[0m\u001b[0mlog\u001b[0m\u001b[0;34m.\u001b[0m\u001b[0mwarning\u001b[0m\u001b[0;34m(\u001b[0m\u001b[0;34m\"Invalid Message:\"\u001b[0m\u001b[0;34m,\u001b[0m \u001b[0mexc_info\u001b[0m\u001b[0;34m=\u001b[0m\u001b[0;32mTrue\u001b[0m\u001b[0;34m)\u001b[0m\u001b[0;34m\u001b[0m\u001b[0;34m\u001b[0m\u001b[0m\n",
      "\u001b[0;31mKeyboardInterrupt\u001b[0m: Interrupted by user"
     ]
    }
   ],
   "source": [
    "findPlaceCoordFromSentence()"
   ]
  },
  {
   "cell_type": "markdown",
   "metadata": {
    "id": "ezotyrcwawR1"
   },
   "source": [
    "# Files Read"
   ]
  },
  {
   "cell_type": "code",
   "execution_count": null,
   "metadata": {
    "id": "ZF2OEZxhay6m"
   },
   "outputs": [],
   "source": [
    "f = open('Erlkonig.txt', 'r'); # Returns a handler to the file. This would be used to read file.\n",
    "# 'r' denotes that the handler will only be used to read the file."
   ]
  },
  {
   "cell_type": "code",
   "execution_count": null,
   "metadata": {
    "colab": {
     "base_uri": "https://localhost:8080/"
    },
    "executionInfo": {
     "elapsed": 352,
     "status": "ok",
     "timestamp": 1639230957107,
     "user": {
      "displayName": "Rohan",
      "photoUrl": "https://lh3.googleusercontent.com/a/default-user=s64",
      "userId": "00954367962916090040"
     },
     "user_tz": -330
    },
    "id": "lSGVqD_CxvSU",
    "outputId": "088f514d-7c9e-4d5d-c568-85ddbf1e33ad"
   },
   "outputs": [
    {
     "name": "stdout",
     "output_type": "stream",
     "text": [
      "<_io.TextIOWrapper name='Erlkonig.txt' mode='r' encoding='UTF-8'>\n",
      "<class '_io.TextIOWrapper'>\n"
     ]
    }
   ],
   "source": [
    "print(f);\n",
    "print(type(f))"
   ]
  },
  {
   "cell_type": "code",
   "execution_count": null,
   "metadata": {
    "id": "r_IuEbj0x2CH"
   },
   "outputs": [],
   "source": [
    "output = f.read(); # Reads everything in file and stores it in output"
   ]
  },
  {
   "cell_type": "code",
   "execution_count": null,
   "metadata": {
    "colab": {
     "base_uri": "https://localhost:8080/"
    },
    "executionInfo": {
     "elapsed": 366,
     "status": "ok",
     "timestamp": 1639231101455,
     "user": {
      "displayName": "Rohan",
      "photoUrl": "https://lh3.googleusercontent.com/a/default-user=s64",
      "userId": "00954367962916090040"
     },
     "user_tz": -330
    },
    "id": "Wvkv8rOGyYL3",
    "outputId": "76c36c17-4aaa-4438-c4b0-166b2f732eff"
   },
   "outputs": [
    {
     "name": "stdout",
     "output_type": "stream",
     "text": [
      "Erlkonig\n",
      "\n",
      "Who rides there so late through the night dark and drear?\n",
      "The father it is, with his infant so dear;\n",
      "He holdeth the boy tightly clasp'd in his arm,\n",
      "He holdeth him safely, he keepeth him warm.\n",
      "\n",
      "My son, wherefore seek'st thou thy face thus to hide? –\n",
      "Look, father, the Erl-King is close by our side!\n",
      "Dost see not the Erl-King, with crown and with train? –\n",
      "My son, 'tis the mist rising over the plain. –\n",
      "\n",
      "\"Oh, come, thou dear infant! oh come thou with me!\n",
      "For many a game I will play there with thee;\n",
      "On my strand, lovely flowers their blossoms unfold,\n",
      "My mother shall grace thee with garments of gold.\" –\n",
      "\n",
      "My father, my father, and dost thou not hear\n",
      "The words that the Erl-King now breathes in mine ear? –\n",
      "Be calm, dearest child, 'tis thy fancy deceives;\n",
      "'Tis the sad wind that sighs through the withering leaves. –\n",
      "\n",
      "\"Wilt go, then, dear infant, wilt go with me there?\n",
      "My daughters shall tend thee with sisterly care;\n",
      "My daughters by night their glad festival keep,\n",
      "They'll dance thee, and rock thee, and sing thee to sleep.\" –\n",
      "\n",
      "My father, my father, and dost thou not see,\n",
      "How the Erl-King his daughters has brought here for me? –\n",
      "My darling, my darling, I see it aright,\n",
      "'Tis the aged grey willows deceiving thy sight. –\n",
      "\n",
      "\"I love thee, I'm charm'd by thy beauty, dear boy!\n",
      "And if thou'rt unwilling, then force I'll employ.\" –\n",
      "My father, my father, he seizes me fast,\n",
      "For sorely the Erl-King has hurt me at last. –\n",
      "\n",
      "The father now gallops, with terror half wild,\n",
      "He grasps in his arms the poor shuddering child;\n",
      "He reaches his courtyard with toil and with dread, –\n",
      "The child in his arms finds he motionless, dead.\n"
     ]
    }
   ],
   "source": [
    "print(output)"
   ]
  },
  {
   "cell_type": "code",
   "execution_count": null,
   "metadata": {
    "colab": {
     "base_uri": "https://localhost:8080/"
    },
    "executionInfo": {
     "elapsed": 631,
     "status": "ok",
     "timestamp": 1639231235502,
     "user": {
      "displayName": "Rohan",
      "photoUrl": "https://lh3.googleusercontent.com/a/default-user=s64",
      "userId": "00954367962916090040"
     },
     "user_tz": -330
    },
    "id": "M7OPWkCQyZO4",
    "outputId": "ff90f5b8-0d16-4162-923f-8f4b5a9b465a"
   },
   "outputs": [
    {
     "name": "stdout",
     "output_type": "stream",
     "text": [
      "Erlkonig\n",
      "\n"
     ]
    }
   ],
   "source": [
    "# We might want to read one line at a time, while looping through the file.\n",
    "f = open('Erlkonig.txt', 'r'); # The handler reached end of the file already with previous read() command.\n",
    "# W/O this, readline() would try to print what is after the end of the file, i.e., nothing.\n",
    "out_line = f.readline();\n",
    "print(out_line);"
   ]
  },
  {
   "cell_type": "code",
   "execution_count": null,
   "metadata": {
    "colab": {
     "base_uri": "https://localhost:8080/"
    },
    "executionInfo": {
     "elapsed": 639,
     "status": "ok",
     "timestamp": 1639231319412,
     "user": {
      "displayName": "Rohan",
      "photoUrl": "https://lh3.googleusercontent.com/a/default-user=s64",
      "userId": "00954367962916090040"
     },
     "user_tz": -330
    },
    "id": "fen2igs-y6DI",
    "outputId": "6ff288b8-c9ae-4ea3-bae5-8cbc0df731bc"
   },
   "outputs": [
    {
     "name": "stdout",
     "output_type": "stream",
     "text": [
      "\n",
      "\n"
     ]
    }
   ],
   "source": [
    "#  Now the handler has reached the second line. Will print an empty line.\n",
    "out_line = f.readline();\n",
    "print(out_line);"
   ]
  },
  {
   "cell_type": "code",
   "execution_count": null,
   "metadata": {
    "colab": {
     "base_uri": "https://localhost:8080/"
    },
    "executionInfo": {
     "elapsed": 629,
     "status": "ok",
     "timestamp": 1639231339734,
     "user": {
      "displayName": "Rohan",
      "photoUrl": "https://lh3.googleusercontent.com/a/default-user=s64",
      "userId": "00954367962916090040"
     },
     "user_tz": -330
    },
    "id": "IQK-b-aUzOiB",
    "outputId": "4725e690-342b-4abf-e210-b3e7c1537d67"
   },
   "outputs": [
    {
     "name": "stdout",
     "output_type": "stream",
     "text": [
      "Who rides there so late through the night dark and drear?\n",
      "\n"
     ]
    }
   ],
   "source": [
    "out_line = f.readline();\n",
    "print(out_line);"
   ]
  },
  {
   "cell_type": "code",
   "execution_count": null,
   "metadata": {
    "colab": {
     "base_uri": "https://localhost:8080/"
    },
    "executionInfo": {
     "elapsed": 667,
     "status": "ok",
     "timestamp": 1639231466990,
     "user": {
      "displayName": "Rohan",
      "photoUrl": "https://lh3.googleusercontent.com/a/default-user=s64",
      "userId": "00954367962916090040"
     },
     "user_tz": -330
    },
    "id": "tuXrHRrGzTfz",
    "outputId": "d6aec762-c377-4ff5-8b25-873f3c9fc421"
   },
   "outputs": [
    {
     "name": "stdout",
     "output_type": "stream",
     "text": [
      "['Erlkonig\\n', '\\n', 'Who rides there so late through the night dark and drear?\\n', 'The father it is, with his infant so dear;\\n', \"He holdeth the boy tightly clasp'd in his arm,\\n\", 'He holdeth him safely, he keepeth him warm.\\n', '\\n', \"My son, wherefore seek'st thou thy face thus to hide? –\\n\", 'Look, father, the Erl-King is close by our side!\\n', 'Dost see not the Erl-King, with crown and with train? –\\n', \"My son, 'tis the mist rising over the plain. –\\n\", '\\n', '\"Oh, come, thou dear infant! oh come thou with me!\\n', 'For many a game I will play there with thee;\\n', 'On my strand, lovely flowers their blossoms unfold,\\n', 'My mother shall grace thee with garments of gold.\" –\\n', '\\n', 'My father, my father, and dost thou not hear\\n', 'The words that the Erl-King now breathes in mine ear? –\\n', \"Be calm, dearest child, 'tis thy fancy deceives;\\n\", \"'Tis the sad wind that sighs through the withering leaves. –\\n\", '\\n', '\"Wilt go, then, dear infant, wilt go with me there?\\n', 'My daughters shall tend thee with sisterly care;\\n', 'My daughters by night their glad festival keep,\\n', 'They\\'ll dance thee, and rock thee, and sing thee to sleep.\" –\\n', '\\n', 'My father, my father, and dost thou not see,\\n', 'How the Erl-King his daughters has brought here for me? –\\n', 'My darling, my darling, I see it aright,\\n', \"'Tis the aged grey willows deceiving thy sight. –\\n\", '\\n', '\"I love thee, I\\'m charm\\'d by thy beauty, dear boy!\\n', 'And if thou\\'rt unwilling, then force I\\'ll employ.\" –\\n', 'My father, my father, he seizes me fast,\\n', 'For sorely the Erl-King has hurt me at last. –\\n', '\\n', 'The father now gallops, with terror half wild,\\n', 'He grasps in his arms the poor shuddering child;\\n', 'He reaches his courtyard with toil and with dread, –\\n', 'The child in his arms finds he motionless, dead.']\n"
     ]
    }
   ],
   "source": [
    "f = open('Erlkonig.txt', 'r'); # handler reached the 3rd line.\n",
    "listOfLines = f.readlines(); # Reads all the lines and stores them in a list.\n",
    "print(listOfLines);"
   ]
  },
  {
   "cell_type": "code",
   "execution_count": null,
   "metadata": {
    "id": "vS4hqghhzyjk"
   },
   "outputs": [],
   "source": [
    "f.close();\n",
    "# Closes file, i.e., the handler f can no longer be used to perform operations on the file.\n",
    "# This is important as for the time python keeps a file open, it takes permissions from OS, which in turn can prevent other programs from accessing the file.\n",
    "# Also, memory is allocated for working with that file, which will be wasted in case we no longer require that file."
   ]
  },
  {
   "cell_type": "code",
   "execution_count": null,
   "metadata": {
    "colab": {
     "base_uri": "https://localhost:8080/"
    },
    "executionInfo": {
     "elapsed": 634,
     "status": "error",
     "timestamp": 1639231708565,
     "user": {
      "displayName": "Rohan",
      "photoUrl": "https://lh3.googleusercontent.com/a/default-user=s64",
      "userId": "00954367962916090040"
     },
     "user_tz": -330
    },
    "id": "zbKQeqQe0pqO",
    "outputId": "475777f4-c9c2-4137-fad5-7bcd9f8cb87c"
   },
   "outputs": [
    {
     "ename": "ValueError",
     "evalue": "ignored",
     "output_type": "error",
     "traceback": [
      "\u001b[0;31m---------------------------------------------------------------------------\u001b[0m",
      "\u001b[0;31mValueError\u001b[0m                                Traceback (most recent call last)",
      "\u001b[0;32m<ipython-input-12-432be0bb76e6>\u001b[0m in \u001b[0;36m<module>\u001b[0;34m()\u001b[0m\n\u001b[1;32m      1\u001b[0m \u001b[0;31m# Now, f.read() shouldn't work\u001b[0m\u001b[0;34m\u001b[0m\u001b[0;34m\u001b[0m\u001b[0;34m\u001b[0m\u001b[0m\n\u001b[0;32m----> 2\u001b[0;31m \u001b[0mf\u001b[0m\u001b[0;34m.\u001b[0m\u001b[0mread\u001b[0m\u001b[0;34m(\u001b[0m\u001b[0;34m)\u001b[0m\u001b[0;34m;\u001b[0m\u001b[0;34m\u001b[0m\u001b[0;34m\u001b[0m\u001b[0m\n\u001b[0m",
      "\u001b[0;31mValueError\u001b[0m: I/O operation on closed file."
     ]
    }
   ],
   "source": [
    "# Now, f.read() shouldn't work\n",
    "f.read();"
   ]
  },
  {
   "cell_type": "code",
   "execution_count": null,
   "metadata": {
    "colab": {
     "base_uri": "https://localhost:8080/"
    },
    "executionInfo": {
     "elapsed": 360,
     "status": "ok",
     "timestamp": 1639231970027,
     "user": {
      "displayName": "Rohan",
      "photoUrl": "https://lh3.googleusercontent.com/a/default-user=s64",
      "userId": "00954367962916090040"
     },
     "user_tz": -330
    },
    "id": "REtLXENi0tiu",
    "outputId": "6316960c-ec09-48be-c4f3-53d18a691578"
   },
   "outputs": [
    {
     "name": "stdout",
     "output_type": "stream",
     "text": [
      "<_io.TextIOWrapper name='Erlkonig.txt' mode='r' encoding='UTF-8'>\n",
      "['Erlkonig\\n', '\\n', 'Who rides there so late through the night dark and drear?\\n', 'The father it is, with his infant so dear;\\n', \"He holdeth the boy tightly clasp'd in his arm,\\n\", 'He holdeth him safely, he keepeth him warm.\\n', '\\n', \"My son, wherefore seek'st thou thy face thus to hide? –\\n\", 'Look, father, the Erl-King is close by our side!\\n', 'Dost see not the Erl-King, with crown and with train? –\\n', \"My son, 'tis the mist rising over the plain. –\\n\", '\\n', '\"Oh, come, thou dear infant! oh come thou with me!\\n', 'For many a game I will play there with thee;\\n', 'On my strand, lovely flowers their blossoms unfold,\\n', 'My mother shall grace thee with garments of gold.\" –\\n', '\\n', 'My father, my father, and dost thou not hear\\n', 'The words that the Erl-King now breathes in mine ear? –\\n', \"Be calm, dearest child, 'tis thy fancy deceives;\\n\", \"'Tis the sad wind that sighs through the withering leaves. –\\n\", '\\n', '\"Wilt go, then, dear infant, wilt go with me there?\\n', 'My daughters shall tend thee with sisterly care;\\n', 'My daughters by night their glad festival keep,\\n', 'They\\'ll dance thee, and rock thee, and sing thee to sleep.\" –\\n', '\\n', 'My father, my father, and dost thou not see,\\n', 'How the Erl-King his daughters has brought here for me? –\\n', 'My darling, my darling, I see it aright,\\n', \"'Tis the aged grey willows deceiving thy sight. –\\n\", '\\n', '\"I love thee, I\\'m charm\\'d by thy beauty, dear boy!\\n', 'And if thou\\'rt unwilling, then force I\\'ll employ.\" –\\n', 'My father, my father, he seizes me fast,\\n', 'For sorely the Erl-King has hurt me at last. –\\n', '\\n', 'The father now gallops, with terror half wild,\\n', 'He grasps in his arms the poor shuddering child;\\n', 'He reaches his courtyard with toil and with dread, –\\n', 'The child in his arms finds he motionless, dead.']\n"
     ]
    }
   ],
   "source": [
    "# If we want not to worry about closing file, below technique can be employed\n",
    "with open('Erlkonig.txt', 'r') as f1:\n",
    "    listOfLines = f1.readlines(); # Reads all the lines and stores them in a list.\n",
    "    print(f1)\n",
    "    print(listOfLines);\n",
    "# File is closed here."
   ]
  },
  {
   "cell_type": "code",
   "execution_count": null,
   "metadata": {
    "colab": {
     "base_uri": "https://localhost:8080/"
    },
    "executionInfo": {
     "elapsed": 408,
     "status": "error",
     "timestamp": 1639232009543,
     "user": {
      "displayName": "Rohan",
      "photoUrl": "https://lh3.googleusercontent.com/a/default-user=s64",
      "userId": "00954367962916090040"
     },
     "user_tz": -330
    },
    "id": "cVfG2mSa1qXM",
    "outputId": "1ee56610-0005-43d5-c983-4de952efd785"
   },
   "outputs": [
    {
     "ename": "ValueError",
     "evalue": "ignored",
     "output_type": "error",
     "traceback": [
      "\u001b[0;31m---------------------------------------------------------------------------\u001b[0m",
      "\u001b[0;31mValueError\u001b[0m                                Traceback (most recent call last)",
      "\u001b[0;32m<ipython-input-17-1a40f464cf21>\u001b[0m in \u001b[0;36m<module>\u001b[0;34m()\u001b[0m\n\u001b[1;32m      1\u001b[0m \u001b[0;31m# now, printing f1\u001b[0m\u001b[0;34m\u001b[0m\u001b[0;34m\u001b[0m\u001b[0;34m\u001b[0m\u001b[0m\n\u001b[0;32m----> 2\u001b[0;31m \u001b[0mprint\u001b[0m\u001b[0;34m(\u001b[0m\u001b[0mf1\u001b[0m\u001b[0;34m.\u001b[0m\u001b[0mread\u001b[0m\u001b[0;34m(\u001b[0m\u001b[0;34m)\u001b[0m\u001b[0;34m)\u001b[0m\u001b[0;34m;\u001b[0m\u001b[0;34m\u001b[0m\u001b[0;34m\u001b[0m\u001b[0m\n\u001b[0m",
      "\u001b[0;31mValueError\u001b[0m: I/O operation on closed file."
     ]
    }
   ],
   "source": [
    "# now, printing f1 => File has already been closed, although the handler exists.\n",
    "print(f1.read());"
   ]
  },
  {
   "cell_type": "code",
   "execution_count": null,
   "metadata": {
    "id": "Evp9vppo1ymQ"
   },
   "outputs": [],
   "source": []
  },
  {
   "cell_type": "markdown",
   "metadata": {
    "id": "zD_uE0CBt-rR"
   },
   "source": [
    "# Files Write"
   ]
  },
  {
   "cell_type": "code",
   "execution_count": null,
   "metadata": {
    "colab": {
     "base_uri": "https://localhost:8080/"
    },
    "executionInfo": {
     "elapsed": 384,
     "status": "ok",
     "timestamp": 1639246870740,
     "user": {
      "displayName": "Rohan",
      "photoUrl": "https://lh3.googleusercontent.com/a/default-user=s64",
      "userId": "00954367962916090040"
     },
     "user_tz": -330
    },
    "id": "LqwKXP7st_8X",
    "outputId": "833f13eb-4729-4758-8f6f-937ac8883104"
   },
   "outputs": [
    {
     "name": "stdout",
     "output_type": "stream",
     "text": [
      "['Erlkonig\\n', '\\n', 'Who rides there so late through the night dark and drear?\\n', 'The father it is, with his infant so dear;\\n', \"He holdeth the boy tightly clasp'd in his arm,\\n\", 'He holdeth him safely, he keepeth him warm.\\n', '\\n', \"My son, wherefore seek'st thou thy face thus to hide? –\\n\", 'Look, father, the Erl-King is close by our side!\\n', 'Dost see not the Erl-King, with crown and with train? –\\n', \"My son, 'tis the mist rising over the plain. –\\n\", '\\n', '\"Oh, come, thou dear infant! oh come thou with me!\\n', 'For many a game I will play there with thee;\\n', 'On my strand, lovely flowers their blossoms unfold,\\n', 'My mother shall grace thee with garments of gold.\" –\\n', '\\n', 'My father, my father, and dost thou not hear\\n', 'The words that the Erl-King now breathes in mine ear? –\\n', \"Be calm, dearest child, 'tis thy fancy deceives;\\n\", \"'Tis the sad wind that sighs through the withering leaves. –\\n\", '\\n', '\"Wilt go, then, dear infant, wilt go with me there?\\n', 'My daughters shall tend thee with sisterly care;\\n', 'My daughters by night their glad festival keep,\\n', 'They\\'ll dance thee, and rock thee, and sing thee to sleep.\" –\\n', '\\n', 'My father, my father, and dost thou not see,\\n', 'How the Erl-King his daughters has brought here for me? –\\n', 'My darling, my darling, I see it aright,\\n', \"'Tis the aged grey willows deceiving thy sight. –\\n\", '\\n', '\"I love thee, I\\'m charm\\'d by thy beauty, dear boy!\\n', 'And if thou\\'rt unwilling, then force I\\'ll employ.\" –\\n', 'My father, my father, he seizes me fast,\\n', 'For sorely the Erl-King has hurt me at last. –\\n', '\\n', 'The father now gallops, with terror half wild,\\n', 'He grasps in his arms the poor shuddering child;\\n', 'He reaches his courtyard with toil and with dread, –\\n', 'The child in his arms finds he motionless, dead.']\n"
     ]
    }
   ],
   "source": [
    "f = open('Erlkonig.txt', 'r');\n",
    "listOfLines = f.readlines();\n",
    "print(listOfLines);\n",
    "f.close();"
   ]
  },
  {
   "cell_type": "code",
   "execution_count": null,
   "metadata": {
    "id": "bBOthg4DueYS"
   },
   "outputs": [],
   "source": [
    "for line in listOfLines: \n",
    "    print(line);\n",
    "\n",
    "# \\n is the last character of all lines.\n",
    "#Hence, all sentence's \\n at their ends get combined with \\n provided by print, printing 2 \\n instead of 1."
   ]
  },
  {
   "cell_type": "code",
   "execution_count": null,
   "metadata": {
    "id": "_gf6KXL-u8Me"
   },
   "outputs": [],
   "source": [
    "# To avoid the above we use this command:-\n",
    "str.strip?\n",
    "# Strips leading and trailing white space or \\n"
   ]
  },
  {
   "cell_type": "code",
   "execution_count": null,
   "metadata": {
    "colab": {
     "base_uri": "https://localhost:8080/"
    },
    "executionInfo": {
     "elapsed": 651,
     "status": "ok",
     "timestamp": 1639247234326,
     "user": {
      "displayName": "Rohan",
      "photoUrl": "https://lh3.googleusercontent.com/a/default-user=s64",
      "userId": "00954367962916090040"
     },
     "user_tz": -330
    },
    "id": "1wBB0EYKvmrU",
    "outputId": "6500af4c-106e-445f-8be5-93f871c07b61"
   },
   "outputs": [
    {
     "name": "stdout",
     "output_type": "stream",
     "text": [
      "abc\n"
     ]
    }
   ],
   "source": [
    "a = '\\nabc\\n';\n",
    "print(a.strip())"
   ]
  },
  {
   "cell_type": "code",
   "execution_count": null,
   "metadata": {
    "id": "fRjbdNNgvx-W"
   },
   "outputs": [],
   "source": [
    "for line in listOfLines: \n",
    "    print(line.strip());"
   ]
  },
  {
   "cell_type": "code",
   "execution_count": null,
   "metadata": {
    "id": "mWTDJohEwgh3"
   },
   "outputs": [],
   "source": [
    "f_out = open('fav.txt', 'w');"
   ]
  },
  {
   "cell_type": "code",
   "execution_count": null,
   "metadata": {
    "id": "ayUlq7CV5JT5"
   },
   "outputs": [],
   "source": [
    "f_out.writelines(listOfLines[2]) # Writes down line at index 2 in f.\n",
    "# The changes to a file won't appear until we close the file."
   ]
  },
  {
   "cell_type": "code",
   "execution_count": null,
   "metadata": {
    "id": "n7Zca87X5kcW"
   },
   "outputs": [],
   "source": [
    "f_out.close();\n",
    "# Until the file is close, the text doesn't get flushed to the file but remains in a buffer in the python program"
   ]
  },
  {
   "cell_type": "code",
   "execution_count": null,
   "metadata": {
    "id": "xeEIG1t85rNi"
   },
   "outputs": [],
   "source": [
    "with open('fav.txt', 'w') as f_out: # ensures closing of file at the end\n",
    "    f_out.writelines(listOfLines[22]);"
   ]
  },
  {
   "cell_type": "code",
   "execution_count": null,
   "metadata": {
    "id": "AxGEtI3f8Apb"
   },
   "outputs": [],
   "source": [
    "# When we try to write to an already existent file, the old file is removed. A new one is created\n",
    "# and contents written to it and saved."
   ]
  },
  {
   "cell_type": "markdown",
   "metadata": {
    "id": "FDN18ZLqEZ2g"
   },
   "source": [
    "# Files/DataTypes assignment"
   ]
  },
  {
   "cell_type": "code",
   "execution_count": null,
   "metadata": {
    "colab": {
     "base_uri": "https://localhost:8080/"
    },
    "executionInfo": {
     "elapsed": 679,
     "status": "ok",
     "timestamp": 1639767169241,
     "user": {
      "displayName": "Rohan",
      "photoUrl": "https://lh3.googleusercontent.com/a/default-user=s64",
      "userId": "00954367962916090040"
     },
     "user_tz": -330
    },
    "id": "xtKlO_PhEfoH",
    "outputId": "864303b3-a22b-430a-efae-f5e9421b7649"
   },
   "outputs": [
    {
     "name": "stdout",
     "output_type": "stream",
     "text": [
      "['Erlkonig\\n', '\\n', 'Who rides there so late through the night dark and drear\\n', 'The father it is with his infant so dear\\n', 'He holdeth the boy tightly claspd in his arm\\n', 'He holdeth him safely he keepeth him warm\\n', '\\n', 'My son wherefore seekst thou thy face thus to hide\\n', 'Look father the ErlKing is close by our side\\n', 'Dost see not the ErlKing with crown and with train\\n', 'My son tis the mist rising over the plain \\n', '\\n', 'Oh come thou dear infant oh come thou with me\\n', 'For many a game I will play there with thee\\n', 'On my strand lovely flowers their blossoms unfold\\n', 'My mother shall grace thee with garments of gold \\n', '\\n', 'My father my father and dost thou not hear\\n', 'The words that the ErlKing now breathes in mine ear \\n', 'Be calm dearest child tis thy fancy deceives\\n', 'Tis the sad wind that sighs through the withering leaves \\n', '\\n', 'Wilt go then dear infant wilt go with me there\\n', 'My daughters shall tend thee with sisterly care\\n', 'My daughters by night their glad festival keep\\n', 'Theyll dance thee and rock thee and sing thee to sleep \\n', '\\n', 'My father my father and dost thou not see\\n', 'How the ErlKing his daughters has brought here for me \\n', 'My darling my darling I see it aright\\n', 'Tis the aged grey willows deceiving thy sight \\n', '\\n', 'I love thee Im charmd by thy beauty dear boy\\n', 'And if thourt unwilling then force Ill employ \\n', 'My father my father he seizes me fast\\n', 'For sorely the ErlKing has hurt me at last \\n', '\\n', 'The father now gallops with terror half wild\\n', 'He grasps in his arms the poor shuddering child\\n', 'He reaches his courtyard with toil and with dread \\n', 'The child in his arms finds he motionless dead']\n"
     ]
    }
   ],
   "source": [
    "f = open('Erlkonig.txt', 'r');\n",
    "listOfLines = f.readlines();\n",
    "print(listOfLines);"
   ]
  },
  {
   "cell_type": "code",
   "execution_count": null,
   "metadata": {
    "colab": {
     "base_uri": "https://localhost:8080/"
    },
    "executionInfo": {
     "elapsed": 440,
     "status": "ok",
     "timestamp": 1639753403731,
     "user": {
      "displayName": "Rohan",
      "photoUrl": "https://lh3.googleusercontent.com/a/default-user=s64",
      "userId": "00954367962916090040"
     },
     "user_tz": -330
    },
    "id": "Jd092vB_OMBm",
    "outputId": "39a0113e-5eda-424f-81a9-cca8e94af16f"
   },
   "outputs": [
    {
     "name": "stdout",
     "output_type": "stream",
     "text": [
      "{'erlkonig': 1, 'who': 1, 'rides': 1, 'there': 3, 'so': 2, 'late': 1, 'through': 2, 'the': 17, 'night': 2, 'dark': 1, 'and': 8, 'drear': 1, 'father': 9, 'it': 2, 'is': 2, 'with': 11, 'his': 6, 'infant': 3, 'dear': 4, 'he': 7, 'holdeth': 2, 'boy': 2, 'tightly': 1, 'claspd': 1, 'in': 4, 'arm': 1, 'him': 2, 'safely': 1, 'keepeth': 1, 'warm': 1, 'my': 14, 'son': 2, 'wherefore': 1, 'seekst': 1, 'thou': 5, 'thy': 4, 'face': 1, 'thus': 1, 'to': 2, 'hide': 1, 'look': 1, 'erlking': 5, 'close': 1, 'by': 3, 'our': 1, 'side': 1, 'dost': 3, 'see': 3, 'not': 3, 'crown': 1, 'train': 1, 'tis': 4, 'mist': 1, 'rising': 1, 'over': 1, 'plain': 1, 'oh': 2, 'come': 2, 'me': 5, 'for': 3, 'many': 1, 'a': 1, 'game': 1, 'i': 3, 'will': 1, 'play': 1, 'thee': 7, 'on': 1, 'strand': 1, 'lovely': 1, 'flowers': 1, 'their': 2, 'blossoms': 1, 'unfold': 1, 'mother': 1, 'shall': 2, 'grace': 1, 'garments': 1, 'of': 1, 'gold': 1, 'hear': 1, 'words': 1, 'that': 2, 'now': 2, 'breathes': 1, 'mine': 1, 'ear': 1, 'be': 1, 'calm': 1, 'dearest': 1, 'child': 3, 'fancy': 1, 'deceives': 1, 'sad': 1, 'wind': 1, 'sighs': 1, 'withering': 1, 'leaves': 1, 'wilt': 2, 'go': 2, 'then': 2, 'daughters': 3, 'tend': 1, 'sisterly': 1, 'care': 1, 'glad': 1, 'festival': 1, 'keep': 1, 'theyll': 1, 'dance': 1, 'rock': 1, 'sing': 1, 'sleep': 1, 'how': 1, 'has': 2, 'brought': 1, 'here': 1, 'darling': 2, 'aright': 1, 'aged': 1, 'grey': 1, 'willows': 1, 'deceiving': 1, 'sight': 1, 'love': 1, 'im': 1, 'charmd': 1, 'beauty': 1, 'if': 1, 'thourt': 1, 'unwilling': 1, 'force': 1, 'ill': 1, 'employ': 1, 'seizes': 1, 'fast': 1, 'sorely': 1, 'hurt': 1, 'at': 1, 'last': 1, 'gallops': 1, 'terror': 1, 'half': 1, 'wild': 1, 'grasps': 1, 'arms': 2, 'poor': 1, 'shuddering': 1, 'reaches': 1, 'courtyard': 1, 'toil': 1, 'dread': 1, 'finds': 1, 'motionless': 1, 'dead': 1}\n"
     ]
    }
   ],
   "source": [
    "wordCountDict = {};\n",
    "for line in listOfLines:\n",
    "    strippedLine = line.strip(); # Removing leading/trailing white spaces or \\n\n",
    "    splitLine = strippedLine.split(); # listOFWords in that line\n",
    "    for word in splitLine:\n",
    "        if(word.lower() in wordCountDict):\n",
    "            wordCountDict[word.lower()] += 1;\n",
    "        else:\n",
    "            wordCountDict[word.lower()] = 1;\n",
    "\n",
    "print(wordCountDict);"
   ]
  },
  {
   "cell_type": "code",
   "execution_count": null,
   "metadata": {
    "colab": {
     "base_uri": "https://localhost:8080/"
    },
    "executionInfo": {
     "elapsed": 4,
     "status": "ok",
     "timestamp": 1639753461980,
     "user": {
      "displayName": "Rohan",
      "photoUrl": "https://lh3.googleusercontent.com/a/default-user=s64",
      "userId": "00954367962916090040"
     },
     "user_tz": -330
    },
    "id": "GQ9XvZejPdfX",
    "outputId": "8cab9df5-6611-4ef1-b88a-8a0b87e3f97b"
   },
   "outputs": [
    {
     "name": "stdout",
     "output_type": "stream",
     "text": [
      "['the', 'my', 'with', 'father', 'and', 'thee', 'he', 'his', 'me', 'erlking', 'thou', 'tis', 'thy', 'in', 'dear', 'daughters', 'child', 'i', 'for', 'not', 'see', 'dost', 'by', 'infant', 'there', 'arms', 'darling', 'has', 'then', 'go', 'wilt', 'now', 'that', 'shall', 'their', 'come', 'oh', 'to', 'son', 'him', 'boy', 'holdeth', 'is', 'it', 'night', 'through', 'so', 'dead', 'motionless', 'finds', 'dread', 'toil', 'courtyard', 'reaches', 'shuddering', 'poor', 'grasps', 'wild', 'half', 'terror', 'gallops', 'last', 'at', 'hurt', 'sorely', 'fast', 'seizes', 'employ', 'ill', 'force', 'unwilling', 'thourt', 'if', 'beauty', 'charmd', 'im', 'love', 'sight', 'deceiving', 'willows', 'grey', 'aged', 'aright', 'here', 'brought', 'how', 'sleep', 'sing', 'rock', 'dance', 'theyll', 'keep', 'festival', 'glad', 'care', 'sisterly', 'tend', 'leaves', 'withering', 'sighs', 'wind', 'sad', 'deceives', 'fancy', 'dearest', 'calm', 'be', 'ear', 'mine', 'breathes', 'words', 'hear', 'gold', 'of', 'garments', 'grace', 'mother', 'unfold', 'blossoms', 'flowers', 'lovely', 'strand', 'on', 'play', 'will', 'game', 'a', 'many', 'plain', 'over', 'rising', 'mist', 'train', 'crown', 'side', 'our', 'close', 'look', 'hide', 'thus', 'face', 'seekst', 'wherefore', 'warm', 'keepeth', 'safely', 'arm', 'claspd', 'tightly', 'drear', 'dark', 'late', 'rides', 'who', 'erlkonig', 'erlkonig']\n"
     ]
    }
   ],
   "source": [
    "wordCountList = ['erlkonig'];\n",
    "for word in wordCountDict:\n",
    "    numOfOccurrences = wordCountDict[word.lower()];\n",
    "    i = 0;\n",
    "    for element in wordCountList:\n",
    "        if(wordCountDict[element] <= numOfOccurrences):\n",
    "            wordCountList.insert(i, word.lower());\n",
    "            break;\n",
    "        i+=1;\n",
    "print(wordCountList);"
   ]
  },
  {
   "cell_type": "code",
   "execution_count": null,
   "metadata": {
    "id": "oyskodvLfaji"
   },
   "outputs": [],
   "source": [
    "# To Do: 2 gram sorting\n",
    "twoGramwordCountDict = {};\n",
    "for line in listOfLines:\n",
    "    strippedLine = line.strip(); # Removing leading/trailing white spaces or \\n\n",
    "    splitLine = strippedLine.split(); # listOFWords in that line\n",
    "    i = 1;\n",
    "    for word in splitLine:\n",
    "        if(i < len(splitLine)):\n",
    "            twoGram = word.lower() + '_' + splitLine[i + 1].lower();\n",
    "            if(twoGram in twoGramwordCountDict):\n",
    "                twoGramwordCountDict[twoGram] += 1;\n",
    "            else:\n",
    "                twoGramwordCountDict[twoGram] = 1;\n",
    "\n",
    "for twoGram in twoGramwordCountDict:\n",
    "    print(twoGram, ':', twoGramwordCountDict[twoGram]);\n"
   ]
  },
  {
   "cell_type": "code",
   "execution_count": null,
   "metadata": {
    "id": "_isE3d3cuHLq"
   },
   "outputs": [],
   "source": [
    "str1 = 'My name, is Rohan...!'; # Replacing special characters with empty strings."
   ]
  },
  {
   "cell_type": "markdown",
   "metadata": {
    "id": "hP-NjARo4bAr"
   },
   "source": [
    "**Replace function for strings** - \n",
    "Replaces a particular substring inside the string"
   ]
  },
  {
   "cell_type": "code",
   "execution_count": null,
   "metadata": {
    "id": "NLVQirCIMxdK"
   },
   "outputs": [],
   "source": [
    "str1 = str1.replace(',', ''); # replace return the modified string, doesn't make changes in the input string.\n",
    "print(str1);"
   ]
  },
  {
   "cell_type": "markdown",
   "metadata": {
    "id": "-eFVVC714i7l"
   },
   "source": [
    "**Join function for strings**\n",
    "Joins all strings in a list of strings \n",
    "Returns the resultant string"
   ]
  },
  {
   "cell_type": "code",
   "execution_count": null,
   "metadata": {
    "id": "j-BbpImaM6de"
   },
   "outputs": [],
   "source": [
    "# Joining strings in a list to form a bigger string\n",
    "stringList = ['My', 'name', 'is', 'Rohan'];\n",
    "print(\" \".join(stringList)); # \" \" --> delimiter for joining strings.\n",
    "print(\"hoho \".join(stringList));"
   ]
  },
  {
   "cell_type": "markdown",
   "metadata": {
    "id": "iAGE5egQ45D3"
   },
   "source": [
    "**Items** - \n",
    "Returns list of tuples of dictionary key value pairs, but is only iterable.\n",
    "Can be typcasted back to a dictionary."
   ]
  },
  {
   "cell_type": "code",
   "execution_count": null,
   "metadata": {
    "colab": {
     "base_uri": "https://localhost:8080/"
    },
    "executionInfo": {
     "elapsed": 554,
     "status": "ok",
     "timestamp": 1639813532659,
     "user": {
      "displayName": "Rohan",
      "photoUrl": "https://lh3.googleusercontent.com/a/default-user=s64",
      "userId": "00954367962916090040"
     },
     "user_tz": -330
    },
    "id": "XbVKDpoOdmc4",
    "outputId": "4435c867-6fc7-46fa-ac15-83c6e90f00f3"
   },
   "outputs": [
    {
     "name": "stdout",
     "output_type": "stream",
     "text": [
      "dict_items([(1, 1), (2, 1), (3, 1), (5, 2), (4, 7)])\n",
      "{1: 1, 2: 1, 3: 1, 5: 2, 4: 7}\n"
     ]
    }
   ],
   "source": [
    "# dict.items() function\n",
    "# D.items() -> a set-like object providing a view on D's items\n",
    "randDict = {\n",
    "    1:1,\n",
    "    2:1,\n",
    "    3:1,\n",
    "    5:2,\n",
    "    4:7\n",
    "};\n",
    "print(randDict.items());\n",
    "print(dict(randDict.items())); # Typecasting it by dict return corresponding dictionary"
   ]
  },
  {
   "cell_type": "markdown",
   "metadata": {
    "id": "jS2uiPCV5J23"
   },
   "source": [
    "**Sorting a dictionary by its key or value using sorted() function**"
   ]
  },
  {
   "cell_type": "code",
   "execution_count": null,
   "metadata": {
    "colab": {
     "base_uri": "https://localhost:8080/"
    },
    "executionInfo": {
     "elapsed": 368,
     "status": "ok",
     "timestamp": 1639817438003,
     "user": {
      "displayName": "Rohan",
      "photoUrl": "https://lh3.googleusercontent.com/a/default-user=s64",
      "userId": "00954367962916090040"
     },
     "user_tz": -330
    },
    "id": "Fsf-NnIMe-u6",
    "outputId": "97d04ddf-04f9-497f-9658-f74627bc3600"
   },
   "outputs": [
    {
     "name": "stdout",
     "output_type": "stream",
     "text": [
      "[(1, 1), (2, 1), (3, 1), (5, 2), (4, 7)]\n"
     ]
    }
   ],
   "source": [
    "# Sorting a dictionary using its values\n",
    "# sort modifies the input, sorted doesn't, and return the modified output\n",
    "randDict = {\n",
    "    1:1,\n",
    "    2:1,\n",
    "    3:1,\n",
    "    5:2,\n",
    "    4:7\n",
    "};\n",
    "print(sorted(randDict.items(), key = lambda items: items[1]));\n",
    "# randDict.sort or randDict.items().sort won't word (not defined), hence using sorted\n",
    "# The above can still be used for lists and tuples.\n",
    "# lamda: Used for defining inline functinos\n",
    "# items --> input to function, items[1] --> to be returned from the function\n"
   ]
  },
  {
   "cell_type": "markdown",
   "metadata": {
    "id": "6hROdWNc5Vsd"
   },
   "source": [
    "**zip() function, used to zip object of tuples from 2 lists**\n",
    "Is only iterable, and that too once. And after iterating once, needs to be created again if want to iterate again."
   ]
  },
  {
   "cell_type": "code",
   "execution_count": null,
   "metadata": {
    "colab": {
     "base_uri": "https://localhost:8080/"
    },
    "executionInfo": {
     "elapsed": 367,
     "status": "ok",
     "timestamp": 1639820503213,
     "user": {
      "displayName": "Rohan",
      "photoUrl": "https://lh3.googleusercontent.com/a/default-user=s64",
      "userId": "00954367962916090040"
     },
     "user_tz": -330
    },
    "id": "uq7lw3Sj5gqY",
    "outputId": "a5f33e89-4b08-478d-f37e-2347cfcded6a"
   },
   "outputs": [
    {
     "name": "stdout",
     "output_type": "stream",
     "text": [
      "<zip object at 0x7fd091b8caa0>\n"
     ]
    }
   ],
   "source": [
    "list1 = [1, 2, 3, 4, 5, 6, 7];\n",
    "list2 = [1, 4, 9, 16, 25, 36, 49];\n",
    "listOfSquares =  zip(list1, list2);\n",
    "print(listOfSquares);"
   ]
  },
  {
   "cell_type": "code",
   "execution_count": null,
   "metadata": {
    "colab": {
     "base_uri": "https://localhost:8080/"
    },
    "executionInfo": {
     "elapsed": 542,
     "status": "ok",
     "timestamp": 1639820370706,
     "user": {
      "displayName": "Rohan",
      "photoUrl": "https://lh3.googleusercontent.com/a/default-user=s64",
      "userId": "00954367962916090040"
     },
     "user_tz": -330
    },
    "id": "YwCXOOdx5uQb",
    "outputId": "af4dfe12-f014-4302-e9cc-9c90bb975351"
   },
   "outputs": [
    {
     "name": "stdout",
     "output_type": "stream",
     "text": [
      "(1, 1) <class 'tuple'>\n",
      "(2, 4) <class 'tuple'>\n",
      "(3, 9) <class 'tuple'>\n",
      "(4, 16) <class 'tuple'>\n",
      "(5, 25) <class 'tuple'>\n",
      "(6, 36) <class 'tuple'>\n",
      "(7, 49) <class 'tuple'>\n"
     ]
    }
   ],
   "source": [
    "for a in listOfSquares:\n",
    "    print(a,type(a));"
   ]
  },
  {
   "cell_type": "code",
   "execution_count": null,
   "metadata": {
    "colab": {
     "base_uri": "https://localhost:8080/"
    },
    "executionInfo": {
     "elapsed": 372,
     "status": "ok",
     "timestamp": 1639820528967,
     "user": {
      "displayName": "Rohan",
      "photoUrl": "https://lh3.googleusercontent.com/a/default-user=s64",
      "userId": "00954367962916090040"
     },
     "user_tz": -330
    },
    "id": "9KSPZwOb6JPk",
    "outputId": "7c30efbc-7801-4895-db9e-e2c521d22ef8"
   },
   "outputs": [
    {
     "name": "stdout",
     "output_type": "stream",
     "text": [
      "[(1, 1), (2, 4), (3, 9), (4, 16), (5, 25), (6, 36), (7, 49)]\n"
     ]
    }
   ],
   "source": [
    "# To be able to iterate zip as much as we want, we can typecast it to a list\n",
    "listOfSquares = list(listOfSquares);\n",
    "print(listOfSquares);"
   ]
  },
  {
   "cell_type": "markdown",
   "metadata": {
    "id": "kYzd1ZUzA115"
   },
   "source": [
    "# **Key Observations:-**"
   ]
  },
  {
   "cell_type": "markdown",
   "metadata": {
    "id": "VqiS2o-6d4YG"
   },
   "source": [
    "## Immutability:- \n",
    "From mutation, if the value assigned to variable of a particular data type can be changed, then it is mutable, immutable otherwise.\n",
    " * Immutable objects:- Strings, intergers, floats, tuples. Integers/floats are \n",
    "immutable, implies that the bits of the numeric variable can't be manipulated for that variable itself. For strings also, bits can't be manipulated, which can be tested by trying to change a character of a string.\n",
    "   * Note:- Let a tuple tup1 = (1, [1, 2, 3]). Trying tup1[0] = 2 should give error because it is immutable. But will tup1[1][0] = 0 also give error? No.\n",
    "   Because we're using access rights of a list, which allows modification. Its kind of, the list container remained the same, however its internal contents changed, which is of no concern to a tuple.\n",
    " * Mutable objects:- List, sets, dictionaries.\n",
    " Their values can be changed.\n",
    "   * Lists:- For lists we can simply add/remove elements at will.\n",
    " The type of elements inside doesn't matter, be it mutable or immutable. This is because no functionality of list depends on its elements being mutable or immutable. Its very very flexible.\n",
    "* Sets and Dictionaries:- The definition of sets needs them to store unorderly only unique elements. Internally, python sets use hashes. Instead of key data pairs, sets contain only keys, but still use hashes. Can all data types be hashable? It seems so. But no, the data types which are mutable can't be made hashes. This is because hashes are made using value of the variables, which needs to be fixed for hashing system. If for example a set has two list variables:- {a, b}.\n",
    "For now, assuming a and b to be different, their hashes would be different. However, if I make a = b in value, their hashes would have to be reset, which wouldn't be handled automatically, leading to clash when accessing a and b from the set later on.\n",
    "Similarly for dictionaries. But why can't we use id's of lists instead of their value. For example, if id of a list [1, 2] is 10, then accessing dict[[1, 2]] would give an error, as the [1, 2] used for setting data in dict would diff. than the [1, 2] we're using to access, which is like creating newer problems while trying to solve another problem.\n",
    "\n",
    "## Indexing:- \n",
    "\n",
    " * Positive Indexing:-<br>\n",
    "  a[0], a[1]....\n",
    " * Negative Indexing:-<br>\n",
    "  a[-1] = a[ lastIndex ], <br> a[-2] = a[ lastIndex - 1 ]\n",
    " * Slicing:- <br> \n",
    " a[ i : j ] --> i, i + 1, i + 2 ... j - 1. (excluding j) <br> \n",
    " a[ i : ] - i to lastIndex <br>\n",
    " a[ : i ] - 0th index to i <br>\n",
    "a[ : ] - Returns a copy of the complete list/string.\n",
    " * Stride:- \n",
    "a[i:j:s] --> i, i + s, i + 2s, i + 3s, ... , j <br>\n",
    "If j doesn't sync with the steps, will stop at the last step before j.\n",
    "\n",
    "\n",
    "\n"
   ]
  },
  {
   "cell_type": "code",
   "execution_count": null,
   "metadata": {
    "id": "f5gfGRVAmT0U"
   },
   "outputs": [],
   "source": [
    "a = [0, 1, 2, 3, 4, 5];"
   ]
  },
  {
   "cell_type": "code",
   "execution_count": null,
   "metadata": {
    "colab": {
     "base_uri": "https://localhost:8080/"
    },
    "executionInfo": {
     "elapsed": 3,
     "status": "ok",
     "timestamp": 1640011236497,
     "user": {
      "displayName": "Rohan",
      "photoUrl": "https://lh3.googleusercontent.com/a/default-user=s64",
      "userId": "00954367962916090040"
     },
     "user_tz": -330
    },
    "id": "Zu3uLEmSSCNc",
    "outputId": "812e6999-d237-4f43-e2a1-e0fa7e5b404d"
   },
   "outputs": [
    {
     "name": "stdout",
     "output_type": "stream",
     "text": [
      "[2, 3, 4]\n"
     ]
    }
   ],
   "source": []
  }
 ],
 "metadata": {
  "colab": {
   "authorship_tag": "ABX9TyNOvssqjTNlQP5aGWiOPlJy",
   "collapsed_sections": [
    "9xUGhzyy8qNY",
    "bmu1ympUCNVP",
    "b4fFmb0tYQ9g",
    "bMdpbQMNFl6V",
    "ToEInFYSd7FL",
    "_gcJz7Jt_3lo",
    "LAgTZ3kVAFrw",
    "-HSjlm2m2YWJ",
    "q8Rr0xX8663F",
    "_rh9OlQiIptu",
    "Lc5fu5FNh9kY",
    "Jns2DFL7qAfV",
    "ezotyrcwawR1",
    "zD_uE0CBt-rR",
    "FDN18ZLqEZ2g"
   ],
   "provenance": []
  },
  "kernelspec": {
   "display_name": "Python 3 (ipykernel)",
   "language": "python",
   "name": "python3"
  },
  "language_info": {
   "codemirror_mode": {
    "name": "ipython",
    "version": 3
   },
   "file_extension": ".py",
   "mimetype": "text/x-python",
   "name": "python",
   "nbconvert_exporter": "python",
   "pygments_lexer": "ipython3",
   "version": "3.11.1"
  }
 },
 "nbformat": 4,
 "nbformat_minor": 1
}

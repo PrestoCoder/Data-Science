{
 "cells": [
  {
   "cell_type": "code",
   "execution_count": 5,
   "id": "28c79456",
   "metadata": {},
   "outputs": [],
   "source": [
    "import numpy as np\n",
    "import matplotlib.pyplot as plt\n",
    "import pandas as pd"
   ]
  },
  {
   "cell_type": "code",
   "execution_count": 6,
   "id": "eed5dd64",
   "metadata": {},
   "outputs": [],
   "source": [
    "def hypothesis(x, theta):\n",
    "    return np.dot(x, theta)\n",
    "     "
   ]
  },
  {
   "cell_type": "code",
   "execution_count": 7,
   "id": "56a4e63b",
   "metadata": {},
   "outputs": [],
   "source": [
    "def cost(X, Y, theta):\n",
    "    m = X.shape[0]\n",
    "    total_error = 0\n",
    "\n",
    "    y_p = hypothesis(X, theta)\n",
    "    total_error = np.sum((y_p - Y)**2)\n",
    "\n",
    "    return total_error/m"
   ]
  },
  {
   "cell_type": "code",
   "execution_count": 8,
   "id": "7e1ee375",
   "metadata": {},
   "outputs": [],
   "source": [
    "def gradient(X, Y, theta):\n",
    "    y_p = hypothesis(X, theta)\n",
    "\n",
    "    grad = np.dot(X.T, (y_p - Y))\n",
    "\n",
    "    return grad/X.shape[0]"
   ]
  },
  {
   "cell_type": "code",
   "execution_count": 9,
   "id": "09c7bf85",
   "metadata": {},
   "outputs": [],
   "source": [
    "def gradient_descent(X, Y, learning_rate = 0.001, max_steps = 1000):\n",
    "\n",
    "    m, n = X.shape\n",
    "    theta = np.zeros((n, ))\n",
    "    cost_epoch = []\n",
    "\n",
    "    for i in range(max_steps):\n",
    "\n",
    "        grad = gradient(X, Y, theta)\n",
    "\n",
    "        e = cost(X, Y, theta)\n",
    "        cost_epoch.append(e)\n",
    "\n",
    "        theta = theta - learning_rate*grad\n",
    "\n",
    "    return theta, cost_epoch"
   ]
  },
  {
   "cell_type": "code",
   "execution_count": 11,
   "id": "4cb45b41",
   "metadata": {},
   "outputs": [],
   "source": [
    "raw = pd.read_csv('prices-split-adjusted.csv');"
   ]
  },
  {
   "cell_type": "code",
   "execution_count": 15,
   "id": "387bb39d",
   "metadata": {},
   "outputs": [
    {
     "data": {
      "text/html": [
       "<div>\n",
       "<style scoped>\n",
       "    .dataframe tbody tr th:only-of-type {\n",
       "        vertical-align: middle;\n",
       "    }\n",
       "\n",
       "    .dataframe tbody tr th {\n",
       "        vertical-align: top;\n",
       "    }\n",
       "\n",
       "    .dataframe thead th {\n",
       "        text-align: right;\n",
       "    }\n",
       "</style>\n",
       "<table border=\"1\" class=\"dataframe\">\n",
       "  <thead>\n",
       "    <tr style=\"text-align: right;\">\n",
       "      <th></th>\n",
       "      <th>open</th>\n",
       "      <th>close</th>\n",
       "      <th>low</th>\n",
       "      <th>high</th>\n",
       "      <th>volume</th>\n",
       "    </tr>\n",
       "  </thead>\n",
       "  <tbody>\n",
       "    <tr>\n",
       "      <th>0</th>\n",
       "      <td>123.430000</td>\n",
       "      <td>125.839996</td>\n",
       "      <td>122.309998</td>\n",
       "      <td>126.250000</td>\n",
       "      <td>2163600.0</td>\n",
       "    </tr>\n",
       "    <tr>\n",
       "      <th>1</th>\n",
       "      <td>125.239998</td>\n",
       "      <td>119.980003</td>\n",
       "      <td>119.940002</td>\n",
       "      <td>125.540001</td>\n",
       "      <td>2386400.0</td>\n",
       "    </tr>\n",
       "    <tr>\n",
       "      <th>2</th>\n",
       "      <td>116.379997</td>\n",
       "      <td>114.949997</td>\n",
       "      <td>114.930000</td>\n",
       "      <td>119.739998</td>\n",
       "      <td>2489500.0</td>\n",
       "    </tr>\n",
       "    <tr>\n",
       "      <th>3</th>\n",
       "      <td>115.480003</td>\n",
       "      <td>116.620003</td>\n",
       "      <td>113.500000</td>\n",
       "      <td>117.440002</td>\n",
       "      <td>2006300.0</td>\n",
       "    </tr>\n",
       "    <tr>\n",
       "      <th>4</th>\n",
       "      <td>117.010002</td>\n",
       "      <td>114.970001</td>\n",
       "      <td>114.089996</td>\n",
       "      <td>117.330002</td>\n",
       "      <td>1408600.0</td>\n",
       "    </tr>\n",
       "    <tr>\n",
       "      <th>...</th>\n",
       "      <td>...</td>\n",
       "      <td>...</td>\n",
       "      <td>...</td>\n",
       "      <td>...</td>\n",
       "      <td>...</td>\n",
       "    </tr>\n",
       "    <tr>\n",
       "      <th>851259</th>\n",
       "      <td>103.309998</td>\n",
       "      <td>103.199997</td>\n",
       "      <td>102.849998</td>\n",
       "      <td>103.930000</td>\n",
       "      <td>973800.0</td>\n",
       "    </tr>\n",
       "    <tr>\n",
       "      <th>851260</th>\n",
       "      <td>43.070000</td>\n",
       "      <td>43.040001</td>\n",
       "      <td>42.689999</td>\n",
       "      <td>43.310001</td>\n",
       "      <td>1938100.0</td>\n",
       "    </tr>\n",
       "    <tr>\n",
       "      <th>851261</th>\n",
       "      <td>53.639999</td>\n",
       "      <td>53.529999</td>\n",
       "      <td>53.270000</td>\n",
       "      <td>53.740002</td>\n",
       "      <td>1701200.0</td>\n",
       "    </tr>\n",
       "    <tr>\n",
       "      <th>851262</th>\n",
       "      <td>44.730000</td>\n",
       "      <td>45.450001</td>\n",
       "      <td>44.410000</td>\n",
       "      <td>45.590000</td>\n",
       "      <td>1380900.0</td>\n",
       "    </tr>\n",
       "    <tr>\n",
       "      <th>851263</th>\n",
       "      <td>54.200001</td>\n",
       "      <td>53.630001</td>\n",
       "      <td>53.389999</td>\n",
       "      <td>54.480000</td>\n",
       "      <td>705100.0</td>\n",
       "    </tr>\n",
       "  </tbody>\n",
       "</table>\n",
       "<p>851264 rows × 5 columns</p>\n",
       "</div>"
      ],
      "text/plain": [
       "              open       close         low        high     volume\n",
       "0       123.430000  125.839996  122.309998  126.250000  2163600.0\n",
       "1       125.239998  119.980003  119.940002  125.540001  2386400.0\n",
       "2       116.379997  114.949997  114.930000  119.739998  2489500.0\n",
       "3       115.480003  116.620003  113.500000  117.440002  2006300.0\n",
       "4       117.010002  114.970001  114.089996  117.330002  1408600.0\n",
       "...            ...         ...         ...         ...        ...\n",
       "851259  103.309998  103.199997  102.849998  103.930000   973800.0\n",
       "851260   43.070000   43.040001   42.689999   43.310001  1938100.0\n",
       "851261   53.639999   53.529999   53.270000   53.740002  1701200.0\n",
       "851262   44.730000   45.450001   44.410000   45.590000  1380900.0\n",
       "851263   54.200001   53.630001   53.389999   54.480000   705100.0\n",
       "\n",
       "[851264 rows x 5 columns]"
      ]
     },
     "execution_count": 15,
     "metadata": {},
     "output_type": "execute_result"
    }
   ],
   "source": [
    "raw.drop(columns = ['date', 'symbol'])"
   ]
  },
  {
   "cell_type": "code",
   "execution_count": 60,
   "id": "c2682c77",
   "metadata": {},
   "outputs": [
    {
     "data": {
      "text/plain": [
       "array([['2016-01-05', 'WLTW', 123.43, ..., 122.309998, 126.25, 2163600.0],\n",
       "       ['2016-01-06', 'WLTW', 125.239998, ..., 119.940002, 125.540001,\n",
       "        2386400.0],\n",
       "       ['2016-01-07', 'WLTW', 116.379997, ..., 114.93, 119.739998,\n",
       "        2489500.0],\n",
       "       ...,\n",
       "       ['2016-12-30', 'ZTS', 53.639999, ..., 53.27, 53.740002, 1701200.0],\n",
       "       ['2016-12-30', 'AIV', 44.73, ..., 44.41, 45.59, 1380900.0],\n",
       "       ['2016-12-30', 'FTV', 54.200001, ..., 53.389999, 54.48, 705100.0]],\n",
       "      dtype=object)"
      ]
     },
     "execution_count": 60,
     "metadata": {},
     "output_type": "execute_result"
    }
   ],
   "source": [
    "data = raw.values\n",
    "data"
   ]
  },
  {
   "cell_type": "code",
   "execution_count": 66,
   "id": "d19721f9",
   "metadata": {},
   "outputs": [],
   "source": [
    "X = np.array(X, dtype = np.float64)"
   ]
  },
  {
   "cell_type": "code",
   "execution_count": 67,
   "id": "c3dc433e",
   "metadata": {},
   "outputs": [],
   "source": [
    "X = data[:, [2, 4, 5, 6]]\n",
    "Y = data[:, 3]"
   ]
  },
  {
   "cell_type": "code",
   "execution_count": 68,
   "id": "bf8b707a",
   "metadata": {},
   "outputs": [],
   "source": [
    "X = np.array(X, dtype = np.float64)\n",
    "X_mean = np.mean(X, axis = 0)"
   ]
  },
  {
   "cell_type": "code",
   "execution_count": 69,
   "id": "b8d6592a",
   "metadata": {},
   "outputs": [],
   "source": [
    "X_std = np.std(X, axis = 0)"
   ]
  },
  {
   "cell_type": "code",
   "execution_count": 70,
   "id": "31b3253b",
   "metadata": {},
   "outputs": [],
   "source": [
    "X = (X - X_mean)/X_std"
   ]
  },
  {
   "cell_type": "code",
   "execution_count": 71,
   "id": "614a8937",
   "metadata": {},
   "outputs": [
    {
     "data": {
      "text/plain": [
       "array([[ 1.        ,  0.77703978,  0.77859074,  0.79848234, -0.26023189],\n",
       "       [ 1.        ,  0.80110767,  0.7467614 ,  0.78912878, -0.24240029],\n",
       "       [ 1.        ,  0.68329454,  0.67947645,  0.71271927, -0.23414878],\n",
       "       [ 1.        ,  0.67132715,  0.66027137,  0.68241901, -0.27282125]])"
      ]
     },
     "execution_count": 71,
     "metadata": {},
     "output_type": "execute_result"
    }
   ],
   "source": [
    "ones = np.ones((X.shape[0], 1))\n",
    "X = np.hstack((ones, X))\n",
    "X[:4, :]"
   ]
  },
  {
   "cell_type": "code",
   "execution_count": 72,
   "id": "fcff3946",
   "metadata": {},
   "outputs": [],
   "source": [
    "theta, cost_epoch = gradient_descent(X, Y, learning_rate=0.1, max_steps = 200)"
   ]
  },
  {
   "cell_type": "code",
   "execution_count": 73,
   "id": "b466a7f9",
   "metadata": {},
   "outputs": [
    {
     "data": {
      "text/plain": [
       "array([65.01191269635413, 24.97426590807874, 25.114071362586305,\n",
       "       25.108846990932022, -0.006658709920044071], dtype=object)"
      ]
     },
     "execution_count": 73,
     "metadata": {},
     "output_type": "execute_result"
    }
   ],
   "source": [
    "theta"
   ]
  },
  {
   "cell_type": "code",
   "execution_count": 78,
   "id": "06b67faa",
   "metadata": {},
   "outputs": [
    {
     "data": {
      "text/plain": [
       "[0.8046262907290405,\n",
       " 0.8046199509827842,\n",
       " 0.8046136113249576,\n",
       " 0.8046072717555858,\n",
       " 0.8046009322747143,\n",
       " 0.8045945928822623,\n",
       " 0.8045882535783201,\n",
       " 0.8045819143627665,\n",
       " 0.804575575235681,\n",
       " 0.8045692361970563]"
      ]
     },
     "execution_count": 78,
     "metadata": {},
     "output_type": "execute_result"
    }
   ],
   "source": [
    "cost_epoch[-10:]\n"
   ]
  },
  {
   "cell_type": "code",
   "execution_count": 75,
   "id": "7813c2d9",
   "metadata": {},
   "outputs": [
    {
     "data": {
      "image/png": "[encoded data removed]",
      "text/plain": [
       "<Figure size 640x480 with 1 Axes>"
      ]
     },
     "metadata": {},
     "output_type": "display_data"
    }
   ],
   "source": [
    "plt.plot(cost_epoch)\n",
    "plt.show()"
   ]
  },
  {
   "cell_type": "code",
   "execution_count": 80,
   "id": "b5db2e00",
   "metadata": {},
   "outputs": [],
   "source": [
    "# R2 score, and other scores/errors check\n",
    "# Train test split also check"
   ]
  },
  {
   "cell_type": "code",
   "execution_count": null,
   "id": "9ceadf5c",
   "metadata": {},
   "outputs": [],
   "source": []
  }
 ],
 "metadata": {
  "kernelspec": {
   "display_name": "Python 3 (ipykernel)",
   "language": "python",
   "name": "python3"
  },
  "language_info": {
   "codemirror_mode": {
    "name": "ipython",
    "version": 3
   },
   "file_extension": ".py",
   "mimetype": "text/x-python",
   "name": "python",
   "nbconvert_exporter": "python",
   "pygments_lexer": "ipython3",
   "version": "3.11.1"
  }
 },
 "nbformat": 4,
 "nbformat_minor": 5
}

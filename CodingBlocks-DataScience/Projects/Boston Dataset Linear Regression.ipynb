{
 "cells": [
  {
   "cell_type": "code",
   "execution_count": 3,
   "id": "15ca69f5",
   "metadata": {},
   "outputs": [],
   "source": [
    "import numpy as np\n",
    "import matplotlib.pyplot as plt\n",
    "import pandas as pd"
   ]
  },
  {
   "cell_type": "code",
   "execution_count": 12,
   "id": "55aab19e",
   "metadata": {},
   "outputs": [],
   "source": [
    " data_url = \"http://lib.stat.cmu.edu/datasets/boston\"\n",
    "raw_df = pd.read_csv(data_url, sep=\"\\s+\", skiprows=22, header=None)\n",
    "# Selecting all columns except the last one, which is housing price.\n",
    "data = np.hstack([raw_df.values[::2, :], raw_df.values[1::2, :2]])\n",
    "# Last column, equals housing price\n",
    "target = raw_df.values[1::2, 2]"
   ]
  },
  {
   "cell_type": "code",
   "execution_count": 31,
   "id": "63da29ec",
   "metadata": {},
   "outputs": [],
   "source": [
    "train_data = data[:-100, :];\n",
    "train_target = target[:-100];\n",
    "test_data = data[-100:, :];\n",
    "test_target = target[-100:];"
   ]
  },
  {
   "cell_type": "code",
   "execution_count": 33,
   "id": "acdb6b0f",
   "metadata": {},
   "outputs": [
    {
     "data": {
      "text/plain": [
       "(406, 13)"
      ]
     },
     "execution_count": 33,
     "metadata": {},
     "output_type": "execute_result"
    }
   ],
   "source": [
    "# 506 data points, 13 types of fields\n",
    "train_data.shape"
   ]
  },
  {
   "cell_type": "code",
   "execution_count": 41,
   "id": "29ddcaac",
   "metadata": {
    "scrolled": true
   },
   "outputs": [],
   "source": [
    "train_mean = np.mean(train_data, axis = 0)\n",
    "test_mean = np.mean(test_data, axis = 0)"
   ]
  },
  {
   "cell_type": "code",
   "execution_count": 42,
   "id": "13ebf9c7",
   "metadata": {},
   "outputs": [
    {
     "data": {
      "text/plain": [
       "array([2.17604266e+00, 1.41625616e+01, 9.54467980e+00, 8.62068966e-02,\n",
       "       5.32526355e-01, 6.32953202e+00, 6.45667488e+01, 4.16112094e+00,\n",
       "       6.87438424e+00, 3.54453202e+02, 1.80369458e+01, 3.79859655e+02,\n",
       "       1.14230542e+01])"
      ]
     },
     "execution_count": 42,
     "metadata": {},
     "output_type": "execute_result"
    }
   ],
   "source": [
    "train_mean"
   ]
  },
  {
   "cell_type": "code",
   "execution_count": 43,
   "id": "61424865",
   "metadata": {},
   "outputs": [
    {
     "data": {
      "text/plain": [
       "array([7.27441931e+00, 2.52375059e+01, 6.53981894e+00, 2.80669321e-01,\n",
       "       1.14630686e-01, 7.31003695e-01, 2.90184849e+01, 2.18130911e+00,\n",
       "       6.59126785e+00, 1.32887547e+02, 2.21722201e+00, 4.04453794e+01,\n",
       "       6.86843200e+00])"
      ]
     },
     "execution_count": 43,
     "metadata": {},
     "output_type": "execute_result"
    }
   ],
   "source": [
    "train_std = np.std(train_data, axis = 0)\n",
    "test_std = np.std(test_data, axis = 0)\n",
    "train_std"
   ]
  },
  {
   "cell_type": "code",
   "execution_count": 44,
   "id": "8154617a",
   "metadata": {},
   "outputs": [],
   "source": [
    "train_stand = (train_data - train_mean)/train_std"
   ]
  },
  {
   "cell_type": "code",
   "execution_count": 53,
   "id": "9d6e5a41",
   "metadata": {},
   "outputs": [
    {
     "name": "stderr",
     "output_type": "stream",
     "text": [
      "C:\\Users\\lenovo\\AppData\\Local\\Temp\\ipykernel_1592\\3363381420.py:1: RuntimeWarning: invalid value encountered in divide\n",
      "  test_stand = (test_data - test_mean)/test_std\n"
     ]
    }
   ],
   "source": [
    "test_stand = (test_data - test_mean)/test_std"
   ]
  },
  {
   "cell_type": "code",
   "execution_count": 60,
   "id": "716e4191",
   "metadata": {},
   "outputs": [
    {
     "data": {
      "text/html": [
       "<div>\n",
       "<style scoped>\n",
       "    .dataframe tbody tr th:only-of-type {\n",
       "        vertical-align: middle;\n",
       "    }\n",
       "\n",
       "    .dataframe tbody tr th {\n",
       "        vertical-align: top;\n",
       "    }\n",
       "\n",
       "    .dataframe thead th {\n",
       "        text-align: right;\n",
       "    }\n",
       "</style>\n",
       "<table border=\"1\" class=\"dataframe\">\n",
       "  <thead>\n",
       "    <tr style=\"text-align: right;\">\n",
       "      <th></th>\n",
       "      <th>0</th>\n",
       "      <th>1</th>\n",
       "      <th>2</th>\n",
       "      <th>3</th>\n",
       "      <th>4</th>\n",
       "      <th>5</th>\n",
       "      <th>6</th>\n",
       "      <th>7</th>\n",
       "      <th>8</th>\n",
       "      <th>9</th>\n",
       "      <th>10</th>\n",
       "      <th>11</th>\n",
       "      <th>12</th>\n",
       "    </tr>\n",
       "  </thead>\n",
       "  <tbody>\n",
       "    <tr>\n",
       "      <th>0</th>\n",
       "      <td>-0.298267</td>\n",
       "      <td>0.152053</td>\n",
       "      <td>-1.106251</td>\n",
       "      <td>-0.307148</td>\n",
       "      <td>0.047750</td>\n",
       "      <td>0.335796</td>\n",
       "      <td>0.021822</td>\n",
       "      <td>-0.032605</td>\n",
       "      <td>-0.891237</td>\n",
       "      <td>-0.439870</td>\n",
       "      <td>-1.234403</td>\n",
       "      <td>0.421317</td>\n",
       "      <td>-0.938068</td>\n",
       "    </tr>\n",
       "    <tr>\n",
       "      <th>1</th>\n",
       "      <td>-0.295382</td>\n",
       "      <td>-0.561171</td>\n",
       "      <td>-0.378402</td>\n",
       "      <td>-0.307148</td>\n",
       "      <td>-0.554183</td>\n",
       "      <td>0.125127</td>\n",
       "      <td>0.493935</td>\n",
       "      <td>0.369493</td>\n",
       "      <td>-0.739521</td>\n",
       "      <td>-0.846228</td>\n",
       "      <td>-0.106866</td>\n",
       "      <td>0.421317</td>\n",
       "      <td>-0.332398</td>\n",
       "    </tr>\n",
       "    <tr>\n",
       "      <th>2</th>\n",
       "      <td>-0.295385</td>\n",
       "      <td>-0.561171</td>\n",
       "      <td>-0.378402</td>\n",
       "      <td>-0.307148</td>\n",
       "      <td>-0.554183</td>\n",
       "      <td>1.170265</td>\n",
       "      <td>-0.119467</td>\n",
       "      <td>0.369493</td>\n",
       "      <td>-0.739521</td>\n",
       "      <td>-0.846228</td>\n",
       "      <td>-0.106866</td>\n",
       "      <td>0.320688</td>\n",
       "      <td>-1.076382</td>\n",
       "    </tr>\n",
       "    <tr>\n",
       "      <th>3</th>\n",
       "      <td>-0.294686</td>\n",
       "      <td>-0.561171</td>\n",
       "      <td>-1.126129</td>\n",
       "      <td>-0.307148</td>\n",
       "      <td>-0.650143</td>\n",
       "      <td>0.914452</td>\n",
       "      <td>-0.646717</td>\n",
       "      <td>0.871531</td>\n",
       "      <td>-0.587806</td>\n",
       "      <td>-0.996731</td>\n",
       "      <td>0.299047</td>\n",
       "      <td>0.365192</td>\n",
       "      <td>-1.235079</td>\n",
       "    </tr>\n",
       "    <tr>\n",
       "      <th>4</th>\n",
       "      <td>-0.289644</td>\n",
       "      <td>-0.561171</td>\n",
       "      <td>-1.126129</td>\n",
       "      <td>-0.307148</td>\n",
       "      <td>-0.650143</td>\n",
       "      <td>1.118282</td>\n",
       "      <td>-0.357246</td>\n",
       "      <td>0.871531</td>\n",
       "      <td>-0.587806</td>\n",
       "      <td>-0.996731</td>\n",
       "      <td>0.299047</td>\n",
       "      <td>0.421317</td>\n",
       "      <td>-0.887110</td>\n",
       "    </tr>\n",
       "  </tbody>\n",
       "</table>\n",
       "</div>"
      ],
      "text/plain": [
       "         0         1         2         3         4         5         6   \\\n",
       "0 -0.298267  0.152053 -1.106251 -0.307148  0.047750  0.335796  0.021822   \n",
       "1 -0.295382 -0.561171 -0.378402 -0.307148 -0.554183  0.125127  0.493935   \n",
       "2 -0.295385 -0.561171 -0.378402 -0.307148 -0.554183  1.170265 -0.119467   \n",
       "3 -0.294686 -0.561171 -1.126129 -0.307148 -0.650143  0.914452 -0.646717   \n",
       "4 -0.289644 -0.561171 -1.126129 -0.307148 -0.650143  1.118282 -0.357246   \n",
       "\n",
       "         7         8         9         10        11        12  \n",
       "0 -0.032605 -0.891237 -0.439870 -1.234403  0.421317 -0.938068  \n",
       "1  0.369493 -0.739521 -0.846228 -0.106866  0.421317 -0.332398  \n",
       "2  0.369493 -0.739521 -0.846228 -0.106866  0.320688 -1.076382  \n",
       "3  0.871531 -0.587806 -0.996731  0.299047  0.365192 -1.235079  \n",
       "4  0.871531 -0.587806 -0.996731  0.299047  0.421317 -0.887110  "
      ]
     },
     "execution_count": 60,
     "metadata": {},
     "output_type": "execute_result"
    }
   ],
   "source": [
    "pd.DataFrame(train_stand).head()"
   ]
  },
  {
   "cell_type": "code",
   "execution_count": 64,
   "id": "4f5b09b4",
   "metadata": {},
   "outputs": [
    {
     "name": "stderr",
     "output_type": "stream",
     "text": [
      "C:\\Users\\lenovo\\AppData\\Local\\Temp\\ipykernel_1592\\1093489371.py:1: MatplotlibDeprecationWarning: The seaborn styles shipped by Matplotlib are deprecated since 3.6, as they no longer correspond to the styles shipped by seaborn. However, they will remain available as 'seaborn-v0_8-<style>'. Alternatively, directly use the seaborn API instead.\n",
      "  plt.style.use('seaborn')\n"
     ]
    },
    {
     "data": {
      "image/png": "[encoded data removed]",
      "text/plain": [
       "<Figure size 800x550 with 1 Axes>"
      ]
     },
     "metadata": {},
     "output_type": "display_data"
    }
   ],
   "source": [
    "plt.style.use('seaborn')\n",
    "# This shows that target doesn't vary linearly with most of the independent variables\n",
    "plt.scatter(train_stand[:, 2], train_target)\n",
    "plt.show()"
   ]
  },
  {
   "cell_type": "code",
   "execution_count": 80,
   "id": "869e4993",
   "metadata": {},
   "outputs": [],
   "source": [
    "X = train_stand;\n",
    "Y = train_target;"
   ]
  },
  {
   "cell_type": "code",
   "execution_count": 81,
   "id": "4ab09809",
   "metadata": {},
   "outputs": [
    {
     "data": {
      "text/plain": [
       "array([[ 1.        , -0.29826747,  0.152053  , -1.10625078, -0.30714756,\n",
       "         0.04775026,  0.33579581,  0.02182234, -0.0326047 , -0.89123737,\n",
       "        -0.43986968, -1.23440314,  0.42131747, -0.9380677 ],\n",
       "       [ 1.        , -0.29538202, -0.56117121, -0.37840188, -0.30714756,\n",
       "        -0.5541828 ,  0.12512656,  0.4939352 ,  0.36949328, -0.73952149,\n",
       "        -0.8462283 , -0.10686607,  0.42131747, -0.33239816],\n",
       "       [ 1.        , -0.29538477, -0.56117121, -0.37840188, -0.30714756,\n",
       "        -0.5541828 ,  1.17026492, -0.11946691,  0.36949328, -0.73952149,\n",
       "        -0.8462283 , -0.10686607,  0.32068793, -1.07638165],\n",
       "       [ 1.        , -0.29468643, -0.56117121, -1.12612901, -0.30714756,\n",
       "        -0.65014315,  0.91445226, -0.64671704,  0.87153125, -0.58780561,\n",
       "        -0.99673149,  0.29904727,  0.36519239, -1.23507872]])"
      ]
     },
     "execution_count": 81,
     "metadata": {},
     "output_type": "execute_result"
    }
   ],
   "source": [
    "ones = np.ones((X.shape[0], 1))\n",
    "X = np.hstack((ones, X))\n",
    "X[:4, :]"
   ]
  },
  {
   "cell_type": "code",
   "execution_count": 89,
   "id": "0479cc1b",
   "metadata": {},
   "outputs": [],
   "source": [
    "# This is for 1 data point.\n",
    "# When the data point would change, the x column vector would also change.\n",
    "# Both theta and x would be column vectors. \n",
    "def hypothesis(x, thetas):\n",
    "    y = 0\n",
    "    n = x.shape[0]\n",
    "\n",
    "    for i in range(n):\n",
    "        y += thetas[i]*x[i]\n",
    "\n",
    "    return y"
   ]
  },
  {
   "cell_type": "code",
   "execution_count": 90,
   "id": "237c0da0",
   "metadata": {},
   "outputs": [],
   "source": [
    "# X is the full 2d array.\n",
    "# Will iterate through the array, it has data points arranged in rows.\n",
    "# In each row, there would be values for all fields.\n",
    "# Will pick one row(data point), and current thetas at a time.\n",
    "# Will loop through all data points and corresponding target points.\n",
    "# Will add all errors and return the average\n",
    "def cost(X, Y, thetas):\n",
    "    m = X.shape[0]\n",
    "    total_error = 0\n",
    "\n",
    "    for i in range(m):\n",
    "        y_p = hypothesis(X[i], thetas)\n",
    "\n",
    "        total_error += (y_p - Y[i])**2\n",
    "\n",
    "    return total_error/m"
   ]
  },
  {
   "cell_type": "code",
   "execution_count": 91,
   "id": "a902426d",
   "metadata": {},
   "outputs": [],
   "source": [
    "# We loop through all data points row wise\n",
    "# For 1 theta Q, the partial derivative equals:-\n",
    "# Difference of {Sum over all data points[(predicted - true) * Coefficient]}\n",
    "# This is exactly what is done below.\n",
    "# In one go, we calculate gradients for all thetas.\n",
    "# And we divide them by #of data points, to prevent values from becoming too large.\n",
    "# This 1/m is at the place where 1/2 appears in the expression.\n",
    "\n",
    "# Note:- This will be run after every updation of the set of thetas.\n",
    "# Instead of updating theta one by one and using it in th next theta's calculation,\n",
    "# here, the all thetas are calculated at once, and then updated.\n",
    "# As seen previously, it makes no difference.\n",
    "def gradient(X, Y, theta):\n",
    "#     m  = #data points, n = #Fields\n",
    "    m, n = X.shape\n",
    "    \n",
    "#     Because n is also = #thetas ( = # fields with 1  already added)\n",
    "    grad = np.zeros((n,))\n",
    "\n",
    "    for j in range(n):\n",
    "        for i in range(m):\n",
    "\n",
    "            x = X[i]\n",
    "\n",
    "            y_p = hypothesis(x, theta)\n",
    "\n",
    "            y_t = Y[i]\n",
    "\n",
    "            grad[j] += (y_p - y_t)*x[j]\n",
    "\n",
    "    return grad/m"
   ]
  },
  {
   "cell_type": "code",
   "execution_count": 92,
   "id": "74c0d9c3",
   "metadata": {},
   "outputs": [],
   "source": [
    "def gradient_descent(X, Y, learning_rate = 0.001, max_steps = 3000):\n",
    "    \n",
    "    m, n = X.shape\n",
    "    theta = np.zeros((n, ))\n",
    "    cost_epoch = []\n",
    "\n",
    "    for i in range(max_steps):\n",
    "\n",
    "#         Gradient vector for all thetas\n",
    "        grad = gradient(X, Y, theta)\n",
    "        \n",
    "        e = cost(X, Y, theta)\n",
    "        cost_epoch.append(e)\n",
    "\n",
    "        for j in range(n):\n",
    "#           Updating all thetas at once, using their gradient.\n",
    "#           An alternate way is find gradient of 1 theta, find its value, use that value to find gradient of another theta\n",
    "#           and so on. It makes no difference in practice. This code is much simpler to write.\n",
    "            theta[j] = theta[j] - learning_rate*grad[j]\n",
    "\n",
    "    return theta, cost_epoch"
   ]
  },
  {
   "cell_type": "code",
   "execution_count": 93,
   "id": "9a07448c",
   "metadata": {},
   "outputs": [],
   "source": [
    "theta, cost_epoch = gradient_descent(X, Y, learning_rate=0.1, max_steps = 200)"
   ]
  },
  {
   "cell_type": "code",
   "execution_count": 94,
   "id": "c1ff0a53",
   "metadata": {},
   "outputs": [
    {
     "data": {
      "text/plain": [
       "array([24.08990146, -1.34925841,  1.0560573 ,  0.1985714 ,  0.56059603,\n",
       "       -1.60951376,  3.51457791,  0.03520847, -2.821495  ,  2.6315173 ,\n",
       "       -1.68660888, -1.75918785, -0.05668996, -3.63949559])"
      ]
     },
     "execution_count": 94,
     "metadata": {},
     "output_type": "execute_result"
    }
   ],
   "source": [
    "theta"
   ]
  },
  {
   "cell_type": "code",
   "execution_count": 95,
   "id": "80865904",
   "metadata": {},
   "outputs": [
    {
     "data": {
      "text/plain": [
       "[22.72117673030725,\n",
       " 22.72043777546791,\n",
       " 22.719713283613206,\n",
       " 22.719002957246214,\n",
       " 22.718306505451913,\n",
       " 22.71762364373716,\n",
       " 22.716954093874985,\n",
       " 22.716297583753096,\n",
       " 22.715653847226346,\n",
       " 22.71502262397335]"
      ]
     },
     "execution_count": 95,
     "metadata": {},
     "output_type": "execute_result"
    }
   ],
   "source": [
    "cost_epoch[-10:]\n"
   ]
  },
  {
   "cell_type": "code",
   "execution_count": 96,
   "id": "0de57c64",
   "metadata": {},
   "outputs": [
    {
     "data": {
      "image/png": "[encoded data removed]",
      "text/plain": [
       "<Figure size 800x550 with 1 Axes>"
      ]
     },
     "metadata": {},
     "output_type": "display_data"
    }
   ],
   "source": [
    "plt.plot(cost_epoch)\n",
    "plt.show()"
   ]
  },
  {
   "cell_type": "code",
   "execution_count": 102,
   "id": "fa6e18bc",
   "metadata": {},
   "outputs": [],
   "source": [
    "# Testing the results"
   ]
  },
  {
   "cell_type": "code",
   "execution_count": 107,
   "id": "8e18e421",
   "metadata": {},
   "outputs": [
    {
     "name": "stdout",
     "output_type": "stream",
     "text": [
      "[[ 1.          1.0445471          nan  0.14438313]\n",
      " [ 1.          0.23191172         nan  0.14438313]\n",
      " [ 1.         -0.18967203         nan  0.14438313]\n",
      " [ 1.          0.46250654         nan  0.14438313]] (100, 14)\n"
     ]
    }
   ],
   "source": [
    "Xtest = test_stand\n",
    "Ytest = test_target\n",
    "ones = np.ones((Xtest.shape[0], 1))\n",
    "Xtest = np.hstack((ones, Xtest))\n",
    "print(Xtest[:4, :4], Xtest.shape)"
   ]
  },
  {
   "cell_type": "code",
   "execution_count": 108,
   "id": "db76f40e",
   "metadata": {},
   "outputs": [],
   "source": [
    "y_pred_test = []\n",
    "\n",
    "for i in range(Xtest.shape[0]):\n",
    "    pred = hypothesis(Xtest[i], theta)\n",
    "    y_pred_test.append(pred)\n",
    "\n",
    "y_pred_test = np.array(y_pred_test)"
   ]
  },
  {
   "cell_type": "code",
   "execution_count": 110,
   "id": "6b32c15d",
   "metadata": {},
   "outputs": [
    {
     "name": "stdout",
     "output_type": "stream",
     "text": [
      "nan 11.9\n",
      "nan 27.9\n",
      "nan 17.2\n",
      "nan 27.5\n",
      "nan 15.0\n",
      "nan 17.2\n",
      "nan 17.9\n",
      "nan 16.3\n",
      "nan 7.0\n",
      "nan 7.2\n",
      "nan 7.5\n",
      "nan 10.4\n",
      "nan 8.8\n",
      "nan 8.4\n",
      "nan 16.7\n",
      "nan 14.2\n",
      "nan 20.8\n",
      "nan 13.4\n",
      "nan 11.7\n",
      "nan 8.3\n",
      "nan 10.2\n",
      "nan 10.9\n",
      "nan 11.0\n",
      "nan 9.5\n",
      "nan 14.5\n",
      "nan 14.1\n",
      "nan 16.1\n",
      "nan 14.3\n",
      "nan 11.7\n",
      "nan 13.4\n",
      "nan 9.6\n",
      "nan 8.7\n",
      "nan 8.4\n",
      "nan 12.8\n",
      "nan 10.5\n",
      "nan 17.1\n",
      "nan 18.4\n",
      "nan 15.4\n",
      "nan 10.8\n",
      "nan 11.8\n",
      "nan 14.9\n",
      "nan 12.6\n",
      "nan 14.1\n",
      "nan 13.0\n",
      "nan 13.4\n",
      "nan 15.2\n",
      "nan 16.1\n",
      "nan 17.8\n",
      "nan 14.9\n",
      "nan 14.1\n",
      "nan 12.7\n",
      "nan 13.5\n",
      "nan 14.9\n",
      "nan 20.0\n",
      "nan 16.4\n",
      "nan 17.7\n",
      "nan 19.5\n",
      "nan 20.2\n",
      "nan 21.4\n",
      "nan 19.9\n",
      "nan 19.0\n",
      "nan 19.1\n",
      "nan 19.1\n",
      "nan 20.1\n",
      "nan 19.9\n",
      "nan 19.6\n",
      "nan 23.2\n",
      "nan 29.8\n",
      "nan 13.8\n",
      "nan 13.3\n",
      "nan 16.7\n",
      "nan 12.0\n",
      "nan 14.6\n",
      "nan 21.4\n",
      "nan 23.0\n",
      "nan 23.7\n",
      "nan 25.0\n",
      "nan 21.8\n",
      "nan 20.6\n",
      "nan 21.2\n",
      "nan 19.1\n",
      "nan 20.6\n",
      "nan 15.2\n",
      "nan 7.0\n",
      "nan 8.1\n",
      "nan 13.6\n",
      "nan 20.1\n",
      "nan 21.8\n",
      "nan 24.5\n",
      "nan 23.1\n",
      "nan 19.7\n",
      "nan 18.3\n",
      "nan 21.2\n",
      "nan 17.5\n",
      "nan 16.8\n",
      "nan 22.4\n",
      "nan 20.6\n",
      "nan 23.9\n",
      "nan 22.0\n",
      "nan 11.9\n"
     ]
    }
   ],
   "source": [
    "for i in range(len(y_pred_test)):\n",
    "    print(y_pred_test[i], Ytest[i])\n",
    "     "
   ]
  },
  {
   "cell_type": "code",
   "execution_count": null,
   "id": "471ca19e",
   "metadata": {},
   "outputs": [],
   "source": [
    "# Run after removing nan\n",
    "from sklearn import metrics\n",
    "\n",
    "print('MAE:', metrics.mean_absolute_error(Ytest, y_pred_test))\n",
    "print('MSE:', metrics.mean_squared_error(Ytest, y_pred_test))\n",
    "print('RMSE:', np.sqrt(metrics.mean_squared_error(Ytest, y_pred_test)))"
   ]
  },
  {
   "cell_type": "code",
   "execution_count": 97,
   "id": "8e1a10e6",
   "metadata": {},
   "outputs": [],
   "source": [
    "# Replacing the above loops with np functions (dot, etc)"
   ]
  },
  {
   "cell_type": "code",
   "execution_count": 98,
   "id": "790d8066",
   "metadata": {},
   "outputs": [],
   "source": [
    "def hypothesis(x, theta):\n",
    "    return np.dot(x, theta)\n",
    "     "
   ]
  },
  {
   "cell_type": "code",
   "execution_count": 99,
   "id": "eeca0e5c",
   "metadata": {},
   "outputs": [],
   "source": [
    "def cost(X, Y, theta):\n",
    "    m = X.shape[0]\n",
    "    total_error = 0\n",
    "\n",
    "    y_p = hypothesis(X, theta)\n",
    "    total_error = np.sum((y_p - Y)**2)\n",
    "\n",
    "    return total_error/m"
   ]
  },
  {
   "cell_type": "code",
   "execution_count": 100,
   "id": "ac2f6ef1",
   "metadata": {},
   "outputs": [],
   "source": [
    "def gradient(X, Y, theta):\n",
    "    y_p = hypothesis(X, theta)\n",
    "\n",
    "    grad = np.dot(X.T, (y_p - Y))\n",
    "\n",
    "    return grad/X.shape[0]\n"
   ]
  },
  {
   "cell_type": "code",
   "execution_count": 101,
   "id": "8e11d442",
   "metadata": {},
   "outputs": [],
   "source": [
    "\n",
    "def gradient_descent(X, Y, learning_rate = 0.001, max_steps = 1000):\n",
    "\n",
    "    m, n = X.shape\n",
    "    theta = np.zeros((n, ))\n",
    "    cost_epoch = []\n",
    "\n",
    "    for i in range(max_steps):\n",
    "\n",
    "        grad = gradient(X, Y, theta)\n",
    "\n",
    "        e = cost(X, Y, theta)\n",
    "        cost_epoch.append(e)\n",
    "\n",
    "        theta = theta - learning_rate*grad\n",
    "\n",
    "    return theta, cost_epoch"
   ]
  },
  {
   "cell_type": "code",
   "execution_count": null,
   "id": "e5d9c441",
   "metadata": {},
   "outputs": [],
   "source": []
  }
 ],
 "metadata": {
  "kernelspec": {
   "display_name": "Python 3 (ipykernel)",
   "language": "python",
   "name": "python3"
  },
  "language_info": {
   "codemirror_mode": {
    "name": "ipython",
    "version": 3
   },
   "file_extension": ".py",
   "mimetype": "text/x-python",
   "name": "python",
   "nbconvert_exporter": "python",
   "pygments_lexer": "ipython3",
   "version": "3.11.1"
  }
 },
 "nbformat": 4,
 "nbformat_minor": 5
}

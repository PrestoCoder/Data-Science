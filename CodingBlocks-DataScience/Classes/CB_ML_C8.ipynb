{
 "cells": [
  {
   "cell_type": "code",
   "execution_count": 11,
   "id": "98fff468",
   "metadata": {},
   "outputs": [
    {
     "name": "stdout",
     "output_type": "stream",
     "text": [
      "Please input name:- R1\n",
      "Please input age:- 1\n",
      "Please input rollNum:-1\n",
      "Please input name:- R2\n",
      "Please input age:- 2\n",
      "Please input rollNum:-2\n",
      "Please input name:- R3\n",
      "Please input age:- 3\n",
      "Please input rollNum:-3\n",
      "Name =  R1\n",
      "Age =  1\n",
      "RollNum =  1\n",
      "Name =  R2\n",
      "Age =  2\n",
      "RollNum =  2\n",
      "Name =  R3\n",
      "Age =  3\n",
      "RollNum =  3\n"
     ]
    }
   ],
   "source": [
    "class Person:\n",
    "    def __init__(self):\n",
    "        self.name = input(\"Please input name:- \")\n",
    "        self.age = int(input(\"Please input age:- \"))\n",
    "        self.rollNum = int(input(\"Please input rollNum:-\"))\n",
    "        \n",
    "    def printAttributes(self):\n",
    "        print(\"Name = \", self.name)\n",
    "        print(\"Age = \", self.age)\n",
    "        print(\"RollNum = \", self.rollNum)\n",
    "\n",
    "pList = [];\n",
    "for i in range(3):\n",
    "    pList.append(Person())\n",
    "for i in range(3):    \n",
    "    pList[i].printAttributes()"
   ]
  },
  {
   "cell_type": "code",
   "execution_count": 58,
   "id": "4d914a11",
   "metadata": {},
   "outputs": [],
   "source": [
    "# More dunders:- __add__, __del__, __str__, __eq__, \n",
    "# Only __init__ is the dunder called on object creation.\n",
    "# Custom made dunders don't make sense"
   ]
  },
  {
   "cell_type": "code",
   "execution_count": 69,
   "id": "9d95315c",
   "metadata": {},
   "outputs": [],
   "source": [
    "class Car:\n",
    "    def __init__(self, model, mileage):\n",
    "        self.model = model\n",
    "        self.mileage = mileage\n",
    "        \n",
    "    # The below magic functions help us overload the str(), ==, +, respectively\n",
    "    # This is already being used for classes like list and string, where + sign\n",
    "    # helps to concatenate lists or strings.\n",
    "    \n",
    "    def __str__(self):\n",
    "        return \"{} {}\".format(self.model, self.mileage)\n",
    "    # Or \"{self.model} {self.mileage}\"\n",
    "    \n",
    "    def __eq__(self, other):\n",
    "        return self.mileage == other.mileage\n",
    "        \n",
    "    def __add__(self, other):\n",
    "        return self.mileage + other.mileage\n"
   ]
  },
  {
   "cell_type": "code",
   "execution_count": 70,
   "id": "52c50552",
   "metadata": {},
   "outputs": [],
   "source": [
    "c1 = Car(\"a\", 4)\n",
    "c2 = Car('b', 5)"
   ]
  },
  {
   "cell_type": "code",
   "execution_count": 71,
   "id": "a2c98978",
   "metadata": {},
   "outputs": [
    {
     "name": "stdout",
     "output_type": "stream",
     "text": [
      "a 4 a 4\n",
      "False False\n",
      "9 9\n"
     ]
    }
   ],
   "source": [
    "print(str(c1), c1.__str__())\n",
    "print(c1 == c2, c1.__eq__(c2))\n",
    "print(c1 + c2, c1.__add__(c2))"
   ]
  },
  {
   "cell_type": "code",
   "execution_count": 90,
   "id": "1c9de807",
   "metadata": {},
   "outputs": [],
   "source": [
    "class Dog:\n",
    "    tricks = []\n",
    "    def __init__(self, name, breed):\n",
    "        self.name = name\n",
    "        self.breed = breed\n",
    "        \n",
    "    def teachTricks(self, *args):\n",
    "        for i in args:\n",
    "            self.tricks.append(i)\n",
    "        \n",
    "dog1 = Dog(\"tuffy\", 'labrador')\n",
    "dog1.teachTricks(\"sit\", \"fetch\")"
   ]
  },
  {
   "cell_type": "code",
   "execution_count": 91,
   "id": "d6a2e90f",
   "metadata": {},
   "outputs": [
    {
     "data": {
      "text/plain": [
       "['sit', 'fetch']"
      ]
     },
     "execution_count": 91,
     "metadata": {},
     "output_type": "execute_result"
    }
   ],
   "source": [
    "dog1.tricks"
   ]
  },
  {
   "cell_type": "code",
   "execution_count": 99,
   "id": "af8f4724",
   "metadata": {},
   "outputs": [
    {
     "name": "stdout",
     "output_type": "stream",
     "text": [
      "['sit', 'fetch']\n"
     ]
    }
   ],
   "source": [
    "# But the problem with this is that now all dogs would've learnt the trick as tricks still behaves as static.\n",
    "# This problem would occur whenever a mutable attribute is there.\n",
    "# Because there is no assignment, self.tricks will still refer to the original object, and append in it.\n",
    "# A new memory location would be allocated only '=' would be done.\n",
    "dog2 = Dog(\"shampoo\", 'labrador')\n",
    "print(dog2.tricks)"
   ]
  },
  {
   "cell_type": "code",
   "execution_count": 100,
   "id": "ff3c2ff4",
   "metadata": {},
   "outputs": [
    {
     "name": "stdout",
     "output_type": "stream",
     "text": [
      "[] ['sit', 'fetch']\n"
     ]
    }
   ],
   "source": [
    "# Using assignment\n",
    "# New tricks object created for dog2, but dog1 still the same\n",
    "dog2.tricks = []\n",
    "print(dog2.tricks, dog1.tricks)"
   ]
  },
  {
   "cell_type": "code",
   "execution_count": 110,
   "id": "7acd6eef",
   "metadata": {},
   "outputs": [],
   "source": [
    "# To avoid this, we can add self.tricks = [], in __init__, assignment creates a new object for each self.\n",
    "class Dog2:\n",
    "    tricks = [\"dance\"];\n",
    "    def __init__(self):\n",
    "        # New object for the self.\n",
    "        self.tricks = []\n",
    "        \n",
    "    def teachTricks(self, *args):\n",
    "        for i in args:\n",
    "            self.tricks.append(i)"
   ]
  },
  {
   "cell_type": "code",
   "execution_count": 112,
   "id": "529e944e",
   "metadata": {},
   "outputs": [
    {
     "name": "stdout",
     "output_type": "stream",
     "text": [
      "['sit', 'fetch'] []\n"
     ]
    },
    {
     "data": {
      "text/plain": [
       "['dance']"
      ]
     },
     "execution_count": 112,
     "metadata": {},
     "output_type": "execute_result"
    }
   ],
   "source": [
    "# Now, tricks won't be shared.\n",
    "d1 = Dog2()\n",
    "d2 = Dog2()\n",
    "d1.teachTricks(\"sit\", \"fetch\")\n",
    "print(d1.tricks, d2.tricks)\n",
    "# Here the class will still have the tricks as static, although it doesn't make much sense\n",
    "# As, whenever an object will be created, due to init, tricks will be overriden\n",
    "Dog2.tricks"
   ]
  },
  {
   "cell_type": "code",
   "execution_count": 118,
   "id": "27ce6748",
   "metadata": {},
   "outputs": [
    {
     "name": "stdout",
     "output_type": "stream",
     "text": [
      "1672942787072\n",
      "1672942787072\n",
      "1672942787072\n",
      "1672942787072\n",
      "['sit', 'fetch'] ['sit', 'fetch']\n"
     ]
    }
   ],
   "source": [
    "# Below, it seems as though all objects would have their own copies tricks, but when the class is created, the trick = []\n",
    "# is executed then only. Thus, there exists only 1 trick = []. \n",
    "# Thus, all objects will still point to the same list.\n",
    "class Dog2:\n",
    "    def __init__(self, trick = []):\n",
    "        # New object for the self.\n",
    "        # All 4 print statements give the same result\n",
    "        print(id(trick))\n",
    "        self.tricks = trick\n",
    "        print(id(self.tricks))\n",
    "        \n",
    "    def teachTricks(self, *args):\n",
    "        for i in args:\n",
    "            self.tricks.append(i)\n",
    "            \n",
    "d1 = Dog2()\n",
    "d1.teachTricks(\"sit\", \"fetch\")\n",
    "d2 = Dog2()\n",
    "print(d1.tricks, d2.tricks)"
   ]
  },
  {
   "cell_type": "code",
   "execution_count": 119,
   "id": "ff0360a9",
   "metadata": {},
   "outputs": [
    {
     "name": "stdout",
     "output_type": "stream",
     "text": [
      "['sit', 'fetch'] []\n"
     ]
    }
   ],
   "source": [
    "# But if\n",
    "d2.tricks = [];\n",
    "print(d1.tricks, d2.tricks)"
   ]
  },
  {
   "cell_type": "code",
   "execution_count": null,
   "id": "acd73026",
   "metadata": {},
   "outputs": [],
   "source": []
  }
 ],
 "metadata": {
  "kernelspec": {
   "display_name": "Python 3 (ipykernel)",
   "language": "python",
   "name": "python3"
  },
  "language_info": {
   "codemirror_mode": {
    "name": "ipython",
    "version": 3
   },
   "file_extension": ".py",
   "mimetype": "text/x-python",
   "name": "python",
   "nbconvert_exporter": "python",
   "pygments_lexer": "ipython3",
   "version": "3.11.1"
  }
 },
 "nbformat": 4,
 "nbformat_minor": 5
}

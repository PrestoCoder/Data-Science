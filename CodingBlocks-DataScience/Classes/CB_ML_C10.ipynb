{
 "cells": [
  {
   "cell_type": "markdown",
   "id": "253fc40e",
   "metadata": {},
   "source": [
    "## Multiple Inheritance"
   ]
  },
  {
   "cell_type": "code",
   "execution_count": 14,
   "id": "9074388c",
   "metadata": {},
   "outputs": [
    {
     "name": "stdout",
     "output_type": "stream",
     "text": [
      "__init__ called for A\n",
      "__init__ called for B\n",
      "__init__ called for C\n",
      "Printing yoyo\n"
     ]
    }
   ],
   "source": [
    "class A:\n",
    "    def __init__(self):\n",
    "        print(\"__init__ called for A\")\n",
    "        \n",
    "    def m(self):\n",
    "        print(\"In class A\")\n",
    "        \n",
    "#     Overloading\n",
    "    def m(self, word):\n",
    "        print(\"Printing\", word)\n",
    "        \n",
    "class B:\n",
    "    def __init__(self):\n",
    "        print(\"__init__ called for B\")\n",
    "        \n",
    "    def m(self):\n",
    "        print(\"In class B\")\n",
    "        \n",
    "class C(A,B):\n",
    "    def __init__(self):\n",
    "        A.__init__(self)\n",
    "        B.__init__(self)\n",
    "        print(\"__init__ called for C\")\n",
    "\n",
    "c = C()\n",
    "# Both A and B have m, but the below will call the A's one\n",
    "# Had B been written before, we would've called B's m()\n",
    "# Similarly, for now, super() will work for A, but if B written before, it'll work for B\n",
    "# Even if we have a function with same name in A n B, with the one in B an overloaded form of the one in A,\n",
    "# Still, it'll give an error saying that the function in A accepts lesser number of arguments\n",
    "c.m(\"yoyo\")\n"
   ]
  },
  {
   "cell_type": "markdown",
   "id": "83b18e7e",
   "metadata": {},
   "source": [
    "## Packages\n",
    "Basically the folders in which modules are stored\n",
    "We can define a file called __init__.py in a package folder, which can contain:- __all__ = [<\"Names of all modules we would like to be public, and importable from this package\">]\n",
    "The modules not mentioned in __all__ will not get imported if say we write from xyz import *."
   ]
  },
  {
   "cell_type": "markdown",
   "id": "7fc33732",
   "metadata": {},
   "source": [
    "## Iterators and Generators"
   ]
  },
  {
   "cell_type": "code",
   "execution_count": 37,
   "id": "3d591152",
   "metadata": {},
   "outputs": [],
   "source": [
    "x = [1, 2, 3, 4]\n",
    "# Makes it capable of being iterated by next, or simply, makes it iterable\n",
    "x = iter(x)"
   ]
  },
  {
   "cell_type": "code",
   "execution_count": 38,
   "id": "b1ef9865",
   "metadata": {},
   "outputs": [
    {
     "data": {
      "text/plain": [
       "1"
      ]
     },
     "execution_count": 38,
     "metadata": {},
     "output_type": "execute_result"
    }
   ],
   "source": [
    "next(x)"
   ]
  },
  {
   "cell_type": "code",
   "execution_count": 39,
   "id": "36b6f56c",
   "metadata": {},
   "outputs": [
    {
     "data": {
      "text/plain": [
       "2"
      ]
     },
     "execution_count": 39,
     "metadata": {},
     "output_type": "execute_result"
    }
   ],
   "source": [
    "next(x)"
   ]
  },
  {
   "cell_type": "code",
   "execution_count": 40,
   "id": "acba1309",
   "metadata": {},
   "outputs": [
    {
     "data": {
      "text/plain": [
       "3"
      ]
     },
     "execution_count": 40,
     "metadata": {},
     "output_type": "execute_result"
    }
   ],
   "source": [
    "next(x)"
   ]
  },
  {
   "cell_type": "code",
   "execution_count": 41,
   "id": "073e0d34",
   "metadata": {},
   "outputs": [
    {
     "data": {
      "text/plain": [
       "4"
      ]
     },
     "execution_count": 41,
     "metadata": {},
     "output_type": "execute_result"
    }
   ],
   "source": [
    "next(x)"
   ]
  },
  {
   "cell_type": "code",
   "execution_count": 42,
   "id": "eb794445",
   "metadata": {},
   "outputs": [
    {
     "ename": "StopIteration",
     "evalue": "",
     "output_type": "error",
     "traceback": [
      "\u001b[1;31m---------------------------------------------------------------------------\u001b[0m",
      "\u001b[1;31mStopIteration\u001b[0m                             Traceback (most recent call last)",
      "Cell \u001b[1;32mIn[42], line 1\u001b[0m\n\u001b[1;32m----> 1\u001b[0m \u001b[38;5;28;43mnext\u001b[39;49m\u001b[43m(\u001b[49m\u001b[43mx\u001b[49m\u001b[43m)\u001b[49m\n",
      "\u001b[1;31mStopIteration\u001b[0m: "
     ]
    }
   ],
   "source": [
    "next(x)"
   ]
  },
  {
   "cell_type": "code",
   "execution_count": 63,
   "id": "07887d3e",
   "metadata": {},
   "outputs": [
    {
     "name": "stdout",
     "output_type": "stream",
     "text": [
      "1\n",
      "1\n",
      "2\n",
      "3\n",
      "5\n",
      "8\n",
      "13\n",
      "21\n",
      "34\n",
      "55\n"
     ]
    }
   ],
   "source": [
    "# Fibo:- 0, 1, 1, 2, 3, 5, 8, ...\n",
    "# a = 0\n",
    "# b = 1\n",
    "# c = a + b\n",
    "# for i in range(5):\n",
    "#     print(c)\n",
    "#     a = b\n",
    "#     b = c\n",
    "#     c = a + b\n",
    "    \n",
    "class fibo:\n",
    "    count1 = 0\n",
    "    count2 = 1\n",
    "    n = 10\n",
    "    def __init__(self):\n",
    "        if(self.n > 0):\n",
    "            print(self.count1)\n",
    "            temp = self.count2\n",
    "            self.count2 = self.count1 + self.count2\n",
    "            self.count1 = temp\n",
    "            self.n -= 1\n",
    "            self.__init__()\n",
    "            \n",
    "class fibo2:\n",
    "    def __init__(self):\n",
    "        self.prev = 0\n",
    "        self.curr = 1\n",
    "        \n",
    "    # __iter__ is called when iter(x) is done\n",
    "    # Had this not been done, iter(f) would've given an error, calling the object to be uniterable\n",
    "    # Because the standard next is defined for iterable objects, like list, tuple, dictionary.\n",
    "    # But we define our own next, so that we can iterator\n",
    "    def __iter__(self):\n",
    "        return self\n",
    "    \n",
    "    def __next__(self):\n",
    "        value = self.curr\n",
    "        self.curr += self.prev\n",
    "        self.prev = value\n",
    "        return value\n",
    "\n",
    "f = fibo2()\n",
    "f = iter(f)\n",
    "for i in range(10):\n",
    "    print(next(f))"
   ]
  },
  {
   "cell_type": "markdown",
   "id": "21d99def",
   "metadata": {},
   "source": [
    "## Generators"
   ]
  },
  {
   "cell_type": "code",
   "execution_count": 75,
   "id": "0066ff74",
   "metadata": {},
   "outputs": [],
   "source": [
    "prev, curr = 0, 1"
   ]
  },
  {
   "cell_type": "code",
   "execution_count": 78,
   "id": "b4477476",
   "metadata": {},
   "outputs": [
    {
     "name": "stdout",
     "output_type": "stream",
     "text": [
      "3\n"
     ]
    }
   ],
   "source": [
    "# This prints fibonacci step by step\n",
    "def fib(prev, curr):\n",
    "    prev, curr = curr, prev+curr\n",
    "    print(curr)\n",
    "    return prev, curr\n",
    "\n",
    "prev, curr = fib(prev, curr)\n",
    "    "
   ]
  },
  {
   "cell_type": "code",
   "execution_count": 96,
   "id": "b67ed29a",
   "metadata": {},
   "outputs": [],
   "source": [
    "# Basically yield returns a value, but doesn't exit the function\n",
    "# This function's current state, with values of all variables is stored\n",
    "# And when next() is called, it executes the loop again\n",
    "def fib():\n",
    "    prev, curr = 0, 1\n",
    "#     Could've used simple for as well, next would give error for any more iterations\n",
    "    while True:\n",
    "        yield curr\n",
    "        prev, curr = curr, prev + curr"
   ]
  },
  {
   "cell_type": "code",
   "execution_count": 97,
   "id": "8b91c772",
   "metadata": {},
   "outputs": [
    {
     "data": {
      "text/plain": [
       "function"
      ]
     },
     "execution_count": 97,
     "metadata": {},
     "output_type": "execute_result"
    }
   ],
   "source": [
    "type(fib)\n",
    "# Because it for now doesn't know about the presence of yield inside the definition"
   ]
  },
  {
   "cell_type": "code",
   "execution_count": 98,
   "id": "5f274da5",
   "metadata": {},
   "outputs": [
    {
     "data": {
      "text/plain": [
       "generator"
      ]
     },
     "execution_count": 98,
     "metadata": {},
     "output_type": "execute_result"
    }
   ],
   "source": [
    "gen = fib()\n",
    "type(gen)"
   ]
  },
  {
   "cell_type": "code",
   "execution_count": 99,
   "id": "cf1fd672",
   "metadata": {},
   "outputs": [
    {
     "data": {
      "text/plain": [
       "1"
      ]
     },
     "execution_count": 99,
     "metadata": {},
     "output_type": "execute_result"
    }
   ],
   "source": [
    "next(gen)"
   ]
  },
  {
   "cell_type": "code",
   "execution_count": 100,
   "id": "b02aedfd",
   "metadata": {},
   "outputs": [
    {
     "data": {
      "text/plain": [
       "1"
      ]
     },
     "execution_count": 100,
     "metadata": {},
     "output_type": "execute_result"
    }
   ],
   "source": [
    "next(gen)"
   ]
  },
  {
   "cell_type": "code",
   "execution_count": 101,
   "id": "70e1aabf",
   "metadata": {},
   "outputs": [
    {
     "data": {
      "text/plain": [
       "2"
      ]
     },
     "execution_count": 101,
     "metadata": {},
     "output_type": "execute_result"
    }
   ],
   "source": [
    "next(gen)"
   ]
  },
  {
   "cell_type": "code",
   "execution_count": 102,
   "id": "59ff52ec",
   "metadata": {},
   "outputs": [
    {
     "data": {
      "text/plain": [
       "3"
      ]
     },
     "execution_count": 102,
     "metadata": {},
     "output_type": "execute_result"
    }
   ],
   "source": [
    "next(gen)"
   ]
  },
  {
   "cell_type": "code",
   "execution_count": 103,
   "id": "a11869f9",
   "metadata": {},
   "outputs": [
    {
     "data": {
      "text/plain": [
       "5"
      ]
     },
     "execution_count": 103,
     "metadata": {},
     "output_type": "execute_result"
    }
   ],
   "source": [
    "next(gen)"
   ]
  },
  {
   "cell_type": "code",
   "execution_count": 104,
   "id": "a4412ad9",
   "metadata": {},
   "outputs": [
    {
     "data": {
      "text/plain": [
       "8"
      ]
     },
     "execution_count": 104,
     "metadata": {},
     "output_type": "execute_result"
    }
   ],
   "source": [
    "next(gen)"
   ]
  },
  {
   "cell_type": "code",
   "execution_count": null,
   "id": "2f22361b",
   "metadata": {},
   "outputs": [],
   "source": []
  }
 ],
 "metadata": {
  "kernelspec": {
   "display_name": "Python 3 (ipykernel)",
   "language": "python",
   "name": "python3"
  },
  "language_info": {
   "codemirror_mode": {
    "name": "ipython",
    "version": 3
   },
   "file_extension": ".py",
   "mimetype": "text/x-python",
   "name": "python",
   "nbconvert_exporter": "python",
   "pygments_lexer": "ipython3",
   "version": "3.11.1"
  }
 },
 "nbformat": 4,
 "nbformat_minor": 5
}

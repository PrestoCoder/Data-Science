{
 "cells": [
  {
   "cell_type": "code",
   "execution_count": 1,
   "id": "8c0f4da6",
   "metadata": {},
   "outputs": [],
   "source": [
    "import numpy as np"
   ]
  },
  {
   "cell_type": "code",
   "execution_count": 2,
   "id": "51ad01e4",
   "metadata": {},
   "outputs": [],
   "source": [
    "a = np.array([[1, 2, 3, 4, 5, 6], [7, 8, 9, 10, 11, 12]])"
   ]
  },
  {
   "cell_type": "code",
   "execution_count": 9,
   "id": "dcafcbc9",
   "metadata": {},
   "outputs": [
    {
     "data": {
      "text/plain": [
       "array([[ 1,  2,  3,  4,  5,  6],\n",
       "       [ 7,  8,  9, 10, 11, 12]])"
      ]
     },
     "execution_count": 9,
     "metadata": {},
     "output_type": "execute_result"
    }
   ],
   "source": [
    "a"
   ]
  },
  {
   "cell_type": "code",
   "execution_count": 3,
   "id": "30dc6309",
   "metadata": {},
   "outputs": [
    {
     "data": {
      "text/plain": [
       "numpy.ndarray"
      ]
     },
     "execution_count": 3,
     "metadata": {},
     "output_type": "execute_result"
    }
   ],
   "source": [
    "type(a)"
   ]
  },
  {
   "cell_type": "code",
   "execution_count": 4,
   "id": "98a9ebcb",
   "metadata": {},
   "outputs": [
    {
     "data": {
      "text/plain": [
       "2"
      ]
     },
     "execution_count": 4,
     "metadata": {},
     "output_type": "execute_result"
    }
   ],
   "source": [
    "a.ndim"
   ]
  },
  {
   "cell_type": "code",
   "execution_count": 8,
   "id": "834e589b",
   "metadata": {},
   "outputs": [
    {
     "data": {
      "text/plain": [
       "(2, 6)"
      ]
     },
     "execution_count": 8,
     "metadata": {},
     "output_type": "execute_result"
    }
   ],
   "source": [
    "a.shape"
   ]
  },
  {
   "cell_type": "code",
   "execution_count": 30,
   "id": "db7ca6f4",
   "metadata": {},
   "outputs": [
    {
     "data": {
      "text/plain": [
       "array([[1., 1., 1., 1., 1., 1.],\n",
       "       [1., 1., 1., 1., 1., 1.]])"
      ]
     },
     "execution_count": 30,
     "metadata": {},
     "output_type": "execute_result"
    }
   ],
   "source": [
    "np.ones(a.shape)"
   ]
  },
  {
   "cell_type": "code",
   "execution_count": 31,
   "id": "d3756364",
   "metadata": {},
   "outputs": [],
   "source": [
    "ones  = np.ones(a.shape[0])"
   ]
  },
  {
   "cell_type": "code",
   "execution_count": 32,
   "id": "1d7a9b9f",
   "metadata": {},
   "outputs": [
    {
     "data": {
      "text/plain": [
       "array([1., 1.])"
      ]
     },
     "execution_count": 32,
     "metadata": {},
     "output_type": "execute_result"
    }
   ],
   "source": [
    "ones"
   ]
  },
  {
   "cell_type": "code",
   "execution_count": 33,
   "id": "6433bb1b",
   "metadata": {},
   "outputs": [
    {
     "data": {
      "text/plain": [
       "array([[1.],\n",
       "       [1.]])"
      ]
     },
     "execution_count": 33,
     "metadata": {},
     "output_type": "execute_result"
    }
   ],
   "source": [
    "ones.reshape(-1, 1)"
   ]
  },
  {
   "cell_type": "code",
   "execution_count": 42,
   "id": "786a6d21",
   "metadata": {},
   "outputs": [
    {
     "name": "stdout",
     "output_type": "stream",
     "text": [
      "1\n"
     ]
    },
    {
     "data": {
      "text/plain": [
       "(2,)"
      ]
     },
     "execution_count": 42,
     "metadata": {},
     "output_type": "execute_result"
    }
   ],
   "source": [
    "print(ones.ndim)\n",
    "ones.shape"
   ]
  },
  {
   "cell_type": "code",
   "execution_count": 35,
   "id": "e7dfdffe",
   "metadata": {},
   "outputs": [
    {
     "data": {
      "text/plain": [
       "numpy.ndarray"
      ]
     },
     "execution_count": 35,
     "metadata": {},
     "output_type": "execute_result"
    }
   ],
   "source": [
    "type(ones)"
   ]
  },
  {
   "cell_type": "code",
   "execution_count": 36,
   "id": "39e70941",
   "metadata": {},
   "outputs": [],
   "source": [
    "b = ones.reshape(-1, 1)"
   ]
  },
  {
   "cell_type": "code",
   "execution_count": 43,
   "id": "659492d8",
   "metadata": {},
   "outputs": [
    {
     "name": "stdout",
     "output_type": "stream",
     "text": [
      "2\n"
     ]
    },
    {
     "data": {
      "text/plain": [
       "(2, 1)"
      ]
     },
     "execution_count": 43,
     "metadata": {},
     "output_type": "execute_result"
    }
   ],
   "source": [
    "print(b.ndim)\n",
    "b.shape"
   ]
  },
  {
   "cell_type": "code",
   "execution_count": 38,
   "id": "50599f5e",
   "metadata": {},
   "outputs": [
    {
     "data": {
      "text/plain": [
       "numpy.ndarray"
      ]
     },
     "execution_count": 38,
     "metadata": {},
     "output_type": "execute_result"
    }
   ],
   "source": [
    "type(b)"
   ]
  },
  {
   "cell_type": "code",
   "execution_count": 47,
   "id": "0e593bfb",
   "metadata": {},
   "outputs": [
    {
     "name": "stdout",
     "output_type": "stream",
     "text": [
      "[[ 1  2  3  4  5  6]\n",
      " [ 7  8  9 10 11 12]]\n",
      "[[1.]\n",
      " [1.]]\n",
      "[[ 1.  1.  2.  3.  4.  5.  6.]\n",
      " [ 1.  7.  8.  9. 10. 11. 12.]]\n"
     ]
    }
   ],
   "source": [
    "print(a)\n",
    "print(b)\n",
    "c = np.hstack((b, a))\n",
    "print(c)"
   ]
  },
  {
   "cell_type": "code",
   "execution_count": 50,
   "id": "f3f9151f",
   "metadata": {},
   "outputs": [
    {
     "data": {
      "text/plain": [
       "array([[1, 2, 3],\n",
       "       [4, 5, 6]])"
      ]
     },
     "execution_count": 50,
     "metadata": {},
     "output_type": "execute_result"
    }
   ],
   "source": [
    "np.vstack((np.array([1, 2, 3]), np.array([4, 5, 6])))"
   ]
  },
  {
   "cell_type": "code",
   "execution_count": 52,
   "id": "dfb2f6b1",
   "metadata": {},
   "outputs": [],
   "source": [
    "# Normalization:- (One way)\n",
    "# If we have a Gaussian distribution with mean mu and s.d sigma, then, the corresponding standard normal distribution would be\n",
    "# x = (X - mu)/sigma"
   ]
  },
  {
   "cell_type": "code",
   "execution_count": 57,
   "id": "009c4ea7",
   "metadata": {},
   "outputs": [
    {
     "name": "stdout",
     "output_type": "stream",
     "text": [
      "1\n"
     ]
    }
   ],
   "source": [
    "a = np.array([[1, 2, 3, 4], [2, 3, 4, 5]])\n",
    "print(np.min(a))"
   ]
  },
  {
   "cell_type": "code",
   "execution_count": 59,
   "id": "585d9b41",
   "metadata": {},
   "outputs": [
    {
     "data": {
      "text/plain": [
       "1"
      ]
     },
     "execution_count": 59,
     "metadata": {},
     "output_type": "execute_result"
    }
   ],
   "source": [
    "a.min()"
   ]
  },
  {
   "cell_type": "code",
   "execution_count": 60,
   "id": "c9d751ec",
   "metadata": {},
   "outputs": [
    {
     "name": "stdout",
     "output_type": "stream",
     "text": [
      "(2, 4)\n"
     ]
    }
   ],
   "source": [
    "print(a.shape)"
   ]
  },
  {
   "cell_type": "code",
   "execution_count": 61,
   "id": "43409bb2",
   "metadata": {},
   "outputs": [
    {
     "data": {
      "text/plain": [
       "(2, 4)"
      ]
     },
     "execution_count": 61,
     "metadata": {},
     "output_type": "execute_result"
    }
   ],
   "source": [
    "np.shape(a)"
   ]
  },
  {
   "cell_type": "code",
   "execution_count": 71,
   "id": "a88c2f3f",
   "metadata": {},
   "outputs": [
    {
     "name": "stdout",
     "output_type": "stream",
     "text": [
      "[1 2 3 4]\n",
      "1\n"
     ]
    }
   ],
   "source": [
    "# Finding minimum columnwise\n",
    "# This is a vector, not a row\n",
    "print(np.min(a, axis = 0))\n",
    "print(np.min(a, axis = 0).ndim)"
   ]
  },
  {
   "cell_type": "code",
   "execution_count": 70,
   "id": "f2cd5b62",
   "metadata": {},
   "outputs": [
    {
     "name": "stdout",
     "output_type": "stream",
     "text": [
      "[1 2]\n"
     ]
    }
   ],
   "source": [
    "# Finding minimum rowwise\n",
    "print(np.min(a, axis = 1))"
   ]
  },
  {
   "cell_type": "code",
   "execution_count": 78,
   "id": "de3bf6a2",
   "metadata": {},
   "outputs": [
    {
     "name": "stdout",
     "output_type": "stream",
     "text": [
      "15\n",
      "3.0\n",
      "3.0\n"
     ]
    }
   ],
   "source": [
    "b = np.array([1, 2, 3, 4, 5])\n",
    "print(sum(b))\n",
    "print(np.mean(b))\n",
    "print(b.mean())"
   ]
  },
  {
   "cell_type": "code",
   "execution_count": 85,
   "id": "8bccfaa6",
   "metadata": {},
   "outputs": [],
   "source": [
    "c = np.array([4, 5, 6, 7, 8])"
   ]
  },
  {
   "cell_type": "code",
   "execution_count": 86,
   "id": "2fb41985",
   "metadata": {},
   "outputs": [
    {
     "name": "stdout",
     "output_type": "stream",
     "text": [
      "6.0\n"
     ]
    }
   ],
   "source": [
    "print(np.median(c))"
   ]
  },
  {
   "cell_type": "code",
   "execution_count": 87,
   "id": "f0a519ff",
   "metadata": {},
   "outputs": [
    {
     "data": {
      "text/plain": [
       "6.0"
      ]
     },
     "execution_count": 87,
     "metadata": {},
     "output_type": "execute_result"
    }
   ],
   "source": [
    "mean = sum(c)/c.shape[0]\n",
    "mean"
   ]
  },
  {
   "cell_type": "code",
   "execution_count": 90,
   "id": "fab1efe1",
   "metadata": {},
   "outputs": [],
   "source": [
    "# average in numpy weighted mean\n",
    "# avg = sum(a * weights) / sum(weights)\n",
    "w = np.array([1, 2, 3, 4, 5])\n",
    "np.average?"
   ]
  },
  {
   "cell_type": "code",
   "execution_count": 91,
   "id": "22678907",
   "metadata": {},
   "outputs": [
    {
     "data": {
      "text/plain": [
       "6.666666666666667"
      ]
     },
     "execution_count": 91,
     "metadata": {},
     "output_type": "execute_result"
    }
   ],
   "source": [
    "np.average(c, weights = w)"
   ]
  },
  {
   "cell_type": "code",
   "execution_count": 92,
   "id": "daffa66a",
   "metadata": {},
   "outputs": [
    {
     "data": {
      "text/plain": [
       "array([4, 5, 6, 7, 8])"
      ]
     },
     "execution_count": 92,
     "metadata": {},
     "output_type": "execute_result"
    }
   ],
   "source": [
    "c"
   ]
  },
  {
   "cell_type": "code",
   "execution_count": 94,
   "id": "727d094f",
   "metadata": {},
   "outputs": [
    {
     "data": {
      "text/plain": [
       "6.0"
      ]
     },
     "execution_count": 94,
     "metadata": {},
     "output_type": "execute_result"
    }
   ],
   "source": [
    "mean = sum(c)/len(c)\n",
    "mean"
   ]
  },
  {
   "cell_type": "code",
   "execution_count": 96,
   "id": "e8ed7199",
   "metadata": {},
   "outputs": [
    {
     "data": {
      "text/plain": [
       "6.0"
      ]
     },
     "execution_count": 96,
     "metadata": {},
     "output_type": "execute_result"
    }
   ],
   "source": [
    "mean = np.mean(c)\n",
    "mean"
   ]
  },
  {
   "cell_type": "code",
   "execution_count": 98,
   "id": "77f6ef6b",
   "metadata": {},
   "outputs": [
    {
     "data": {
      "text/plain": [
       "1.4142135623730951"
      ]
     },
     "execution_count": 98,
     "metadata": {},
     "output_type": "execute_result"
    }
   ],
   "source": [
    "std = np.std(c)\n",
    "std"
   ]
  },
  {
   "cell_type": "code",
   "execution_count": 102,
   "id": "936b8ed4",
   "metadata": {},
   "outputs": [
    {
     "data": {
      "text/plain": [
       "1.4142135623730951"
      ]
     },
     "execution_count": 102,
     "metadata": {},
     "output_type": "execute_result"
    }
   ],
   "source": [
    "np.sqrt(np.mean((c - mean)**2))"
   ]
  },
  {
   "cell_type": "code",
   "execution_count": 106,
   "id": "6733c361",
   "metadata": {},
   "outputs": [
    {
     "name": "stdout",
     "output_type": "stream",
     "text": [
      "2.0000000000000004 2.0\n"
     ]
    }
   ],
   "source": [
    "var = np.var(c)\n",
    "print(std**2, var)"
   ]
  },
  {
   "cell_type": "markdown",
   "id": "50b19fd2",
   "metadata": {},
   "source": [
    "# Visualization"
   ]
  },
  {
   "cell_type": "code",
   "execution_count": 120,
   "id": "69266926",
   "metadata": {},
   "outputs": [],
   "source": [
    "import matplotlib.pyplot as plt"
   ]
  },
  {
   "cell_type": "code",
   "execution_count": 135,
   "id": "5f8011ef",
   "metadata": {},
   "outputs": [],
   "source": [
    "# Altering plotting aesthetics\n",
    "themes = plt.style.available"
   ]
  },
  {
   "cell_type": "code",
   "execution_count": 155,
   "id": "a19978b5",
   "metadata": {},
   "outputs": [
    {
     "name": "stdout",
     "output_type": "stream",
     "text": [
      "['Solarize_Light2', '_classic_test_patch', '_mpl-gallery', '_mpl-gallery-nogrid', 'bmh', 'classic', 'dark_background', 'fast', 'fivethirtyeight', 'ggplot', 'grayscale', 'seaborn-v0_8', 'seaborn-v0_8-bright', 'seaborn-v0_8-colorblind', 'seaborn-v0_8-dark', 'seaborn-v0_8-dark-palette', 'seaborn-v0_8-darkgrid', 'seaborn-v0_8-deep', 'seaborn-v0_8-muted', 'seaborn-v0_8-notebook', 'seaborn-v0_8-paper', 'seaborn-v0_8-pastel', 'seaborn-v0_8-poster', 'seaborn-v0_8-talk', 'seaborn-v0_8-ticks', 'seaborn-v0_8-white', 'seaborn-v0_8-whitegrid', 'tableau-colorblind10']\n"
     ]
    }
   ],
   "source": [
    "print(themes)\n",
    "# Changes theme of plotting\n",
    "plt.style.use('fivethirtyeight')"
   ]
  },
  {
   "cell_type": "code",
   "execution_count": 251,
   "id": "21f1f7ce",
   "metadata": {},
   "outputs": [],
   "source": [
    "x1 = np.arange(10)"
   ]
  },
  {
   "cell_type": "code",
   "execution_count": 252,
   "id": "a3e696a4",
   "metadata": {},
   "outputs": [
    {
     "data": {
      "text/plain": [
       "array([0, 1, 2, 3, 4, 5, 6, 7, 8, 9])"
      ]
     },
     "execution_count": 252,
     "metadata": {},
     "output_type": "execute_result"
    }
   ],
   "source": [
    "x1"
   ]
  },
  {
   "cell_type": "code",
   "execution_count": 253,
   "id": "137d2260",
   "metadata": {},
   "outputs": [
    {
     "data": {
      "text/plain": [
       "array([ 0,  1,  4,  9, 16, 25, 36, 49, 64, 81])"
      ]
     },
     "execution_count": 253,
     "metadata": {},
     "output_type": "execute_result"
    }
   ],
   "source": [
    "y1 = x1**2\n",
    "y1"
   ]
  },
  {
   "cell_type": "code",
   "execution_count": 254,
   "id": "04d6bd66",
   "metadata": {},
   "outputs": [
    {
     "data": {
      "text/plain": [
       "array([12, 14, 16, 18, 20, 22, 24, 26, 28, 30])"
      ]
     },
     "execution_count": 254,
     "metadata": {},
     "output_type": "execute_result"
    }
   ],
   "source": [
    "y2 = 2*x1 + 12\n",
    "y2"
   ]
  },
  {
   "cell_type": "code",
   "execution_count": 259,
   "id": "1e14e9f7",
   "metadata": {},
   "outputs": [
    {
     "data": {
      "image/png": "[encoded data removed]",
      "text/plain": [
       "<Figure size 1500x500 with 1 Axes>"
      ]
     },
     "metadata": {},
     "output_type": "display_data"
    }
   ],
   "source": [
    "# Plot plots continuous graph\n",
    "# figsize scales x and y axis\n",
    "plt.figure(figsize = (15, 5))\n",
    "plt.plot(x1, y1, color=\"red\", label=\"Price of oil\", linestyle=\"--\")\n",
    "plt.plot(x1, y2, color=\"green\", label=\"Price of gold\")\n",
    "plt.xlabel('Time (s)')\n",
    "plt.ylabel('Price ($)')\n",
    "plt.title(\"Price vs Time graph\")\n",
    "plt.legend(title=\"Prices:\")\n",
    "plt.show()\n",
    "# Legend requires labels to be declared in the first 2 lines.\n",
    "# On cmd, need to do plt.show() to display plots.\n",
    "# Jupyter is powerful enough to display the plot without typing plt.show()"
   ]
  },
  {
   "cell_type": "code",
   "execution_count": null,
   "id": "d3c8a492",
   "metadata": {},
   "outputs": [],
   "source": [
    "# scatter plots discrete graph\n",
    "plt.scatter(x, y1, color=\"blue\", label=\"scatter_plot\", marker=\"*\")\n",
    "plt.xlabel('Time (s)')\n",
    "plt.ylabel('Price ($)')\n",
    "plt.title(\"Price vs Time graph\")\n",
    "plt.legend(title=\"Prices:\")\n"
   ]
  },
  {
   "cell_type": "code",
   "execution_count": 256,
   "id": "3689f1e9",
   "metadata": {},
   "outputs": [
    {
     "data": {
      "image/png": "[encoded data removed]",
      "text/plain": [
       "<Figure size 640x480 with 1 Axes>"
      ]
     },
     "metadata": {},
     "output_type": "display_data"
    }
   ],
   "source": [
    "plt.bar([0, 1, 2, 3], [10, 12, 43, 1])\n",
    "plt.show()"
   ]
  },
  {
   "cell_type": "code",
   "execution_count": 246,
   "id": "447e80b9",
   "metadata": {},
   "outputs": [
    {
     "data": {
      "image/png": "[encoded data removed]",
      "text/plain": [
       "<Figure size 640x480 with 1 Axes>"
      ]
     },
     "metadata": {},
     "output_type": "display_data"
    }
   ],
   "source": [
    "x_cor = np.array([0, 1, 2])\n",
    "y_cor = np.array([3, 4, 5])\n",
    "plt.bar(x_cor, y_cor, width = 0.4, label=\"sales\", tick_label = [\"a\", \"b\", \"c\"])\n",
    "plt.ylim(0, 12)\n",
    "plt.xlim(-1, 3)\n",
    "plt.bar(x_cor + 0.4, y_cor + 5, width = 0.4)\n",
    "plt.show()"
   ]
  },
  {
   "cell_type": "code",
   "execution_count": 240,
   "id": "c6380421",
   "metadata": {},
   "outputs": [],
   "source": [
    "sub = \"Math\", \"Physics\", \"Chem\", \"English\""
   ]
  },
  {
   "cell_type": "code",
   "execution_count": 241,
   "id": "14ff3aaf",
   "metadata": {},
   "outputs": [
    {
     "data": {
      "text/plain": [
       "('Math', 'Physics', 'Chem', 'English')"
      ]
     },
     "execution_count": 241,
     "metadata": {},
     "output_type": "execute_result"
    }
   ],
   "source": [
    "sub"
   ]
  },
  {
   "cell_type": "code",
   "execution_count": 242,
   "id": "f15feb6f",
   "metadata": {},
   "outputs": [],
   "source": [
    "x = [20, 10, 25 ,12]"
   ]
  },
  {
   "cell_type": "code",
   "execution_count": 266,
   "id": "3d1cca73",
   "metadata": {},
   "outputs": [
    {
     "data": {
      "image/png": "[encoded data removed]",
      "text/plain": [
       "<Figure size 640x480 with 1 Axes>"
      ]
     },
     "metadata": {},
     "output_type": "display_data"
    }
   ],
   "source": [
    "plt.pie(x, labels = sub, explode = (0.1, 0.1, 0.2, 0.3), shadow=True)\n",
    "plt.show()"
   ]
  },
  {
   "cell_type": "code",
   "execution_count": 273,
   "id": "9113934a",
   "metadata": {},
   "outputs": [
    {
     "name": "stdout",
     "output_type": "stream",
     "text": [
      "[-3.57671431e-01  3.79522939e-01  4.86309662e-01  5.95679594e-01\n",
      " -1.55203821e-01 -1.51307503e+00 -8.75188427e-01 -7.11590232e-01\n",
      "  7.41230292e-01  5.16677725e-01 -7.52357933e-01 -4.89998083e-01\n",
      "  1.91301941e-01  9.48245265e-02 -1.85584032e+00 -1.39023033e+00\n",
      "  1.74034863e-01  1.10745715e+00 -1.67636184e+00 -1.81600214e+00\n",
      "  4.64944350e-01 -1.65712908e+00 -9.68972165e-01 -1.14222675e+00\n",
      "  9.46095794e-01  7.72968628e-01 -7.99157078e-01 -5.84299700e-01\n",
      " -1.51019055e+00  6.58693863e-02 -1.46776448e-01  1.22705329e+00\n",
      " -1.03530899e+00 -7.76297424e-01 -1.42304154e+00  1.71671986e+00\n",
      "  1.45312644e+00 -1.89500660e+00  1.08360194e+00 -9.75956490e-01\n",
      " -2.34870302e-01  2.61244085e+00  9.30209120e-01 -1.33459266e-01\n",
      "  3.91349645e-01 -1.09954815e+00 -6.63268257e-01  2.74387244e-01\n",
      "  2.26605402e-01  4.61014857e-01  6.36546077e-02  4.15059024e-01\n",
      "  3.85825051e-01  1.88216551e-03  3.80713443e-01  3.85021817e-02\n",
      " -1.37981458e+00 -7.78048937e-01 -1.29459997e-01 -3.26072348e-01\n",
      " -5.60087885e-02  5.87714941e-01  1.89495993e+00  9.84470292e-01\n",
      "  1.23439568e+00 -4.16476649e-01  3.62019013e-01 -1.16507895e+00\n",
      " -5.12163685e-01 -3.46815918e-01  7.10113763e-01  9.59031809e-01\n",
      " -1.04483686e+00 -1.58407329e+00 -3.05998592e-01  1.71269363e+00\n",
      " -3.23117579e-01  2.18040223e+00  1.65078744e+00 -7.37382466e-01\n",
      " -1.39765769e+00  2.71933249e-01 -6.89181778e-01 -1.16022177e+00\n",
      " -1.34306319e+00  3.51817690e-01  1.85308779e-01  1.04224725e+00\n",
      "  1.78640090e-01  5.48686665e-01 -1.35452995e+00 -2.01892400e+00\n",
      " -4.80521812e-02  1.49943804e-01  2.34707618e-01  6.12802564e-01\n",
      " -1.54844079e-01  1.17749521e+00 -7.42420472e-01 -1.41447047e+00\n",
      "  7.92348913e-01  8.75330994e-01  1.54511432e+00 -4.74304650e-01\n",
      " -2.40582337e-01 -3.10293052e-01 -1.26270494e-01 -4.87335468e-01\n",
      " -7.33323220e-01  5.60804336e-01  7.55268866e-01  8.11817550e-02\n",
      " -8.82579363e-01  1.25903415e+00  6.65576382e-01  3.85188503e-01\n",
      " -4.12527161e-01 -5.89945968e-01 -8.05984847e-01 -4.75415243e-01\n",
      " -1.37206681e+00 -1.63506995e+00 -2.89223102e-01  5.63097551e-01\n",
      " -5.47590630e-01 -6.04959669e-01 -4.88886147e-01  2.86985031e-01\n",
      "  1.17137439e+00 -5.90448243e-01 -4.76395312e-02  3.99005271e-01\n",
      " -4.05163521e-01 -1.78428234e+00 -1.11767279e+00 -6.54598404e-01\n",
      "  2.41752325e+00  1.25813664e+00 -1.46531722e+00  6.91298528e-01\n",
      "  8.40422426e-01  8.47118158e-01 -2.05153828e+00 -2.24392034e-01\n",
      "  7.47414394e-01 -3.93910949e-01 -3.86195127e-01  2.58419947e-01\n",
      "  8.25568294e-01 -7.68988220e-01  8.20529665e-01  2.35357424e-01\n",
      " -1.28800869e+00  8.34712848e-01 -4.03598335e-01  5.51180450e-01\n",
      "  2.85246882e-01  1.36187130e+00 -4.69017108e-01  1.56765887e+00\n",
      " -1.92829245e+00 -4.17293113e-01  1.95327880e+00  8.87689036e-01\n",
      " -5.46936007e-01 -1.31043936e+00  1.29227989e-01  1.56007303e-01\n",
      " -4.49715043e-01 -2.11065478e-02  1.55872383e+00  8.69200431e-01\n",
      "  5.75364300e-02  1.78809051e-01  4.00411259e-02  5.16082967e-01\n",
      "  7.27764756e-01 -1.83763576e+00  3.93261585e-01  7.91929972e-01\n",
      " -1.33816888e+00 -8.68645032e-02  8.16945685e-01  8.53907642e-01\n",
      " -1.04991506e+00 -6.53250448e-02  5.54423181e-02  1.08377523e+00\n",
      " -1.02861754e+00  1.49747527e+00  1.42746376e+00  5.28442530e-01\n",
      "  6.85594954e-01 -1.33914699e-01  4.01231638e-02 -5.43696541e-01\n",
      " -1.71392663e+00  7.37189534e-01 -1.95505320e+00  1.14123991e+00\n",
      " -5.09664944e-01 -7.30642719e-01 -1.02997806e+00  1.31492164e+00\n",
      " -8.31519819e-02  2.34893627e-01 -9.82871036e-01  3.27490138e-01\n",
      "  6.13681847e-03 -1.14259546e+00 -8.02613931e-03  3.51172652e-01\n",
      "  8.12529527e-01  2.88861267e+00 -2.34641987e-01  4.77920119e-01\n",
      " -2.92273364e-01  5.92065022e-01  6.02835986e-01 -1.74345399e+00\n",
      " -7.77994911e-01 -4.05850889e-01 -1.87123005e+00  2.10488343e-01\n",
      "  8.05175365e-02 -8.33576949e-02  4.31085334e-01  6.41693774e-01\n",
      " -1.93384886e+00 -3.08404158e-01  1.13756114e+00  3.66557732e-02\n",
      "  2.60402341e-01 -6.79302135e-01 -3.64370059e-01  1.37328925e+00\n",
      "  8.86068735e-02  4.01389481e-01  5.98780689e-02 -3.27602303e-01\n",
      " -1.11492065e+00 -9.10498536e-01  5.19681501e-01 -1.89078967e+00\n",
      " -1.19168514e+00  3.54176948e-01  7.62937687e-01  6.97279347e-01\n",
      "  5.70863158e-01 -2.29653388e+00 -2.57936657e-01  1.29775130e+00\n",
      " -1.11764625e+00  2.17903619e+00  9.09432867e-03 -1.77666255e+00\n",
      " -1.98063304e+00  1.04292339e-01 -2.41675687e-01 -8.14031027e-01\n",
      " -9.83859157e-01 -2.31265569e-02  4.24326865e-01 -1.63791396e+00\n",
      " -6.03641570e-02  4.26995808e-01  5.60873990e-02  9.76109152e-01\n",
      "  1.15414924e+00  1.54935050e+00 -1.86825594e-01  1.22144724e+00\n",
      "  6.84534094e-01  2.90974370e-01 -2.38365360e-01  2.73824995e-01\n",
      "  2.41646996e-01  1.19414957e+00  1.33068100e+00  5.02461443e-01\n",
      " -1.32557572e+00  2.03836860e+00  1.42892316e+00 -1.28385023e+00\n",
      " -3.51452269e-01 -2.18032422e+00  1.06732187e+00 -7.38777769e-01\n",
      "  1.12747584e+00 -3.51922971e-01 -1.14505595e+00  1.04395278e+00\n",
      "  7.82673727e-01 -1.46701260e+00  9.90615163e-01  8.89083467e-01\n",
      "  6.58892726e-01  2.32194757e-01  4.70976401e-01 -5.18983364e-01\n",
      "  8.41585131e-01 -2.05418379e+00 -4.29177037e-01 -1.46254622e+00\n",
      " -7.44555021e-01 -6.71718847e-01 -1.34305307e+00 -1.13258197e-01\n",
      " -7.98208914e-01 -9.51982981e-01 -1.31145505e+00  1.05730464e+00\n",
      "  1.82481559e+00 -5.53933419e-01 -9.39365369e-01 -8.74295649e-01\n",
      "  3.14903680e-01 -9.27567617e-01  9.94943875e-01  5.34001766e-01\n",
      "  1.20248838e+00  1.52728265e+00 -6.44620301e-01  1.63792906e-01\n",
      "  1.33581103e+00  2.14914800e-01  1.14700826e+00  2.22962339e-01\n",
      " -5.65449570e-01 -1.07631839e+00 -1.98765563e-01  9.65981300e-02\n",
      "  3.64021153e-01  1.27091771e+00  1.77961760e+00 -6.07953260e-01\n",
      "  4.75818335e-01 -3.87360057e-01 -5.73779993e-02 -2.06417882e+00\n",
      "  3.56645791e-01 -5.05234232e-01  5.77996879e-01 -3.73858284e-01\n",
      " -6.06187145e-01  4.69238840e-01 -3.00279645e-01 -8.12098820e-01\n",
      " -8.05139077e-02 -2.28779348e-01  1.38633301e+00  9.95522690e-01\n",
      " -1.24592353e+00 -4.59233612e-03 -6.54328453e-01  2.19291821e+00\n",
      " -7.75197723e-01 -2.75096456e-01 -6.68676331e-01 -5.42000492e-01\n",
      " -9.38493069e-01  7.76220644e-01  3.49702483e-01 -5.87583521e-01\n",
      " -1.11200519e+00  8.15316156e-01 -1.40946033e+00 -1.16265268e+00\n",
      " -1.36304693e+00 -1.67665901e-01  1.03951226e+00 -9.87413673e-02\n",
      " -7.62300443e-01  3.81902290e-01  1.73962195e+00 -2.07386504e+00\n",
      "  1.50021060e+00  2.20312729e-02 -6.34963494e-01 -3.66957647e-01\n",
      "  2.41518412e-01 -1.85320989e-01 -6.74830348e-01 -1.07902083e+00\n",
      " -1.46744342e+00 -1.51917045e+00  5.61266942e-01  4.01455666e-01\n",
      "  2.37597590e-01  1.15274147e+00 -1.95614586e+00  1.31700867e+00\n",
      "  4.99837777e-02  5.89213514e-01  4.55474512e-01  6.83361954e-01\n",
      "  1.13477715e+00  1.90680604e-02 -9.74096731e-01 -5.12100783e-01\n",
      " -1.11298861e-01  7.43746767e-01  4.05025967e-01  1.56327768e+00\n",
      "  3.04576109e-01 -1.65938286e+00 -1.71347789e+00 -6.23952622e-01\n",
      " -2.85430050e+00 -4.70522183e-01 -1.40000289e+00  4.65634564e-01\n",
      "  9.55659277e-02  3.84736019e-02 -2.07512079e-01  2.72188880e-01\n",
      "  6.48541577e-02  1.66393569e+00  3.02445063e-01 -5.79136743e-01\n",
      "  1.00471397e+00 -9.85992234e-02  6.93343196e-02  7.51710081e-01\n",
      "  1.34495404e-01  1.73378412e+00  5.98747827e-01  6.88152739e-01\n",
      "  5.43477475e-01 -5.04143637e-01  6.32286883e-01  6.94487653e-01\n",
      "  8.19395250e-01 -4.70590731e-01 -8.77961096e-01 -3.28043405e-01\n",
      " -1.94036542e-01 -1.13682781e+00 -1.61539815e+00  1.14983740e-03\n",
      " -2.27215088e-01  1.38872205e+00  2.00466500e+00 -1.69642933e+00\n",
      "  1.15962053e+00  3.72411402e-01 -7.39796321e-01  1.18010994e+00\n",
      " -1.11425836e+00 -2.29161522e-01 -3.41058171e-01  5.44708319e-01\n",
      "  8.26990668e-01 -7.14334779e-01 -2.43852043e-01 -1.80260405e+00\n",
      "  2.03090177e+00  6.43175509e-01  1.93103251e+00 -1.25806139e+00\n",
      "  5.30591751e-01 -3.95240347e-01  8.23029984e-01 -1.06783155e-01\n",
      "  1.81898349e+00  1.24174010e+00  3.27574813e-01 -7.00487282e-01\n",
      "  7.58764871e-01 -7.94994296e-01  7.61701485e-01  6.44802514e-01\n",
      " -9.19797757e-01 -1.20035912e+00  8.86589351e-01  1.43655472e+00\n",
      "  7.34354952e-01  1.16152618e+00  7.11193234e-01  8.00226765e-01\n",
      "  9.60608906e-01  7.41162833e-02 -3.01758574e-01 -1.09601259e+00\n",
      "  1.57395617e+00 -2.92662292e-02 -8.84391980e-01  5.35630793e-01\n",
      "  2.05611880e-01 -4.20335988e-01  1.40531364e+00 -9.93702484e-01\n",
      " -1.96929178e+00  5.18771218e-01  1.07187079e-01 -6.06099812e-01\n",
      "  2.97180975e-01  3.09996751e+00  3.80396596e-01  2.38897890e+00\n",
      " -2.97475974e+00  5.85163304e-01  1.13820554e+00  5.05909899e-01\n",
      "  8.21209921e-01  1.34018106e+00  8.48045490e-01  2.23251473e-02\n",
      " -1.08967523e-01 -9.34328038e-01 -3.12251380e-01  9.89572358e-01\n",
      "  2.33451844e-01 -1.54555014e+00 -1.98878518e+00  4.44907309e-01\n",
      " -1.85411022e-01  7.00878456e-01 -1.69264914e-01 -1.88858560e-01\n",
      "  7.86673227e-01 -8.55887997e-01  6.58030862e-01  2.63423805e+00\n",
      "  1.03684902e-01  3.99075672e-01  4.54064940e-01 -1.69257835e+00\n",
      " -1.92018298e-01  1.21337951e+00  2.64134661e-01 -1.11827559e+00\n",
      "  4.43040288e-01 -6.08826343e-01 -1.66618699e-01  1.61131004e+00\n",
      "  9.45169869e-01 -7.70824846e-02  2.95074990e-01  4.22262598e-01\n",
      "  7.87243911e-01  5.76051063e-01 -1.34665911e+00  5.32547831e-01\n",
      "  8.64078390e-01 -1.28910703e+00  1.71719667e+00  1.01938510e+00\n",
      "  7.10510036e-01 -8.18750887e-01  1.24845745e+00  9.50587480e-01\n",
      "  8.97003080e-01 -1.52069602e+00  3.30931710e-01  3.84646348e-01\n",
      " -2.26710091e-01 -9.10875184e-01 -1.05753167e+00 -3.43169186e-02\n",
      "  4.38141176e-02 -7.27637601e-01 -5.27019920e-01  6.21107660e-01\n",
      " -8.40088971e-01 -2.41637709e+00 -2.21689657e-01 -1.34808928e+00\n",
      " -9.62343159e-01  1.23205833e-01 -1.24646683e+00  3.88422763e-01\n",
      " -3.66139449e-01  1.27411967e+00  1.00791617e+00  5.88206675e-02\n",
      " -9.62534468e-01  7.71226746e-01 -5.10494545e-02 -1.61607619e+00\n",
      " -3.50339175e-01  5.43392631e-01  1.54662578e-01  4.44714289e-01\n",
      " -6.54990593e-01  2.00083438e-01  3.12804469e-01  2.97840207e-01\n",
      " -5.95807114e-01  1.41065930e+00  1.49515437e+00 -5.73694525e-01\n",
      " -6.14352435e-01 -9.77253984e-01 -1.40269497e-01  4.69717599e-01\n",
      " -1.13086332e+00  1.48486083e-02  5.09429640e-01 -4.31428028e-01\n",
      " -2.17809511e-01 -8.68655351e-01  1.90060377e+00 -6.96724426e-01\n",
      "  7.33621016e-01 -4.58005914e-01 -1.13227143e+00 -8.79248250e-01\n",
      " -1.06503059e+00  9.86142432e-01  8.55708993e-01 -1.57583440e+00\n",
      "  1.33803822e+00 -1.30172399e+00 -1.12602067e-01 -2.41692351e-01\n",
      " -1.90460698e-01  1.20746622e-02 -1.31663749e+00 -4.57323536e-02\n",
      "  8.72719653e-01 -6.53412590e-01  3.08072622e-01 -4.38433172e-01\n",
      "  1.84784526e+00  7.46884558e-01 -2.29364243e-01 -1.80468312e-01\n",
      " -2.18633260e-01 -1.79895182e+00  6.54192500e-01  4.43639814e-01\n",
      "  1.92705579e+00 -1.26915448e-01 -1.27887577e+00 -5.37406699e-01\n",
      " -1.10746745e-01  2.07615477e+00 -1.02599348e+00 -1.02394204e+00\n",
      " -9.70213960e-01 -1.62488073e+00  6.81353316e-01 -2.01201934e-01\n",
      " -1.29211188e+00 -8.75031856e-01  7.17612668e-01  8.15450886e-01\n",
      "  1.04390209e-01  8.24401386e-01 -9.04765680e-01  2.63142893e-01\n",
      " -4.58207653e-01  1.37357736e+00  1.08526877e+00 -1.26029894e+00\n",
      "  5.43882195e-01 -7.47176454e-01 -1.02485073e+00  1.52812126e+00\n",
      "  2.46850866e-02 -2.63989597e-01 -4.98420682e-01 -2.15343756e+00\n",
      "  1.90983226e+00 -3.22154463e-01 -1.31915386e-01  4.32246742e-02\n",
      " -6.14670186e-01 -3.22793293e-01  1.48324818e+00  1.58754164e+00\n",
      "  7.54450391e-01  7.93473456e-02  4.65405911e-01 -3.32983927e-01\n",
      " -1.05261305e-02 -6.37730513e-02 -5.75525500e-02 -1.02633128e-01\n",
      "  1.46573661e+00  2.57272026e-02  2.53566444e-01 -1.22473224e-01\n",
      " -7.05797997e-01  3.91360595e-02 -5.28299702e-02  1.56963824e+00\n",
      "  8.31439654e-01  1.01215808e+00  3.83934438e-01  8.56848764e-01\n",
      "  3.12753356e-01 -9.71554524e-01 -3.64235910e-01  5.24572650e-02\n",
      " -7.24451117e-01 -5.47081494e-01  7.46603334e-01  2.19678246e-01\n",
      "  2.94041462e-01 -7.25619944e-01 -8.49267578e-02  4.67328746e-01\n",
      " -2.68694078e-01  8.89314912e-01  4.46322233e-01  2.60472928e-01\n",
      "  6.37008125e-01  1.59024493e-01  9.37225017e-01  6.16170257e-01\n",
      "  5.28453995e-01  2.87433853e-01 -1.79733435e-01 -7.40278957e-01\n",
      "  3.81223366e-01  8.21952350e-01  1.29278811e-01  1.14384245e+00\n",
      "  1.09762044e+00  1.20712395e+00  2.14435289e-01 -1.12116527e+00\n",
      " -4.58307364e-01  9.12917969e-01 -1.07548610e+00 -1.56774553e-01\n",
      "  1.02823190e-01  9.72090333e-01  1.65754866e-01  2.85942048e+00\n",
      "  2.92123327e-01 -5.96081341e-01  6.85236178e-03 -1.15403693e-01\n",
      " -6.54250836e-01 -1.29255689e+00 -4.13107622e-01  1.36045040e+00\n",
      "  1.77235401e+00  2.56441775e-01  4.72608692e-01 -4.19864814e-01\n",
      "  1.08838726e+00 -7.38638527e-01  7.03849345e-01 -1.20198373e+00\n",
      "  6.49903683e-01  3.43418950e-01  1.93745744e+00  9.46372312e-01\n",
      " -9.00194965e-01  3.44032827e-01 -4.15031768e-01 -3.84431958e-01\n",
      " -1.93970743e-02 -3.20108431e-01 -1.98010651e+00 -6.29063446e-01\n",
      "  5.41642608e-01  1.03445669e+00 -4.14931678e-01 -7.30842142e-01\n",
      " -7.83103684e-02 -6.38812373e-02  7.47092057e-01 -2.08461773e-01\n",
      "  1.15451590e+00 -1.54460763e+00  8.74784273e-01 -1.53953218e+00\n",
      " -1.33743986e-02  2.41164643e-01 -2.42174560e+00  1.95189968e-01\n",
      " -1.29197598e+00 -2.05407056e-02  8.85118371e-01 -8.64546733e-01\n",
      "  8.69619694e-01  6.06626325e-01  2.84210813e-01 -1.57104048e+00\n",
      " -6.31948158e-01 -3.54876004e-01  7.42608726e-01 -6.80007226e-02\n",
      " -3.63584230e-01 -8.96250732e-01 -1.00396481e+00  1.82624949e-01\n",
      " -5.86185169e-01  1.67183094e+00 -3.13558197e-01 -2.73995747e-01\n",
      "  4.11024310e-01  1.31215654e+00  1.30941884e+00 -4.55179652e-01\n",
      " -1.06003127e+00 -8.19019373e-01  1.78014110e+00  4.93574317e-01\n",
      "  4.89293593e-01  8.72071355e-01  4.90510033e-01 -1.23295032e+00\n",
      "  1.11166845e+00  2.13255593e-02 -9.10501838e-01  3.19192898e-01\n",
      "  3.41920693e-01 -8.17667898e-02 -7.17895657e-01 -1.93281145e-01\n",
      " -8.62466433e-01 -6.49685651e-01  8.56820400e-01 -4.93759189e-01\n",
      " -1.43898676e+00  2.16844292e+00 -1.46349850e-01 -3.64233945e-01\n",
      " -1.40463164e+00  1.49577838e+00  1.29605205e+00  1.45466967e-01\n",
      " -1.69451726e-02 -1.47780830e+00 -1.83117108e+00 -9.63414330e-02\n",
      " -1.47446549e-01  1.28452249e+00 -2.49563011e-01  1.20417136e+00\n",
      " -1.55983182e+00  7.84379394e-01 -3.94935890e-01  1.21651654e+00\n",
      "  2.06436738e-01 -3.06719906e-01  1.56967064e+00 -2.28027233e-01\n",
      "  4.15310066e-01 -8.46574630e-01  2.49536404e+00  9.67388197e-01\n",
      "  1.02526531e+00 -3.75462611e-02 -8.39774032e-01 -1.19943466e+00\n",
      "  9.45109401e-01 -2.46310323e-02 -1.07043039e+00 -1.37870783e+00\n",
      "  1.52804276e+00  1.11676198e+00  7.26749017e-01 -2.66596628e+00\n",
      " -3.49035386e-01  1.68391851e-01 -1.07260806e+00 -8.19165056e-01\n",
      "  6.89110156e-01 -8.12721380e-01  3.30983400e-01  9.62807818e-01\n",
      "  1.04755049e+00  1.69473880e+00 -1.29944316e+00 -3.42963459e-01\n",
      "  1.17436883e+00  1.59140179e+00  8.69015819e-01  6.35716174e-01\n",
      " -2.50255409e+00  3.54865386e-02 -1.02725271e+00 -1.90511354e-01\n",
      "  1.00045317e+00  7.44619930e-01  1.14881159e+00  9.55935818e-01\n",
      " -6.47797357e-01 -1.23915829e+00  8.36379909e-01  9.64017524e-01\n",
      "  2.73292195e-01  3.63369437e-01 -6.76632069e-01 -9.05650067e-01\n",
      " -2.58684390e-01  1.25721464e-01  6.99357750e-01  1.58579590e-01\n",
      "  1.11750144e+00 -9.22018703e-01 -2.43389478e+00  1.11671830e+00\n",
      " -1.15649388e+00  9.06370647e-01 -9.72457361e-01 -3.45640654e-01\n",
      "  1.28151132e+00  8.68162768e-02  9.85498654e-01  1.26411818e+00\n",
      " -1.58749477e-01  1.94593211e+00  1.17325709e+00 -4.09078372e-01\n",
      " -4.86030341e-01  8.46390626e-01  1.16362441e+00  1.50240361e+00\n",
      "  9.06837337e-01 -3.24284293e-01 -4.52605700e-01 -1.37761856e+00\n",
      "  8.42318667e-01  1.04868465e+00  1.42591042e+00  4.19839213e-01\n",
      " -6.64202446e-01 -1.59244943e-01 -1.12539411e+00  9.50087816e-01\n",
      "  8.54507337e-01 -1.01160435e+00  1.27951336e-01  3.36679948e-01\n",
      "  1.43903199e-02  1.38021199e+00  2.43882491e+00 -2.10187509e+00\n",
      "  7.45838406e-01  9.28106190e-01 -1.06244225e+00 -6.96875026e-01\n",
      "  1.24543614e+00  6.65741936e-01 -8.64524959e-01 -5.55272273e-01\n",
      " -1.02697595e-01  7.88409933e-01  1.16228782e+00 -4.70404343e-01\n",
      "  7.89159180e-01 -1.67048094e+00  3.15056043e-01 -1.43503849e+00\n",
      "  6.01546617e-01 -7.06911262e-01 -2.59699434e+00  2.92933211e+00\n",
      "  6.94898072e-01 -4.37095459e-02 -1.63344064e-01 -4.48583634e-02\n",
      " -2.77733373e+00  1.45188380e+00  1.35411596e+00 -4.89739171e-01\n",
      " -2.90521439e-01  8.72604299e-01  1.18579084e-01  2.92890514e-01\n",
      " -2.70530116e-01  2.51809931e+00  3.99346420e-01 -2.59424450e-01\n",
      "  7.02867877e-01 -1.45240476e-01  2.82739829e-01  1.08947291e+00\n",
      " -6.87752934e-01 -7.75713493e-01  1.09687594e+00 -8.56411062e-01\n",
      " -1.56373462e+00  5.93768308e-01 -1.21873687e+00  7.59206427e-01\n",
      " -1.94385985e+00  4.05630279e-01  8.95432015e-02 -1.53897926e+00\n",
      "  4.53076262e-01  1.24761330e+00  4.47514872e-01 -6.46228468e-01\n",
      " -1.46663021e+00  1.42763432e+00  3.12037135e-01  1.37141787e+00\n",
      "  4.98456387e-01 -1.00124736e+00  4.92618835e-01 -1.40984402e-01]\n"
     ]
    }
   ],
   "source": [
    "# xsn = standard normal = (x-mu)/sigma\n",
    "xsn = np.random.randn(1000)\n",
    "print(xsn)\n",
    "sigma = 5\n",
    "mean = 60"
   ]
  },
  {
   "cell_type": "code",
   "execution_count": 280,
   "id": "3968bcfb",
   "metadata": {},
   "outputs": [],
   "source": [
    "# x = (xsn*sigma + mu)\n",
    "x = sigma*xsn + mean"
   ]
  },
  {
   "cell_type": "code",
   "execution_count": 304,
   "id": "b4b8c5c4",
   "metadata": {},
   "outputs": [
    {
     "data": {
      "image/png": "[encoded data removed]",
      "text/plain": [
       "<Figure size 640x480 with 1 Axes>"
      ]
     },
     "metadata": {},
     "output_type": "display_data"
    }
   ],
   "source": [
    "x = np.round(x)\n",
    "plt.hist(x, bins=100)\n",
    "plt.show()"
   ]
  },
  {
   "cell_type": "code",
   "execution_count": 306,
   "id": "f16240cd",
   "metadata": {},
   "outputs": [
    {
     "data": {
      "image/png": "[encoded data removed]",
      "text/plain": [
       "<Figure size 640x480 with 1 Axes>"
      ]
     },
     "metadata": {},
     "output_type": "display_data"
    }
   ],
   "source": [
    "x1 = xsn*6 - 400\n",
    "plt.hist(x)\n",
    "plt.hist(x1, alpha = 0.7)\n",
    "plt.show()"
   ]
  },
  {
   "cell_type": "code",
   "execution_count": 307,
   "id": "99d4387f",
   "metadata": {},
   "outputs": [
    {
     "data": {
      "image/png": "[encoded data removed]",
      "text/plain": [
       "<Figure size 640x480 with 1 Axes>"
      ]
     },
     "metadata": {},
     "output_type": "display_data"
    }
   ],
   "source": [
    "plt.hist(x + x1)\n",
    "plt.show()"
   ]
  },
  {
   "cell_type": "code",
   "execution_count": null,
   "id": "600c5bcc",
   "metadata": {},
   "outputs": [],
   "source": []
  },
  {
   "cell_type": "code",
   "execution_count": null,
   "id": "97cbf439",
   "metadata": {},
   "outputs": [],
   "source": []
  }
 ],
 "metadata": {
  "kernelspec": {
   "display_name": "Python 3 (ipykernel)",
   "language": "python",
   "name": "python3"
  },
  "language_info": {
   "codemirror_mode": {
    "name": "ipython",
    "version": 3
   },
   "file_extension": ".py",
   "mimetype": "text/x-python",
   "name": "python",
   "nbconvert_exporter": "python",
   "pygments_lexer": "ipython3",
   "version": "3.11.1"
  }
 },
 "nbformat": 4,
 "nbformat_minor": 5
}

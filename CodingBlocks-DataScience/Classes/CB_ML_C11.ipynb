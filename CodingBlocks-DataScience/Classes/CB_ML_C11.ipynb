{
 "cells": [
  {
   "cell_type": "code",
   "execution_count": 1,
   "id": "c5faeed0",
   "metadata": {},
   "outputs": [],
   "source": [
    "a=[[1, 2, 3, 4, 5], [6, 7, 8, 9, 10]]"
   ]
  },
  {
   "cell_type": "code",
   "execution_count": 2,
   "id": "8a238ba2",
   "metadata": {},
   "outputs": [
    {
     "data": {
      "text/plain": [
       "[1, 2, 3, 4, 5]"
      ]
     },
     "execution_count": 2,
     "metadata": {},
     "output_type": "execute_result"
    }
   ],
   "source": [
    "a[0]"
   ]
  },
  {
   "cell_type": "code",
   "execution_count": 3,
   "id": "aa9e626e",
   "metadata": {},
   "outputs": [
    {
     "data": {
      "text/plain": [
       "[6, 7, 8, 9, 10]"
      ]
     },
     "execution_count": 3,
     "metadata": {},
     "output_type": "execute_result"
    }
   ],
   "source": [
    "a[1]"
   ]
  },
  {
   "cell_type": "code",
   "execution_count": 9,
   "id": "ab3f6501",
   "metadata": {},
   "outputs": [],
   "source": [
    "#  An array is a vector containing homogeneous elements i.e. belonging to the same data type.\n",
    "# Elements are allocated with contiguous memory locations allowing easy modification\n",
    "# , that is, addition, deletion, accessing of elements.\n",
    "# In Python, we have to use the array module to declare arrays.\n",
    "# If the elements of an array belong to different data types, an exception “Incompatible data types” is thrown.\n",
    "\n",
    "# There are no arrays directly in python. They are basically predefined objects created using numpy."
   ]
  },
  {
   "cell_type": "code",
   "execution_count": 20,
   "id": "a5da7b19",
   "metadata": {},
   "outputs": [],
   "source": [
    "import numpy as np\n",
    "a=[1, 2, '3', \"hello\"]"
   ]
  },
  {
   "cell_type": "code",
   "execution_count": 24,
   "id": "0b43af72",
   "metadata": {},
   "outputs": [
    {
     "data": {
      "text/plain": [
       "array(['1', '2', '3', 'hello'], dtype='<U11')"
      ]
     },
     "execution_count": 24,
     "metadata": {},
     "output_type": "execute_result"
    }
   ],
   "source": [
    "np.array(a)\n",
    "# automatically converts integers to string to maintain homogeneity"
   ]
  },
  {
   "cell_type": "code",
   "execution_count": 25,
   "id": "05b2203c",
   "metadata": {},
   "outputs": [
    {
     "data": {
      "text/plain": [
       "array([1, 2, 3, 4, 5])"
      ]
     },
     "execution_count": 25,
     "metadata": {},
     "output_type": "execute_result"
    }
   ],
   "source": [
    "b=[1, 2, 3, 4, 5]\n",
    "np.array(b)"
   ]
  },
  {
   "cell_type": "code",
   "execution_count": 29,
   "id": "b0f79e1d",
   "metadata": {},
   "outputs": [
    {
     "name": "stdout",
     "output_type": "stream",
     "text": [
      "<class 'list'>\n",
      "<class 'numpy.ndarray'>\n"
     ]
    }
   ],
   "source": [
    "c = [[1, 2], [3, 4]];\n",
    "print(type(c))\n",
    "d = np.array(c)\n",
    "print(type(d))"
   ]
  },
  {
   "cell_type": "code",
   "execution_count": 35,
   "id": "7c3efe2f",
   "metadata": {},
   "outputs": [
    {
     "name": "stdout",
     "output_type": "stream",
     "text": [
      "2\n"
     ]
    }
   ],
   "source": [
    "print(d.ndim)"
   ]
  },
  {
   "cell_type": "code",
   "execution_count": 36,
   "id": "52a57f5a",
   "metadata": {},
   "outputs": [
    {
     "name": "stdout",
     "output_type": "stream",
     "text": [
      "[[[[[1 2 3 4]]]]]\n"
     ]
    }
   ],
   "source": [
    "arr = np.array([1, 2, 3, 4], ndmin=5)\n",
    "print(arr)"
   ]
  },
  {
   "cell_type": "code",
   "execution_count": 37,
   "id": "342f058d",
   "metadata": {},
   "outputs": [
    {
     "data": {
      "text/plain": [
       "array([[inf, inf],\n",
       "       [inf, inf]])"
      ]
     },
     "execution_count": 37,
     "metadata": {},
     "output_type": "execute_result"
    }
   ],
   "source": [
    "np.full((2, 2), np.inf)"
   ]
  },
  {
   "cell_type": "code",
   "execution_count": 39,
   "id": "422b34cc",
   "metadata": {},
   "outputs": [
    {
     "data": {
      "text/plain": [
       "array([[10, 10],\n",
       "       [10, 10]])"
      ]
     },
     "execution_count": 39,
     "metadata": {},
     "output_type": "execute_result"
    }
   ],
   "source": [
    "np.full((2, 2), 10)\n"
   ]
  },
  {
   "cell_type": "code",
   "execution_count": 40,
   "id": "b779d838",
   "metadata": {},
   "outputs": [
    {
     "data": {
      "text/plain": [
       "array([[1, 2],\n",
       "       [1, 2]])"
      ]
     },
     "execution_count": 40,
     "metadata": {},
     "output_type": "execute_result"
    }
   ],
   "source": [
    "np.full((2, 2), [1, 2])"
   ]
  },
  {
   "cell_type": "code",
   "execution_count": 43,
   "id": "1a548ae8",
   "metadata": {},
   "outputs": [
    {
     "data": {
      "text/plain": [
       "array([[1, 0],\n",
       "       [0, 1]])"
      ]
     },
     "execution_count": 43,
     "metadata": {},
     "output_type": "execute_result"
    }
   ],
   "source": [
    "(np.eye(2, dtype=int))"
   ]
  },
  {
   "cell_type": "code",
   "execution_count": 44,
   "id": "78a02200",
   "metadata": {},
   "outputs": [
    {
     "data": {
      "text/plain": [
       "array([[1., 0., 0., 0.],\n",
       "       [0., 1., 0., 0.],\n",
       "       [0., 0., 1., 0.],\n",
       "       [0., 0., 0., 1.]])"
      ]
     },
     "execution_count": 44,
     "metadata": {},
     "output_type": "execute_result"
    }
   ],
   "source": [
    "(np.eye(4, dtype=float))"
   ]
  },
  {
   "cell_type": "code",
   "execution_count": 45,
   "id": "f8c538eb",
   "metadata": {},
   "outputs": [
    {
     "data": {
      "text/plain": [
       "array([[1, 1],\n",
       "       [1, 1]])"
      ]
     },
     "execution_count": 45,
     "metadata": {},
     "output_type": "execute_result"
    }
   ],
   "source": [
    "np.ones((2, 2), dtype=int)"
   ]
  },
  {
   "cell_type": "code",
   "execution_count": 47,
   "id": "99c3f5e9",
   "metadata": {},
   "outputs": [
    {
     "data": {
      "text/plain": [
       "array([1, 1])"
      ]
     },
     "execution_count": 47,
     "metadata": {},
     "output_type": "execute_result"
    }
   ],
   "source": [
    "np.ones(2, dtype=int)"
   ]
  },
  {
   "cell_type": "code",
   "execution_count": 59,
   "id": "a8c4763a",
   "metadata": {},
   "outputs": [
    {
     "data": {
      "text/plain": [
       "array([[0.50144602, 0.89153247],\n",
       "       [0.60933144, 0.8443588 ]])"
      ]
     },
     "execution_count": 59,
     "metadata": {},
     "output_type": "execute_result"
    }
   ],
   "source": [
    "np.random.random((2, 2))\n",
    "# Exactly same as .rand, only format of input arguments different"
   ]
  },
  {
   "cell_type": "code",
   "execution_count": 60,
   "id": "1cce8f5e",
   "metadata": {},
   "outputs": [
    {
     "data": {
      "text/plain": [
       "array([[0.94529809, 0.51690965],\n",
       "       [0.21814156, 0.04414888],\n",
       "       [0.50509541, 0.97610695]])"
      ]
     },
     "execution_count": 60,
     "metadata": {},
     "output_type": "execute_result"
    }
   ],
   "source": [
    "np.random.rand(3, 2)"
   ]
  },
  {
   "cell_type": "code",
   "execution_count": 61,
   "id": "2da25843",
   "metadata": {},
   "outputs": [
    {
     "data": {
      "text/plain": [
       "array([[0.25332244, 0.12841603],\n",
       "       [0.31907374, 0.51281496],\n",
       "       [0.62233052, 0.19865366]])"
      ]
     },
     "execution_count": 61,
     "metadata": {},
     "output_type": "execute_result"
    }
   ],
   "source": [
    "np.random.random((3, 2))"
   ]
  },
  {
   "cell_type": "code",
   "execution_count": 62,
   "id": "74b48c91",
   "metadata": {},
   "outputs": [
    {
     "data": {
      "text/plain": [
       "array([0., 0., 0., 0., 0.])"
      ]
     },
     "execution_count": 62,
     "metadata": {},
     "output_type": "execute_result"
    }
   ],
   "source": [
    "np.zeros(5)"
   ]
  },
  {
   "cell_type": "code",
   "execution_count": 65,
   "id": "c9f14536",
   "metadata": {},
   "outputs": [
    {
     "data": {
      "text/plain": [
       "array([[0., 0., 0., 0., 0.],\n",
       "       [0., 0., 0., 0., 0.],\n",
       "       [0., 0., 0., 0., 0.],\n",
       "       [0., 0., 0., 0., 0.],\n",
       "       [0., 0., 0., 0., 0.]])"
      ]
     },
     "execution_count": 65,
     "metadata": {},
     "output_type": "execute_result"
    }
   ],
   "source": [
    "np.zeros((5, 5))"
   ]
  },
  {
   "cell_type": "code",
   "execution_count": 66,
   "id": "05bea4c4",
   "metadata": {},
   "outputs": [
    {
     "data": {
      "text/plain": [
       "array([[0, 0, 0, 0, 0, 0],\n",
       "       [0, 0, 0, 0, 0, 0],\n",
       "       [0, 0, 0, 0, 0, 0],\n",
       "       [0, 0, 0, 0, 0, 0],\n",
       "       [0, 0, 0, 0, 0, 0]])"
      ]
     },
     "execution_count": 66,
     "metadata": {},
     "output_type": "execute_result"
    }
   ],
   "source": [
    "np.zeros((5, 6), dtype=int)"
   ]
  },
  {
   "cell_type": "code",
   "execution_count": 71,
   "id": "ef570e65",
   "metadata": {},
   "outputs": [
    {
     "data": {
      "text/plain": [
       "((2, 2), (2, 2))"
      ]
     },
     "execution_count": 71,
     "metadata": {},
     "output_type": "execute_result"
    }
   ],
   "source": [
    "x = np.array([[1, 2], [3, 4]])\n",
    "y = np.array([[5, 6], [7, 8]])\n",
    "x.shape, y.shape"
   ]
  },
  {
   "cell_type": "code",
   "execution_count": 72,
   "id": "537d4e73",
   "metadata": {},
   "outputs": [
    {
     "data": {
      "text/plain": [
       "array([[ 6,  8],\n",
       "       [10, 12]])"
      ]
     },
     "execution_count": 72,
     "metadata": {},
     "output_type": "execute_result"
    }
   ],
   "source": [
    "x+y"
   ]
  },
  {
   "cell_type": "code",
   "execution_count": 73,
   "id": "445309cb",
   "metadata": {},
   "outputs": [
    {
     "data": {
      "text/plain": [
       "array([[ 6,  8],\n",
       "       [10, 12]])"
      ]
     },
     "execution_count": 73,
     "metadata": {},
     "output_type": "execute_result"
    }
   ],
   "source": [
    "np.add(x, y)"
   ]
  },
  {
   "cell_type": "code",
   "execution_count": 75,
   "id": "60c41901",
   "metadata": {},
   "outputs": [
    {
     "name": "stdout",
     "output_type": "stream",
     "text": [
      "[[-4 -4]\n",
      " [-4 -4]] \n",
      " [[-4 -4]\n",
      " [-4 -4]]\n"
     ]
    }
   ],
   "source": [
    "print(x-y,'\\n', np.subtract(x, y))"
   ]
  },
  {
   "cell_type": "code",
   "execution_count": 78,
   "id": "19d279a7",
   "metadata": {},
   "outputs": [
    {
     "data": {
      "text/plain": [
       "array([[ 5, 12],\n",
       "       [21, 32]])"
      ]
     },
     "execution_count": 78,
     "metadata": {},
     "output_type": "execute_result"
    }
   ],
   "source": [
    "# This is element wise multication, not matrix multiplication\n",
    "x*y"
   ]
  },
  {
   "cell_type": "code",
   "execution_count": 79,
   "id": "a82c0c8d",
   "metadata": {},
   "outputs": [
    {
     "data": {
      "text/plain": [
       "array([[ 5, 12],\n",
       "       [21, 32]])"
      ]
     },
     "execution_count": 79,
     "metadata": {},
     "output_type": "execute_result"
    }
   ],
   "source": [
    "# This is element wise multication, not matrix multiplication\n",
    "np.multiply(x, y)"
   ]
  },
  {
   "cell_type": "code",
   "execution_count": 81,
   "id": "d624f01a",
   "metadata": {},
   "outputs": [
    {
     "data": {
      "text/plain": [
       "array([[19, 22],\n",
       "       [43, 50]])"
      ]
     },
     "execution_count": 81,
     "metadata": {},
     "output_type": "execute_result"
    }
   ],
   "source": [
    "# This is normal matrix multiplication\n",
    "np.matmul(x, y)"
   ]
  },
  {
   "cell_type": "code",
   "execution_count": 82,
   "id": "4ac037d5",
   "metadata": {},
   "outputs": [
    {
     "data": {
      "text/plain": [
       "array([[ 7, 10],\n",
       "       [15, 22]])"
      ]
     },
     "execution_count": 82,
     "metadata": {},
     "output_type": "execute_result"
    }
   ],
   "source": [
    "np.matmul(x, x, y)"
   ]
  },
  {
   "cell_type": "code",
   "execution_count": 83,
   "id": "98bc84bf",
   "metadata": {},
   "outputs": [
    {
     "data": {
      "text/plain": [
       "array([[ 37,  54],\n",
       "       [ 81, 118]])"
      ]
     },
     "execution_count": 83,
     "metadata": {},
     "output_type": "execute_result"
    }
   ],
   "source": [
    "np.matmul(y, x, y)"
   ]
  },
  {
   "cell_type": "code",
   "execution_count": 84,
   "id": "3c5e3b09",
   "metadata": {},
   "outputs": [
    {
     "data": {
      "text/plain": [
       "array([[0.02702703, 0.03703704],\n",
       "       [0.03703704, 0.03389831]])"
      ]
     },
     "execution_count": 84,
     "metadata": {},
     "output_type": "execute_result"
    }
   ],
   "source": [
    "# Element wise divide\n",
    "x/y"
   ]
  },
  {
   "cell_type": "code",
   "execution_count": 85,
   "id": "c41970aa",
   "metadata": {},
   "outputs": [
    {
     "data": {
      "text/plain": [
       "array([[0.02702703, 0.03703704],\n",
       "       [0.03703704, 0.03389831]])"
      ]
     },
     "execution_count": 85,
     "metadata": {},
     "output_type": "execute_result"
    }
   ],
   "source": [
    "np.divide(x, y)"
   ]
  },
  {
   "cell_type": "code",
   "execution_count": 89,
   "id": "3a42ea59",
   "metadata": {},
   "outputs": [
    {
     "name": "stdout",
     "output_type": "stream",
     "text": [
      "[[1.         1.41421356]\n",
      " [1.73205081 2.        ]]\n"
     ]
    }
   ],
   "source": [
    "print(np.sqrt(x))"
   ]
  },
  {
   "cell_type": "code",
   "execution_count": 91,
   "id": "96e236d4",
   "metadata": {},
   "outputs": [
    {
     "data": {
      "text/plain": [
       "array([[199, 290],\n",
       "       [435, 634]])"
      ]
     },
     "execution_count": 91,
     "metadata": {},
     "output_type": "execute_result"
    }
   ],
   "source": [
    "# This is normal matrix multiplication only, not the dot product\n",
    "x.dot(y)"
   ]
  },
  {
   "cell_type": "code",
   "execution_count": 115,
   "id": "243a1c95",
   "metadata": {},
   "outputs": [
    {
     "name": "stdout",
     "output_type": "stream",
     "text": [
      "[[1 2 3 4 5]\n",
      " [1 2 3 4 5]]\n"
     ]
    },
    {
     "data": {
      "text/plain": [
       "55"
      ]
     },
     "execution_count": 115,
     "metadata": {},
     "output_type": "execute_result"
    }
   ],
   "source": [
    "a = np.array([1, 2, 3, 4, 5])\n",
    "b = np.array([1, 2, 3, 4, 5])\n",
    "# Creating 2-d array using 2 1-d arrays\n",
    "print(np.array([a, b]))\n",
    "# This is normal dot product\n",
    "a.dot(b)"
   ]
  },
  {
   "cell_type": "code",
   "execution_count": 116,
   "id": "41b503cd",
   "metadata": {},
   "outputs": [
    {
     "data": {
      "text/plain": [
       "1"
      ]
     },
     "execution_count": 116,
     "metadata": {},
     "output_type": "execute_result"
    }
   ],
   "source": [
    "a[0]"
   ]
  },
  {
   "cell_type": "code",
   "execution_count": 117,
   "id": "690430c7",
   "metadata": {},
   "outputs": [],
   "source": [
    "a[0]=7"
   ]
  },
  {
   "cell_type": "code",
   "execution_count": 118,
   "id": "f6472658",
   "metadata": {},
   "outputs": [
    {
     "name": "stdout",
     "output_type": "stream",
     "text": [
      "[7 2 3 4 5] [1 2 3 4 5]\n"
     ]
    }
   ],
   "source": [
    "print(a, b)"
   ]
  },
  {
   "cell_type": "code",
   "execution_count": 119,
   "id": "2f12ce74",
   "metadata": {},
   "outputs": [
    {
     "data": {
      "text/plain": [
       "21"
      ]
     },
     "execution_count": 119,
     "metadata": {},
     "output_type": "execute_result"
    }
   ],
   "source": [
    "sum(a)"
   ]
  },
  {
   "cell_type": "code",
   "execution_count": 120,
   "id": "68e11933",
   "metadata": {},
   "outputs": [
    {
     "data": {
      "text/plain": [
       "21"
      ]
     },
     "execution_count": 120,
     "metadata": {},
     "output_type": "execute_result"
    }
   ],
   "source": [
    "np.sum(a)"
   ]
  },
  {
   "cell_type": "code",
   "execution_count": 121,
   "id": "7ac753ff",
   "metadata": {},
   "outputs": [
    {
     "data": {
      "text/plain": [
       "21"
      ]
     },
     "execution_count": 121,
     "metadata": {},
     "output_type": "execute_result"
    }
   ],
   "source": [
    "a.dot(np.ones(5, dtype=int))"
   ]
  },
  {
   "cell_type": "code",
   "execution_count": 122,
   "id": "bae2a2a8",
   "metadata": {},
   "outputs": [],
   "source": [
    "c = np.array([[1, 2, 3], [1, 2, 3]])"
   ]
  },
  {
   "cell_type": "code",
   "execution_count": 123,
   "id": "7522ab5b",
   "metadata": {},
   "outputs": [
    {
     "data": {
      "text/plain": [
       "array([2, 4, 6])"
      ]
     },
     "execution_count": 123,
     "metadata": {},
     "output_type": "execute_result"
    }
   ],
   "source": [
    "# Columnwise sum\n",
    "np.sum(c, axis=0)"
   ]
  },
  {
   "cell_type": "code",
   "execution_count": 124,
   "id": "93adb13f",
   "metadata": {},
   "outputs": [
    {
     "data": {
      "text/plain": [
       "array([6, 6])"
      ]
     },
     "execution_count": 124,
     "metadata": {},
     "output_type": "execute_result"
    }
   ],
   "source": [
    "# Rowise sum\n",
    "np.sum(c, axis=1)"
   ]
  },
  {
   "cell_type": "code",
   "execution_count": 128,
   "id": "01cf9dbd",
   "metadata": {},
   "outputs": [
    {
     "data": {
      "text/plain": [
       "2"
      ]
     },
     "execution_count": 128,
     "metadata": {},
     "output_type": "execute_result"
    }
   ],
   "source": [
    "x = np.array([[1, 2, 3], [4, 5, 6], [7, 8 ,9]])\n",
    "x[0, 1]"
   ]
  },
  {
   "cell_type": "code",
   "execution_count": 133,
   "id": "21298172",
   "metadata": {},
   "outputs": [
    {
     "name": "stdout",
     "output_type": "stream",
     "text": [
      "45\n"
     ]
    },
    {
     "data": {
      "text/plain": [
       "array([0, 0, 0])"
      ]
     },
     "execution_count": 133,
     "metadata": {},
     "output_type": "execute_result"
    }
   ],
   "source": [
    "sum = 0;\n",
    "for i in range(0, 3):\n",
    "    for j in range(0, 3):\n",
    "        sum = sum + x[i, j]\n",
    "print(sum)\n",
    "\n",
    "sumCol = np.zeros(x.shape[0], dtype=int)\n",
    "sumColb"
   ]
  },
  {
   "cell_type": "code",
   "execution_count": 136,
   "id": "70b89c51",
   "metadata": {},
   "outputs": [
    {
     "data": {
      "text/plain": [
       "array([0, 0, 0])"
      ]
     },
     "execution_count": 136,
     "metadata": {},
     "output_type": "execute_result"
    }
   ],
   "source": [
    "sumCol"
   ]
  },
  {
   "cell_type": "code",
   "execution_count": 138,
   "id": "3e6fcbb5",
   "metadata": {},
   "outputs": [
    {
     "data": {
      "text/plain": [
       "array([12, 15, 18])"
      ]
     },
     "execution_count": 138,
     "metadata": {},
     "output_type": "execute_result"
    }
   ],
   "source": [
    "for i in range(x.shape[0]):\n",
    "    for j in range(x.shape[1]):\n",
    "        sumCol[j] = sumCol[j] + x[i][j]\n",
    "sumCol"
   ]
  },
  {
   "cell_type": "code",
   "execution_count": 143,
   "id": "dce9a596",
   "metadata": {},
   "outputs": [],
   "source": [
    "a = np.array([1, 2, 3, 4, 5])\n",
    "b = a"
   ]
  },
  {
   "cell_type": "code",
   "execution_count": 144,
   "id": "9b5a1aaf",
   "metadata": {},
   "outputs": [],
   "source": [
    "b = b**2"
   ]
  },
  {
   "cell_type": "code",
   "execution_count": 145,
   "id": "6c09e9e9",
   "metadata": {},
   "outputs": [
    {
     "data": {
      "text/plain": [
       "array([ 1,  4,  9, 16, 25])"
      ]
     },
     "execution_count": 145,
     "metadata": {},
     "output_type": "execute_result"
    }
   ],
   "source": [
    "b"
   ]
  },
  {
   "cell_type": "code",
   "execution_count": 146,
   "id": "e3751e64",
   "metadata": {},
   "outputs": [
    {
     "data": {
      "text/plain": [
       "array([1, 2, 3, 4, 5])"
      ]
     },
     "execution_count": 146,
     "metadata": {},
     "output_type": "execute_result"
    }
   ],
   "source": [
    "a"
   ]
  },
  {
   "cell_type": "code",
   "execution_count": 150,
   "id": "547007be",
   "metadata": {},
   "outputs": [
    {
     "data": {
      "text/plain": [
       "array([[ 1,  2,  3,  4,  5],\n",
       "       [ 1,  4,  9, 16, 25]])"
      ]
     },
     "execution_count": 150,
     "metadata": {},
     "output_type": "execute_result"
    }
   ],
   "source": [
    "# Stacking along y-axis\n",
    "c = np.stack((a, b), axis=0)"
   ]
  },
  {
   "cell_type": "code",
   "execution_count": 153,
   "id": "db3dc587",
   "metadata": {},
   "outputs": [
    {
     "data": {
      "text/plain": [
       "array([[ 1,  1],\n",
       "       [ 2,  4],\n",
       "       [ 3,  9],\n",
       "       [ 4, 16],\n",
       "       [ 5, 25]])"
      ]
     },
     "execution_count": 153,
     "metadata": {},
     "output_type": "execute_result"
    }
   ],
   "source": [
    "# Stacking along x-axis\n",
    "np.stack((a, b), axis=1)"
   ]
  },
  {
   "cell_type": "code",
   "execution_count": 157,
   "id": "71347f7e",
   "metadata": {},
   "outputs": [
    {
     "data": {
      "text/plain": [
       "array([[ 1,  1,  2,  4,  3,  9,  4, 16,  5, 25]])"
      ]
     },
     "execution_count": 157,
     "metadata": {},
     "output_type": "execute_result"
    }
   ],
   "source": [
    "# Returns the reshaped matrix, doesn't alter the input matrix, also doesn't reduce the dimension\n",
    "# Retains the original dimensions\n",
    "c.reshape((1, 10))"
   ]
  },
  {
   "cell_type": "code",
   "execution_count": 155,
   "id": "e1fc4252",
   "metadata": {},
   "outputs": [
    {
     "data": {
      "text/plain": [
       "array([[ 1,  1],\n",
       "       [ 2,  4],\n",
       "       [ 3,  9],\n",
       "       [ 4, 16],\n",
       "       [ 5, 25]])"
      ]
     },
     "execution_count": 155,
     "metadata": {},
     "output_type": "execute_result"
    }
   ],
   "source": [
    "c"
   ]
  },
  {
   "cell_type": "code",
   "execution_count": 158,
   "id": "c8a98e75",
   "metadata": {},
   "outputs": [
    {
     "data": {
      "text/plain": [
       "array([[ 1,  1],\n",
       "       [ 2,  4],\n",
       "       [ 3,  9],\n",
       "       [ 4, 16],\n",
       "       [ 5, 25]])"
      ]
     },
     "execution_count": 158,
     "metadata": {},
     "output_type": "execute_result"
    }
   ],
   "source": [
    "# If we know no. of rows or columns, we can put -1 so that it automatically finds out\n",
    "c.reshape((5, -1))"
   ]
  },
  {
   "cell_type": "code",
   "execution_count": 159,
   "id": "f926cfdc",
   "metadata": {},
   "outputs": [
    {
     "data": {
      "text/plain": [
       "array([ 1,  1,  2,  4,  3,  9,  4, 16,  5, 25])"
      ]
     },
     "execution_count": 159,
     "metadata": {},
     "output_type": "execute_result"
    }
   ],
   "source": [
    "# To convert into a vector from a matrix\n",
    "c.ravel()"
   ]
  },
  {
   "cell_type": "code",
   "execution_count": 164,
   "id": "1a7c53be",
   "metadata": {},
   "outputs": [
    {
     "data": {
      "text/plain": [
       "array([1, 3, 5, 7, 9])"
      ]
     },
     "execution_count": 164,
     "metadata": {},
     "output_type": "execute_result"
    }
   ],
   "source": [
    "# starting point, ending point, step\n",
    "np.arange(1, 10, 2)"
   ]
  },
  {
   "cell_type": "code",
   "execution_count": 165,
   "id": "d0d66657",
   "metadata": {},
   "outputs": [
    {
     "data": {
      "text/plain": [
       "array([ 5,  6,  7,  8,  9, 10, 11, 12, 13, 14])"
      ]
     },
     "execution_count": 165,
     "metadata": {},
     "output_type": "execute_result"
    }
   ],
   "source": [
    "np.arange(10) + 5"
   ]
  },
  {
   "cell_type": "code",
   "execution_count": 167,
   "id": "820f1513",
   "metadata": {},
   "outputs": [
    {
     "data": {
      "text/plain": [
       "array([5, 5, 5, 5, 5])"
      ]
     },
     "execution_count": 167,
     "metadata": {},
     "output_type": "execute_result"
    }
   ],
   "source": [
    "np.array([0, 0, 0, 0, 0]) + 5"
   ]
  },
  {
   "cell_type": "code",
   "execution_count": 174,
   "id": "5a025634",
   "metadata": {},
   "outputs": [],
   "source": [
    "# Shuffles the data set, can be used for matrix as well\n",
    "# Doesn't return, alters the input matrix\n",
    "np.random.shuffle(c)"
   ]
  },
  {
   "cell_type": "code",
   "execution_count": 173,
   "id": "dfa605fe",
   "metadata": {},
   "outputs": [
    {
     "data": {
      "text/plain": [
       "array([[ 5, 25],\n",
       "       [ 3,  9],\n",
       "       [ 2,  4],\n",
       "       [ 4, 16],\n",
       "       [ 1,  1]])"
      ]
     },
     "execution_count": 173,
     "metadata": {},
     "output_type": "execute_result"
    }
   ],
   "source": [
    "c"
   ]
  },
  {
   "cell_type": "code",
   "execution_count": 186,
   "id": "4790495d",
   "metadata": {},
   "outputs": [
    {
     "name": "stdout",
     "output_type": "stream",
     "text": [
      "[[6.9402526  9.8015738  7.14925309 2.21265332 4.54703846]\n",
      " [0.34833238 8.48886973 2.1760806  0.27813676 8.37801795]\n",
      " [0.95217802 9.04485282 7.87773146 4.80185067 1.59891203]\n",
      " [0.43092879 4.47157881 9.13500861 4.33025006 3.49900688]\n",
      " [4.1070816  3.55028707 2.5159704  9.84006988 7.62837179]]\n"
     ]
    }
   ],
   "source": [
    "# To get random numbers from 0 to 10\n",
    "# Uniform Distribution\n",
    "r = np.random.rand(5, 5) * 10\n",
    "print(r)"
   ]
  },
  {
   "cell_type": "code",
   "execution_count": 190,
   "id": "d0c96f56",
   "metadata": {},
   "outputs": [
    {
     "name": "stdout",
     "output_type": "stream",
     "text": [
      "[[-0.18711304 -0.94432393  0.22659652  0.75218686  0.8103005 ]\n",
      " [-0.73979639  0.80656485  1.01621183  0.40973125 -0.85946114]\n",
      " [-0.73698293  0.72308712 -1.07399951  1.29014879 -1.29442973]\n",
      " [-0.89959364 -0.29825196  0.01597034  0.27792805 -0.96110662]\n",
      " [ 0.13552337 -0.71868451 -0.61663931 -0.00705581 -0.14289384]]\n"
     ]
    }
   ],
   "source": [
    "# Standard Normal Distribution\n",
    "r = np.random.randn(5, 5)\n",
    "print(r)"
   ]
  },
  {
   "cell_type": "code",
   "execution_count": 195,
   "id": "81661318",
   "metadata": {},
   "outputs": [
    {
     "data": {
      "text/plain": [
       "array([[5, 9],\n",
       "       [9, 7],\n",
       "       [5, 8],\n",
       "       [9, 7],\n",
       "       [5, 9],\n",
       "       [6, 8],\n",
       "       [6, 7],\n",
       "       [9, 7],\n",
       "       [6, 5],\n",
       "       [7, 7]])"
      ]
     },
     "execution_count": 195,
     "metadata": {},
     "output_type": "execute_result"
    }
   ],
   "source": [
    "# Start, end, size of array of random integers\n",
    "np.random.randint(5, 10, (10, 2))"
   ]
  },
  {
   "cell_type": "code",
   "execution_count": 198,
   "id": "6da201c2",
   "metadata": {},
   "outputs": [
    {
     "data": {
      "text/plain": [
       "-0.9611066191874169"
      ]
     },
     "execution_count": 198,
     "metadata": {},
     "output_type": "execute_result"
    }
   ],
   "source": [
    "# To randomly choose a number from an array - but only possible from 1-d array\n",
    "np.random.choice(r.ravel())"
   ]
  }
 ],
 "metadata": {
  "kernelspec": {
   "display_name": "Python 3 (ipykernel)",
   "language": "python",
   "name": "python3"
  },
  "language_info": {
   "codemirror_mode": {
    "name": "ipython",
    "version": 3
   },
   "file_extension": ".py",
   "mimetype": "text/x-python",
   "name": "python",
   "nbconvert_exporter": "python",
   "pygments_lexer": "ipython3",
   "version": "3.11.1"
  }
 },
 "nbformat": 4,
 "nbformat_minor": 5
}

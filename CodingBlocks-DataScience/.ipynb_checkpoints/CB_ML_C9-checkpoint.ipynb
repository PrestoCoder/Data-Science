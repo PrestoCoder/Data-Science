{
 "cells": [
  {
   "cell_type": "code",
   "execution_count": 15,
   "id": "da905a48",
   "metadata": {},
   "outputs": [
    {
     "name": "stdout",
     "output_type": "stream",
     "text": [
      "Initialized Teacher: Abhijeet\n",
      "0\n",
      "Name: Abhijeet, Age: 24\n"
     ]
    }
   ],
   "source": [
    "# Inheritance\n",
    "# Attributes and methods can be inherited using simply passing the class.\n",
    "class School_Member:\n",
    "    id_1 = 0\n",
    "    def __init__(self, name, age):\n",
    "        self.name = name\n",
    "        self.age = age\n",
    "        print(f\"Initialized School Member: {self.name}\")\n",
    "        \n",
    "    def tell(self):\n",
    "        print(f\"Name: {self.name}, Age: {self.age}\")\n",
    "        \n",
    "# School Members below is a kind of parameter\n",
    "class Teacher(School_Member): # This basically allows to access parent class' methods and attributes\n",
    "    def __init__(self, name, age, salary):\n",
    "        # Check if we could've inherited another faunction doing the same work as __init__ in School_member\n",
    "        School_Member.__init__(self, name, age)\n",
    "#         An alternative way:-\n",
    "#         Using super(), we don't need to pass self of Teacher, it is implicitly passed.\n",
    "#         super().__init__(name, age)\n",
    "        self.salary = salary\n",
    "        print(f\"Initialized Teacher: {self.name}\")\n",
    "    \n",
    "#     Function Overriding\n",
    "    def tell(self):\n",
    "        School_Member.tell(self)\n",
    "#         super().tell()\n",
    "        print(f\"Salary: {self.salary}\")\n",
    "\n",
    "    \n",
    "t1 = Teacher(\"Abhijeet\", 24, 1000)\n",
    "print(t1.id_1)\n",
    "# If Teacher didn't have tell(), it would've called the School_Member's tell()\n",
    "t1.tell()"
   ]
  },
  {
   "cell_type": "code",
   "execution_count": 16,
   "id": "702b7ce3",
   "metadata": {},
   "outputs": [],
   "source": [
    "# H.W.\n",
    "# Inherit more than 1 class"
   ]
  },
  {
   "cell_type": "code",
   "execution_count": 19,
   "id": "079511fb",
   "metadata": {},
   "outputs": [],
   "source": [
    "class DS_member:\n",
    "    def __init__(self, name, age):\n",
    "        self.name = name\n",
    "        self.age = age\n",
    "    \n",
    "class Student(DS_member):\n",
    "    def __init__(self, name, age, linesOfCode):\n",
    "        super().__init__(name, age)\n",
    "        self.linesOfCode = linesOfCode"
   ]
  },
  {
   "cell_type": "code",
   "execution_count": 25,
   "id": "8452e478",
   "metadata": {},
   "outputs": [],
   "source": [
    "# Check this\n",
    "class Person:\n",
    "    def __init__(self, name):\n",
    "        self.name = name\n",
    "        self.friends = [];\n",
    "        \n",
    "    def addBestFriends(self, name):\n",
    "        self.friends.append(BestFriend(name))\n",
    "            \n",
    "class BestFriend(Person):\n",
    "    def __init__(self, name):\n",
    "        super().__init__(name)\n",
    "        \n",
    "p1 = Person(\"Rohan\")\n",
    "p2 = Person(\"Kshitij\")\n",
    "p2 = Person(\"Lakshay\")\n",
    "p4 = Person(\"Rishi\")\n",
    "\n",
    "p1.addBestFriends(\"Lakshay\")\n",
    "p2.addBestFriends(\"Rishi\")"
   ]
  },
  {
   "cell_type": "code",
   "execution_count": 27,
   "id": "2ca002cd",
   "metadata": {},
   "outputs": [
    {
     "data": {
      "text/plain": [
       "<__main__.BestFriend at 0x1738fd90e50>"
      ]
     },
     "execution_count": 27,
     "metadata": {},
     "output_type": "execute_result"
    }
   ],
   "source": [
    "p1.friends[0]"
   ]
  },
  {
   "cell_type": "code",
   "execution_count": null,
   "id": "40f0256a",
   "metadata": {},
   "outputs": [],
   "source": []
  }
 ],
 "metadata": {
  "kernelspec": {
   "display_name": "Python 3 (ipykernel)",
   "language": "python",
   "name": "python3"
  },
  "language_info": {
   "codemirror_mode": {
    "name": "ipython",
    "version": 3
   },
   "file_extension": ".py",
   "mimetype": "text/x-python",
   "name": "python",
   "nbconvert_exporter": "python",
   "pygments_lexer": "ipython3",
   "version": "3.11.1"
  }
 },
 "nbformat": 4,
 "nbformat_minor": 5
}

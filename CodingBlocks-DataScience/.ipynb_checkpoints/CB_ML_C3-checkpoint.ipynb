{
 "cells": [
  {
   "cell_type": "code",
   "execution_count": 22,
   "id": "a3e91f32",
   "metadata": {},
   "outputs": [],
   "source": [
    "# H.W. :- Prime number checker\n",
    "def isPrime(num):\n",
    "    sqrt = int(num ** 0.5)\n",
    "    for i in range(2, sqrt):\n",
    "        if(num % i == 0):\n",
    "            return False;\n",
    "    return True;"
   ]
  },
  {
   "cell_type": "code",
   "execution_count": 37,
   "id": "718029ba",
   "metadata": {
    "scrolled": true
   },
   "outputs": [
    {
     "name": "stdout",
     "output_type": "stream",
     "text": [
      "False\n"
     ]
    }
   ],
   "source": [
    "print(isPrime(24))"
   ]
  },
  {
   "cell_type": "code",
   "execution_count": 59,
   "id": "46c16a53",
   "metadata": {},
   "outputs": [
    {
     "name": "stdout",
     "output_type": "stream",
     "text": [
      "True True True True\n",
      "False\n",
      "34 257\n"
     ]
    }
   ],
   "source": [
    "# Interning\n",
    "# In python, to save memory, ints from -5 to 256 have same location even if declared seperately\n",
    "# But its not like shallow copy, if we change one variable, it won't affect the others.\n",
    "# Reference :- https://docs.python.org/3/library/functions.html#id\n",
    "a = 22\n",
    "b = 22\n",
    "c = 22\n",
    "d = 22\n",
    "print(a is b, b is c, c is d, d is a) # a is b -> Returns true if both point to the same object\n",
    "a = 257\n",
    "b = 257\n",
    "print(a is b)\n",
    "a = 34\n",
    "print(a, b)"
   ]
  },
  {
   "cell_type": "code",
   "execution_count": 119,
   "id": "f31a1027",
   "metadata": {},
   "outputs": [
    {
     "name": "stdout",
     "output_type": "stream",
     "text": [
      "102\n",
      "A\n"
     ]
    }
   ],
   "source": [
    "# Strings\n",
    "# 'ord' used for knowing ASCII value of the character\n",
    "print(ord('f'));\n",
    "# 'chr' gives character for a particular ASCII value\n",
    "print(chr(65))"
   ]
  },
  {
   "cell_type": "code",
   "execution_count": 67,
   "id": "46bb4c54",
   "metadata": {},
   "outputs": [
    {
     "name": "stdout",
     "output_type": "stream",
     "text": [
      "Rohan Chhibba\n",
      "Hello69\n"
     ]
    }
   ],
   "source": [
    "# Strings can be concatenated using +\n",
    "print(\"Rohan\" + \" Chhibba\")\n",
    "# However, ints won't be auto typecasted to strings in concatenation\n",
    "# print(\"Hello\" + 69) -> This won't work\n",
    "print(\"Hello\" + '69')"
   ]
  },
  {
   "cell_type": "code",
   "execution_count": 76,
   "id": "8109a2ae",
   "metadata": {
    "scrolled": true
   },
   "outputs": [
    {
     "name": "stdout",
     "output_type": "stream",
     "text": [
      "Hello Rohan, how r u doing in <built-in function print>\n"
     ]
    }
   ],
   "source": [
    "# Alternate way to include non-strings inside strings\n",
    "print(\"Hello {}, how r u doing in {}\".format(\"Rohan\", print))"
   ]
  },
  {
   "cell_type": "code",
   "execution_count": 70,
   "id": "ac52ac69",
   "metadata": {
    "scrolled": true
   },
   "outputs": [
    {
     "name": "stdout",
     "output_type": "stream",
     "text": [
      "Hello 234, how r u doing in 2352\n"
     ]
    }
   ],
   "source": [
    "# Alternate way of above\n",
    "print(f\"Hello {234}, how r u doing in {2352}\")"
   ]
  },
  {
   "cell_type": "code",
   "execution_count": 75,
   "id": "9da60c56",
   "metadata": {},
   "outputs": [
    {
     "name": "stdout",
     "output_type": "stream",
     "text": [
      "This is <built-in function print> a 2 string 3\n"
     ]
    }
   ],
   "source": [
    "def fun1(inp1, inp2, inp3):\n",
    "    print(f\"This is {inp1} a {inp2} string {inp3}\")\n",
    "fun1(print, 2, 3)"
   ]
  },
  {
   "cell_type": "code",
   "execution_count": 79,
   "id": "0aff70d0",
   "metadata": {},
   "outputs": [
    {
     "name": "stdout",
     "output_type": "stream",
     "text": [
      "2\n"
     ]
    },
    {
     "ename": "NameError",
     "evalue": "name 'num1' is not defined",
     "output_type": "error",
     "traceback": [
      "\u001b[1;31m---------------------------------------------------------------------------\u001b[0m",
      "\u001b[1;31mNameError\u001b[0m                                 Traceback (most recent call last)",
      "Cell \u001b[1;32mIn[79], line 5\u001b[0m\n\u001b[0;32m      3\u001b[0m \u001b[38;5;28mprint\u001b[39m(num1)\n\u001b[0;32m      4\u001b[0m \u001b[38;5;28;01mdel\u001b[39;00m num1\n\u001b[1;32m----> 5\u001b[0m \u001b[38;5;28mprint\u001b[39m(\u001b[43mnum1\u001b[49m) \u001b[38;5;66;03m# This will now give error\u001b[39;00m\n",
      "\u001b[1;31mNameError\u001b[0m: name 'num1' is not defined"
     ]
    }
   ],
   "source": [
    "# To delete a variable from memory allocation\n",
    "num1 = 2\n",
    "print(num1)\n",
    "del num1\n",
    "print(num1) # This will now give error"
   ]
  },
  {
   "cell_type": "code",
   "execution_count": 85,
   "id": "a230be09",
   "metadata": {},
   "outputs": [
    {
     "name": "stdout",
     "output_type": "stream",
     "text": [
      "Authenticated\n"
     ]
    }
   ],
   "source": [
    "def password(inp):\n",
    "    if(inp.lower() == \"yes\"):\n",
    "        print(\"Authenticated\");\n",
    "    else:\n",
    "        print(\"Not authenticated\")\n",
    "password(\"yEs\")"
   ]
  },
  {
   "cell_type": "code",
   "execution_count": 89,
   "id": "48fcdb87",
   "metadata": {},
   "outputs": [
    {
     "name": "stdout",
     "output_type": "stream",
     "text": [
      "Enter character:- 3\n",
      "Enter character:- 4\n",
      "Enter character:- y\n",
      "Enter character:- e\n",
      "Enter character:- s\n"
     ]
    }
   ],
   "source": [
    "# Taking input unless \"yes\" is inputted\n",
    "str = \"\";\n",
    "while(str.lower() != 'yes'):\n",
    "    char = input(\"Enter character:- \")\n",
    "    if((str == '' and char == \"y\") or (str == 'y' and char == 'e') or (str == 'ye' and char == 's')):\n",
    "        str = str + char\n",
    "    continue"
   ]
  },
  {
   "cell_type": "code",
   "execution_count": null,
   "id": "15a98bcb",
   "metadata": {},
   "outputs": [],
   "source": [
    "# String functions:-\n",
    "# str.strip() :- Removes leading spaces\n",
    "# str.split(str1):- Removes str1 from everywhere, splits string at those removals, and returns a list\n",
    "# str.replace(str1, str2):- Replaces all instances of str2 with str1\n",
    "# str.count(str1):- Returns count of all instances of str1 in str"
   ]
  },
  {
   "cell_type": "code",
   "execution_count": 96,
   "id": "4f25d20e",
   "metadata": {
    "scrolled": true
   },
   "outputs": [
    {
     "name": "stdout",
     "output_type": "stream",
     "text": [
      "          sdfsdfsdf sdfsdfsdf\n"
     ]
    }
   ],
   "source": [
    "# 1.) Strip:- Removes any leading or beginning spaces\n",
    "# Doesn't update the given string.\n",
    "print(\"          sdfsdfsdf\", \"      sdfsdfsdf\".strip())"
   ]
  },
  {
   "cell_type": "code",
   "execution_count": 106,
   "id": "a8296563",
   "metadata": {},
   "outputs": [
    {
     "name": "stdout",
     "output_type": "stream",
     "text": [
      "['The', 'dog', 'is', 'running']\n",
      "['The', 'dog', 'is', 'running']\n",
      "['The dog    ', '  is runn', 'ing       ']\n"
     ]
    }
   ],
   "source": [
    "# 2.) Split:- \n",
    "# Removes all spaces and splits the strings across those removals, or slits at the string given, and returns the list.\n",
    "# Doesn't update the given string.\n",
    "print(\"The dog is running\".split())\n",
    "print(\"The dog      is running       \".split())\n",
    "print(\"The dog    ,  is runn,ing       \".split(','))"
   ]
  },
  {
   "cell_type": "code",
   "execution_count": 111,
   "id": "5ca1f5df",
   "metadata": {},
   "outputs": [
    {
     "name": "stdout",
     "output_type": "stream",
     "text": [
      "Heyoyoo My name is Rohan\n",
      "Rohan is a good boy\n"
     ]
    }
   ],
   "source": [
    "# 3.) Replace:-\n",
    "# Replaces the given string with the other given string\n",
    "# Doesn't update the given string.\n",
    "print(\"Hello My name is Rohan\".replace(\"ll\", \"yoyo\"))\n",
    "# Can be used to delete a particular string from everywhere in the string\n",
    "print(\"Ropnhan ipns apn gopnod boypn\".replace(\"pn\", ''))"
   ]
  },
  {
   "cell_type": "code",
   "execution_count": 117,
   "id": "fcfed31d",
   "metadata": {},
   "outputs": [
    {
     "name": "stdout",
     "output_type": "stream",
     "text": [
      "h e ll o\n",
      "Aut\n"
     ]
    }
   ],
   "source": [
    "# Taking input unless \"hello\" is inputted\n",
    "while(str != 'hello'):\n",
    "    inp = input();\n",
    "    if(inp.replace(\" \", '').lower() == 'hello'):\n",
    "        print(\"Aut\")\n",
    "        break;\n",
    "    else:\n",
    "        print(\"Not Aut\")"
   ]
  },
  {
   "cell_type": "code",
   "execution_count": 118,
   "id": "2eca726c",
   "metadata": {},
   "outputs": [
    {
     "name": "stdout",
     "output_type": "stream",
     "text": [
      "4\n"
     ]
    }
   ],
   "source": [
    "# 4.) Count:- Prints number of times a string appears in another string\n",
    "print(\"ll ll ll ll l\".count(\"ll\"))"
   ]
  },
  {
   "cell_type": "code",
   "execution_count": 40,
   "id": "9ab4da27",
   "metadata": {},
   "outputs": [],
   "source": [
    "# Inbuilt data structures:-\n",
    "#Lists, Tuples, Dictionaries, Sets"
   ]
  },
  {
   "cell_type": "code",
   "execution_count": 41,
   "id": "3e9496d8",
   "metadata": {},
   "outputs": [
    {
     "name": "stdout",
     "output_type": "stream",
     "text": [
      "<class 'list'>\n"
     ]
    }
   ],
   "source": [
    "#Lists\n",
    "students = [\"India\", \"Brazil\", \"China\", \"Russia\"];\n",
    "print(type(students))"
   ]
  },
  {
   "cell_type": "code",
   "execution_count": 120,
   "id": "f9008494",
   "metadata": {},
   "outputs": [
    {
     "name": "stdout",
     "output_type": "stream",
     "text": [
      "[123, 'fasdlfkj', 'a', [1231, 1231, '2323'], <built-in function print>] <class 'list'>\n"
     ]
    }
   ],
   "source": [
    "# Lists are heterogenous\n",
    "# Lists can contain other lists\n",
    "list1 = [123, \"fasdlfkj\", 'a', [1231, 1231, \"2323\"], print];\n",
    "print(list1, type(list1))"
   ]
  },
  {
   "cell_type": "code",
   "execution_count": 134,
   "id": "8b5d2f4e",
   "metadata": {},
   "outputs": [
    {
     "name": "stdout",
     "output_type": "stream",
     "text": [
      "[1231, 1231, '2323']\n",
      "5\n",
      "7\n",
      "<class 'builtin_function_or_method'>\n",
      "<class 'list'>\n",
      "Helloyyoyo\n",
      "None\n"
     ]
    }
   ],
   "source": [
    "# Lists are indexable:-\n",
    "print(list1[3])\n",
    "print(len(list1))\n",
    "print(len(\"sdfksjf\"))\n",
    "print(type(list1[-1]))\n",
    "print(type(list1[-2]))\n",
    "print(list1[-1](\"Hello\" + \"yyoyo\")) # Passing argument to print function, got from list"
   ]
  },
  {
   "cell_type": "code",
   "execution_count": 143,
   "id": "4d7464a5",
   "metadata": {},
   "outputs": [
    {
     "name": "stdout",
     "output_type": "stream",
     "text": [
      "[1, 1, 2, 3]\n",
      "[123, 'fasdlfkj', 'a', [1231, 1231, '2323'], <built-in function print>, 'sdlfkj', 'sdlfkj', 'sdlfkj', 'Appended element']\n"
     ]
    }
   ],
   "source": [
    "# Joining 2 lists\n",
    "print([1, 1] + [2, 3])\n",
    "# Appending\n",
    "list1.append(\"Appended element\") # Only updates the list, doesn't return anything. Thus, can't print while appending.\n",
    "print(list1)"
   ]
  },
  {
   "cell_type": "code",
   "execution_count": 154,
   "id": "b75a0afa",
   "metadata": {},
   "outputs": [
    {
     "name": "stdout",
     "output_type": "stream",
     "text": [
      "['Inserted element', 'Inserted element', 'Inserted element', 123, 'fasdlfkj', '22', [1231, 1231, '2323'], <built-in function print>, 'sdlfkj', 'sdlfkj', 'sdlfkj', 'Appended element']\n"
     ]
    }
   ],
   "source": [
    "# Insert\n",
    "list1.insert(0, \"Inserted element\")\n",
    "print(list1)"
   ]
  },
  {
   "cell_type": "code",
   "execution_count": 156,
   "id": "90c57e78",
   "metadata": {},
   "outputs": [
    {
     "name": "stdout",
     "output_type": "stream",
     "text": [
      "sdlfkj\n"
     ]
    }
   ],
   "source": [
    "# Pop - Pops out the last element\n",
    "print(list1.pop()) # Returns popped element also, pops last element out"
   ]
  },
  {
   "cell_type": "code",
   "execution_count": 179,
   "id": "b2da3296",
   "metadata": {},
   "outputs": [
    {
     "name": "stdout",
     "output_type": "stream",
     "text": [
      "[2, 3, 4, 2]\n"
     ]
    }
   ],
   "source": [
    "# Remove - Removes the given element from the list, if multiple elements, removes element with smallest index\n",
    "list2 = [2, 2, 3, 4, 2]\n",
    "list2.remove(2); # Removes element that appears 1st in the list\n",
    "print(list2)"
   ]
  },
  {
   "cell_type": "code",
   "execution_count": 172,
   "id": "9a05f1f8",
   "metadata": {},
   "outputs": [
    {
     "name": "stdout",
     "output_type": "stream",
     "text": [
      "[2, 2, 3, 4]\n",
      "[4, 3, 2, 2]\n"
     ]
    }
   ],
   "source": [
    "# sorted - Returns sorted list, doesn't update the list.\n",
    "print(sorted(list2))\n",
    "print(sorted(list2, reverse = True)) # Sort descending"
   ]
  },
  {
   "cell_type": "code",
   "execution_count": 167,
   "id": "7b2fc28c",
   "metadata": {},
   "outputs": [
    {
     "name": "stdout",
     "output_type": "stream",
     "text": [
      "False\n",
      "True\n"
     ]
    }
   ],
   "source": [
    "a = [1, 1]\n",
    "b = [1, 1]\n",
    "print(a is b)\n",
    "a = b\n",
    "print(a is b)"
   ]
  },
  {
   "cell_type": "code",
   "execution_count": 187,
   "id": "d40fb741",
   "metadata": {},
   "outputs": [
    {
     "name": "stdout",
     "output_type": "stream",
     "text": [
      "[5, 4, 3, 2, 1]\n"
     ]
    }
   ],
   "source": [
    "list3 = [1, 2, 3, 4, 5]\n",
    "list3.reverse() # Reverse order of elements in the list. Doesn't return anything. Only updates the list\n",
    "print(list3)"
   ]
  },
  {
   "cell_type": "code",
   "execution_count": 189,
   "id": "5de318b2",
   "metadata": {},
   "outputs": [
    {
     "name": "stdout",
     "output_type": "stream",
     "text": [
      "(1, 2, 3, <built-in function print>, [2323230, 232], 'sdlfksjf', (3, 2, 4)) <class 'tuple'>\n"
     ]
    }
   ],
   "source": [
    "# Tuple\n",
    "# Exactly same as list, but immutable\n",
    "# Thus, immutable arrays.\n",
    "tup = (1, 2, 3, print, [2323230, 232], \"sdlfksjf\", (3, 2, 4))\n",
    "print(tup, type(tup))"
   ]
  },
  {
   "cell_type": "code",
   "execution_count": 191,
   "id": "6532f300",
   "metadata": {},
   "outputs": [
    {
     "ename": "TypeError",
     "evalue": "'tuple' object does not support item assignment",
     "output_type": "error",
     "traceback": [
      "\u001b[1;31m---------------------------------------------------------------------------\u001b[0m",
      "\u001b[1;31mTypeError\u001b[0m                                 Traceback (most recent call last)",
      "Cell \u001b[1;32mIn[191], line 1\u001b[0m\n\u001b[1;32m----> 1\u001b[0m \u001b[43mtup\u001b[49m\u001b[43m[\u001b[49m\u001b[38;5;241;43m0\u001b[39;49m\u001b[43m]\u001b[49m \u001b[38;5;241m=\u001b[39m \u001b[38;5;241m2\u001b[39m\n",
      "\u001b[1;31mTypeError\u001b[0m: 'tuple' object does not support item assignment"
     ]
    }
   ],
   "source": [
    "tup[0] = 2 # Gives error."
   ]
  },
  {
   "cell_type": "code",
   "execution_count": 192,
   "id": "10107b15",
   "metadata": {},
   "outputs": [
    {
     "ename": "TypeError",
     "evalue": "'tuple' object does not support item assignment",
     "output_type": "error",
     "traceback": [
      "\u001b[1;31m---------------------------------------------------------------------------\u001b[0m",
      "\u001b[1;31mTypeError\u001b[0m                                 Traceback (most recent call last)",
      "Cell \u001b[1;32mIn[192], line 1\u001b[0m\n\u001b[1;32m----> 1\u001b[0m \u001b[43mtup\u001b[49m\u001b[43m[\u001b[49m\u001b[38;5;241;43m4\u001b[39;49m\u001b[43m]\u001b[49m \u001b[38;5;241m=\u001b[39m \u001b[38;5;241m232\u001b[39m\n",
      "\u001b[1;31mTypeError\u001b[0m: 'tuple' object does not support item assignment"
     ]
    }
   ],
   "source": [
    "tup[4] = 232"
   ]
  },
  {
   "cell_type": "code",
   "execution_count": 196,
   "id": "d801a627",
   "metadata": {},
   "outputs": [
    {
     "name": "stdout",
     "output_type": "stream",
     "text": [
      "1414156259648\n",
      "(1, 2, 3, <built-in function print>, [2, 232, 'new element', 'new element', 'new element'], 'sdlfksjf', (3, 2, 4))\n",
      "1414156259648\n"
     ]
    }
   ],
   "source": [
    "# The list inside a tuple is still mutable:- This is because the list is still at the same location, tuple only stores its reference.\n",
    "print(id(tup[4]))\n",
    "tup[4][0] = 2\n",
    "tup[4].append(\"new element\")\n",
    "print(tup)\n",
    "print(id(tup[4]))"
   ]
  },
  {
   "cell_type": "code",
   "execution_count": 198,
   "id": "ca27703b",
   "metadata": {},
   "outputs": [
    {
     "name": "stdout",
     "output_type": "stream",
     "text": [
      "[1, 2, 3, <built-in function print>, [2, 232, 'new element', 'new element', 'new element'], 'sdlfksjf', (3, 2, 4)]\n"
     ]
    }
   ],
   "source": [
    "# Typecasting tuple to list and vica versa is possible\n",
    "tupleList = list(tup)\n",
    "print(tupleList)"
   ]
  },
  {
   "cell_type": "code",
   "execution_count": 208,
   "id": "0fd07711",
   "metadata": {},
   "outputs": [],
   "source": [
    "# Dictionary:- A collection of key-value pairs, are immutable\n",
    "# Keys can be strings, numeric, function, tuples but not lists -> Basically immutable types.\n",
    "# Keys can't be repeated.\n",
    "# Lists can be changed by going to their location, like in tuples.\n",
    "# H.W.:- Research more on this, pointers and immutability\n",
    "dict1 = {\n",
    "    'a': 1,\n",
    "    1:2,\n",
    "    print:3,\n",
    "    2:(34, '343'),\n",
    "    (34, '343'):2\n",
    "}"
   ]
  },
  {
   "cell_type": "code",
   "execution_count": 209,
   "id": "0bcdf951",
   "metadata": {},
   "outputs": [
    {
     "data": {
      "text/plain": [
       "{'a': 1,\n",
       " 1: 2,\n",
       " <function print(*args, sep=' ', end='\\n', file=None, flush=False)>: 3,\n",
       " 2: (34, '343'),\n",
       " (34, '343'): 2}"
      ]
     },
     "execution_count": 209,
     "metadata": {},
     "output_type": "execute_result"
    }
   ],
   "source": [
    "dict1"
   ]
  },
  {
   "cell_type": "code",
   "execution_count": 235,
   "id": "dafa2b8e",
   "metadata": {},
   "outputs": [
    {
     "name": "stdout",
     "output_type": "stream",
     "text": [
      "2 34 3\n",
      "{'a': 2, 'b': 3, 'c': 'sdfkj', 4: 34, 'key': {'a': 3, 'b': 4}}\n",
      "3\n",
      "{'a': 3, 'b': 4}\n",
      "{'a': 3, 'b': 4}\n"
     ]
    }
   ],
   "source": [
    "dict2 = {\n",
    "    'a':2,\n",
    "    'b':3,\n",
    "    'c':'sdfkj',\n",
    "    4:34,\n",
    "    'key':{\n",
    "        'a':3,\n",
    "        'b':4\n",
    "    }\n",
    "}\n",
    "print(dict2['a'], dict2[4], dict2.get('b'))\n",
    "print(dict2)\n",
    "print(dict2['key']['a'])\n",
    "print(dict2['key'])\n",
    "print(dict2.get('key'))\n",
    "dict2['key'] = 2"
   ]
  },
  {
   "cell_type": "code",
   "execution_count": 236,
   "id": "3d399bc2",
   "metadata": {},
   "outputs": [
    {
     "data": {
      "text/plain": [
       "dict_items([('a', 2), ('b', 3), ('c', 'sdfkj'), (4, 34), ('key', 2)])"
      ]
     },
     "execution_count": 236,
     "metadata": {},
     "output_type": "execute_result"
    }
   ],
   "source": [
    "dict2.items()\n",
    "# In backend, dictionary is stored as list of immutable tuples."
   ]
  },
  {
   "cell_type": "code",
   "execution_count": 242,
   "id": "4d9824f1",
   "metadata": {},
   "outputs": [
    {
     "name": "stdout",
     "output_type": "stream",
     "text": [
      "a : 2\n",
      "b : 3\n",
      "c : sdfkj\n",
      "4 : 34\n",
      "key : 2\n"
     ]
    }
   ],
   "source": [
    "for i in dict2.items():\n",
    "    # i is a tuple in the dict2.items\n",
    "    print(i[0], ':', i[1])"
   ]
  },
  {
   "cell_type": "code",
   "execution_count": 247,
   "id": "6fc70e3e",
   "metadata": {},
   "outputs": [
    {
     "name": "stdout",
     "output_type": "stream",
     "text": [
      "dict_keys(['a', 'b', 'c', 4, 'key'])\n",
      "dict_values([2, 3, 'sdfkj', 34, 2])\n",
      "['a', 'b', 'c', 4, 'key']\n",
      "[0, 1, 2, 3, 4, 5, 6, 7, 8, 9]\n"
     ]
    }
   ],
   "source": [
    "# Get keys and values seperately.\n",
    "# We can type cast like this too.\n",
    "print(dict2.keys())\n",
    "print(dict2.values())\n",
    "print(list(dict2.keys()))\n",
    "print(list(range(10)))"
   ]
  },
  {
   "cell_type": "code",
   "execution_count": 245,
   "id": "efe805d3",
   "metadata": {},
   "outputs": [
    {
     "name": "stdout",
     "output_type": "stream",
     "text": [
      "a\n",
      "b\n",
      "c\n",
      "4\n",
      "key\n"
     ]
    }
   ],
   "source": [
    "for i in dict2.keys():\n",
    "    print(i)"
   ]
  },
  {
   "cell_type": "code",
   "execution_count": 251,
   "id": "b7f383ea",
   "metadata": {},
   "outputs": [],
   "source": [
    "# H.W.:- Make a list/dictionary that has 4 students, input name, age, marks, student.\n",
    "def makeStudentDict(numStudents):\n",
    "    studentDict = {};\n",
    "    while(numStudents != 0):\n",
    "        studentName = input(\"Please Enter Student Name:- \");\n",
    "        studentDict[studentName] = {\n",
    "            'age':'',\n",
    "            'marks':'',\n",
    "        };\n",
    "        studentDict[studentName]['age'] = input(\"Please Enter Student Age:- \");\n",
    "        studentDict[studentName]['marks'] = input(\"Please Enter Student Marks:- \");\n",
    "        numStudents-=1\n",
    "    return studentDict;\n",
    "        "
   ]
  },
  {
   "cell_type": "code",
   "execution_count": 252,
   "id": "6cc4d758",
   "metadata": {
    "scrolled": false
   },
   "outputs": [
    {
     "name": "stdout",
     "output_type": "stream",
     "text": [
      "Please Enter Student Name:- Rohan\n",
      "Please Enter Student Age:- 25\n",
      "Please Enter Student Marks:- 20\n",
      "Please Enter Student Name:- Sid\n",
      "Please Enter Student Age:- 24\n",
      "Please Enter Student Marks:- 10\n"
     ]
    },
    {
     "data": {
      "text/plain": [
       "{'Rohan': {'age': '25', 'marks': '20'}, 'Sid': {'age': '24', 'marks': '10'}}"
      ]
     },
     "execution_count": 252,
     "metadata": {},
     "output_type": "execute_result"
    }
   ],
   "source": [
    "makeStudentDict(2)"
   ]
  },
  {
   "cell_type": "code",
   "execution_count": 257,
   "id": "e33ce135",
   "metadata": {},
   "outputs": [],
   "source": [
    "# 2nd approach to the above function, however, it takes age and marks before name.\n",
    "def makeStudentDict2(numStudents):\n",
    "    studentDict = {};\n",
    "    while(numStudents != 0):\n",
    "        studentDict[input(\"Please Enter Student Name:- \")] = {\n",
    "            'age':input(\"Please Enter Student Age:- \"),\n",
    "            'marks':input(\"Please Enter Student Marks:- \"),\n",
    "        };\n",
    "        numStudents-=1\n",
    "    return studentDict;"
   ]
  },
  {
   "cell_type": "code",
   "execution_count": 258,
   "id": "b3add8a2",
   "metadata": {
    "scrolled": false
   },
   "outputs": [
    {
     "name": "stdout",
     "output_type": "stream",
     "text": [
      "Please Enter Student Age:- 25\n",
      "Please Enter Student Marks:- 24\n",
      "Please Enter Student Name:- Rohn\n",
      "Please Enter Student Age:- 23\n",
      "Please Enter Student Marks:- 24\n",
      "Please Enter Student Name:- dofido\n"
     ]
    },
    {
     "data": {
      "text/plain": [
       "{'Rohn': {'age': '25', 'marks': '24'}, 'dofido': {'age': '23', 'marks': '24'}}"
      ]
     },
     "execution_count": 258,
     "metadata": {},
     "output_type": "execute_result"
    }
   ],
   "source": [
    "makeStudentDict2(2)"
   ]
  },
  {
   "cell_type": "code",
   "execution_count": 259,
   "id": "2b9fe54c",
   "metadata": {},
   "outputs": [
    {
     "data": {
      "text/plain": [
       "dict_items([('a', 2), ('b', 3), ('c', 'sdfkj'), (4, 34), ('key', 2)])"
      ]
     },
     "execution_count": 259,
     "metadata": {},
     "output_type": "execute_result"
    }
   ],
   "source": [
    "dict2.items()"
   ]
  },
  {
   "cell_type": "code",
   "execution_count": 260,
   "id": "922f467b",
   "metadata": {},
   "outputs": [
    {
     "name": "stdout",
     "output_type": "stream",
     "text": [
      "a\n",
      "1\n",
      "<built-in function print>\n",
      "2\n",
      "(34, '343')\n"
     ]
    }
   ],
   "source": [
    "# Simply iterating over the dictionary returns keys of the dictionary\n",
    "for i in dict1:\n",
    "    print(i)"
   ]
  }
 ],
 "metadata": {
  "kernelspec": {
   "display_name": "Python 3 (ipykernel)",
   "language": "python",
   "name": "python3"
  },
  "language_info": {
   "codemirror_mode": {
    "name": "ipython",
    "version": 3
   },
   "file_extension": ".py",
   "mimetype": "text/x-python",
   "name": "python",
   "nbconvert_exporter": "python",
   "pygments_lexer": "ipython3",
   "version": "3.11.1"
  }
 },
 "nbformat": 4,
 "nbformat_minor": 5
}

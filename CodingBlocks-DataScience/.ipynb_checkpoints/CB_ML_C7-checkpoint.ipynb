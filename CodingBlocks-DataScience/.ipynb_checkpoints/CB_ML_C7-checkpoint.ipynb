{
 "cells": [
  {
   "cell_type": "markdown",
   "id": "c524bd08",
   "metadata": {},
   "source": [
    "## OOPS\n",
    "- In python, all attributes and methods are static, that is, they are shared amongst all objects that are formed.\n",
    "- Thus, when a function is called, self is passed to tell that static function which object we're talking about.\n",
    "- Had the function not been static, this wouldn't have been required.\n",
    "- Also, although by default, all the attributes are static, when we modify an attribute for an object, a diff. copy is stored for that object.\n",
    "- Even the functions are static, if we modify a function for an object, only then a different copy is created."
   ]
  },
  {
   "cell_type": "code",
   "execution_count": 25,
   "id": "4ae5720e",
   "metadata": {},
   "outputs": [],
   "source": [
    "# Class\n",
    "# In Python, functions and methods(under classes) are callable.\n",
    "# The fields inside a class are called \"attributes\"\n",
    "# Functions inside a class can be called methods."
   ]
  },
  {
   "cell_type": "code",
   "execution_count": 26,
   "id": "8fbed1d9",
   "metadata": {},
   "outputs": [
    {
     "name": "stdout",
     "output_type": "stream",
     "text": [
      "<class 'type'>\n"
     ]
    }
   ],
   "source": [
    "print(type(object))\n",
    "# Returns <class 'type'>\n",
    "# <class 'int'>, <class 'str'>, ... all extend <class 'type'>"
   ]
  },
  {
   "cell_type": "code",
   "execution_count": 32,
   "id": "069c049a",
   "metadata": {},
   "outputs": [],
   "source": [
    "# Read more\n",
    "object?"
   ]
  },
  {
   "cell_type": "code",
   "execution_count": 28,
   "id": "0f6ff75c",
   "metadata": {},
   "outputs": [],
   "source": [
    "a = 2\n",
    "isinstance(a, object)\n",
    "# Read more\n",
    "isinstance?"
   ]
  },
  {
   "cell_type": "code",
   "execution_count": 29,
   "id": "6527482b",
   "metadata": {},
   "outputs": [],
   "source": [
    "# A simple class\n",
    "class Student:\n",
    "    pass"
   ]
  },
  {
   "cell_type": "code",
   "execution_count": 34,
   "id": "c368ad3f",
   "metadata": {},
   "outputs": [
    {
     "name": "stdout",
     "output_type": "stream",
     "text": [
      "<__main__.Student object at 0x0000027D1246EFD0>\n"
     ]
    }
   ],
   "source": [
    "class Student:\n",
    "    name = \"Rohan\"\n",
    "    age = 25\n",
    "boy = Student()\n",
    "print(boy)"
   ]
  },
  {
   "cell_type": "code",
   "execution_count": 36,
   "id": "654326ab",
   "metadata": {},
   "outputs": [
    {
     "name": "stdout",
     "output_type": "stream",
     "text": [
      "Rohan\n",
      "25\n"
     ]
    }
   ],
   "source": [
    "print(boy.name)\n",
    "print(boy.age)"
   ]
  },
  {
   "cell_type": "markdown",
   "id": "ba156dac",
   "metadata": {},
   "source": [
    "# Properties of classes\n",
    "1.) Encapsulation:- \n",
    "- Pack different kinds of variables into a single block(capsule).\n",
    "- We could have had functions that would return dictionaries with arguments passed in function.\n",
    "- But, those functions wouldn't have access to other variables in the dictionary.\n",
    "- Hence, class is a better alternative.\n",
    "\n",
    "2.) Abstraction:- \n",
    "- Abstract means a kind of a summary of a large write-up.\n",
    "- Abstraction is a process of hiding the implementation details and showing only functionality to the user.\n",
    "- Abstract classes and Interfaces are a way to achieve abstraction. They can't be instantiated.\n",
    "- So basically, we can simply extend abstract classes, so kind of its a blueprint for other classes.\n",
    "- The extended classes will be simple to understand as they themselves don't contain the abstract class' data.\n",
    "- Thus, it gets simple to understand.\n",
    "\n",
    "3.) Inheritance:- \n",
    "- Classes can inherit other classes.\n",
    "- And because abstract classes need to be inherited, inheritance is necessary for abstraction.\n",
    "\n",
    "4.) Polymorphism:- \n",
    "- Poly-> Many, morph-> form/change form\n",
    "- Any capsule can exist in multiple forms.\n",
    "- Also, a function previously defined can be overloaded by introducing more parameters, or be overrided by changing its definition.\n",
    "- Thus, that same function is now existing in multiple forms."
   ]
  },
  {
   "cell_type": "code",
   "execution_count": 53,
   "id": "0a657cd1",
   "metadata": {},
   "outputs": [
    {
     "name": "stdout",
     "output_type": "stream",
     "text": [
      "0.003121001217190475\n",
      "0.003121001217190475\n",
      "Hello\n",
      "None\n"
     ]
    }
   ],
   "source": [
    "class Person:\n",
    "    height = 179\n",
    "    weight = 100\n",
    "    bmi = weight/(height**2)\n",
    "#   For a python method to access its parent class' attributes, it has to be given the 'self'(analogue to 'this')\n",
    "#   For attributes, self keyword is not required.\n",
    "    \n",
    "    def calcBMI(self):\n",
    "        return self.weight/(self.height**2)\n",
    "    \n",
    "#   This passing of self is compulsory for a method in python, even if requires no arguments.\n",
    "    def hello(self):\n",
    "        print(\"Hello\")\n",
    "        \n",
    "p = Person()\n",
    "print(p.calcBMI())\n",
    "print(p.bmi)\n",
    "print(p.hello())"
   ]
  },
  {
   "cell_type": "code",
   "execution_count": 54,
   "id": "cf26c600",
   "metadata": {},
   "outputs": [
    {
     "data": {
      "text/plain": [
       "0.003121001217190475"
      ]
     },
     "execution_count": 54,
     "metadata": {},
     "output_type": "execute_result"
    }
   ],
   "source": [
    "# Storing an object is not necessary to call its methods\n",
    "Person().calcBMI()"
   ]
  },
  {
   "cell_type": "code",
   "execution_count": 59,
   "id": "84aa47f7",
   "metadata": {},
   "outputs": [],
   "source": [
    "# In p.hello(), the 'p' is the self for hello function\n",
    "# This looks like as if any object can access this function, like in JS, but not so."
   ]
  },
  {
   "cell_type": "code",
   "execution_count": 96,
   "id": "184d7920",
   "metadata": {},
   "outputs": [],
   "source": [
    "# Dunders/Magic functions -> __<func_name>__ is a dunder function format\n",
    "# Why a magical function?\n",
    "# Whenever an object is created, magical functions are automatically executed.\n",
    "# We can also call the dunder after creating the object.\n",
    "# We have to name it init only.\n",
    "# In python, we needn't declare variables that need to be defined differently for different objects.\n",
    "# If I give default values, we needn't necessarily pass arguments while creating the object.\n",
    "class Student:\n",
    "    common = True\n",
    "    def __init__(self, name = \"Rohan\" ,age = 25, height = 180):\n",
    "        self.name = name\n",
    "        self.age = age\n",
    "        self.height = height\n",
    "        print(\"Chal gya __init__\")"
   ]
  },
  {
   "cell_type": "code",
   "execution_count": 94,
   "id": "39de9370",
   "metadata": {},
   "outputs": [
    {
     "name": "stdout",
     "output_type": "stream",
     "text": [
      "Chal gya __init__\n",
      "Rohan\n",
      "Ropnohan\n"
     ]
    }
   ],
   "source": [
    "s1 = Student(\"Rohan\", 25, 180)\n",
    "print(s1.name)\n",
    "s1.name = \"Ropnohan\"\n",
    "print(s1.name)"
   ]
  },
  {
   "cell_type": "code",
   "execution_count": 100,
   "id": "7933c978",
   "metadata": {},
   "outputs": [
    {
     "name": "stdout",
     "output_type": "stream",
     "text": [
      "Chal gya __init__\n",
      "Chal gya __init__\n",
      "140705036737384\n",
      "140705036737384\n",
      "140705036737384\n",
      "140705036737416\n",
      "2736194691696\n",
      "2736194691696\n"
     ]
    }
   ],
   "source": [
    "s1 = Student()\n",
    "s2 = Student()\n",
    "# This common would be the same variable, unless we change it by assignment, then a distinct variable would be created.\n",
    "print(id(s1.common))\n",
    "print(id(s2.common))\n",
    "s2.common = False\n",
    "print(id(s1.common))\n",
    "print(id(s2.common))\n",
    "print(id(s1.name))\n",
    "print(id(s2.name))"
   ]
  }
 ],
 "metadata": {
  "kernelspec": {
   "display_name": "Python 3 (ipykernel)",
   "language": "python",
   "name": "python3"
  },
  "language_info": {
   "codemirror_mode": {
    "name": "ipython",
    "version": 3
   },
   "file_extension": ".py",
   "mimetype": "text/x-python",
   "name": "python",
   "nbconvert_exporter": "python",
   "pygments_lexer": "ipython3",
   "version": "3.11.1"
  }
 },
 "nbformat": 4,
 "nbformat_minor": 5
}

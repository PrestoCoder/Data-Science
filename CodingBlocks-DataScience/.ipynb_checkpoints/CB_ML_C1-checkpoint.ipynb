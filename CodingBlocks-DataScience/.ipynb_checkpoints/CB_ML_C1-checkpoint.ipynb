{
 "cells": [
  {
   "cell_type": "code",
   "execution_count": 4,
   "metadata": {
    "colab": {
     "base_uri": "https://localhost:8080/"
    },
    "id": "SGGT35wmAv0A",
    "outputId": "be3344d4-a658-4496-fcfa-ac22245c3fb3"
   },
   "outputs": [
    {
     "name": "stdout",
     "output_type": "stream",
     "text": [
      "123\n"
     ]
    }
   ],
   "source": [
    "a = 1; #a is int\n",
    "type(a);\n",
    "\n",
    "a = 1.0; #a is float\n",
    "type(a)\n",
    "\n",
    "b = '123' #b is string\n",
    "type(b);\n",
    "\n",
    "print(b)"
   ]
  },
  {
   "cell_type": "code",
   "execution_count": 5,
   "metadata": {
    "colab": {
     "base_uri": "https://localhost:8080/"
    },
    "id": "fNubrcmtKaQB",
    "outputId": "32b47a64-981d-42a2-dd1e-9d1a643a146a"
   },
   "outputs": [
    {
     "name": "stdout",
     "output_type": "stream",
     "text": [
      "49\n"
     ]
    }
   ],
   "source": [
    "c = '1';\n",
    "print(ord(c)) #Prints ASCII value of '1'"
   ]
  },
  {
   "cell_type": "code",
   "execution_count": 6,
   "metadata": {
    "colab": {
     "base_uri": "https://localhost:8080/"
    },
    "id": "MGRZqRGNKaIb",
    "outputId": "76582ac4-59e5-4e2e-9204-275390d32b60"
   },
   "outputs": [
    {
     "data": {
      "text/plain": [
       "str"
      ]
     },
     "execution_count": 6,
     "metadata": {},
     "output_type": "execute_result"
    }
   ],
   "source": [
    "type('a')"
   ]
  },
  {
   "cell_type": "code",
   "execution_count": 7,
   "metadata": {
    "colab": {
     "base_uri": "https://localhost:8080/"
    },
    "id": "K2Loi0--Koxz",
    "outputId": "9d92a284-260e-43b8-f4e3-1697f7d1708f"
   },
   "outputs": [
    {
     "data": {
      "text/plain": [
       "str"
      ]
     },
     "execution_count": 7,
     "metadata": {},
     "output_type": "execute_result"
    }
   ],
   "source": [
    "type(\"a\")"
   ]
  },
  {
   "cell_type": "code",
   "execution_count": 27,
   "metadata": {
    "id": "st5VteJBKq71"
   },
   "outputs": [],
   "source": [
    "# Indentation is used to denote block of code, instead of {}\n",
    "def addUp(a, b): # Defining a function\n",
    "    d = 3;\n",
    "    print(a + b);"
   ]
  },
  {
   "cell_type": "code",
   "execution_count": 12,
   "metadata": {
    "colab": {
     "base_uri": "https://localhost:8080/",
     "height": 200
    },
    "id": "W11ZIJmMOAEn",
    "outputId": "3557ac77-418d-4df6-9d99-f76fa516582e"
   },
   "outputs": [
    {
     "name": "stdout",
     "output_type": "stream",
     "text": [
      "225\n"
     ]
    },
    {
     "ename": "NameError",
     "evalue": "ignored",
     "output_type": "error",
     "traceback": [
      "\u001b[0;31m---------------------------------------------------------------------------\u001b[0m",
      "\u001b[0;31mNameError\u001b[0m                                 Traceback (most recent call last)",
      "\u001b[0;32m<ipython-input-12-e40da99b5a07>\u001b[0m in \u001b[0;36m<module>\u001b[0;34m\u001b[0m\n\u001b[1;32m      1\u001b[0m \u001b[0maddUp\u001b[0m\u001b[0;34m(\u001b[0m\u001b[0;36m102\u001b[0m\u001b[0;34m,\u001b[0m\u001b[0;36m123\u001b[0m\u001b[0;34m)\u001b[0m\u001b[0;34m\u001b[0m\u001b[0;34m\u001b[0m\u001b[0m\n\u001b[0;32m----> 2\u001b[0;31m \u001b[0mprint\u001b[0m\u001b[0;34m(\u001b[0m\u001b[0md\u001b[0m\u001b[0;34m)\u001b[0m\u001b[0;34m;\u001b[0m\u001b[0;34m\u001b[0m\u001b[0;34m\u001b[0m\u001b[0m\n\u001b[0m",
      "\u001b[0;31mNameError\u001b[0m: name 'd' is not defined"
     ]
    }
   ],
   "source": [
    "addUp(102,123)\n",
    "print(d); # Out of scope"
   ]
  },
  {
   "cell_type": "code",
   "execution_count": 13,
   "metadata": {
    "colab": {
     "base_uri": "https://localhost:8080/"
    },
    "id": "pjR3QrYPO3s5",
    "outputId": "759b596b-f42c-4f67-9177-f45ae86973c8"
   },
   "outputs": [
    {
     "data": {
      "text/plain": [
       "139808178744400"
      ]
     },
     "execution_count": 13,
     "metadata": {},
     "output_type": "execute_result"
    }
   ],
   "source": [
    "id(a) # Memory location of this variable"
   ]
  },
  {
   "cell_type": "code",
   "execution_count": 16,
   "metadata": {
    "colab": {
     "base_uri": "https://localhost:8080/"
    },
    "id": "01eDN9wjO_Ag",
    "outputId": "d3219587-253f-461c-c218-6eee062e7b9d"
   },
   "outputs": [
    {
     "name": "stdout",
     "output_type": "stream",
     "text": [
      "<class 'builtin_function_or_method'>\n"
     ]
    }
   ],
   "source": [
    "# We can assign functions to variables\n",
    "aa = print;\n",
    "print(type(aa))"
   ]
  },
  {
   "cell_type": "code",
   "execution_count": 17,
   "metadata": {
    "colab": {
     "base_uri": "https://localhost:8080/"
    },
    "id": "efM9T-VpQ9th",
    "outputId": "6239b919-dbbb-4de5-e073-7fdb88fc23f4"
   },
   "outputs": [
    {
     "name": "stdout",
     "output_type": "stream",
     "text": [
      "yoyo\n"
     ]
    }
   ],
   "source": [
    "aa(\"yoyo\");"
   ]
  },
  {
   "cell_type": "code",
   "execution_count": 28,
   "metadata": {
    "colab": {
     "base_uri": "https://localhost:8080/"
    },
    "id": "pe3-nJ-MRJf5",
    "outputId": "7eb1df96-8a28-4f79-be49-4a0f901c9468"
   },
   "outputs": [
    {
     "name": "stdout",
     "output_type": "stream",
     "text": [
      "139808177146896 139808177146896\n"
     ]
    }
   ],
   "source": [
    "# In Python, we use = operator to create a copy of an object.\n",
    "# You may think that this creates a new object; it doesn't.\n",
    "# It only creates a new variable that shares the reference of the original object.\n",
    "# Every assignment creates a new object, thus below, addUp starts pointing to a new 'int' object of \n",
    "# 3, however, fun1 keeps pointing to the same object.\n",
    "# https://realpython.com/python-variables/\n",
    "fun1 = addUp;\n",
    "addUp = 3;\n",
    "print(id(fun1), id(addUp))"
   ]
  },
  {
   "cell_type": "code",
   "execution_count": 29,
   "metadata": {
    "colab": {
     "base_uri": "https://localhost:8080/"
    },
    "id": "GlysSg8HRdsZ",
    "outputId": "905d3040-cd36-4358-cbc0-acd9a6dea112"
   },
   "outputs": [
    {
     "name": "stdout",
     "output_type": "stream",
     "text": [
      "<function addUp at 0x7f27a0bc4c10>\n",
      "<function addUp at 0x7f27a0bc4c10>\n"
     ]
    }
   ],
   "source": [
    "print(fun1);\n",
    "addUp = 3; # Creates a new object\n",
    "print(fun1);"
   ]
  },
  {
   "cell_type": "code",
   "execution_count": 39,
   "metadata": {
    "colab": {
     "base_uri": "https://localhost:8080/"
    },
    "id": "gWqHQW6FTBTr",
    "outputId": "6201588e-6e7f-4901-e4a0-967530533e99"
   },
   "outputs": [
    {
     "name": "stdout",
     "output_type": "stream",
     "text": [
      "11530944\n",
      "11530976\n"
     ]
    }
   ],
   "source": [
    "a = 2;\n",
    "print(id(a));\n",
    "a = 3;\n",
    "print(id(a));"
   ]
  },
  {
   "cell_type": "code",
   "execution_count": 41,
   "metadata": {
    "id": "P_FEJTSuWZwl"
   },
   "outputs": [],
   "source": [
    "# Calculator\n",
    "def calculator(a, b, operation):\n",
    "    if(operation == \"+\"):\n",
    "        print(a + b);\n",
    "    elif(operation == \"-\"):\n",
    "        print(a - b);\n",
    "    elif(operation == \"*\"):\n",
    "        print(a * b);\n",
    "    elif(operation == \"/\"):\n",
    "        print(a / b);"
   ]
  },
  {
   "cell_type": "code",
   "execution_count": 43,
   "metadata": {
    "colab": {
     "base_uri": "https://localhost:8080/"
    },
    "id": "2b9cBkkAWfIF",
    "outputId": "e6bf622d-bb4e-4b7f-8331-21af4b8624ba"
   },
   "outputs": [
    {
     "name": "stdout",
     "output_type": "stream",
     "text": [
      "0.6666666666666666\n"
     ]
    }
   ],
   "source": [
    "calculator(2,3,'/')"
   ]
  },
  {
   "cell_type": "code",
   "execution_count": 50,
   "metadata": {
    "colab": {
     "base_uri": "https://localhost:8080/"
    },
    "id": "XIfyqM_zYM8Q",
    "outputId": "64b6c373-974c-4aaf-a89e-3a3cfcb824f7"
   },
   "outputs": [
    {
     "name": "stdout",
     "output_type": "stream",
     "text": [
      "3 -1 2 0.5 1\n",
      "139808176767328\n"
     ]
    }
   ],
   "source": [
    "# We can return multiple things at a time, and store in multiple variables\n",
    "def calculator2(a, b):\n",
    "    return a+b, a-b, a*b, a/b, a%b;\n",
    "\n",
    "sum, dif, prod, quot, rem = calculator2(1,2);\n",
    "print(sum, dif, prod, quot, rem);\n",
    "print(id(calculator2)); # each time when this cell runs.\n"
   ]
  },
  {
   "cell_type": "code",
   "execution_count": 2,
   "metadata": {
    "colab": {
     "base_uri": "https://localhost:8080/"
    },
    "id": "_NmNq2BwYY8p",
    "outputId": "18b7c66b-484e-4797-e7bb-603d84abb2ac"
   },
   "outputs": [
    {
     "name": "stdout",
     "output_type": "stream",
     "text": [
      "r c\n"
     ]
    }
   ],
   "source": [
    "def firstName(fn):\n",
    "    return fn\n",
    "\n",
    "def secondName(sn):\n",
    "    return sn\n",
    "\n",
    "def fullName(a, b):\n",
    "    print(firstName(a) + ' ' + secondName(b))\n",
    "\n",
    "fullName('r', 'c')"
   ]
  },
  {
   "cell_type": "code",
   "execution_count": 3,
   "metadata": {},
   "outputs": [
    {
     "name": "stdout",
     "output_type": "stream",
     "text": [
      "hi\n"
     ]
    }
   ],
   "source": []
  },
  {
   "cell_type": "code",
   "execution_count": null,
   "metadata": {},
   "outputs": [],
   "source": []
  }
 ],
 "metadata": {
  "colab": {
   "provenance": [],
   "toc_visible": true
  },
  "kernelspec": {
   "display_name": "Python 3 (ipykernel)",
   "language": "python",
   "name": "python3"
  },
  "language_info": {
   "codemirror_mode": {
    "name": "ipython",
    "version": 3
   },
   "file_extension": ".py",
   "mimetype": "text/x-python",
   "name": "python",
   "nbconvert_exporter": "python",
   "pygments_lexer": "ipython3",
   "version": "3.11.1"
  }
 },
 "nbformat": 4,
 "nbformat_minor": 1
}

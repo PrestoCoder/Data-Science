{
 "cells": [
  {
   "cell_type": "code",
   "execution_count": 2,
   "id": "18e415fc",
   "metadata": {},
   "outputs": [
    {
     "data": {
      "text/plain": [
       "{1, 2, 3, 4, 5}"
      ]
     },
     "execution_count": 2,
     "metadata": {},
     "output_type": "execute_result"
    }
   ],
   "source": [
    "# Set:- All values are unique, even if duplicated, set will only store unique values.\n",
    "# Useful when we don't want duplicated values, we can make a set of it.?\n",
    "set1 = {1, 2, 3, 4, 5, 3, 2, 1, 2}\n",
    "set1 # Will print out only{1, 2, 3, 4, 5}"
   ]
  },
  {
   "cell_type": "code",
   "execution_count": 3,
   "id": "c1574a36",
   "metadata": {},
   "outputs": [
    {
     "data": {
      "text/plain": [
       "[1, 2, 3, 4, 5]"
      ]
     },
     "execution_count": 3,
     "metadata": {},
     "output_type": "execute_result"
    }
   ],
   "source": [
    "list(set1)"
   ]
  },
  {
   "cell_type": "code",
   "execution_count": 4,
   "id": "0784f1c1",
   "metadata": {},
   "outputs": [
    {
     "data": {
      "text/plain": [
       "{1, 2, 3}"
      ]
     },
     "execution_count": 4,
     "metadata": {},
     "output_type": "execute_result"
    }
   ],
   "source": [
    "set([1, 2, 3, 2, 1, 2, 3, 2, 1]) # Will automatically make values unique"
   ]
  },
  {
   "cell_type": "code",
   "execution_count": 5,
   "id": "a5208d74",
   "metadata": {},
   "outputs": [
    {
     "name": "stdout",
     "output_type": "stream",
     "text": [
      "[1, 2, 3, 4, 5]\n"
     ]
    }
   ],
   "source": [
    "# To remove duplicate values in a list:-\n",
    "list1 = [1, 2, 3, 4, 2, 1, 2, 4, 5, 2, 1, 2, 3]\n",
    "list1 = list(set(list1))\n",
    "print(list1)"
   ]
  },
  {
   "cell_type": "code",
   "execution_count": 7,
   "id": "b467d827",
   "metadata": {},
   "outputs": [
    {
     "name": "stdout",
     "output_type": "stream",
     "text": [
      "{4, 5, 6}\n",
      "{1, 2, 3, 4, 5, 6, 7, 8}\n"
     ]
    }
   ],
   "source": [
    "# intersection\n",
    "set1 = {1, 2, 3, 4, 5, 6}\n",
    "set2 = {4, 5, 6, 7, 8}\n",
    "print(set1.intersection(set2))\n",
    "\n",
    "# Union\n",
    "print(set1.union(set2))"
   ]
  },
  {
   "cell_type": "code",
   "execution_count": 10,
   "id": "bc328c8e",
   "metadata": {},
   "outputs": [
    {
     "name": "stdout",
     "output_type": "stream",
     "text": [
      "1\n",
      "2\n",
      "3\n",
      "4\n",
      "5\n",
      "6\n"
     ]
    }
   ],
   "source": [
    "# Set Indexing:- Set can't be indexed like set1[0], set1[1],...\n",
    "# But it can be iterated like this in the loop\n",
    "for i in set1:\n",
    "    print(i)"
   ]
  },
  {
   "cell_type": "code",
   "execution_count": 11,
   "id": "699eba6d",
   "metadata": {
    "scrolled": true
   },
   "outputs": [
    {
     "name": "stdout",
     "output_type": "stream",
     "text": [
      "{1, 2, 3, 4, 5}\n",
      "{1, 2, 3, 4, 521}\n",
      "{1, 2, 3, 4, 5}\n",
      "{1, 2, 3, 4, 34, 54}\n"
     ]
    }
   ],
   "source": [
    "dict1 = {\n",
    "    'a':[1, 2, 3, 4, 5, 2, 3, 1, 3],\n",
    "    'b':[1, 2, 3, 521, 4, 2, 3, 1],\n",
    "    'c':[1, 2, 4, 5, 2, 3, 5, 2,3],\n",
    "    'd':[1, 2,3, 4, 1, 2, 54, 1, 2, 34, 2 ,1]\n",
    "}\n",
    "for i in dict1.items():\n",
    "    print(set(i[1]))"
   ]
  },
  {
   "cell_type": "code",
   "execution_count": 24,
   "id": "18d08fc9",
   "metadata": {},
   "outputs": [],
   "source": [
    "# args and Kwargs:- Used for accepting indefinite no. of arguments for a function"
   ]
  },
  {
   "cell_type": "code",
   "execution_count": 25,
   "id": "cbc782ae",
   "metadata": {},
   "outputs": [
    {
     "name": "stdout",
     "output_type": "stream",
     "text": [
      "1 2 3 4 2 dsfgkj\n"
     ]
    }
   ],
   "source": [
    "# For example, print function has args, which is why we can pass indefinite no. of arguments\n",
    "print(1, 2, 3, 4, 2, \"dsfgkj\")"
   ]
  },
  {
   "cell_type": "code",
   "execution_count": 43,
   "id": "c16f1c14",
   "metadata": {},
   "outputs": [],
   "source": [
    "# We can write anything instead of args, standard practice is of args\n",
    "# The args are stored in tuple form.\n",
    "def printer(a, *args):\n",
    "    print(args) # Prints a tuple\n",
    "    for i in args:\n",
    "        print(i, ',')"
   ]
  },
  {
   "cell_type": "code",
   "execution_count": 44,
   "id": "8b88858b",
   "metadata": {},
   "outputs": [
    {
     "name": "stdout",
     "output_type": "stream",
     "text": [
      "(2, 3, 4, 5, 3, 12)\n",
      "2 ,\n",
      "3 ,\n",
      "4 ,\n",
      "5 ,\n",
      "3 ,\n",
      "12 ,\n"
     ]
    }
   ],
   "source": [
    "printer(1, 2, 3 ,4, 5, 3, 12)"
   ]
  },
  {
   "cell_type": "code",
   "execution_count": 46,
   "id": "4be82409",
   "metadata": {},
   "outputs": [],
   "source": [
    "def adder(*args):\n",
    "    sum1 = 0;\n",
    "    for i in args:\n",
    "        sum1 = sum1 + i;\n",
    "    print(sum1)"
   ]
  },
  {
   "cell_type": "code",
   "execution_count": 48,
   "id": "de66d53a",
   "metadata": {},
   "outputs": [
    {
     "name": "stdout",
     "output_type": "stream",
     "text": [
      "26\n"
     ]
    }
   ],
   "source": [
    "adder(1, 2, 2,3 ,4, 4, 5, 3, 2)"
   ]
  },
  {
   "cell_type": "code",
   "execution_count": 50,
   "id": "2da6ef3c",
   "metadata": {},
   "outputs": [
    {
     "name": "stdout",
     "output_type": "stream",
     "text": [
      "0\n"
     ]
    }
   ],
   "source": [
    "adder()"
   ]
  },
  {
   "cell_type": "code",
   "execution_count": 58,
   "id": "72aa6f33",
   "metadata": {},
   "outputs": [],
   "source": [
    "# Kwargs - Kw-> Keyword, args-> arguments\n",
    "# Kwargs hold the keyword and its value in dictionary type\n",
    "def printer1(a, *args, **kwargs):\n",
    "    print(a)\n",
    "    print(args)\n",
    "    print(kwargs)"
   ]
  },
  {
   "cell_type": "code",
   "execution_count": 61,
   "id": "119f351e",
   "metadata": {},
   "outputs": [
    {
     "name": "stdout",
     "output_type": "stream",
     "text": [
      "2\n",
      "(23, 2, 3, 4, 5)\n",
      "{'name': 'adder', 'function': 'addition'}\n"
     ]
    }
   ],
   "source": [
    "# The key name won't be converted to 'rohan' here.\n",
    "# The key given in non-string format will automatically be converted into string format.\n",
    "name = 'rohan'\n",
    "printer1(2, 23, 2 ,3 ,4 ,5 , name = \"adder\", function = \"addition\")"
   ]
  },
  {
   "cell_type": "code",
   "execution_count": 65,
   "id": "3d47e06d",
   "metadata": {},
   "outputs": [],
   "source": [
    "# Function authentication - Extra layer added to function ->  function decoration\n",
    "passwords = {\n",
    "    'Rohan': 'ron1997',\n",
    "    'mumzi': 'mum1971',\n",
    "    'pupzi': 'pup1967'\n",
    "}\n",
    "def printer(username, password, *words):\n",
    "    if(username in passwords.keys() and passwords[username] == password):\n",
    "        print(words);\n",
    "    else:\n",
    "        print(\"Username or password incorrect\")"
   ]
  },
  {
   "cell_type": "code",
   "execution_count": 66,
   "id": "74667685",
   "metadata": {},
   "outputs": [
    {
     "name": "stdout",
     "output_type": "stream",
     "text": [
      "('sdfsldfkj', 'weoriueri')\n"
     ]
    }
   ],
   "source": [
    "printer('Rohan', 'ron1997', 'sdfsldfkj', 'weoriueri')"
   ]
  },
  {
   "cell_type": "code",
   "execution_count": 89,
   "id": "c45f03b6",
   "metadata": {},
   "outputs": [
    {
     "name": "stdout",
     "output_type": "stream",
     "text": [
      "<function adder at 0x0000023DD0687CE0>\n"
     ]
    }
   ],
   "source": [
    "# Making any function authenticated\n",
    "# This function creates a wrapper function which adds two extra parameters to the function, and returns that function\n",
    "# Here, these are username and password. It actually can be anything.\n",
    "# Also, here we require args and kwargs because no. of parameters for different functions would vary\n",
    "def createWrapper(func):\n",
    "    def wrapperFunction(username, password, *args, **kwargs):\n",
    "        if(username in passwords and passwords[username] == password):\n",
    "            print(func)\n",
    "            func(*args, **kwargs)\n",
    "        else:\n",
    "            print(\"Not authenticated\")\n",
    "    return wrapperFunction\n",
    "\n",
    "def adder(*args):\n",
    "    sum1 = 0\n",
    "    for i in args:\n",
    "        sum1 += i\n",
    "    print(sum1)\n",
    "    \n",
    "# Returns the wrapper function, which requires username and password as well.\n",
    "# And if those 2 are correct, it calls the function adder is called.\n",
    "adderWrapperFunction = createWrapper(adder);"
   ]
  },
  {
   "cell_type": "code",
   "execution_count": 90,
   "id": "b8f42df9",
   "metadata": {
    "scrolled": true
   },
   "outputs": [
    {
     "name": "stdout",
     "output_type": "stream",
     "text": [
      "<function adder at 0x0000023DD0687CE0>\n",
      "<function adder at 0x0000023DD0687CE0>\n",
      "16\n"
     ]
    }
   ],
   "source": [
    "print(adder)\n",
    "adderWrapperFunction('Rohan', 'ron1997', 1, 2, 2 ,3, 4, 4)"
   ]
  },
  {
   "cell_type": "code",
   "execution_count": 87,
   "id": "5938b194",
   "metadata": {},
   "outputs": [
    {
     "name": "stdout",
     "output_type": "stream",
     "text": [
      "<function adder at 0x0000023DD0684EA0>\n",
      "<function adder at 0x0000023DD0684EA0>\n"
     ]
    }
   ],
   "source": [
    "# This shows that when we pass an argument to a function, the variable inside it is assigned its value.\n",
    "# Like if func(a), and called is func(b), a = b is what happens. Thus, a and b both start pointing to the same object.\n",
    "# But if we modify a inside func, it won't change b, as already seen before.\n",
    "def funMod(fun):\n",
    "    print(fun)\n",
    "    fun = 2\n",
    "funMod(adder)\n",
    "print(adder)"
   ]
  },
  {
   "cell_type": "code",
   "execution_count": 97,
   "id": "5b3c23d3",
   "metadata": {},
   "outputs": [],
   "source": [
    "# Decorater :- @\n",
    "# Kind of decorates the function. \n",
    "@createWrapper \n",
    "def adder(*args):\n",
    "    sum1 = 0\n",
    "    for i in args:\n",
    "        sum1 += i\n",
    "    print(sum1)\n",
    "    \n",
    "# <-------The above is equivalent to ----->\n",
    "def adder(*args):\n",
    "    sum1 = 0\n",
    "    for i in args:\n",
    "        sum1 += i\n",
    "    print(sum1)\n",
    "adder = createWrapper(adder);"
   ]
  },
  {
   "cell_type": "code",
   "execution_count": null,
   "id": "43f4c37f",
   "metadata": {},
   "outputs": [],
   "source": []
  }
 ],
 "metadata": {
  "kernelspec": {
   "display_name": "Python 3 (ipykernel)",
   "language": "python",
   "name": "python3"
  },
  "language_info": {
   "codemirror_mode": {
    "name": "ipython",
    "version": 3
   },
   "file_extension": ".py",
   "mimetype": "text/x-python",
   "name": "python",
   "nbconvert_exporter": "python",
   "pygments_lexer": "ipython3",
   "version": "3.11.1"
  }
 },
 "nbformat": 4,
 "nbformat_minor": 5
}

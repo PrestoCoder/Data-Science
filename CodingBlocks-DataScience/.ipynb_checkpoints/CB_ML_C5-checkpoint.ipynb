{
 "cells": [
  {
   "cell_type": "code",
   "execution_count": null,
   "id": "e73a8148",
   "metadata": {},
   "outputs": [],
   "source": [
    "# Note:- Mutable objects like lists, dictionaries and sets are by passed by reference, whereas immutable objects like\n",
    "#        tuples and strings are passed by value"
   ]
  },
  {
   "cell_type": "code",
   "execution_count": 2,
   "id": "57e2b679",
   "metadata": {},
   "outputs": [],
   "source": [
    "# H.W. - 1\n",
    "# Take a list, its own elements can repeat in it.\n",
    "# Create sublists such that all are unique \n",
    "# Basically all unique subsets\n",
    "# [1,2] and [2,1] treated as different.\n",
    "# Hint:- Track each number(dictionary)"
   ]
  },
  {
   "cell_type": "code",
   "execution_count": 203,
   "id": "3645b7c9",
   "metadata": {},
   "outputs": [],
   "source": [
    "list1 = [1, 2, 3]\n",
    "# 1 - [1], [2], [3],\n",
    "# 2 - [1, 2], [2, 1], [1, 3], [3, 1], [2, 3], [3, 2],\n",
    "# 3 - [1, 2, 3], [1, 3, 2], [2, 1, 3], [2, 3, 1], [3, 1, 2], [3, 2, 1]"
   ]
  },
  {
   "cell_type": "code",
   "execution_count": 211,
   "id": "46c63356",
   "metadata": {},
   "outputs": [
    {
     "name": "stdout",
     "output_type": "stream",
     "text": [
      "[1]\n",
      "[1, 2]\n",
      "[1, 2, 3]\n",
      "[1, 3]\n",
      "[1, 3, 2]\n",
      "[2]\n",
      "[2, 1]\n",
      "[2, 1, 3]\n",
      "[2, 3]\n",
      "[2, 3, 1]\n",
      "[3]\n",
      "[3, 1]\n",
      "[3, 1, 2]\n",
      "[3, 2]\n",
      "[3, 2, 1]\n"
     ]
    }
   ],
   "source": [
    "import copy\n",
    "# H.W.1 Solution\n",
    "list1 = [1, 2, 3]\n",
    "# Converting list to dictionary\n",
    "dict1 = {}\n",
    "for i in list1:\n",
    "    dict1[i] = 1\n",
    "# Recursive function\n",
    "def func1(list1, dict1):\n",
    "    for i in dict1:\n",
    "#         print(dict1)\n",
    "        if dict1[i] > 0:\n",
    "            newList1 = list1 + [i]; # Appending element to the end of the list\n",
    "            dict2 = copy.deepcopy(dict1) # This dictionary would be passed onto called functions\n",
    "            dict2[i] -= 1 # Reducing the number of times element has been used in the list\n",
    "            print(newList1); # Printing the list\n",
    "            func1(newList1, dict2) # Calling the function again with updated list and dict\n",
    "    return\n",
    "\n",
    "func1([], dict1)"
   ]
  },
  {
   "cell_type": "code",
   "execution_count": 3,
   "id": "379b1bf7",
   "metadata": {},
   "outputs": [],
   "source": [
    "# File handling\n",
    "# Read('r' - read only)\n",
    "# Write('w' - overrwrite only) -> Will create if no file.\n",
    "# Append('a' -> append)\n",
    "# Read/Write('r+' - read and write -> preferred read) -> Will create if no file.\n",
    "# Read/Write('w+' - read and write -> preferred write) -> Will create if no file."
   ]
  },
  {
   "cell_type": "code",
   "execution_count": 4,
   "id": "35202433",
   "metadata": {},
   "outputs": [],
   "source": [
    "file = open?"
   ]
  },
  {
   "cell_type": "code",
   "execution_count": 15,
   "id": "3d281e35",
   "metadata": {},
   "outputs": [],
   "source": [
    "file = open('file1.txt', 'r')"
   ]
  },
  {
   "cell_type": "code",
   "execution_count": 16,
   "id": "a1e9bb43",
   "metadata": {},
   "outputs": [
    {
     "data": {
      "text/plain": [
       "<_io.TextIOWrapper name='file1.txt' mode='r' encoding='cp1252'>"
      ]
     },
     "execution_count": 16,
     "metadata": {},
     "output_type": "execute_result"
    }
   ],
   "source": [
    "file"
   ]
  },
  {
   "cell_type": "code",
   "execution_count": 17,
   "id": "a0061d3d",
   "metadata": {},
   "outputs": [
    {
     "data": {
      "text/plain": [
       "'Hello bhai!'"
      ]
     },
     "execution_count": 17,
     "metadata": {},
     "output_type": "execute_result"
    }
   ],
   "source": [
    "file.read() # Outputs a string"
   ]
  },
  {
   "cell_type": "code",
   "execution_count": 18,
   "id": "431acf26",
   "metadata": {},
   "outputs": [],
   "source": [
    "file.close()\n",
    "# Need to do this as soon as we're done accessing the file."
   ]
  },
  {
   "cell_type": "code",
   "execution_count": 19,
   "id": "ab9443c2",
   "metadata": {},
   "outputs": [
    {
     "ename": "ValueError",
     "evalue": "I/O operation on closed file.",
     "output_type": "error",
     "traceback": [
      "\u001b[1;31m---------------------------------------------------------------------------\u001b[0m",
      "\u001b[1;31mValueError\u001b[0m                                Traceback (most recent call last)",
      "Cell \u001b[1;32mIn[19], line 1\u001b[0m\n\u001b[1;32m----> 1\u001b[0m \u001b[43mfile\u001b[49m\u001b[38;5;241;43m.\u001b[39;49m\u001b[43mread\u001b[49m\u001b[43m(\u001b[49m\u001b[43m)\u001b[49m\n\u001b[0;32m      2\u001b[0m \u001b[38;5;66;03m# Will now give error\u001b[39;00m\n",
      "\u001b[1;31mValueError\u001b[0m: I/O operation on closed file."
     ]
    }
   ],
   "source": [
    "file.read()\n",
    "# Will now give error"
   ]
  },
  {
   "cell_type": "code",
   "execution_count": 22,
   "id": "8c8c92b7",
   "metadata": {},
   "outputs": [
    {
     "data": {
      "text/plain": [
       "'He'"
      ]
     },
     "execution_count": 22,
     "metadata": {},
     "output_type": "execute_result"
    }
   ],
   "source": [
    "file = open('file1.txt', 'r')\n",
    "file.read(2) # Reads that much characters"
   ]
  },
  {
   "cell_type": "code",
   "execution_count": 23,
   "id": "c7b99871",
   "metadata": {},
   "outputs": [
    {
     "data": {
      "text/plain": [
       "'llo'"
      ]
     },
     "execution_count": 23,
     "metadata": {},
     "output_type": "execute_result"
    }
   ],
   "source": [
    "file.read(3)"
   ]
  },
  {
   "cell_type": "code",
   "execution_count": 24,
   "id": "10793dd4",
   "metadata": {},
   "outputs": [
    {
     "data": {
      "text/plain": [
       "' bhai!'"
      ]
     },
     "execution_count": 24,
     "metadata": {},
     "output_type": "execute_result"
    }
   ],
   "source": [
    "file.read()\n",
    "# By default reads the entire remaining file.\n",
    "# file.read() again won't print anything, as cursor has reached end of document"
   ]
  },
  {
   "cell_type": "code",
   "execution_count": 59,
   "id": "c3dde4a1",
   "metadata": {},
   "outputs": [
    {
     "data": {
      "text/plain": [
       "'Hello bhai!\\n'"
      ]
     },
     "execution_count": 59,
     "metadata": {},
     "output_type": "execute_result"
    }
   ],
   "source": [
    "# file.readline() reads line by line, breaking the document at each newline character\n",
    "# Cursor moves onto the next line after reading one line\n",
    "file.close()\n",
    "file = open('file1.txt', 'r')\n",
    "file.readline()"
   ]
  },
  {
   "cell_type": "code",
   "execution_count": 60,
   "id": "0429c00d",
   "metadata": {},
   "outputs": [
    {
     "data": {
      "text/plain": [
       "'Kaisa hai?\\n'"
      ]
     },
     "execution_count": 60,
     "metadata": {},
     "output_type": "execute_result"
    }
   ],
   "source": [
    "file.readline()"
   ]
  },
  {
   "cell_type": "code",
   "execution_count": 61,
   "id": "35966464",
   "metadata": {},
   "outputs": [
    {
     "data": {
      "text/plain": [
       "'Badhiya hai?\\n'"
      ]
     },
     "execution_count": 61,
     "metadata": {},
     "output_type": "execute_result"
    }
   ],
   "source": [
    "file.readline()"
   ]
  },
  {
   "cell_type": "code",
   "execution_count": 62,
   "id": "851ff727",
   "metadata": {},
   "outputs": [
    {
     "data": {
      "text/plain": [
       "'Main theek hun.'"
      ]
     },
     "execution_count": 62,
     "metadata": {},
     "output_type": "execute_result"
    }
   ],
   "source": [
    "file.readline()"
   ]
  },
  {
   "cell_type": "code",
   "execution_count": 63,
   "id": "2b501a1d",
   "metadata": {},
   "outputs": [
    {
     "data": {
      "text/plain": [
       "['Hello bhai!\\n', 'Kaisa hai?\\n', 'Badhiya hai?\\n', 'Main theek hun.']"
      ]
     },
     "execution_count": 63,
     "metadata": {},
     "output_type": "execute_result"
    }
   ],
   "source": [
    "# readlines - returns a list of all lines separated by the new line character, including the newline character\n",
    "file.close()\n",
    "file = open('file1.txt', 'r')\n",
    "file.readline?\n",
    "file.readlines()"
   ]
  },
  {
   "cell_type": "code",
   "execution_count": 64,
   "id": "42cd4b73",
   "metadata": {},
   "outputs": [
    {
     "name": "stdout",
     "output_type": "stream",
     "text": [
      "Hello bhai!\n",
      "\n",
      "Kaisa hai?\n",
      "\n",
      "Badhiya hai?\n",
      "\n",
      "Main theek hun.\n"
     ]
    }
   ],
   "source": [
    "file.close()\n",
    "file = open('file1.txt', 'r')\n",
    "for i in file.readlines():\n",
    "    print(i)"
   ]
  },
  {
   "cell_type": "code",
   "execution_count": 65,
   "id": "e7df39b6",
   "metadata": {},
   "outputs": [
    {
     "name": "stdout",
     "output_type": "stream",
     "text": [
      "Hello bhai!\n",
      "\n",
      "Kaisa hai?\n",
      "\n"
     ]
    }
   ],
   "source": [
    "# Reading only 2 lines of the file\n",
    "file.close()\n",
    "file = open('file1.txt', 'r')\n",
    "for i in range(0,2):\n",
    "    line = file.readline()\n",
    "    print(line)"
   ]
  },
  {
   "cell_type": "code",
   "execution_count": 66,
   "id": "2403916b",
   "metadata": {},
   "outputs": [
    {
     "data": {
      "text/plain": [
       "'Hello b'"
      ]
     },
     "execution_count": 66,
     "metadata": {},
     "output_type": "execute_result"
    }
   ],
   "source": [
    "# Passing argument in readline()\n",
    "file.close()\n",
    "file = open('file1.txt', 'r')\n",
    "# Returns substring of the 1st line, of the given length\n",
    "file.readline(7)"
   ]
  },
  {
   "cell_type": "code",
   "execution_count": 86,
   "id": "6f388178",
   "metadata": {},
   "outputs": [
    {
     "name": "stdout",
     "output_type": "stream",
     "text": [
      "[1, 2]\n",
      "4\n",
      "[1, 2, 3]\n",
      "[1, 2, 3]\n",
      "[1, 2, 3, 4]\n"
     ]
    }
   ],
   "source": [
    "# Slicing - Can be done on list, tuples, strings.\n",
    "list1 = [1, 2, 3, 4]\n",
    "print(list1[0:2]) # Excludes the last index\n",
    "print(list1[-1])\n",
    "print(list1[:3])\n",
    "print(list1[:-1]) # Excludes last index\n",
    "print(list1[:])"
   ]
  },
  {
   "cell_type": "code",
   "execution_count": 95,
   "id": "d3fdfd42",
   "metadata": {},
   "outputs": [
    {
     "name": "stdout",
     "output_type": "stream",
     "text": [
      "Hello b\n",
      "ha\n",
      "i!\n"
     ]
    },
    {
     "data": {
      "text/plain": [
       "'Hello bhai!\\nKaisa hai?\\nBadhiya hai?\\nMain theek hun.'"
      ]
     },
     "execution_count": 95,
     "metadata": {},
     "output_type": "execute_result"
    }
   ],
   "source": [
    "file.close()\n",
    "file = open('file1.txt', 'r')\n",
    "print(file.read(7))\n",
    "print(file.read(2))\n",
    "print(file.read(2))\n",
    "# Bring cursor back to 0\n",
    "file.seek(0) # Seeks to the position passed as argument\n",
    "file.read()"
   ]
  },
  {
   "cell_type": "code",
   "execution_count": 96,
   "id": "b818e413",
   "metadata": {},
   "outputs": [
    {
     "data": {
      "text/plain": [
       "'llo bhai!\\nKaisa hai?\\nBadhiya hai?\\nMain theek hun.'"
      ]
     },
     "execution_count": 96,
     "metadata": {},
     "output_type": "execute_result"
    }
   ],
   "source": [
    "file.seek(2)\n",
    "file.read()"
   ]
  },
  {
   "cell_type": "code",
   "execution_count": 101,
   "id": "a5e466b4",
   "metadata": {},
   "outputs": [],
   "source": [
    "# Write\n",
    "# This command overrwrites and clears the file, so that we can start afresh\n",
    "# Below file name not present in directory, hence creates a file with that name\n",
    "file = open('file.txt', 'w'); \n",
    "string = 'Hello bhai\\nKaisa hai bhai\\n'\n",
    "file.write(string)\n",
    "file.close()"
   ]
  },
  {
   "cell_type": "code",
   "execution_count": 121,
   "id": "395d1240",
   "metadata": {},
   "outputs": [
    {
     "name": "stdout",
     "output_type": "stream",
     "text": [
      "Enter String number 0111\n",
      "Enter String number 1222\n",
      "Enter String number 2333\n"
     ]
    }
   ],
   "source": [
    "# Until we close the file, we can keep writing on the file, and the cursor keeps updating to the last element.\n",
    "file = open('file.txt', 'w')\n",
    "for i in range(3):    \n",
    "    file.write(input(\"Enter String number \" + str(i)) + '\\n')\n",
    "# file.seek() can be run while file is open in the 'w' state as well\n",
    "file.seek(2)\n",
    "file.write('5555')\n",
    "file.close()"
   ]
  },
  {
   "cell_type": "code",
   "execution_count": 127,
   "id": "d1d8b0ab",
   "metadata": {},
   "outputs": [],
   "source": [
    "# append - appends the argument at the end of the file\n",
    "# We can keep appending without closing the file\n",
    "# file seek works here as well, but .write still appends at the end only\n",
    "file = open('file.txt', 'a')\n",
    "file.write('Last line')\n",
    "file.seek(0)\n",
    "file.write('yoyoyoy')\n",
    "file.close()"
   ]
  },
  {
   "cell_type": "code",
   "execution_count": 129,
   "id": "43b31320",
   "metadata": {},
   "outputs": [
    {
     "name": "stdout",
     "output_type": "stream",
     "text": [
      "['11555522\\n', '333\\n', '\\n', ' Last lineLast lineLast lineLast lineLast lineyoyoyoyLast lineyoyoyoy']\n"
     ]
    }
   ],
   "source": [
    "# Avoiding opening and closing file all the time\n",
    "with open('file.txt', 'r') as file:\n",
    "    print(file.readlines())"
   ]
  },
  {
   "cell_type": "code",
   "execution_count": 135,
   "id": "ff58cb2e",
   "metadata": {},
   "outputs": [
    {
     "data": {
      "text/plain": [
       "236"
      ]
     },
     "execution_count": 135,
     "metadata": {},
     "output_type": "execute_result"
    }
   ],
   "source": [
    "string = \"Machine learning (ML) is a field of inquiry devoted to understanding and building methods that 'learn', that is, methods that leverage data to improve performance on some set of tasks.[1] It is seen as a part of artificial intelligence.\"\n",
    "len(string)"
   ]
  },
  {
   "cell_type": "code",
   "execution_count": 165,
   "id": "e5794e71",
   "metadata": {
    "scrolled": true
   },
   "outputs": [
    {
     "name": "stdout",
     "output_type": "stream",
     "text": [
      "Enter num of chars:- 200\n",
      "Enter num of chars:- 200\n"
     ]
    }
   ],
   "source": [
    "# Question - Write in file in new lines as per num of lines given as input\n",
    "string = \"Machine learning (ML) is a field of inquiry devoted to understanding and building methods that 'learn', that is, methods that leverage data to improve performance on some set of tasks.[1] It is seen as a part of artificial intelligence.\"\n",
    "len(string)\n",
    "with open('file0.txt', 'w') as file:\n",
    "    lastIndex = 0\n",
    "    while(lastIndex <= len(string)):\n",
    "        numChars = int(input(\"Enter num of chars:- \"))\n",
    "        subString = string[lastIndex:(lastIndex + numChars)] + '\\n'\n",
    "        lastIndex += numChars\n",
    "        file.write(subString)"
   ]
  },
  {
   "cell_type": "code",
   "execution_count": 145,
   "id": "da68a16f",
   "metadata": {
    "scrolled": true
   },
   "outputs": [
    {
     "name": "stdout",
     "output_type": "stream",
     "text": [
      "Division by 0 not defined\n"
     ]
    }
   ],
   "source": [
    "# Try and except:- To catch errors, the one below will give error on dividing by 0\n",
    "# Its advantage over if/else is that it caters to all kinds of errors.\n",
    "def divide(a,b):\n",
    "    print(a/b)\n",
    "# divide(1,0)\n",
    "# To avoid the above code from giving error\n",
    "def divide(a,b):\n",
    "    try: # Try this, and run this code completely, except when this code gives error, for which do the below.\n",
    "        print(a/b)\n",
    "    except:\n",
    "        print(\"Division by 0 not defined\")\n",
    "divide(1,0)"
   ]
  },
  {
   "cell_type": "code",
   "execution_count": 150,
   "id": "114b1ea8",
   "metadata": {},
   "outputs": [
    {
     "name": "stdout",
     "output_type": "stream",
     "text": [
      "Division by 0 not defined\n",
      "chalega hi chalega\n",
      "Division by a non-number not allowed\n",
      "chalega hi chalega\n",
      "Division by a non-number not allowed\n",
      "chalega hi chalega\n"
     ]
    },
    {
     "ename": "TypeError",
     "evalue": "divide() missing 1 required positional argument: 'b'",
     "output_type": "error",
     "traceback": [
      "\u001b[1;31m---------------------------------------------------------------------------\u001b[0m",
      "\u001b[1;31mTypeError\u001b[0m                                 Traceback (most recent call last)",
      "Cell \u001b[1;32mIn[150], line 17\u001b[0m\n\u001b[0;32m     15\u001b[0m divide(\u001b[38;5;241m1\u001b[39m, [])\n\u001b[0;32m     16\u001b[0m divide(\u001b[38;5;241m1\u001b[39m, \u001b[38;5;124m'\u001b[39m\u001b[38;5;124ms\u001b[39m\u001b[38;5;124m'\u001b[39m)\n\u001b[1;32m---> 17\u001b[0m \u001b[43mdivide\u001b[49m\u001b[43m(\u001b[49m\u001b[38;5;241;43m1\u001b[39;49m\u001b[43m,\u001b[49m\u001b[43m \u001b[49m\u001b[43m)\u001b[49m\n",
      "\u001b[1;31mTypeError\u001b[0m: divide() missing 1 required positional argument: 'b'"
     ]
    }
   ],
   "source": [
    "# We can cater to only 1 kind of errors, or behave differently for different kinds of errors\n",
    "# Have to copy error name from the error message\n",
    "def divide(a,b):\n",
    "    try: # Try this, and run this code completely, except when this code gives error, for which do the below.\n",
    "        print(a/b)\n",
    "    except ZeroDivisionError :\n",
    "        print(\"Division by 0 not defined\")\n",
    "    except TypeError:\n",
    "        print(\"Division by a non-number not allowed\")\n",
    "    except Exception as e:\n",
    "        print(e) # Will print the exception\n",
    "    finally:   # Will always run\n",
    "        print('chalega hi chalega')\n",
    "divide(1, 0)\n",
    "divide(1, [])\n",
    "divide(1, 's')\n",
    "divide(1, ) # Will give error as function has not been called, so exception is outside the function"
   ]
  },
  {
   "cell_type": "code",
   "execution_count": 163,
   "id": "e5f6c866",
   "metadata": {},
   "outputs": [
    {
     "name": "stdout",
     "output_type": "stream",
     "text": [
      "Number entered is 1\n"
     ]
    },
    {
     "ename": "Exception",
     "evalue": "Error:- Number entered can't be non-1",
     "output_type": "error",
     "traceback": [
      "\u001b[1;31m---------------------------------------------------------------------------\u001b[0m",
      "\u001b[1;31mException\u001b[0m                                 Traceback (most recent call last)",
      "Cell \u001b[1;32mIn[163], line 10\u001b[0m\n\u001b[0;32m      8\u001b[0m     \u001b[38;5;28mprint\u001b[39m(\u001b[38;5;124m'\u001b[39m\u001b[38;5;124mNumber entered is 1\u001b[39m\u001b[38;5;124m'\u001b[39m)\n\u001b[0;32m      9\u001b[0m enterOnlyOne(\u001b[38;5;241m1\u001b[39m)\n\u001b[1;32m---> 10\u001b[0m \u001b[43menterOnlyOne\u001b[49m\u001b[43m(\u001b[49m\u001b[38;5;241;43m2\u001b[39;49m\u001b[43m)\u001b[49m\n",
      "Cell \u001b[1;32mIn[163], line 4\u001b[0m, in \u001b[0;36menterOnlyOne\u001b[1;34m(a)\u001b[0m\n\u001b[0;32m      2\u001b[0m \u001b[38;5;28;01mdef\u001b[39;00m \u001b[38;5;21menterOnlyOne\u001b[39m(a):\n\u001b[0;32m      3\u001b[0m     \u001b[38;5;28;01mif\u001b[39;00m(a \u001b[38;5;241m!=\u001b[39m \u001b[38;5;241m1\u001b[39m):\n\u001b[1;32m----> 4\u001b[0m         \u001b[38;5;28;01mraise\u001b[39;00m \u001b[38;5;167;01mException\u001b[39;00m(\u001b[38;5;124m\"\u001b[39m\u001b[38;5;124mError:- Number entered can\u001b[39m\u001b[38;5;124m'\u001b[39m\u001b[38;5;124mt be non-1\u001b[39m\u001b[38;5;124m\"\u001b[39m) \n\u001b[0;32m      5\u001b[0m         \u001b[38;5;66;03m# Can be other type of errors as well.\u001b[39;00m\n\u001b[0;32m      6\u001b[0m         \u001b[38;5;66;03m# Can't write this inside try, because as soon as it'll give error,\u001b[39;00m\n\u001b[0;32m      7\u001b[0m         \u001b[38;5;66;03m# we'll move onto except, and so it won't give a custom errpr\u001b[39;00m\n\u001b[0;32m      8\u001b[0m     \u001b[38;5;28mprint\u001b[39m(\u001b[38;5;124m'\u001b[39m\u001b[38;5;124mNumber entered is 1\u001b[39m\u001b[38;5;124m'\u001b[39m)\n",
      "\u001b[1;31mException\u001b[0m: Error:- Number entered can't be non-1"
     ]
    }
   ],
   "source": [
    "# To raise our own exception\n",
    "def enterOnlyOne(a):\n",
    "    if(a != 1):\n",
    "        raise Exception(\"Error:- Number entered can't be non-1\") \n",
    "        # Can be other type of errors as well.\n",
    "        # Can't write this inside try, because as soon as it'll give error,\n",
    "        # we'll move onto except, and so it won't give a custom errpr\n",
    "    print('Number entered is 1')\n",
    "enterOnlyOne(1)\n",
    "enterOnlyOne(2)"
   ]
  },
  {
   "cell_type": "code",
   "execution_count": 164,
   "id": "7f3d1903",
   "metadata": {},
   "outputs": [
    {
     "ename": "AssertionError",
     "evalue": "",
     "output_type": "error",
     "traceback": [
      "\u001b[1;31m---------------------------------------------------------------------------\u001b[0m",
      "\u001b[1;31mAssertionError\u001b[0m                            Traceback (most recent call last)",
      "Cell \u001b[1;32mIn[164], line 3\u001b[0m\n\u001b[0;32m      1\u001b[0m \u001b[38;5;66;03m# Assert - if condition inside true, keep running, otherwise give assertion error\u001b[39;00m\n\u001b[0;32m      2\u001b[0m a \u001b[38;5;241m=\u001b[39m \u001b[38;5;241m2\u001b[39m\n\u001b[1;32m----> 3\u001b[0m \u001b[38;5;28;01massert\u001b[39;00m(a \u001b[38;5;241m!=\u001b[39m \u001b[38;5;241m2\u001b[39m)\n\u001b[0;32m      4\u001b[0m \u001b[38;5;28mprint\u001b[39m(\u001b[38;5;124m\"\u001b[39m\u001b[38;5;124myo\u001b[39m\u001b[38;5;124m\"\u001b[39m)\n",
      "\u001b[1;31mAssertionError\u001b[0m: "
     ]
    }
   ],
   "source": [
    "# Assert - if condition inside true, keep running, otherwise give assertion error\n",
    "a = 2\n",
    "assert(a != 2)\n",
    "print(\"yo\")"
   ]
  }
 ],
 "metadata": {
  "kernelspec": {
   "display_name": "Python 3 (ipykernel)",
   "language": "python",
   "name": "python3"
  },
  "language_info": {
   "codemirror_mode": {
    "name": "ipython",
    "version": 3
   },
   "file_extension": ".py",
   "mimetype": "text/x-python",
   "name": "python",
   "nbconvert_exporter": "python",
   "pygments_lexer": "ipython3",
   "version": "3.11.1"
  }
 },
 "nbformat": 4,
 "nbformat_minor": 5
}

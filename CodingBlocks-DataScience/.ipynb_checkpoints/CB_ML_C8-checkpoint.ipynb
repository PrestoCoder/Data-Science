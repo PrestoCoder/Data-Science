{
 "cells": [
  {
   "cell_type": "code",
   "execution_count": 11,
   "id": "b9d697af",
   "metadata": {},
   "outputs": [
    {
     "name": "stdout",
     "output_type": "stream",
     "text": [
      "Please input name:- R1\n",
      "Please input age:- 1\n",
      "Please input rollNum:-1\n",
      "Please input name:- R2\n",
      "Please input age:- 2\n",
      "Please input rollNum:-2\n",
      "Please input name:- R3\n",
      "Please input age:- 3\n",
      "Please input rollNum:-3\n",
      "Name =  R1\n",
      "Age =  1\n",
      "RollNum =  1\n",
      "Name =  R2\n",
      "Age =  2\n",
      "RollNum =  2\n",
      "Name =  R3\n",
      "Age =  3\n",
      "RollNum =  3\n"
     ]
    }
   ],
   "source": [
    "class Person:\n",
    "    def __init__(self):\n",
    "        self.name = input(\"Please input name:- \")\n",
    "        self.age = int(input(\"Please input age:- \"))\n",
    "        self.rollNum = int(input(\"Please input rollNum:-\"))\n",
    "        \n",
    "    def printAttributes(self):\n",
    "        print(\"Name = \", self.name)\n",
    "        print(\"Age = \", self.age)\n",
    "        print(\"RollNum = \", self.rollNum)\n",
    "\n",
    "pList = [];\n",
    "for i in range(3):\n",
    "    pList.append(Person())\n",
    "for i in range(3):    \n",
    "    pList[i].printAttributes()"
   ]
  },
  {
   "cell_type": "code",
   "execution_count": 25,
   "id": "4f5e20db",
   "metadata": {},
   "outputs": [
    {
     "name": "stdout",
     "output_type": "stream",
     "text": [
      "1672938611520\n",
      "1672938611520\n",
      "1672938611520\n",
      "1672931360448\n"
     ]
    }
   ],
   "source": [
    "print(id(pList[0].__init__))\n",
    "print(id(pList[1].__init__))\n",
    "print(id(pList[2].__init__))\n",
    "print(id(Person.__init__))"
   ]
  },
  {
   "cell_type": "code",
   "execution_count": null,
   "id": "38626870",
   "metadata": {},
   "outputs": [],
   "source": []
  }
 ],
 "metadata": {
  "kernelspec": {
   "display_name": "Python 3 (ipykernel)",
   "language": "python",
   "name": "python3"
  },
  "language_info": {
   "codemirror_mode": {
    "name": "ipython",
    "version": 3
   },
   "file_extension": ".py",
   "mimetype": "text/x-python",
   "name": "python",
   "nbconvert_exporter": "python",
   "pygments_lexer": "ipython3",
   "version": "3.11.1"
  }
 },
 "nbformat": 4,
 "nbformat_minor": 5
}

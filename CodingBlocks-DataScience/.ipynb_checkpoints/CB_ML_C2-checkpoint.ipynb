{
 "cells": [
  {
   "cell_type": "code",
   "execution_count": 1,
   "id": "976aa9df",
   "metadata": {},
   "outputs": [
    {
     "name": "stdout",
     "output_type": "stream",
     "text": [
      "a is greater than or equal to 2\n"
     ]
    }
   ],
   "source": [
    "# Condition\n",
    "a = 2;\n",
    "if(a < 2):\n",
    "    print(\"a is less than 2\")\n",
    "else:\n",
    "    print(\"a is greater than or equal to 2\")"
   ]
  },
  {
   "cell_type": "code",
   "execution_count": 33,
   "id": "25c374a3",
   "metadata": {},
   "outputs": [],
   "source": [
    "def comparator(a, b):\n",
    "    if(a > b):\n",
    "        print(a,\"is greater than\", b)\n",
    "    elif(a < b):\n",
    "        print(a,\"is lesser than\", b)\n",
    "    else:\n",
    "        print(a, \"is equal to\", b)"
   ]
  },
  {
   "cell_type": "code",
   "execution_count": 34,
   "id": "3ac51bd0",
   "metadata": {},
   "outputs": [
    {
     "name": "stdout",
     "output_type": "stream",
     "text": [
      "2 is lesser than 3\n"
     ]
    }
   ],
   "source": [
    "comparator(2, 3)"
   ]
  },
  {
   "cell_type": "code",
   "execution_count": 35,
   "id": "67ce0fc2",
   "metadata": {},
   "outputs": [
    {
     "name": "stdout",
     "output_type": "stream",
     "text": [
      "8 is equal to 8\n"
     ]
    }
   ],
   "source": [
    "comparator(8, 8)"
   ]
  },
  {
   "cell_type": "code",
   "execution_count": 36,
   "id": "d6350c09",
   "metadata": {},
   "outputs": [
    {
     "name": "stdout",
     "output_type": "stream",
     "text": [
      "<class 'int'> 140709163426632\n",
      "<class 'str'> 2283854864560\n"
     ]
    }
   ],
   "source": [
    "#typecast\n",
    "a = 2;\n",
    "print(type(a), id(a))\n",
    "a = str(a)\n",
    "print(type(a), id(a))\n",
    "# typecast creates a new object at a different place."
   ]
  },
  {
   "cell_type": "code",
   "execution_count": 39,
   "id": "baed6ac4",
   "metadata": {},
   "outputs": [
    {
     "name": "stdout",
     "output_type": "stream",
     "text": [
      "Pls enter a number:-2342\n"
     ]
    }
   ],
   "source": [
    "# Inputting\n",
    "b = input(\"Pls enter a number:-\")"
   ]
  },
  {
   "cell_type": "markdown",
   "id": "50789128",
   "metadata": {},
   "source": []
  },
  {
   "cell_type": "code",
   "execution_count": 40,
   "id": "87b79ba1",
   "metadata": {},
   "outputs": [],
   "source": [
    "def comparatorInput():\n",
    "    a = input(\"Pls enter a number:-\")\n",
    "    b = input(\"Pls enter another number:-\")\n",
    "    comparator(a, b);"
   ]
  },
  {
   "cell_type": "code",
   "execution_count": 41,
   "id": "c9e71214",
   "metadata": {},
   "outputs": [
    {
     "name": "stdout",
     "output_type": "stream",
     "text": [
      "Pls enter a number:-23424\n",
      "Pls enter another number:-23424\n",
      "23424 is equal to 23424\n"
     ]
    }
   ],
   "source": [
    "comparatorInput()"
   ]
  },
  {
   "cell_type": "code",
   "execution_count": 42,
   "id": "0c5fae99",
   "metadata": {},
   "outputs": [
    {
     "name": "stdout",
     "output_type": "stream",
     "text": [
      "Enter first num:- 242\n",
      "Enter second num:- 5252\n",
      "242 is lesser than 5252\n"
     ]
    }
   ],
   "source": [
    "# Alternative method\n",
    "# Normal strings can't be compared\n",
    "# Somehow, numerical strings can be compared\n",
    "# Single character strings are converted to their ASCII values, and then compared.\n",
    "comparator((input('Enter first num:- ')), (input('Enter second num:- ')))"
   ]
  },
  {
   "cell_type": "code",
   "execution_count": 43,
   "id": "87ae3751",
   "metadata": {},
   "outputs": [],
   "source": [
    "# Loops\n",
    "# for, while, do while\n",
    "range?"
   ]
  },
  {
   "cell_type": "code",
   "execution_count": 48,
   "id": "f5863f83",
   "metadata": {},
   "outputs": [
    {
     "name": "stdout",
     "output_type": "stream",
     "text": [
      "range(2, 4, 2) <class 'range'>\n"
     ]
    }
   ],
   "source": [
    "a = range(2, 4, 2) # start(def = 0), stop(excluding), step(def = 1) \n",
    "print(a, type(a))"
   ]
  },
  {
   "cell_type": "code",
   "execution_count": 50,
   "id": "5adfdf20",
   "metadata": {},
   "outputs": [
    {
     "name": "stdout",
     "output_type": "stream",
     "text": [
      "2\n"
     ]
    }
   ],
   "source": [
    "for i in a:\n",
    "    print(i)"
   ]
  },
  {
   "cell_type": "code",
   "execution_count": 52,
   "id": "807007f8",
   "metadata": {},
   "outputs": [
    {
     "name": "stdout",
     "output_type": "stream",
     "text": [
      "2\n",
      "4\n",
      "6\n",
      "8\n",
      "10\n",
      "12\n",
      "14\n"
     ]
    }
   ],
   "source": [
    "for i in range(2, 16, 2):\n",
    "    print(i)"
   ]
  },
  {
   "cell_type": "code",
   "execution_count": 54,
   "id": "48838217",
   "metadata": {},
   "outputs": [
    {
     "name": "stdout",
     "output_type": "stream",
     "text": [
      "5\n",
      "6\n",
      "7\n",
      "8\n",
      "9\n",
      "10\n"
     ]
    }
   ],
   "source": [
    "# At the end of this loop, i attains an int value of 10.\n",
    "for i in range(5, 11):\n",
    "    print(i)"
   ]
  },
  {
   "cell_type": "code",
   "execution_count": 56,
   "id": "1dc6609b",
   "metadata": {},
   "outputs": [
    {
     "name": "stdout",
     "output_type": "stream",
     "text": [
      "10 <class 'int'>\n"
     ]
    }
   ],
   "source": [
    "print(i, type(i))"
   ]
  },
  {
   "cell_type": "code",
   "execution_count": 64,
   "id": "6d09933e",
   "metadata": {},
   "outputs": [],
   "source": [
    "def sumToNum():\n",
    "    numStart = int(input(\"Please input a number:- \"))\n",
    "    sum = 0;\n",
    "    for i in range(numStart + 1):\n",
    "        sum = sum + i\n",
    "    print(sum)"
   ]
  },
  {
   "cell_type": "code",
   "execution_count": 68,
   "id": "c68a84bc",
   "metadata": {},
   "outputs": [
    {
     "name": "stdout",
     "output_type": "stream",
     "text": [
      "Please input a number:- 10\n",
      "55\n"
     ]
    }
   ],
   "source": [
    "sumToNum()"
   ]
  },
  {
   "cell_type": "code",
   "execution_count": 72,
   "id": "0d51c25a",
   "metadata": {},
   "outputs": [
    {
     "name": "stdout",
     "output_type": "stream",
     "text": [
      "55\n"
     ]
    }
   ],
   "source": [
    "# While loop version of the above function\n",
    "i = 0\n",
    "sum1 = 0\n",
    "while(i <= 10):\n",
    "    sum1 = sum1 + i\n",
    "    i = i + 1\n",
    "print(sum1)"
   ]
  },
  {
   "cell_type": "code",
   "execution_count": 102,
   "id": "7712e2a9",
   "metadata": {},
   "outputs": [],
   "source": [
    "def fun1():\n",
    "    a = 0\n",
    "    while(a != 9):\n",
    "        a = int(input(\"Input :- \"))\n",
    "    print(a)"
   ]
  },
  {
   "cell_type": "code",
   "execution_count": 86,
   "id": "32a3b74e",
   "metadata": {},
   "outputs": [
    {
     "name": "stdout",
     "output_type": "stream",
     "text": [
      "Input :- 9292\n",
      "Input :- 9\n",
      "9\n"
     ]
    }
   ],
   "source": [
    "fun1()"
   ]
  },
  {
   "cell_type": "code",
   "execution_count": 87,
   "id": "9ac21940",
   "metadata": {},
   "outputs": [],
   "source": [
    "# break in python works only for the immediate parent loop"
   ]
  },
  {
   "cell_type": "code",
   "execution_count": 89,
   "id": "fc2122e5",
   "metadata": {},
   "outputs": [
    {
     "name": "stdout",
     "output_type": "stream",
     "text": [
      "5\n",
      "5\n",
      "5\n",
      "5\n",
      "5\n"
     ]
    }
   ],
   "source": [
    "# _ means we don't need the iterator's value, so we put '_' there instead.\n",
    "for _ in range(5):\n",
    "    print(5)"
   ]
  },
  {
   "cell_type": "code",
   "execution_count": 97,
   "id": "67164ed9",
   "metadata": {},
   "outputs": [
    {
     "name": "stdout",
     "output_type": "stream",
     "text": [
      "False\n",
      "True\n"
     ]
    }
   ],
   "source": [
    "# In python, and = &&, or = ||\n",
    "print(True and False)\n",
    "print(True or False)"
   ]
  },
  {
   "cell_type": "code",
   "execution_count": 103,
   "id": "ccb8adc1",
   "metadata": {},
   "outputs": [],
   "source": [
    "# In place of empty code, we can simply put Pass.\n",
    "# Like in function definition, loops, if-else\n",
    "if(2 < 3):\n",
    "    pass\n",
    "def fun2():\n",
    "    pass\n",
    "for _ in range(2):\n",
    "    pass"
   ]
  },
  {
   "cell_type": "code",
   "execution_count": 106,
   "id": "ba889375",
   "metadata": {},
   "outputs": [
    {
     "name": "stdout",
     "output_type": "stream",
     "text": [
      "Enter a number:- 234924981\n",
      "odd\n"
     ]
    }
   ],
   "source": [
    "if(int(input(\"Enter a number:- \")) % 2 == 0):\n",
    "    print(\"even\")\n",
    "else:\n",
    "    print(\"odd\")"
   ]
  },
  {
   "cell_type": "code",
   "execution_count": 107,
   "id": "d87acc03",
   "metadata": {},
   "outputs": [],
   "source": [
    "# Find if number is prime."
   ]
  },
  {
   "cell_type": "code",
   "execution_count": null,
   "id": "a2138ad0",
   "metadata": {},
   "outputs": [],
   "source": []
  }
 ],
 "metadata": {
  "kernelspec": {
   "display_name": "Python 3 (ipykernel)",
   "language": "python",
   "name": "python3"
  },
  "language_info": {
   "codemirror_mode": {
    "name": "ipython",
    "version": 3
   },
   "file_extension": ".py",
   "mimetype": "text/x-python",
   "name": "python",
   "nbconvert_exporter": "python",
   "pygments_lexer": "ipython3",
   "version": "3.11.1"
  }
 },
 "nbformat": 4,
 "nbformat_minor": 5
}

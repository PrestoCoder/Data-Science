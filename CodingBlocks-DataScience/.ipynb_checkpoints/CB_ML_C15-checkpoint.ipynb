{
 "cells": [
  {
   "cell_type": "markdown",
   "id": "da773dda",
   "metadata": {},
   "source": [
    "## H.W."
   ]
  },
  {
   "cell_type": "code",
   "execution_count": 1,
   "id": "7177e106",
   "metadata": {},
   "outputs": [],
   "source": [
    "from urllib.request import urlopen\n",
    "from bs4 import BeautifulSoup as soup"
   ]
  },
  {
   "cell_type": "code",
   "execution_count": 2,
   "id": "e1c2dd1a",
   "metadata": {},
   "outputs": [],
   "source": [
    "websiteUrl = 'https://www.snapdeal.com/search?keyword=mobile&santizedKeyword=macbook&catId=0&categoryId=0&suggested=false&vertical=p&noOfResults=20&searchState=&clickSrc=go_header&lastKeyword=&prodCatId=&changeBackToAll=false&foundInAll=false&categoryIdSearched=&cityPageUrl=&categoryUrl=&url=&utmContent=&dealDetail=&sort=rlvncy';"
   ]
  },
  {
   "cell_type": "code",
   "execution_count": 3,
   "id": "5e75d461",
   "metadata": {},
   "outputs": [],
   "source": [
    "httpResponse = urlopen(websiteUrl);\n",
    "htmlData = httpResponse.read();\n",
    "httpResponse.close();\n",
    "# Full html page, in which tags can now be searched using class and id names\n",
    "htmlPage = soup(htmlData, 'html.parser');"
   ]
  },
  {
   "cell_type": "code",
   "execution_count": 4,
   "id": "4fac3186",
   "metadata": {
    "scrolled": true
   },
   "outputs": [
    {
     "data": {
      "text/plain": [
       "[<img class=\"product-image\" src=\"https://n3.sdlcdn.com/imgs/k/l/t/230X258_sharpened/Karbonn-K531-Dual-SIM-Feature-SDL939750297-1-e9874.jpg\" title=\"Karbonn K531 Dual SIM Feature Phone White Red\"/>,\n",
       " <img class=\"product-image\" src=\"https://n3.sdlcdn.com/imgs/k/i/d/230X258_sharpened/npd01-13dbd.png\" title=\"NBOX Mobile Phone Mini Stand Angle Height Adjustable Cell Phone Holder, Table Stand, Foldable Mobile Phone Holder for Desktop, Smartphone Online Classes Stand for Study (Black\"/>,\n",
       " <img class=\"product-image\" src=\"https://n2.sdlcdn.com/imgs/k/l/t/230X258_sharpened/Karbonn-K531-Dual-SIM-Feature-SDL947245747-1-442d6.jpg\" title=\"Karbonn K531 Dual SIM Feature Phone Green\"/>,\n",
       " <img class=\"product-image\" src=\"https://n2.sdlcdn.com/imgs/k/l/t/230X258_sharpened/Karbonn-K531-Dual-SIM-Feature-SDL939118366-1-ca3bf.jpg\" title=\"Karbonn K531 Dual SIM Feature Phone Black Red\"/>,\n",
       " <img class=\"product-image lazy-load\" data-src=\"https://n1.sdlcdn.com/imgs/k/l/t/230X258_sharpened/Karbonn-K531-Dual-SIM-Feature-SDL974090244-1-d875a.jpg\" title=\"Karbonn K531 Dual SIM Feature Phone Blue\"/>,\n",
       " <img class=\"product-image lazy-load\" data-src=\"https://n2.sdlcdn.com/imgs/k/m/g/230X258_sharpened/Nokia-105-1304-Single-SIM-SDL334336805-1-87a49.jpg\" title=\"Nokia 105/1304 Single SIM Feature Phone Pink\"/>,\n",
       " <img class=\"product-image lazy-load\" data-src=\"https://n3.sdlcdn.com/imgs/k/a/z/230X258_sharpened/Elv-Universal-Mobile-Phone-Stand-SDL034760993-1-36598.jpeg\" title=\"NBOX - Card Holder Mobile Holder for Smartphones ( Black )\"/>,\n",
       " <img class=\"product-image lazy-load\" data-src=\"https://n3.sdlcdn.com/imgs/k/m/g/230X258_sharpened/Nokia-105-1304-Single-SIM-SDL335952264-1-6c2af.jpg\" title=\"Nokia 105/1304 Single SIM Feature Phone Blue\"/>,\n",
       " <img class=\"product-image lazy-load\" data-src=\"https://n3.sdlcdn.com/imgs/j/u/i/230X258_sharpened/NBOX-Mobile-Stand-with-Selfie-SDL209147105-1-0112b.jpeg\" title=\"NBOX Bluetooth Extendable Selfie Sticks with Wireless Remote and Tripod Stand, 3-in-1 Multifunctional Selfie Stick with Tripod Stand Compatible with iPhone/OnePlus/Samsung/Oppo/Vivo and All Phones\"/>,\n",
       " <img class=\"product-image lazy-load\" data-src=\"https://n4.sdlcdn.com/imgs/j/y/4/230X258_sharpened/ELV-Wall-Mount-Mobile-Holder-SDL933444055-1-6665c.jpg\" title=\"NBOX - Remote Holder Mobile Holder for Smartphones ( Black )\"/>,\n",
       " <img class=\"product-image lazy-load\" data-src=\"https://n4.sdlcdn.com/imgs/j/s/5/230X258_sharpened/SelfieStick_1-0524c.jpg\" title=\"NBOX Bluetooth Extendable Selfie Stick with Tripod Stand and Wireless Remote,3-in-1 Multifunctional Selfie Stick Tripod for iPhone Samsung Mi Realme Oppo Vivo Google More,Black\"/>,\n",
       " <img class=\"product-image lazy-load\" data-src=\"https://n4.sdlcdn.com/imgs/k/m/e/230X258_sharpened/NBOX-None-Mobile-Holder-for-SDL401425304-1-e524a.jpeg\" title=\"NBOX - Wall Mount Mobile Holder for all Smartphone &amp; Multipurpose (Brown)\"/>,\n",
       " <img class=\"product-image lazy-load\" data-src=\"https://n1.sdlcdn.com/imgs/k/l/q/230X258_sharpened/NBOX-Mobile-Holder-SDL173832179-2-afa22.jpg\" title=\"NBOX - Wall Mount Mobile Holder for all Smartphone &amp; Multipurpose (Brown)\"/>,\n",
       " <img class=\"product-image lazy-load\" data-src=\"https://n4.sdlcdn.com/imgs/k/m/g/230X258_sharpened/NBOX-Remote-Holder-Mobile-Holder-SDL804557112-1-61240.jpg\" title=\"NBOX - Remote Holder Mobile Holder for Smartphones ( Multicolor )\"/>,\n",
       " <img class=\"product-image lazy-load\" data-src=\"https://n1.sdlcdn.com/imgs/k/l/a/230X258_sharpened/NBOX-Black-3A-Type-C-SDL130639969-1-2a8f7.png\" title=\"NBOX Black 3A PVC Type C Fast Charging Data Transfer Phone Mobile Cable 1 meter Pack of 2\"/>,\n",
       " <img class=\"product-image lazy-load\" data-src=\"https://n1.sdlcdn.com/imgs/k/l/q/230X258_sharpened/NBOX-Mobile-Holder-SDL880795467-1-bbe47.jpg\" title=\"NBOX - Wall Mount Mobile Holder for all Smartphone &amp; Multipurpose (Brown)\"/>,\n",
       " <img class=\"product-image lazy-load\" data-src=\"https://n3.sdlcdn.com/imgs/k/l/a/230X258_sharpened/NBOX-Black-3A-Type-C-SDL280911165-1-d37d5.png\" title=\"NBOX Black 3A PVC Type C Fast Charging Data Transfer Phone Mobile Cable 1 meter\"/>,\n",
       " <img class=\"product-image lazy-load\" data-src=\"https://n1.sdlcdn.com/imgs/k/l/a/230X258_sharpened/NBOX-Black-3A-Micro-USB-SDL232341709-1-d780a.png\" title=\"NBOX Black 3A Braided Micro USB Fast Charging Data Transfer Mobile Phone Cable 1 meter Pack of 2\"/>,\n",
       " <img class=\"product-image lazy-load\" data-src=\"https://n1.sdlcdn.com/imgs/k/l/n/230X258_sharpened/NBOX-Mobile-Holder-SDL468974273-1-a04ec.png\" title=\"NBOX - Wall Mount Mobile Holder for all Smartphone &amp; Multipurpose (Brown)\"/>,\n",
       " <img class=\"product-image lazy-load\" data-src=\"https://n3.sdlcdn.com/imgs/k/l/k/230X258_sharpened/NBOX-Mobile-Holder-SDL087397972-1-fbbbe.jpeg\" title=\"NBOX Metal Adjustable Mobile Phone Foldable Holder Stand Dock Mount with Big Back Support to Hold (Upto 10inch) of iPhone, iPad, Smartphones, Tablets, Kindle (Black)\"/>]"
      ]
     },
     "execution_count": 4,
     "metadata": {},
     "output_type": "execute_result"
    }
   ],
   "source": [
    "imageTags = htmlPage.find_all('img',{'class':'product-image'})\n",
    "imageTags"
   ]
  },
  {
   "cell_type": "code",
   "execution_count": 5,
   "id": "34783e66",
   "metadata": {},
   "outputs": [],
   "source": [
    "import requests"
   ]
  },
  {
   "cell_type": "code",
   "execution_count": 7,
   "id": "aabf1c85",
   "metadata": {
    "scrolled": false
   },
   "outputs": [
    {
     "name": "stdout",
     "output_type": "stream",
     "text": [
      "Image sucessfully Downloaded:  Data Scrapping Images/image_0.jpg\n",
      "Image sucessfully Downloaded:  Data Scrapping Images/image_1.jpg\n",
      "Image sucessfully Downloaded:  Data Scrapping Images/image_2.jpg\n",
      "Image sucessfully Downloaded:  Data Scrapping Images/image_3.jpg\n",
      "Image sucessfully Downloaded:  Data Scrapping Images/image_4.jpg\n",
      "Image sucessfully Downloaded:  Data Scrapping Images/image_5.jpg\n",
      "Image sucessfully Downloaded:  Data Scrapping Images/image_6.jpg\n",
      "Image sucessfully Downloaded:  Data Scrapping Images/image_7.jpg\n",
      "Image sucessfully Downloaded:  Data Scrapping Images/image_8.jpg\n",
      "Image sucessfully Downloaded:  Data Scrapping Images/image_9.jpg\n",
      "Image sucessfully Downloaded:  Data Scrapping Images/image_10.jpg\n",
      "Image sucessfully Downloaded:  Data Scrapping Images/image_11.jpg\n",
      "Image sucessfully Downloaded:  Data Scrapping Images/image_12.jpg\n",
      "Image sucessfully Downloaded:  Data Scrapping Images/image_13.jpg\n",
      "Image sucessfully Downloaded:  Data Scrapping Images/image_14.jpg\n",
      "Image sucessfully Downloaded:  Data Scrapping Images/image_15.jpg\n",
      "Image sucessfully Downloaded:  Data Scrapping Images/image_16.jpg\n",
      "Image sucessfully Downloaded:  Data Scrapping Images/image_17.jpg\n",
      "Image sucessfully Downloaded:  Data Scrapping Images/image_18.jpg\n",
      "Image sucessfully Downloaded:  Data Scrapping Images/image_19.jpg\n"
     ]
    }
   ],
   "source": [
    "i = 0;\n",
    "for imageTag in imageTags:\n",
    "\n",
    "    try:\n",
    "        imageUrl = imageTag.attrs['src'];\n",
    "    except KeyError:\n",
    "        imageUrl = imageTag.attrs['data-src'];\n",
    "    except:\n",
    "        print(\"Not able to find known image source attribute in image tag\\nLeaving Image\");\n",
    "        \n",
    "    fileName = 'Data Scrapping Images/image_' + str(i) + '.jpg';\n",
    "    res = requests.get(imageUrl, stream = True);\n",
    "    \n",
    "    if res.status_code == 200:\n",
    "        with open(fileName,'wb') as file:\n",
    "            file.write(res.content);\n",
    "#             shutil.copyfileobj(res.raw, f)\n",
    "        print('Image sucessfully Downloaded: ',fileName)\n",
    "    else:\n",
    "        print('Image Couldn\\'t be retrieved')\n",
    "    i+=1"
   ]
  },
  {
   "cell_type": "markdown",
   "id": "71ca44af",
   "metadata": {},
   "source": [
    "## Class Starts"
   ]
  },
  {
   "cell_type": "code",
   "execution_count": 9,
   "id": "d1ab7140",
   "metadata": {},
   "outputs": [],
   "source": [
    "import scrapy as sc"
   ]
  },
  {
   "cell_type": "code",
   "execution_count": 10,
   "id": "90953e37",
   "metadata": {},
   "outputs": [],
   "source": [
    "# Scrapy is more interactive than beuatiful soup"
   ]
  },
  {
   "cell_type": "code",
   "execution_count": null,
   "id": "006bab75",
   "metadata": {},
   "outputs": [],
   "source": [
    "# Uses cmd, can google when required."
   ]
  }
 ],
 "metadata": {
  "kernelspec": {
   "display_name": "Python 3 (ipykernel)",
   "language": "python",
   "name": "python3"
  },
  "language_info": {
   "codemirror_mode": {
    "name": "ipython",
    "version": 3
   },
   "file_extension": ".py",
   "mimetype": "text/x-python",
   "name": "python",
   "nbconvert_exporter": "python",
   "pygments_lexer": "ipython3",
   "version": "3.11.1"
  }
 },
 "nbformat": 4,
 "nbformat_minor": 5
}

{
 "cells": [
  {
   "cell_type": "markdown",
   "id": "5baa06ad",
   "metadata": {},
   "source": [
    "Tensorflow basics - Inference in code"
   ]
  },
  {
   "cell_type": "code",
   "execution_count": 15,
   "id": "07e06ffa",
   "metadata": {},
   "outputs": [],
   "source": [
    "import numpy as np\n",
    "import tensorflow.keras.layers as ann"
   ]
  },
  {
   "cell_type": "code",
   "execution_count": 9,
   "id": "57d8b375",
   "metadata": {},
   "outputs": [],
   "source": [
    "a = np.array([[1, 2, 3]]); # size is (1,3) - 1 row, 2 columns\n",
    "b = np.array([1, 2, 3]); # size is (,3) - vector - 1d"
   ]
  },
  {
   "cell_type": "code",
   "execution_count": 12,
   "id": "e9a09026",
   "metadata": {},
   "outputs": [],
   "source": [
    "x = np.array([[200.0, 17.0]]);"
   ]
  },
  {
   "cell_type": "code",
   "execution_count": 17,
   "id": "ed7336c2",
   "metadata": {},
   "outputs": [],
   "source": [
    "# Creates the first hidden layer with 3 nodes and activation function as sigmoid\n",
    "layer1 = ann.Dense(units = 3, activation = 'sigmoid')"
   ]
  },
  {
   "cell_type": "code",
   "execution_count": 23,
   "id": "611d947d",
   "metadata": {},
   "outputs": [
    {
     "name": "stdout",
     "output_type": "stream",
     "text": [
      "tf.Tensor([[1. 0. 1.]], shape=(1, 3), dtype=float32)\n"
     ]
    }
   ],
   "source": [
    "# a1 = Output of 1st hidden layer\n",
    "# Because it has 3 nodes, output will have 3 numbers\n",
    "\n",
    "a1 = layer1(x);\n",
    "print(a1)"
   ]
  },
  {
   "cell_type": "code",
   "execution_count": 25,
   "id": "b57cd767",
   "metadata": {},
   "outputs": [],
   "source": [
    "# layer 2 of our ann, which here is just the output layer, a single node.\n",
    "layer2 = ann.Dense(units = 1, activation = 'sigmoid');"
   ]
  },
  {
   "cell_type": "code",
   "execution_count": 27,
   "id": "fe9ba30a",
   "metadata": {},
   "outputs": [
    {
     "name": "stdout",
     "output_type": "stream",
     "text": [
      "tf.Tensor([[0.2982272]], shape=(1, 1), dtype=float32)\n"
     ]
    }
   ],
   "source": [
    "# Feeding output of first layer to the next layer\n",
    "# a2 - output of 2nd layer should be a single number, as only 1 node\n",
    "a2 = layer2(a1)\n",
    "print(a2)"
   ]
  },
  {
   "cell_type": "markdown",
   "id": "daa91058",
   "metadata": {},
   "source": [
    "## Data in Tensorflow"
   ]
  },
  {
   "cell_type": "code",
   "execution_count": 28,
   "id": "5f12fd84",
   "metadata": {},
   "outputs": [],
   "source": [
    "# Numpy uses both vectors - [1, 2, 3], and 2-d arrays:- [[1, 2], [3, 4]];\n",
    "# However, Tensorflow for the most part relies solely on 2-d arrays.\n",
    "# And their type is tf.Tensor, which is very similar to numpy counterpart.\n",
    "# And can be converted to numpy using arr.numpy()"
   ]
  },
  {
   "cell_type": "markdown",
   "id": "1846af5f",
   "metadata": {},
   "source": [
    "## Building a Neural Network"
   ]
  },
  {
   "cell_type": "code",
   "execution_count": null,
   "id": "f93ef80e",
   "metadata": {},
   "outputs": [],
   "source": []
  }
 ],
 "metadata": {
  "kernelspec": {
   "display_name": "Python 3 (ipykernel)",
   "language": "python",
   "name": "python3"
  },
  "language_info": {
   "codemirror_mode": {
    "name": "ipython",
    "version": 3
   },
   "file_extension": ".py",
   "mimetype": "text/x-python",
   "name": "python",
   "nbconvert_exporter": "python",
   "pygments_lexer": "ipython3",
   "version": "3.11.3"
  }
 },
 "nbformat": 4,
 "nbformat_minor": 5
}
